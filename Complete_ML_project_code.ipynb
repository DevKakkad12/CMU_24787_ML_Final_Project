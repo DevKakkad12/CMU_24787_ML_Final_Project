{
 "cells": [
  {
   "cell_type": "markdown",
   "metadata": {},
   "source": [
    "### Imports"
   ]
  },
  {
   "cell_type": "code",
   "execution_count": 1,
   "metadata": {},
   "outputs": [],
   "source": [
    "import numpy as np\n",
    "\n",
    "# Add models here\n",
    "from sklearn.ensemble import GradientBoostingClassifier, RandomForestClassifier\n",
    "from sklearn.svm import SVC\n",
    "from sklearn.feature_selection import mutual_info_classif\n",
    "from sklearn.feature_selection import SelectKBest\n",
    "from sklearn import svm\n",
    "from sklearn.linear_model import LogisticRegression\n",
    "from sklearn.naive_bayes import CategoricalNB\n",
    "from tensorflow import keras\n",
    "from sklearn.preprocessing import LabelEncoder\n",
    "from tensorflow.keras import Sequential\n",
    "from tensorflow.keras.layers import Dense\n",
    "from tensorflow.keras import optimizers\n",
    "\n",
    "# Sklearn imports for processing and evaluation\n",
    "from sklearn.decomposition import PCA\n",
    "from sklearn.metrics import median_absolute_error, accuracy_score\n",
    "from sklearn.preprocessing import StandardScaler\n",
    "from sklearn.model_selection import KFold\n",
    "from sklearn.model_selection import cross_val_score\n",
    "# Plotting\n",
    "from matplotlib import pyplot as plt\n",
    "\n",
    "# Misc\n",
    "import time\n",
    "from tqdm import tqdm"
   ]
  },
  {
   "cell_type": "markdown",
   "metadata": {},
   "source": [
    "### Load Data"
   ]
  },
  {
   "cell_type": "code",
   "execution_count": 2,
   "metadata": {},
   "outputs": [],
   "source": [
    "x_train = np.loadtxt(\"./uci_har_dataset/train/X_train.txt\")\n",
    "y_train = np.loadtxt(\"./uci_har_dataset/train/y_train.txt\")\n",
    "\n",
    "x_test = np.loadtxt(\"./uci_har_dataset/test/X_test.txt\")\n",
    "y_test = np.loadtxt(\"./uci_har_dataset/test/y_test.txt\")"
   ]
  },
  {
   "cell_type": "markdown",
   "metadata": {},
   "source": [
    "### Combine Data"
   ]
  },
  {
   "cell_type": "code",
   "execution_count": 3,
   "metadata": {},
   "outputs": [],
   "source": [
    "combined_x = np.concatenate((x_train, x_test))\n",
    "combined_y = np.concatenate((y_train, y_test))\n",
    "\n",
    "assert combined_x.shape[0] == x_train.shape[0] + x_test.shape[0]\n",
    "assert combined_y.shape[0] == y_train.shape[0] + y_test.shape[0]"
   ]
  },
  {
   "cell_type": "markdown",
   "metadata": {},
   "source": [
    "### Baseline model\n",
    "#### Neural Network"
   ]
  },
  {
   "cell_type": "code",
   "execution_count": 4,
   "metadata": {},
   "outputs": [],
   "source": [
    "def do_kfoldNN(x_data, y_data, features='all', folds=10):\n",
    "    start = time.time()\n",
    "    # Do KFold\n",
    "    kf = KFold(folds)\n",
    "    \n",
    "    # KF training\n",
    "    pred_accuracy = []\n",
    "    fit_times = []\n",
    "    for idx, (train_idx, test_idx) in tqdm(enumerate(kf.split(x_data))):    \n",
    "        \n",
    "        # Do PCA\n",
    "        features = x_data.shape[1] if(features == 'all') else features\n",
    "        pca = PCA(n_components=features)\n",
    "        scalar = StandardScaler().fit(x_data[train_idx])\n",
    "        standardized = scalar.transform(x_data[train_idx])\n",
    "        transformed = pca.fit_transform(standardized)\n",
    "        \n",
    "        # Fit and time model\n",
    "        \n",
    "        x = x_data[train_idx].astype('float32')\n",
    "        n_features = x_data[train_idx].shape[1]\n",
    "        k1 = transformed.shape[1]\n",
    "        print(k1)\n",
    "        model = Sequential()\n",
    "        model.add(Dense(k1, activation='relu', kernel_initializer='he_normal', input_shape=(k1,)))\n",
    "        model.add(Dense(384, activation='relu',  kernel_initializer='he_normal'))\n",
    "        model.add(Dense(6,activation='softmax'))\n",
    "        \n",
    "        optimizers.Adam(learning_rate=0.01, beta_1=0.9, beta_2=0.999, epsilon=1e-07, amsgrad=False,name='Adam')\n",
    "        \n",
    "        model.compile(optimizer='Adam',loss='sparse_categorical_crossentropy', metrics=['accuracy'])\n",
    "        model.fit(transformed, y_data[train_idx], batch_size = 30, epochs = 5)\n",
    "        # Transform test data and evaluate\n",
    "        test_transform = np.dot(scalar.transform(x_data[test_idx]), pca.components_.T)\n",
    "        preds = model.predict(test_transform)\n",
    "        #print(preds)\n",
    "        #print(y_data[test_idx])\n",
    "        loss, score = model.evaluate(test_transform, y_data[test_idx], verbose=0)\n",
    "        #score = accuracy_score(preds, y_data[test_idx])\n",
    "        pred_accuracy.append(score)\n",
    "        fit_times.append(time.time() - start)\n",
    "        \n",
    "    print(r\"{0} FEATURES PREDICTION ACCURACY: {1:.3f} $\\pm$ {2:.3f}\".format(features, np.mean(pred_accuracy), np.std(pred_accuracy)))\n",
    "    return pred_accuracy, fit_times"
   ]
  },
  {
   "cell_type": "code",
   "execution_count": 5,
   "metadata": {},
   "outputs": [
    {
     "name": "stderr",
     "output_type": "stream",
     "text": [
      "\r",
      "0it [00:00, ?it/s]"
     ]
    },
    {
     "name": "stdout",
     "output_type": "stream",
     "text": [
      "561\n",
      "Epoch 1/5\n",
      "309/309 [==============================] - 1s 3ms/step - loss: 0.1581 - accuracy: 0.9414\n",
      "Epoch 2/5\n",
      "309/309 [==============================] - 1s 3ms/step - loss: 0.0371 - accuracy: 0.9871\n",
      "Epoch 3/5\n",
      "309/309 [==============================] - 1s 3ms/step - loss: 0.0191 - accuracy: 0.9927\n",
      "Epoch 4/5\n",
      "309/309 [==============================] - 1s 3ms/step - loss: 0.0046 - accuracy: 0.9992\n",
      "Epoch 5/5\n",
      "309/309 [==============================] - 1s 3ms/step - loss: 0.0011 - accuracy: 1.0000\n"
     ]
    },
    {
     "name": "stderr",
     "output_type": "stream",
     "text": [
      "\r",
      "1it [00:07,  7.07s/it]"
     ]
    },
    {
     "name": "stdout",
     "output_type": "stream",
     "text": [
      "561\n",
      "Epoch 1/5\n",
      "309/309 [==============================] - 1s 3ms/step - loss: 0.1568 - accuracy: 0.9443\n",
      "Epoch 2/5\n",
      "309/309 [==============================] - 1s 3ms/step - loss: 0.0419 - accuracy: 0.9873\n",
      "Epoch 3/5\n",
      "309/309 [==============================] - 1s 3ms/step - loss: 0.0116 - accuracy: 0.9955\n",
      "Epoch 4/5\n",
      "309/309 [==============================] - 1s 3ms/step - loss: 0.0092 - accuracy: 0.9965\n",
      "Epoch 5/5\n",
      "309/309 [==============================] - 1s 3ms/step - loss: 0.0060 - accuracy: 0.9977\n"
     ]
    },
    {
     "name": "stderr",
     "output_type": "stream",
     "text": [
      "\r",
      "2it [00:13,  6.74s/it]"
     ]
    },
    {
     "name": "stdout",
     "output_type": "stream",
     "text": [
      "561\n",
      "Epoch 1/5\n",
      "309/309 [==============================] - 1s 3ms/step - loss: 0.1473 - accuracy: 0.9439\n",
      "Epoch 2/5\n",
      "309/309 [==============================] - 1s 3ms/step - loss: 0.0463 - accuracy: 0.9847\n",
      "Epoch 3/5\n",
      "309/309 [==============================] - 1s 3ms/step - loss: 0.0258 - accuracy: 0.9910\n",
      "Epoch 4/5\n",
      "309/309 [==============================] - 1s 3ms/step - loss: 0.0099 - accuracy: 0.9970\n",
      "Epoch 5/5\n",
      "309/309 [==============================] - 1s 3ms/step - loss: 0.0083 - accuracy: 0.9986\n"
     ]
    },
    {
     "name": "stderr",
     "output_type": "stream",
     "text": [
      "\r",
      "3it [00:19,  6.58s/it]"
     ]
    },
    {
     "name": "stdout",
     "output_type": "stream",
     "text": [
      "561\n",
      "Epoch 1/5\n",
      "309/309 [==============================] - 1s 3ms/step - loss: 0.1593 - accuracy: 0.9410\n",
      "Epoch 2/5\n",
      "309/309 [==============================] - 1s 3ms/step - loss: 0.0274 - accuracy: 0.9893\n",
      "Epoch 3/5\n",
      "309/309 [==============================] - 1s 3ms/step - loss: 0.0158 - accuracy: 0.9946\n",
      "Epoch 4/5\n",
      "309/309 [==============================] - 1s 3ms/step - loss: 0.0266 - accuracy: 0.9913\n",
      "Epoch 5/5\n",
      "309/309 [==============================] - 1s 3ms/step - loss: 0.0103 - accuracy: 0.9981\n"
     ]
    },
    {
     "name": "stderr",
     "output_type": "stream",
     "text": [
      "\r",
      "4it [00:25,  6.42s/it]"
     ]
    },
    {
     "name": "stdout",
     "output_type": "stream",
     "text": [
      "561\n",
      "Epoch 1/5\n",
      "309/309 [==============================] - 1s 3ms/step - loss: 0.1718 - accuracy: 0.9380\n",
      "Epoch 2/5\n",
      "309/309 [==============================] - 1s 3ms/step - loss: 0.0332 - accuracy: 0.9890\n",
      "Epoch 3/5\n",
      "309/309 [==============================] - 1s 3ms/step - loss: 0.0172 - accuracy: 0.9940\n",
      "Epoch 4/5\n",
      "309/309 [==============================] - 1s 3ms/step - loss: 0.0150 - accuracy: 0.9958\n",
      "Epoch 5/5\n",
      "309/309 [==============================] - 1s 3ms/step - loss: 0.0093 - accuracy: 0.9968\n"
     ]
    },
    {
     "name": "stderr",
     "output_type": "stream",
     "text": [
      "\r",
      "5it [00:31,  6.34s/it]"
     ]
    },
    {
     "name": "stdout",
     "output_type": "stream",
     "text": [
      "561\n",
      "Epoch 1/5\n",
      "309/309 [==============================] - 1s 3ms/step - loss: 0.1595 - accuracy: 0.9413\n",
      "Epoch 2/5\n",
      "309/309 [==============================] - 1s 3ms/step - loss: 0.0524 - accuracy: 0.9838\n",
      "Epoch 3/5\n",
      "309/309 [==============================] - 1s 3ms/step - loss: 0.0194 - accuracy: 0.9931\n",
      "Epoch 4/5\n",
      "309/309 [==============================] - 1s 3ms/step - loss: 0.0075 - accuracy: 0.9978\n",
      "Epoch 5/5\n",
      "309/309 [==============================] - 1s 3ms/step - loss: 0.0055 - accuracy: 0.9983\n"
     ]
    },
    {
     "name": "stderr",
     "output_type": "stream",
     "text": [
      "\r",
      "6it [00:37,  6.30s/it]"
     ]
    },
    {
     "name": "stdout",
     "output_type": "stream",
     "text": [
      "561\n",
      "Epoch 1/5\n",
      "309/309 [==============================] - 1s 3ms/step - loss: 0.1638 - accuracy: 0.9410\n",
      "Epoch 2/5\n",
      "309/309 [==============================] - 1s 3ms/step - loss: 0.0388 - accuracy: 0.9867\n",
      "Epoch 3/5\n",
      "309/309 [==============================] - 1s 3ms/step - loss: 0.0298 - accuracy: 0.9904\n",
      "Epoch 4/5\n",
      "309/309 [==============================] - 1s 3ms/step - loss: 0.0107 - accuracy: 0.9967\n",
      "Epoch 5/5\n",
      "309/309 [==============================] - 1s 3ms/step - loss: 0.0042 - accuracy: 0.9988\n"
     ]
    },
    {
     "name": "stderr",
     "output_type": "stream",
     "text": [
      "\r",
      "7it [00:44,  6.32s/it]"
     ]
    },
    {
     "name": "stdout",
     "output_type": "stream",
     "text": [
      "561\n",
      "Epoch 1/5\n",
      "309/309 [==============================] - 1s 3ms/step - loss: 0.1680 - accuracy: 0.9408\n",
      "Epoch 2/5\n",
      "309/309 [==============================] - 1s 3ms/step - loss: 0.0377 - accuracy: 0.9872\n",
      "Epoch 3/5\n",
      "309/309 [==============================] - 1s 3ms/step - loss: 0.0144 - accuracy: 0.9948\n",
      "Epoch 4/5\n",
      "309/309 [==============================] - 1s 3ms/step - loss: 0.0146 - accuracy: 0.9944\n",
      "Epoch 5/5\n",
      "309/309 [==============================] - 1s 3ms/step - loss: 0.0048 - accuracy: 0.9985\n"
     ]
    },
    {
     "name": "stderr",
     "output_type": "stream",
     "text": [
      "\r",
      "8it [00:50,  6.30s/it]"
     ]
    },
    {
     "name": "stdout",
     "output_type": "stream",
     "text": [
      "561\n",
      "Epoch 1/5\n",
      "309/309 [==============================] - 1s 3ms/step - loss: 0.1604 - accuracy: 0.9433\n",
      "Epoch 2/5\n",
      "309/309 [==============================] - 1s 3ms/step - loss: 0.0350 - accuracy: 0.9876\n",
      "Epoch 3/5\n",
      "309/309 [==============================] - 1s 3ms/step - loss: 0.0126 - accuracy: 0.9959\n",
      "Epoch 4/5\n",
      "309/309 [==============================] - 1s 3ms/step - loss: 0.0060 - accuracy: 0.9980\n",
      "Epoch 5/5\n",
      "309/309 [==============================] - 1s 3ms/step - loss: 0.0078 - accuracy: 0.9977\n"
     ]
    },
    {
     "name": "stderr",
     "output_type": "stream",
     "text": [
      "\r",
      "9it [00:56,  6.23s/it]"
     ]
    },
    {
     "name": "stdout",
     "output_type": "stream",
     "text": [
      "561\n",
      "Epoch 1/5\n",
      "309/309 [==============================] - 1s 3ms/step - loss: 0.1593 - accuracy: 0.9431\n",
      "Epoch 2/5\n",
      "309/309 [==============================] - 1s 3ms/step - loss: 0.0359 - accuracy: 0.9873\n",
      "Epoch 3/5\n",
      "309/309 [==============================] - 1s 3ms/step - loss: 0.0191 - accuracy: 0.9927\n",
      "Epoch 4/5\n",
      "309/309 [==============================] - 1s 3ms/step - loss: 0.0087 - accuracy: 0.9969\n",
      "Epoch 5/5\n",
      "309/309 [==============================] - 1s 3ms/step - loss: 0.0105 - accuracy: 0.9963\n"
     ]
    },
    {
     "name": "stderr",
     "output_type": "stream",
     "text": [
      "10it [01:02,  6.24s/it]"
     ]
    },
    {
     "name": "stdout",
     "output_type": "stream",
     "text": [
      "561 FEATURES PREDICTION ACCURACY: 0.955 $\\pm$ 0.031\n",
      "The accuracy is 95.456% with a standard deviation of 0.031\n",
      "The time taken to complete the model is 34.69s\n"
     ]
    },
    {
     "name": "stderr",
     "output_type": "stream",
     "text": [
      "\n"
     ]
    }
   ],
   "source": [
    "for i in range (0,len(combined_y)):\n",
    "    combined_y[i] = combined_y[i]-1\n",
    "\n",
    "pred_accuracyNN, fit_timesNN = do_kfoldNN(combined_x, combined_y, features=561)\n",
    "\n",
    "scores_nn = np.mean(pred_accuracyNN)\n",
    "scores_nn_std = np.std(pred_accuracyNN)\n",
    "time_nn = np.mean(fit_timesNN)\n",
    "\n",
    "print(f\"The accuracy is {np.mean(scores_nn)*100:1.3f}% with a standard deviation of {scores_nn_std:1.3f}\")\n",
    "print(f\"The time taken to complete the model is {time_nn:1.2f}s\")"
   ]
  },
  {
   "cell_type": "markdown",
   "metadata": {},
   "source": [
    "#### Logistic Regression"
   ]
  },
  {
   "cell_type": "code",
   "execution_count": 6,
   "metadata": {},
   "outputs": [
    {
     "name": "stdout",
     "output_type": "stream",
     "text": [
      "The accuracy is 96.165% with a standard deviation of 0.000\n",
      "The time taken to complete the model is 25.14s\n"
     ]
    }
   ],
   "source": [
    "# prepare the cross-validation procedure\n",
    "t0 = time.time()\n",
    "cv = KFold(n_splits=5)\n",
    "# create model\n",
    "model = LogisticRegression(multi_class='ovr', solver='liblinear')\n",
    "# evaluate model\n",
    "scores = cross_val_score(model, combined_x, combined_y, scoring='accuracy', cv=cv)\n",
    "scores_lr = np.mean(scores)\n",
    "scores_lr_std = np.std(scores)\n",
    "print(f\"The accuracy is {np.mean(scores_lr)*100:1.3f}% with a standard deviation of {np.std(scores_lr):1.3f}\")\n",
    "t1 = time.time()\n",
    "t1 = time.time()\n",
    "time_lg = t1 - t0\n",
    "print(f\"The time taken to complete the model is {time_lg:1.2f}s\")"
   ]
  },
  {
   "cell_type": "markdown",
   "metadata": {},
   "source": [
    "#### SVM Linear"
   ]
  },
  {
   "cell_type": "code",
   "execution_count": 7,
   "metadata": {},
   "outputs": [
    {
     "name": "stdout",
     "output_type": "stream",
     "text": [
      "The accuracy is 96.087% with a standard deviation of 0.015\n",
      "The time taken to complete the model is 16.13s\n"
     ]
    }
   ],
   "source": [
    "tsvm_0 = time.time()\n",
    "cv = KFold(n_splits=5)\n",
    "# create model\n",
    "model = svm.SVC(kernel='linear', C=1)\n",
    "# evaluate model\n",
    "scores = cross_val_score(model, combined_x, combined_y, scoring='accuracy', cv=cv)\n",
    "scores_svm_linear = np.mean(scores)\n",
    "scores_svm_linear_std = np.std(scores)\n",
    "\n",
    "print(f\"The accuracy is {np.mean(scores_svm_linear)*100:1.3f}% with a standard deviation of {scores_svm_linear_std:1.3f}\")\n",
    "tsvm_1 = time.time()\n",
    "time_svm_linear = tsvm_1 - tsvm_0\n",
    "print(f\"The time taken to complete the model is {time_svm_linear:1.2f}s\")"
   ]
  },
  {
   "cell_type": "markdown",
   "metadata": {},
   "source": [
    "#### SVM Poly"
   ]
  },
  {
   "cell_type": "code",
   "execution_count": 8,
   "metadata": {},
   "outputs": [
    {
     "name": "stdout",
     "output_type": "stream",
     "text": [
      "The accuracy is 95.941% with a standard deviation of 0.022\n",
      "The time taken to complete the model is 47.34s\n"
     ]
    }
   ],
   "source": [
    "tsvm_poly_0 = time.time()\n",
    "cv = KFold(n_splits=10)\n",
    "# create model\n",
    "model = svm.SVC(kernel='poly', C=1)\n",
    "# evaluate model\n",
    "scores= cross_val_score(model, combined_x, combined_y, scoring='accuracy', cv=cv)\n",
    "scores_svm_poly = np.mean(scores)\n",
    "scores_svm_poly_std = np.std(scores)\n",
    "\n",
    "print(f\"The accuracy is {scores_svm_poly*100:1.3f}% with a standard deviation of {scores_svm_poly_std:1.3f}\")\n",
    "tsvm_poly_1 = time.time()\n",
    "time_svm_poly = tsvm_poly_1 - tsvm_poly_0\n",
    "print(f\"The time taken to complete the model is {time_svm_poly:1.2f}s\")"
   ]
  },
  {
   "cell_type": "markdown",
   "metadata": {},
   "source": [
    "#### Random Forest"
   ]
  },
  {
   "cell_type": "code",
   "execution_count": 9,
   "metadata": {},
   "outputs": [
    {
     "name": "stdout",
     "output_type": "stream",
     "text": [
      "The accuracy is 95.941% with a standard deviation of 0.022\n",
      "The time taken to complete the model is 45.61s\n"
     ]
    }
   ],
   "source": [
    "trf_0 = time.time()\n",
    "cv = KFold(n_splits=5)\n",
    "# create model\n",
    "model = RandomForestClassifier()\n",
    "# evaluate model\n",
    "scores_rf = cross_val_score(model, combined_x, combined_y, scoring='accuracy', cv=cv)\n",
    "scores_rf = np.mean(scores)\n",
    "scores_rf_std = np.std(scores)\n",
    "\n",
    "print(f\"The accuracy is {scores_rf*100:1.3f}% with a standard deviation of {scores_rf_std:1.3f}\")\n",
    "trf_1 = time.time()\n",
    "time_rf = trf_1 - trf_0\n",
    "print(f\"The time taken to complete the model is {time_rf:1.2f}s\")"
   ]
  },
  {
   "cell_type": "markdown",
   "metadata": {},
   "source": [
    "#### Gradient Boost"
   ]
  },
  {
   "cell_type": "code",
   "execution_count": 10,
   "metadata": {},
   "outputs": [
    {
     "name": "stdout",
     "output_type": "stream",
     "text": [
      "The accuracy is 94.233% with a standard deviation of 0.014\n",
      "The time taken to complete the model is 3003.03s\n"
     ]
    }
   ],
   "source": [
    "tgb_0 = time.time()\n",
    "cv = KFold(n_splits=5)\n",
    "# create model\n",
    "model = GradientBoostingClassifier()\n",
    "# evaluate model\n",
    "scores = cross_val_score(model, combined_x, combined_y, scoring='accuracy', cv=cv)\n",
    "scores_gb = np.mean(scores)\n",
    "scores_gb_std = np.std(scores)\n",
    "\n",
    "print(f\"The accuracy is {scores_gb*100:1.3f}% with a standard deviation of {scores_gb_std:1.3f}\")\n",
    "tgb_1 = time.time()\n",
    "\n",
    "tgb_1 = time.time()\n",
    "time_gb = tgb_1 - tgb_0\n",
    "print(f\"The time taken to complete the model is {time_gb:1.2f}s\")"
   ]
  },
  {
   "cell_type": "markdown",
   "metadata": {},
   "source": [
    "#### Plots comparing accuracy and time to run the alogrithms"
   ]
  },
  {
   "cell_type": "code",
   "execution_count": 86,
   "metadata": {},
   "outputs": [
    {
     "data": {
      "image/png": "[encoded data removed]",
      "text/plain": [
       "<Figure size 432x288 with 1 Axes>"
      ]
     },
     "metadata": {
      "needs_background": "light"
     },
     "output_type": "display_data"
    },
    {
     "data": {
      "image/png": "[encoded data removed]",
      "text/plain": [
       "<Figure size 432x288 with 1 Axes>"
      ]
     },
     "metadata": {
      "needs_background": "light"
     },
     "output_type": "display_data"
    },
    {
     "data": {
      "image/png": "[encoded data removed]",
      "text/plain": [
       "<Figure size 432x288 with 1 Axes>"
      ]
     },
     "metadata": {
      "needs_background": "light"
     },
     "output_type": "display_data"
    },
    {
     "data": {
      "image/png": "[encoded data removed]",
      "text/plain": [
       "<Figure size 432x288 with 1 Axes>"
      ]
     },
     "metadata": {
      "needs_background": "light"
     },
     "output_type": "display_data"
    },
    {
     "data": {
      "image/png": "[encoded data removed]",
      "text/plain": [
       "<Figure size 432x288 with 1 Axes>"
      ]
     },
     "metadata": {
      "needs_background": "light"
     },
     "output_type": "display_data"
    }
   ],
   "source": [
    "run_time = np.array([time_lg, time_svm_linear, time_svm_poly, time_rf, time_nn, time_gb])\n",
    "accuracies =  np.array([scores_lr, scores_svm_linear, scores_svm_poly, scores_rf, scores_nn, scores_gb])\n",
    "accuracy_std = np.array([scores_lr_std, scores_svm_linear_std, scores_svm_poly_std, scores_rf_std, scores_nn_std, scores_gb_std])\n",
    "name_models = ['Log Reg', 'Linear SVM', 'Poly SVM','Rand For', 'Neural Nets', 'Gradient Boost']\n",
    "\n",
    "name_model_wgb = ['Log Reg', 'Linear SVM', 'Poly SVM','Rand For', 'Neural Nets']\n",
    "accuracies_wgb =  np.array([scores_lr, scores_svm_linear, scores_svm_poly, scores_rf, scores_nn])\n",
    "accuracy_std_wgb = np.array([scores_lr_std, scores_svm_linear_std, scores_svm_poly_std, scores_rf_std, scores_nn_std])\n",
    "run_time_wgb = np.array([time_lg, time_svm_linear, time_svm_poly, time_rf, time_nn])\n",
    "\n",
    "plt.figure\n",
    "plt.bar(name_models, run_time)\n",
    "plt.title('Time taken to run alogrithm')\n",
    "plt.ylabel('Time (sec)')\n",
    "plt.show()\n",
    "\n",
    "plt.figure\n",
    "plt.bar(name_model_wgb, run_time_wgb)\n",
    "plt.title('Time taken to run alogrithms without Gradient Boost')\n",
    "plt.ylabel('Time (sec)')\n",
    "plt.show()\n",
    "\n",
    "plt.figure\n",
    "plt.bar(name_models, accuracies, yerr=accuracy_std)\n",
    "plt.title('Baseline accuracies of each alogrithm')\n",
    "plt.ylabel('Accuracy')\n",
    "plt.show()\n",
    "\n",
    "plt.figure\n",
    "plt.bar(name_model_wgb, accuracies_wgb, yerr=accuracy_std_wgb)\n",
    "plt.title('Baseline accuracies without Gradient Boost')\n",
    "plt.ylabel('Accuracy')\n",
    "plt.show()\n",
    "\n",
    "plt.plot(time_lg,scores_lr, 'ro', label = 'Logistic Regression')\n",
    "plt.plot(time_svm_linear,scores_svm_linear, 'bo', label = 'Linear SVM')\n",
    "plt.plot(time_svm_poly,scores_svm_poly, 'go', label = 'Poly SVM')\n",
    "plt.plot(time_rf,scores_rf, 'yo', label = 'Random Forest')\n",
    "plt.plot(time_nn,scores_nn, 'ko', label = 'Neural Network')\n",
    "plt.plot(time_gb,scores_gb, 'mo', label = 'Gradient Boost')\n",
    "plt.xlabel('Time ')\n",
    "plt.ylabel('Accuracy')\n",
    "plt.legend()\n",
    "plt.show()"
   ]
  },
  {
   "cell_type": "markdown",
   "metadata": {},
   "source": [
    "## Part 2\n",
    "### Comparing feature selection and feature extraction"
   ]
  },
  {
   "cell_type": "markdown",
   "metadata": {},
   "source": [
    "### Feature selection using probabilistic mutual information"
   ]
  },
  {
   "cell_type": "code",
   "execution_count": 14,
   "metadata": {},
   "outputs": [],
   "source": [
    "def do_kfold_mutual_info(model, x_data, y_data, features='all', folds=10):\n",
    "     \n",
    "    # Do KFold\n",
    "    kf = KFold(folds)\n",
    "    \n",
    "    # KF training\n",
    "    pred_accuracy = []\n",
    "    fit_times = []\n",
    "    for idx, (train_idx, test_idx) in tqdm(enumerate(kf.split(x_data))):    \n",
    "        \n",
    "        # Do Mutual Information Feature Extraction\n",
    "        features = x_data.shape[1] if(features == 'all') else features\n",
    "        fs = SelectKBest(score_func=mutual_info_classif, k=features)\n",
    "        fs.fit(x_data[train_idx], y_data[train_idx])\n",
    "        x_train_fs = fs.transform(x_data[train_idx])\n",
    "        x_test_fs = fs.transform(x_data[test_idx])\n",
    "        \n",
    "        # Fit and time model\n",
    "        start = time.time()\n",
    "        model.fit(x_train_fs, y_data[train_idx])\n",
    "        fit_times.append(time.time() - start)\n",
    "        \n",
    "        # Transform test data and evaluate\n",
    "\n",
    "        preds = model.predict(x_test_fs)\n",
    "        score = accuracy_score(preds, y_data[test_idx])\n",
    "        pred_accuracy.append(score)\n",
    "        \n",
    "    print(r\"{0} FEATURES PREDICTION ACCURACY: {1:.3f} $\\pm$ {2:.3f}\".format(features, np.mean(pred_accuracy), np.std(pred_accuracy)))\n",
    "    return pred_accuracy, fit_times"
   ]
  },
  {
   "cell_type": "markdown",
   "metadata": {},
   "source": [
    "### Training for Different Number of Mutual information"
   ]
  },
  {
   "cell_type": "code",
   "execution_count": 15,
   "metadata": {},
   "outputs": [
    {
     "name": "stderr",
     "output_type": "stream",
     "text": [
      "\r",
      "0it [00:00, ?it/s]"
     ]
    },
    {
     "name": "stdout",
     "output_type": "stream",
     "text": [
      "5\n"
     ]
    },
    {
     "name": "stderr",
     "output_type": "stream",
     "text": [
      "10it [05:56, 35.70s/it]\n",
      "0it [00:00, ?it/s]"
     ]
    },
    {
     "name": "stdout",
     "output_type": "stream",
     "text": [
      "5 FEATURES PREDICTION ACCURACY: 0.692 $\\pm$ 0.138\n",
      "25\n"
     ]
    },
    {
     "name": "stderr",
     "output_type": "stream",
     "text": [
      "10it [06:02, 36.21s/it]\n",
      "0it [00:00, ?it/s]"
     ]
    },
    {
     "name": "stdout",
     "output_type": "stream",
     "text": [
      "25 FEATURES PREDICTION ACCURACY: 0.855 $\\pm$ 0.048\n",
      "45\n"
     ]
    },
    {
     "name": "stderr",
     "output_type": "stream",
     "text": [
      "10it [05:47, 34.73s/it]\n",
      "0it [00:00, ?it/s]"
     ]
    },
    {
     "name": "stdout",
     "output_type": "stream",
     "text": [
      "45 FEATURES PREDICTION ACCURACY: 0.899 $\\pm$ 0.031\n",
      "65\n"
     ]
    },
    {
     "name": "stderr",
     "output_type": "stream",
     "text": [
      "10it [05:53, 35.34s/it]\n",
      "0it [00:00, ?it/s]"
     ]
    },
    {
     "name": "stdout",
     "output_type": "stream",
     "text": [
      "65 FEATURES PREDICTION ACCURACY: 0.916 $\\pm$ 0.031\n",
      "85\n"
     ]
    },
    {
     "name": "stderr",
     "output_type": "stream",
     "text": [
      "10it [05:48, 34.81s/it]\n",
      "0it [00:00, ?it/s]"
     ]
    },
    {
     "name": "stdout",
     "output_type": "stream",
     "text": [
      "85 FEATURES PREDICTION ACCURACY: 0.921 $\\pm$ 0.031\n",
      "105\n"
     ]
    },
    {
     "name": "stderr",
     "output_type": "stream",
     "text": [
      "10it [05:52, 35.29s/it]\n",
      "0it [00:00, ?it/s]"
     ]
    },
    {
     "name": "stdout",
     "output_type": "stream",
     "text": [
      "105 FEATURES PREDICTION ACCURACY: 0.927 $\\pm$ 0.032\n",
      "125\n"
     ]
    },
    {
     "name": "stderr",
     "output_type": "stream",
     "text": [
      "10it [05:52, 35.27s/it]\n",
      "0it [00:00, ?it/s]"
     ]
    },
    {
     "name": "stdout",
     "output_type": "stream",
     "text": [
      "125 FEATURES PREDICTION ACCURACY: 0.928 $\\pm$ 0.032\n",
      "145\n"
     ]
    },
    {
     "name": "stderr",
     "output_type": "stream",
     "text": [
      "10it [06:01, 36.19s/it]\n",
      "0it [00:00, ?it/s]"
     ]
    },
    {
     "name": "stdout",
     "output_type": "stream",
     "text": [
      "145 FEATURES PREDICTION ACCURACY: 0.937 $\\pm$ 0.027\n",
      "165\n"
     ]
    },
    {
     "name": "stderr",
     "output_type": "stream",
     "text": [
      "10it [05:59, 35.95s/it]\n",
      "0it [00:00, ?it/s]"
     ]
    },
    {
     "name": "stdout",
     "output_type": "stream",
     "text": [
      "165 FEATURES PREDICTION ACCURACY: 0.939 $\\pm$ 0.024\n",
      "185\n"
     ]
    },
    {
     "name": "stderr",
     "output_type": "stream",
     "text": [
      "10it [06:05, 36.54s/it]\n",
      "0it [00:00, ?it/s]"
     ]
    },
    {
     "name": "stdout",
     "output_type": "stream",
     "text": [
      "185 FEATURES PREDICTION ACCURACY: 0.940 $\\pm$ 0.022\n",
      "205\n"
     ]
    },
    {
     "name": "stderr",
     "output_type": "stream",
     "text": [
      "10it [06:05, 36.59s/it]\n",
      "0it [00:00, ?it/s]"
     ]
    },
    {
     "name": "stdout",
     "output_type": "stream",
     "text": [
      "205 FEATURES PREDICTION ACCURACY: 0.944 $\\pm$ 0.025\n",
      "225\n"
     ]
    },
    {
     "name": "stderr",
     "output_type": "stream",
     "text": [
      "10it [05:50, 35.02s/it]\n",
      "0it [00:00, ?it/s]"
     ]
    },
    {
     "name": "stdout",
     "output_type": "stream",
     "text": [
      "225 FEATURES PREDICTION ACCURACY: 0.946 $\\pm$ 0.024\n",
      "245\n"
     ]
    },
    {
     "name": "stderr",
     "output_type": "stream",
     "text": [
      "10it [06:02, 36.25s/it]\n",
      "0it [00:00, ?it/s]"
     ]
    },
    {
     "name": "stdout",
     "output_type": "stream",
     "text": [
      "245 FEATURES PREDICTION ACCURACY: 0.947 $\\pm$ 0.023\n",
      "265\n"
     ]
    },
    {
     "name": "stderr",
     "output_type": "stream",
     "text": [
      "10it [05:59, 35.97s/it]\n",
      "0it [00:00, ?it/s]"
     ]
    },
    {
     "name": "stdout",
     "output_type": "stream",
     "text": [
      "265 FEATURES PREDICTION ACCURACY: 0.947 $\\pm$ 0.025\n",
      "285\n"
     ]
    },
    {
     "name": "stderr",
     "output_type": "stream",
     "text": [
      "10it [06:07, 36.79s/it]\n",
      "0it [00:00, ?it/s]"
     ]
    },
    {
     "name": "stdout",
     "output_type": "stream",
     "text": [
      "285 FEATURES PREDICTION ACCURACY: 0.946 $\\pm$ 0.024\n",
      "305\n"
     ]
    },
    {
     "name": "stderr",
     "output_type": "stream",
     "text": [
      "10it [06:16, 37.61s/it]\n",
      "0it [00:00, ?it/s]"
     ]
    },
    {
     "name": "stdout",
     "output_type": "stream",
     "text": [
      "305 FEATURES PREDICTION ACCURACY: 0.944 $\\pm$ 0.023\n",
      "325\n"
     ]
    },
    {
     "name": "stderr",
     "output_type": "stream",
     "text": [
      "10it [06:18, 37.86s/it]\n",
      "0it [00:00, ?it/s]"
     ]
    },
    {
     "name": "stdout",
     "output_type": "stream",
     "text": [
      "325 FEATURES PREDICTION ACCURACY: 0.942 $\\pm$ 0.028\n",
      "345\n"
     ]
    },
    {
     "name": "stderr",
     "output_type": "stream",
     "text": [
      "10it [06:10, 37.08s/it]\n",
      "0it [00:00, ?it/s]"
     ]
    },
    {
     "name": "stdout",
     "output_type": "stream",
     "text": [
      "345 FEATURES PREDICTION ACCURACY: 0.941 $\\pm$ 0.028\n",
      "365\n"
     ]
    },
    {
     "name": "stderr",
     "output_type": "stream",
     "text": [
      "10it [06:09, 36.99s/it]\n",
      "0it [00:00, ?it/s]"
     ]
    },
    {
     "name": "stdout",
     "output_type": "stream",
     "text": [
      "365 FEATURES PREDICTION ACCURACY: 0.942 $\\pm$ 0.029\n",
      "385\n"
     ]
    },
    {
     "name": "stderr",
     "output_type": "stream",
     "text": [
      "10it [06:11, 37.17s/it]\n",
      "0it [00:00, ?it/s]"
     ]
    },
    {
     "name": "stdout",
     "output_type": "stream",
     "text": [
      "385 FEATURES PREDICTION ACCURACY: 0.943 $\\pm$ 0.032\n",
      "405\n"
     ]
    },
    {
     "name": "stderr",
     "output_type": "stream",
     "text": [
      "10it [06:04, 36.45s/it]\n",
      "0it [00:00, ?it/s]"
     ]
    },
    {
     "name": "stdout",
     "output_type": "stream",
     "text": [
      "405 FEATURES PREDICTION ACCURACY: 0.943 $\\pm$ 0.030\n",
      "425\n"
     ]
    },
    {
     "name": "stderr",
     "output_type": "stream",
     "text": [
      "10it [06:21, 38.19s/it]\n",
      "0it [00:00, ?it/s]"
     ]
    },
    {
     "name": "stdout",
     "output_type": "stream",
     "text": [
      "425 FEATURES PREDICTION ACCURACY: 0.952 $\\pm$ 0.027\n",
      "445\n"
     ]
    },
    {
     "name": "stderr",
     "output_type": "stream",
     "text": [
      "10it [06:26, 38.70s/it]\n",
      "0it [00:00, ?it/s]"
     ]
    },
    {
     "name": "stdout",
     "output_type": "stream",
     "text": [
      "445 FEATURES PREDICTION ACCURACY: 0.953 $\\pm$ 0.025\n",
      "465\n"
     ]
    },
    {
     "name": "stderr",
     "output_type": "stream",
     "text": [
      "10it [06:21, 38.13s/it]\n",
      "0it [00:00, ?it/s]"
     ]
    },
    {
     "name": "stdout",
     "output_type": "stream",
     "text": [
      "465 FEATURES PREDICTION ACCURACY: 0.959 $\\pm$ 0.023\n",
      "485\n"
     ]
    },
    {
     "name": "stderr",
     "output_type": "stream",
     "text": [
      "10it [06:22, 38.30s/it]"
     ]
    },
    {
     "name": "stdout",
     "output_type": "stream",
     "text": [
      "485 FEATURES PREDICTION ACCURACY: 0.958 $\\pm$ 0.025\n"
     ]
    },
    {
     "name": "stderr",
     "output_type": "stream",
     "text": [
      "\n"
     ]
    }
   ],
   "source": [
    "# Number of PCA Components\n",
    "num_features = np.arange(5, 500, 20)\n",
    "\n",
    "results = []\n",
    "times = []\n",
    "for features in num_features:\n",
    "    print(features)\n",
    "    pred_accuracy, fit_times = do_kfold_mutual_info(svm.SVC(kernel='linear', C=1), combined_x, combined_y, features=features)\n",
    "    results.append(pred_accuracy)\n",
    "    times.append(fit_times)\n",
    "\n",
    "# Get means\n",
    "ml_acc_mean = np.mean(results, axis=1)\n",
    "ml_acc_stds = np.std(results, axis=1)\n",
    "ml_time_mean = np.mean(times, axis=1)\n",
    "ml_time_stds = np.std(times, axis=1)"
   ]
  },
  {
   "cell_type": "markdown",
   "metadata": {},
   "source": [
    "### Feature extraction using PCA"
   ]
  },
  {
   "cell_type": "code",
   "execution_count": 16,
   "metadata": {},
   "outputs": [],
   "source": [
    "def do_kfold_pca(model, x_data, y_data, features='all', folds=10):\n",
    "     \n",
    "    # Do KFold\n",
    "    kf = KFold(folds)\n",
    "    \n",
    "    # KF training\n",
    "    pred_accuracy = []\n",
    "    fit_times = []\n",
    "    for idx, (train_idx, test_idx) in tqdm(enumerate(kf.split(x_data))):    \n",
    "        \n",
    "        # Do PCA\n",
    "        features = x_data.shape[1] if(features == 'all') else features\n",
    "        pca = PCA(n_components=features)\n",
    "        scalar = StandardScaler().fit(x_data[train_idx])\n",
    "        standardized = scalar.transform(x_data[train_idx])\n",
    "        transformed = pca.fit_transform(standardized)\n",
    "        \n",
    "        # Fit and time model\n",
    "        start = time.time()\n",
    "        model.fit(transformed, y_data[train_idx])\n",
    "        fit_times.append(time.time() - start)\n",
    "        \n",
    "        # Transform test data and evaluate\n",
    "        test_transform = np.dot(scalar.transform(x_data[test_idx]), pca.components_.T)\n",
    "        preds = model.predict(test_transform)\n",
    "        score = accuracy_score(preds, y_data[test_idx])\n",
    "        pred_accuracy.append(score)\n",
    "        \n",
    "    print(r\"{0} FEATURES PREDICTION ACCURACY: {1:.3f} $\\pm$ {2:.3f}\".format(features, np.mean(pred_accuracy), np.std(pred_accuracy)))\n",
    "    return pred_accuracy, fit_times"
   ]
  },
  {
   "cell_type": "code",
   "execution_count": 17,
   "metadata": {},
   "outputs": [
    {
     "name": "stderr",
     "output_type": "stream",
     "text": [
      "10it [00:12,  1.25s/it]\n",
      "0it [00:00, ?it/s]"
     ]
    },
    {
     "name": "stdout",
     "output_type": "stream",
     "text": [
      "5 FEATURES PREDICTION ACCURACY: 0.808 $\\pm$ 0.035\n"
     ]
    },
    {
     "name": "stderr",
     "output_type": "stream",
     "text": [
      "10it [00:14,  1.44s/it]\n",
      "0it [00:00, ?it/s]"
     ]
    },
    {
     "name": "stdout",
     "output_type": "stream",
     "text": [
      "25 FEATURES PREDICTION ACCURACY: 0.890 $\\pm$ 0.034\n"
     ]
    },
    {
     "name": "stderr",
     "output_type": "stream",
     "text": [
      "10it [00:14,  1.48s/it]\n",
      "0it [00:00, ?it/s]"
     ]
    },
    {
     "name": "stdout",
     "output_type": "stream",
     "text": [
      "45 FEATURES PREDICTION ACCURACY: 0.911 $\\pm$ 0.026\n"
     ]
    },
    {
     "name": "stderr",
     "output_type": "stream",
     "text": [
      "10it [00:13,  1.38s/it]\n",
      "0it [00:00, ?it/s]"
     ]
    },
    {
     "name": "stdout",
     "output_type": "stream",
     "text": [
      "65 FEATURES PREDICTION ACCURACY: 0.919 $\\pm$ 0.027\n"
     ]
    },
    {
     "name": "stderr",
     "output_type": "stream",
     "text": [
      "10it [00:15,  1.58s/it]\n",
      "0it [00:00, ?it/s]"
     ]
    },
    {
     "name": "stdout",
     "output_type": "stream",
     "text": [
      "85 FEATURES PREDICTION ACCURACY: 0.928 $\\pm$ 0.024\n"
     ]
    },
    {
     "name": "stderr",
     "output_type": "stream",
     "text": [
      "10it [00:17,  1.76s/it]\n",
      "0it [00:00, ?it/s]"
     ]
    },
    {
     "name": "stdout",
     "output_type": "stream",
     "text": [
      "105 FEATURES PREDICTION ACCURACY: 0.935 $\\pm$ 0.023\n"
     ]
    },
    {
     "name": "stderr",
     "output_type": "stream",
     "text": [
      "10it [00:18,  1.88s/it]\n",
      "0it [00:00, ?it/s]"
     ]
    },
    {
     "name": "stdout",
     "output_type": "stream",
     "text": [
      "125 FEATURES PREDICTION ACCURACY: 0.937 $\\pm$ 0.023\n"
     ]
    },
    {
     "name": "stderr",
     "output_type": "stream",
     "text": [
      "10it [00:20,  2.10s/it]\n",
      "0it [00:00, ?it/s]"
     ]
    },
    {
     "name": "stdout",
     "output_type": "stream",
     "text": [
      "145 FEATURES PREDICTION ACCURACY: 0.942 $\\pm$ 0.022\n"
     ]
    },
    {
     "name": "stderr",
     "output_type": "stream",
     "text": [
      "10it [00:22,  2.26s/it]\n",
      "0it [00:00, ?it/s]"
     ]
    },
    {
     "name": "stdout",
     "output_type": "stream",
     "text": [
      "165 FEATURES PREDICTION ACCURACY: 0.946 $\\pm$ 0.021\n"
     ]
    },
    {
     "name": "stderr",
     "output_type": "stream",
     "text": [
      "10it [00:23,  2.35s/it]\n",
      "0it [00:00, ?it/s]"
     ]
    },
    {
     "name": "stdout",
     "output_type": "stream",
     "text": [
      "185 FEATURES PREDICTION ACCURACY: 0.948 $\\pm$ 0.022\n"
     ]
    },
    {
     "name": "stderr",
     "output_type": "stream",
     "text": [
      "10it [00:24,  2.48s/it]\n",
      "0it [00:00, ?it/s]"
     ]
    },
    {
     "name": "stdout",
     "output_type": "stream",
     "text": [
      "205 FEATURES PREDICTION ACCURACY: 0.953 $\\pm$ 0.020\n"
     ]
    },
    {
     "name": "stderr",
     "output_type": "stream",
     "text": [
      "10it [00:26,  2.69s/it]\n",
      "0it [00:00, ?it/s]"
     ]
    },
    {
     "name": "stdout",
     "output_type": "stream",
     "text": [
      "225 FEATURES PREDICTION ACCURACY: 0.954 $\\pm$ 0.019\n"
     ]
    },
    {
     "name": "stderr",
     "output_type": "stream",
     "text": [
      "10it [00:27,  2.78s/it]\n",
      "0it [00:00, ?it/s]"
     ]
    },
    {
     "name": "stdout",
     "output_type": "stream",
     "text": [
      "245 FEATURES PREDICTION ACCURACY: 0.957 $\\pm$ 0.020\n"
     ]
    },
    {
     "name": "stderr",
     "output_type": "stream",
     "text": [
      "10it [00:28,  2.86s/it]\n",
      "0it [00:00, ?it/s]"
     ]
    },
    {
     "name": "stdout",
     "output_type": "stream",
     "text": [
      "265 FEATURES PREDICTION ACCURACY: 0.957 $\\pm$ 0.020\n"
     ]
    },
    {
     "name": "stderr",
     "output_type": "stream",
     "text": [
      "10it [00:29,  2.97s/it]\n",
      "0it [00:00, ?it/s]"
     ]
    },
    {
     "name": "stdout",
     "output_type": "stream",
     "text": [
      "285 FEATURES PREDICTION ACCURACY: 0.956 $\\pm$ 0.022\n"
     ]
    },
    {
     "name": "stderr",
     "output_type": "stream",
     "text": [
      "10it [00:32,  3.21s/it]\n",
      "0it [00:00, ?it/s]"
     ]
    },
    {
     "name": "stdout",
     "output_type": "stream",
     "text": [
      "305 FEATURES PREDICTION ACCURACY: 0.958 $\\pm$ 0.021\n"
     ]
    },
    {
     "name": "stderr",
     "output_type": "stream",
     "text": [
      "10it [00:33,  3.39s/it]\n",
      "0it [00:00, ?it/s]"
     ]
    },
    {
     "name": "stdout",
     "output_type": "stream",
     "text": [
      "325 FEATURES PREDICTION ACCURACY: 0.959 $\\pm$ 0.021\n"
     ]
    },
    {
     "name": "stderr",
     "output_type": "stream",
     "text": [
      "10it [00:35,  3.58s/it]\n",
      "0it [00:00, ?it/s]"
     ]
    },
    {
     "name": "stdout",
     "output_type": "stream",
     "text": [
      "345 FEATURES PREDICTION ACCURACY: 0.959 $\\pm$ 0.022\n"
     ]
    },
    {
     "name": "stderr",
     "output_type": "stream",
     "text": [
      "10it [00:36,  3.66s/it]\n",
      "0it [00:00, ?it/s]"
     ]
    },
    {
     "name": "stdout",
     "output_type": "stream",
     "text": [
      "365 FEATURES PREDICTION ACCURACY: 0.958 $\\pm$ 0.021\n"
     ]
    },
    {
     "name": "stderr",
     "output_type": "stream",
     "text": [
      "10it [00:37,  3.75s/it]\n",
      "0it [00:00, ?it/s]"
     ]
    },
    {
     "name": "stdout",
     "output_type": "stream",
     "text": [
      "385 FEATURES PREDICTION ACCURACY: 0.958 $\\pm$ 0.021\n"
     ]
    },
    {
     "name": "stderr",
     "output_type": "stream",
     "text": [
      "10it [00:37,  3.78s/it]\n",
      "0it [00:00, ?it/s]"
     ]
    },
    {
     "name": "stdout",
     "output_type": "stream",
     "text": [
      "405 FEATURES PREDICTION ACCURACY: 0.958 $\\pm$ 0.020\n"
     ]
    },
    {
     "name": "stderr",
     "output_type": "stream",
     "text": [
      "10it [00:39,  3.95s/it]\n",
      "0it [00:00, ?it/s]"
     ]
    },
    {
     "name": "stdout",
     "output_type": "stream",
     "text": [
      "425 FEATURES PREDICTION ACCURACY: 0.958 $\\pm$ 0.020\n"
     ]
    },
    {
     "name": "stderr",
     "output_type": "stream",
     "text": [
      "10it [00:41,  4.15s/it]\n",
      "0it [00:00, ?it/s]"
     ]
    },
    {
     "name": "stdout",
     "output_type": "stream",
     "text": [
      "445 FEATURES PREDICTION ACCURACY: 0.958 $\\pm$ 0.020\n"
     ]
    },
    {
     "name": "stderr",
     "output_type": "stream",
     "text": [
      "10it [00:36,  3.68s/it]\n",
      "0it [00:00, ?it/s]"
     ]
    },
    {
     "name": "stdout",
     "output_type": "stream",
     "text": [
      "465 FEATURES PREDICTION ACCURACY: 0.958 $\\pm$ 0.020\n"
     ]
    },
    {
     "name": "stderr",
     "output_type": "stream",
     "text": [
      "10it [00:38,  3.83s/it]"
     ]
    },
    {
     "name": "stdout",
     "output_type": "stream",
     "text": [
      "485 FEATURES PREDICTION ACCURACY: 0.958 $\\pm$ 0.020\n"
     ]
    },
    {
     "name": "stderr",
     "output_type": "stream",
     "text": [
      "\n"
     ]
    }
   ],
   "source": [
    "num_features = np.arange(5, 500, 20)\n",
    "results = []\n",
    "times = []\n",
    "for features in num_features:\n",
    "    pred_accuracy, fit_times = do_kfold_pca(svm.SVC(kernel='linear', C=1), combined_x, combined_y, features=features)\n",
    "    results.append(pred_accuracy)\n",
    "    times.append(fit_times)\n",
    "\n",
    "# Get means\n",
    "pca_acc_mean = np.mean(results, axis=1)\n",
    "pca_acc_stds = np.std(results, axis=1)\n",
    "pca_time_mean = np.mean(times, axis=1)\n",
    "pca_time_stds = np.std(times, axis=1)"
   ]
  },
  {
   "cell_type": "markdown",
   "metadata": {},
   "source": [
    "### Psuedo Data"
   ]
  },
  {
   "cell_type": "code",
   "execution_count": 70,
   "metadata": {},
   "outputs": [],
   "source": [
    "def do_kfold_psudodata(model, x_data, y_data, num_points=500, folds=10, seed=1):\n",
    "         \n",
    "    # Do KFold\n",
    "    kf = KFold(folds)\n",
    "    \n",
    "    # KF training\n",
    "    pred_accuracy = []\n",
    "    fit_times = []\n",
    "    \n",
    "    np.random.seed(seed)\n",
    "    \n",
    "    for idx, (train_idx, test_idx) in tqdm(enumerate(kf.split(list(range(len(y_data)))))): \n",
    "        \n",
    "        # Get mean and std for each label\n",
    "        x_1 = combined_x[train_idx][np.argwhere(combined_y[train_idx] == 0)[:,0]]\n",
    "        x_2 = combined_x[train_idx][np.argwhere(combined_y[train_idx] == 1)[:,0]]\n",
    "        x_3 = combined_x[train_idx][np.argwhere(combined_y[train_idx] == 2)[:,0]]\n",
    "        x_4 = combined_x[train_idx][np.argwhere(combined_y[train_idx] == 3)[:,0]]\n",
    "        x_5 = combined_x[train_idx][np.argwhere(combined_y[train_idx] == 4)[:,0]]\n",
    "        x_6 = combined_x[train_idx][np.argwhere(combined_y[train_idx] == 5)[:,0]]\n",
    "\n",
    "        mean_1 = np.mean(x_1, axis=0)\n",
    "        std_1 = np.std(x_1, axis=0)\n",
    "        mean_2 = np.mean(x_2, axis=0)\n",
    "        std_2 = np.std(x_2, axis=0)\n",
    "        mean_3 = np.mean(x_3, axis=0)\n",
    "        std_3 = np.std(x_3, axis=0)\n",
    "        mean_4 = np.mean(x_4, axis=0)\n",
    "        std_4 = np.std(x_4, axis=0)\n",
    "        mean_5 = np.mean(x_5, axis=0)\n",
    "        std_5 = np.std(x_5, axis=0)\n",
    "        mean_6 = np.mean(x_6, axis=0)\n",
    "        std_6 = np.std(x_6, axis=0)\n",
    "    \n",
    "        # Sample Pseudodata\n",
    "        sampled_x1 = np.random.multivariate_normal(mean_1, std_1*np.eye(len(std_1)), num_points)\n",
    "        sampled_x2 = np.random.multivariate_normal(mean_2, std_2*np.eye(len(std_2)), num_points)\n",
    "        sampled_x3 = np.random.multivariate_normal(mean_3, std_3*np.eye(len(std_3)), num_points)\n",
    "        sampled_x4 = np.random.multivariate_normal(mean_4, std_4*np.eye(len(std_4)), num_points)\n",
    "        sampled_x5 = np.random.multivariate_normal(mean_5, std_5*np.eye(len(std_5)), num_points)\n",
    "        sampled_x6 = np.random.multivariate_normal(mean_6, std_6*np.eye(len(std_6)), num_points)\n",
    "\n",
    "        # Combine pseudodata\n",
    "        sampled_combined = np.concatenate([sampled_x1, sampled_x2, sampled_x3, sampled_x4, sampled_x5, sampled_x6])\n",
    "\n",
    "        # Get labels\n",
    "        labels = np.ones(len(sampled_combined))\n",
    "        for i in range(1,7):\n",
    "            labels[(i-1)*num_points:(i)*num_points] *= i\n",
    "\n",
    "        # Fit and time model\n",
    "        start = time.time()\n",
    "        model.fit(sampled_combined, labels)\n",
    "        fit_times.append(time.time() - start)\n",
    "        \n",
    "        # Score model\n",
    "        preds = model.predict(x_data[test_idx])\n",
    "        score = accuracy_score(preds, y_data[test_idx])\n",
    "        pred_accuracy.append(score)\n",
    "        \n",
    "    print(r\"{0} POINTS PREDICTION ACCURACY: {1:.3f} $\\pm$ {2:.3f}\".format(num_points, np.mean(pred_accuracy), np.std(pred_accuracy)))\n",
    "    return pred_accuracy, fit_times"
   ]
  },
  {
   "cell_type": "code",
   "execution_count": 71,
   "metadata": {},
   "outputs": [
    {
     "name": "stderr",
     "output_type": "stream",
     "text": [
      "10it [00:04,  2.12it/s]\n",
      "0it [00:00, ?it/s]"
     ]
    },
    {
     "name": "stdout",
     "output_type": "stream",
     "text": [
      "5 POINTS PREDICTION ACCURACY: 0.095 $\\pm$ 0.056\n"
     ]
    },
    {
     "name": "stderr",
     "output_type": "stream",
     "text": [
      "10it [00:05,  1.80it/s]\n",
      "0it [00:00, ?it/s]"
     ]
    },
    {
     "name": "stdout",
     "output_type": "stream",
     "text": [
      "25 POINTS PREDICTION ACCURACY: 0.064 $\\pm$ 0.026\n"
     ]
    },
    {
     "name": "stderr",
     "output_type": "stream",
     "text": [
      "10it [00:06,  1.57it/s]\n",
      "0it [00:00, ?it/s]"
     ]
    },
    {
     "name": "stdout",
     "output_type": "stream",
     "text": [
      "45 POINTS PREDICTION ACCURACY: 0.065 $\\pm$ 0.032\n"
     ]
    },
    {
     "name": "stderr",
     "output_type": "stream",
     "text": [
      "10it [00:07,  1.38it/s]\n",
      "0it [00:00, ?it/s]"
     ]
    },
    {
     "name": "stdout",
     "output_type": "stream",
     "text": [
      "65 POINTS PREDICTION ACCURACY: 0.064 $\\pm$ 0.029\n"
     ]
    },
    {
     "name": "stderr",
     "output_type": "stream",
     "text": [
      "10it [00:08,  1.20it/s]\n",
      "0it [00:00, ?it/s]"
     ]
    },
    {
     "name": "stdout",
     "output_type": "stream",
     "text": [
      "85 POINTS PREDICTION ACCURACY: 0.060 $\\pm$ 0.028\n"
     ]
    },
    {
     "name": "stderr",
     "output_type": "stream",
     "text": [
      "10it [00:09,  1.08it/s]\n",
      "0it [00:00, ?it/s]"
     ]
    },
    {
     "name": "stdout",
     "output_type": "stream",
     "text": [
      "105 POINTS PREDICTION ACCURACY: 0.062 $\\pm$ 0.025\n"
     ]
    },
    {
     "name": "stderr",
     "output_type": "stream",
     "text": [
      "10it [00:09,  1.03it/s]\n",
      "0it [00:00, ?it/s]"
     ]
    },
    {
     "name": "stdout",
     "output_type": "stream",
     "text": [
      "125 POINTS PREDICTION ACCURACY: 0.066 $\\pm$ 0.028\n"
     ]
    },
    {
     "name": "stderr",
     "output_type": "stream",
     "text": [
      "10it [00:10,  1.07s/it]\n",
      "0it [00:00, ?it/s]"
     ]
    },
    {
     "name": "stdout",
     "output_type": "stream",
     "text": [
      "145 POINTS PREDICTION ACCURACY: 0.066 $\\pm$ 0.028\n"
     ]
    },
    {
     "name": "stderr",
     "output_type": "stream",
     "text": [
      "10it [00:11,  1.13s/it]\n",
      "0it [00:00, ?it/s]"
     ]
    },
    {
     "name": "stdout",
     "output_type": "stream",
     "text": [
      "165 POINTS PREDICTION ACCURACY: 0.061 $\\pm$ 0.023\n"
     ]
    },
    {
     "name": "stderr",
     "output_type": "stream",
     "text": [
      "10it [00:11,  1.20s/it]\n",
      "0it [00:00, ?it/s]"
     ]
    },
    {
     "name": "stdout",
     "output_type": "stream",
     "text": [
      "185 POINTS PREDICTION ACCURACY: 0.063 $\\pm$ 0.020\n"
     ]
    },
    {
     "name": "stderr",
     "output_type": "stream",
     "text": [
      "10it [00:12,  1.25s/it]\n",
      "0it [00:00, ?it/s]"
     ]
    },
    {
     "name": "stdout",
     "output_type": "stream",
     "text": [
      "205 POINTS PREDICTION ACCURACY: 0.066 $\\pm$ 0.023\n"
     ]
    },
    {
     "name": "stderr",
     "output_type": "stream",
     "text": [
      "10it [00:13,  1.35s/it]\n",
      "0it [00:00, ?it/s]"
     ]
    },
    {
     "name": "stdout",
     "output_type": "stream",
     "text": [
      "225 POINTS PREDICTION ACCURACY: 0.062 $\\pm$ 0.023\n"
     ]
    },
    {
     "name": "stderr",
     "output_type": "stream",
     "text": [
      "10it [00:14,  1.42s/it]\n",
      "0it [00:00, ?it/s]"
     ]
    },
    {
     "name": "stdout",
     "output_type": "stream",
     "text": [
      "245 POINTS PREDICTION ACCURACY: 0.062 $\\pm$ 0.023\n"
     ]
    },
    {
     "name": "stderr",
     "output_type": "stream",
     "text": [
      "10it [00:14,  1.49s/it]\n",
      "0it [00:00, ?it/s]"
     ]
    },
    {
     "name": "stdout",
     "output_type": "stream",
     "text": [
      "265 POINTS PREDICTION ACCURACY: 0.067 $\\pm$ 0.027\n"
     ]
    },
    {
     "name": "stderr",
     "output_type": "stream",
     "text": [
      "10it [00:15,  1.56s/it]\n",
      "0it [00:00, ?it/s]"
     ]
    },
    {
     "name": "stdout",
     "output_type": "stream",
     "text": [
      "285 POINTS PREDICTION ACCURACY: 0.065 $\\pm$ 0.023\n"
     ]
    },
    {
     "name": "stderr",
     "output_type": "stream",
     "text": [
      "10it [00:16,  1.65s/it]\n",
      "0it [00:00, ?it/s]"
     ]
    },
    {
     "name": "stdout",
     "output_type": "stream",
     "text": [
      "305 POINTS PREDICTION ACCURACY: 0.061 $\\pm$ 0.025\n"
     ]
    },
    {
     "name": "stderr",
     "output_type": "stream",
     "text": [
      "10it [00:17,  1.72s/it]\n",
      "0it [00:00, ?it/s]"
     ]
    },
    {
     "name": "stdout",
     "output_type": "stream",
     "text": [
      "325 POINTS PREDICTION ACCURACY: 0.062 $\\pm$ 0.028\n"
     ]
    },
    {
     "name": "stderr",
     "output_type": "stream",
     "text": [
      "10it [00:17,  1.79s/it]\n",
      "0it [00:00, ?it/s]"
     ]
    },
    {
     "name": "stdout",
     "output_type": "stream",
     "text": [
      "345 POINTS PREDICTION ACCURACY: 0.065 $\\pm$ 0.032\n"
     ]
    },
    {
     "name": "stderr",
     "output_type": "stream",
     "text": [
      "10it [00:18,  1.83s/it]\n",
      "0it [00:00, ?it/s]"
     ]
    },
    {
     "name": "stdout",
     "output_type": "stream",
     "text": [
      "365 POINTS PREDICTION ACCURACY: 0.063 $\\pm$ 0.024\n"
     ]
    },
    {
     "name": "stderr",
     "output_type": "stream",
     "text": [
      "10it [00:19,  1.93s/it]\n",
      "0it [00:00, ?it/s]"
     ]
    },
    {
     "name": "stdout",
     "output_type": "stream",
     "text": [
      "385 POINTS PREDICTION ACCURACY: 0.067 $\\pm$ 0.026\n"
     ]
    },
    {
     "name": "stderr",
     "output_type": "stream",
     "text": [
      "10it [00:20,  2.01s/it]\n",
      "0it [00:00, ?it/s]"
     ]
    },
    {
     "name": "stdout",
     "output_type": "stream",
     "text": [
      "405 POINTS PREDICTION ACCURACY: 0.065 $\\pm$ 0.023\n"
     ]
    },
    {
     "name": "stderr",
     "output_type": "stream",
     "text": [
      "10it [00:20,  2.06s/it]\n",
      "0it [00:00, ?it/s]"
     ]
    },
    {
     "name": "stdout",
     "output_type": "stream",
     "text": [
      "425 POINTS PREDICTION ACCURACY: 0.064 $\\pm$ 0.026\n"
     ]
    },
    {
     "name": "stderr",
     "output_type": "stream",
     "text": [
      "10it [00:21,  2.13s/it]\n",
      "0it [00:00, ?it/s]"
     ]
    },
    {
     "name": "stdout",
     "output_type": "stream",
     "text": [
      "445 POINTS PREDICTION ACCURACY: 0.066 $\\pm$ 0.024\n"
     ]
    },
    {
     "name": "stderr",
     "output_type": "stream",
     "text": [
      "10it [00:22,  2.23s/it]\n",
      "0it [00:00, ?it/s]"
     ]
    },
    {
     "name": "stdout",
     "output_type": "stream",
     "text": [
      "465 POINTS PREDICTION ACCURACY: 0.065 $\\pm$ 0.027\n"
     ]
    },
    {
     "name": "stderr",
     "output_type": "stream",
     "text": [
      "10it [00:23,  2.32s/it]"
     ]
    },
    {
     "name": "stdout",
     "output_type": "stream",
     "text": [
      "485 POINTS PREDICTION ACCURACY: 0.060 $\\pm$ 0.021\n"
     ]
    },
    {
     "name": "stderr",
     "output_type": "stream",
     "text": [
      "\n"
     ]
    }
   ],
   "source": [
    "# Number of Psuedo data points\n",
    "num_points =np.arange(5, 500, 20)\n",
    "\n",
    "results = []\n",
    "times = []\n",
    "for num in num_points:\n",
    "    pred_accuracy, fit_times = do_kfold_psudodata(svm.SVC(kernel='linear', C=1), combined_x, combined_y, num_points=num)\n",
    "    results.append(pred_accuracy)\n",
    "    times.append(fit_times)\n",
    "    \n",
    "# Get means\n",
    "psd_acc_mean = np.mean(results, axis=1)\n",
    "psd_acc_stds = np.std(results, axis=1)\n",
    "psd_time_mean = np.mean(times, axis=1)\n",
    "psd_time_stds = np.std(times, axis=1)"
   ]
  },
  {
   "cell_type": "code",
   "execution_count": 72,
   "metadata": {},
   "outputs": [
    {
     "data": {
      "image/png": "[encoded data removed]",
      "text/plain": [
       "<Figure size 432x288 with 1 Axes>"
      ]
     },
     "metadata": {
      "needs_background": "light"
     },
     "output_type": "display_data"
    },
    {
     "data": {
      "image/png": "[encoded data removed]",
      "text/plain": [
       "<Figure size 432x288 with 1 Axes>"
      ]
     },
     "metadata": {
      "needs_background": "light"
     },
     "output_type": "display_data"
    }
   ],
   "source": [
    "# Plot prediction accuracies\n",
    "fig, ax = plt.subplots()\n",
    "ax.plot(num_features, pca_acc_mean, label= 'PCA')\n",
    "ax.plot(num_features, ml_acc_mean, label = 'Mutual Information')\n",
    "# ax.plot(num_features, psd_acc_mean, label = 'Psuedo Data')\n",
    "ax.fill_between(num_features, ml_acc_mean+ml_acc_stds, ml_acc_mean-ml_acc_stds, alpha=0.3)\n",
    "ax.fill_between(num_features, pca_acc_mean+pca_acc_stds, pca_acc_mean-pca_acc_stds, alpha=0.3)\n",
    "# ax.fill_between(num_features, psd_acc_mean+psd_acc_stds, psd_acc_mean-psd_acc_stds, alpha=0.3)\n",
    "ax.set(title=\"Prediction Accuracies\", xlabel=\"Number of Features\", ylabel=\"Prediction Acciracy\")\n",
    "plt.legend()\n",
    "plt.show()\n",
    "\n",
    "# Plot timing\n",
    "fig, ax = plt.subplots()\n",
    "ax.plot(num_features, pca_time_mean, label= 'PCA')\n",
    "ax.fill_between(num_features, pca_time_mean+pca_time_stds, pca_time_mean-pca_time_stds, alpha=0.3)\n",
    "ax.plot(num_features, ml_time_mean, label = 'Mutual Information')\n",
    "ax.fill_between(num_features, ml_time_mean+ml_time_stds, ml_time_mean-ml_time_stds, alpha=0.3)\n",
    "ax.plot(num_features, psd_time_mean, label = 'Psuedo Data')\n",
    "ax.fill_between(num_features, psd_time_mean+psd_time_stds, psd_time_mean-psd_time_stds, alpha=0.3)\n",
    "ax.set(title=\"Training Time\", xlabel=\"Number of Features\", ylabel=\"Time (s)\")\n",
    "plt.legend()\n",
    "plt.show()"
   ]
  },
  {
   "cell_type": "markdown",
   "metadata": {},
   "source": [
    "### Part 3\n",
    "- Identify the optimal number of features using feature engineering technique based on time and accuracy. "
   ]
  },
  {
   "cell_type": "code",
   "execution_count": 81,
   "metadata": {},
   "outputs": [
    {
     "name": "stdout",
     "output_type": "stream",
     "text": [
      "For 105, the accuracy is 0.934946550048591\n",
      "For 105, the accuracy is 0.9268894298357347\n"
     ]
    }
   ],
   "source": [
    "err = 0.003\n",
    "#For PCA\n",
    "for i in range (0,len(num_features)):\n",
    "    if pca_acc_mean[i+1] - pca_acc_mean[i] <= err:\n",
    "        PCA_f = i\n",
    "        print(f'For {num_features[i]}, the accuracy is {pca_acc_mean[i]}')\n",
    "        break\n",
    "        \n",
    "# For MI\n",
    "for j in range (0,len(num_features)):\n",
    "    if ml_acc_mean[j+1] - ml_acc_mean[j] <= err:\n",
    "        MI_f = j\n",
    "        print(f'For {num_features[j]}, the accuracy is {ml_acc_mean[j]}')\n",
    "        break"
   ]
  },
  {
   "cell_type": "markdown",
   "metadata": {},
   "source": [
    "### From our results above, PCA generates the best accuracy for the same number of features. However, based on the time plot, MI takes less time to run than PCA.  "
   ]
  },
  {
   "cell_type": "code",
   "execution_count": 85,
   "metadata": {},
   "outputs": [
    {
     "name": "stderr",
     "output_type": "stream",
     "text": [
      "10it [00:17,  1.74s/it]"
     ]
    },
    {
     "name": "stdout",
     "output_type": "stream",
     "text": [
      "105 FEATURES PREDICTION ACCURACY: 0.934 $\\pm$ 0.022\n"
     ]
    },
    {
     "name": "stderr",
     "output_type": "stream",
     "text": [
      "\n"
     ]
    },
    {
     "data": {
      "text/plain": [
       "[1.1279826164245605,\n",
       " 1.0940730571746826,\n",
       " 1.1459345817565918,\n",
       " 1.3065049648284912,\n",
       " 1.216745138168335,\n",
       " 1.5069680213928223,\n",
       " 1.2835659980773926,\n",
       " 1.1728627681732178,\n",
       " 1.1190056800842285,\n",
       " 1.1449368000030518]"
      ]
     },
     "execution_count": 85,
     "metadata": {},
     "output_type": "execute_result"
    }
   ],
   "source": [
    "pred_accuracy, fit_times = do_kfold_pca(svm.SVC(kernel='linear', C=1), combined_x, combined_y, features= num_features[PCA_f])\n",
    "pred_accuracy\n",
    "fit_times"
   ]
  }
 ],
 "metadata": {
  "kernelspec": {
   "display_name": "Python 3",
   "language": "python",
   "name": "python3"
  },
  "language_info": {
   "codemirror_mode": {
    "name": "ipython",
    "version": 3
   },
   "file_extension": ".py",
   "mimetype": "text/x-python",
   "name": "python",
   "nbconvert_exporter": "python",
   "pygments_lexer": "ipython3",
   "version": "3.8.5"
  }
 },
 "nbformat": 4,
 "nbformat_minor": 4
}
