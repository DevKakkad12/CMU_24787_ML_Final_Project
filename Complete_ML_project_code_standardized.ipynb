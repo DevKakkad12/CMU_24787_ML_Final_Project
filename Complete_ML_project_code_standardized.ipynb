{
  "nbformat": 4,
  "nbformat_minor": 0,
  "metadata": {
    "kernelspec": {
      "display_name": "Python 3 (ipykernel)",
      "language": "python",
      "name": "python3"
    },
    "language_info": {
      "codemirror_mode": {
        "name": "ipython",
        "version": 3
      },
      "file_extension": ".py",
      "mimetype": "text/x-python",
      "name": "python",
      "nbconvert_exporter": "python",
      "pygments_lexer": "ipython3",
      "version": "3.8.10"
    },
    "colab": {
      "name": "Complete_ML_project_code_standardized.ipynb",
      "provenance": [],
      "collapsed_sections": []
    }
  },
  "cells": [
    {
      "cell_type": "markdown",
      "metadata": {
        "id": "YuSfao1PN7xC"
      },
      "source": [
        "### Imports"
      ]
    },
    {
      "cell_type": "code",
      "metadata": {
        "id": "cBnaAwyVN7xF"
      },
      "source": [
        "import numpy as np\n",
        "\n",
        "# Add models here\n",
        "from sklearn.ensemble import GradientBoostingClassifier, RandomForestClassifier\n",
        "from sklearn.svm import SVC\n",
        "from sklearn.feature_selection import mutual_info_classif\n",
        "from sklearn.feature_selection import SelectKBest\n",
        "from sklearn import svm\n",
        "from sklearn.linear_model import LogisticRegression\n",
        "from sklearn.naive_bayes import CategoricalNB\n",
        "from sklearn.pipeline import Pipeline\n",
        "from tensorflow import keras\n",
        "from sklearn.preprocessing import LabelEncoder\n",
        "from tensorflow.keras import Sequential\n",
        "from tensorflow.keras.layers import Dense\n",
        "from tensorflow.keras import optimizers\n",
        "\n",
        "# Sklearn imports for processing and evaluation\n",
        "from sklearn.decomposition import PCA\n",
        "from sklearn.metrics import median_absolute_error, accuracy_score\n",
        "from sklearn.preprocessing import StandardScaler\n",
        "from sklearn.model_selection import KFold\n",
        "from sklearn.model_selection import cross_val_score\n",
        "# Plotting\n",
        "from matplotlib import pyplot as plt\n",
        "\n",
        "# Misc\n",
        "import time\n",
        "from tqdm import tqdm"
      ],
      "execution_count": 81,
      "outputs": []
    },
    {
      "cell_type": "markdown",
      "metadata": {
        "id": "XUwP6IpUN7xG"
      },
      "source": [
        "### Load Data"
      ]
    },
    {
      "cell_type": "code",
      "metadata": {
        "id": "pzC3UFcNN7xG"
      },
      "source": [
        "x_train = np.loadtxt(\"./X_train.txt\")\n",
        "y_train = np.loadtxt(\"./y_train.txt\")\n",
        "\n",
        "x_test = np.loadtxt(\"./X_test.txt\")\n",
        "y_test = np.loadtxt(\"./y_test.txt\")"
      ],
      "execution_count": 2,
      "outputs": []
    },
    {
      "cell_type": "markdown",
      "metadata": {
        "id": "ZDT8sEf5N7xG"
      },
      "source": [
        "### Combine Data"
      ]
    },
    {
      "cell_type": "code",
      "metadata": {
        "id": "e_UTcf3BN7xG"
      },
      "source": [
        "combined_x = np.concatenate((x_train, x_test))\n",
        "combined_y = np.concatenate((y_train, y_test))\n",
        "\n",
        "assert combined_x.shape[0] == x_train.shape[0] + x_test.shape[0]\n",
        "assert combined_y.shape[0] == y_train.shape[0] + y_test.shape[0]"
      ],
      "execution_count": 10,
      "outputs": []
    },
    {
      "cell_type": "markdown",
      "metadata": {
        "id": "5iTwnhnoN7xH"
      },
      "source": [
        "### Baseline model"
      ]
    },
    {
      "cell_type": "markdown",
      "metadata": {
        "id": "OyHVg4FgbqcU"
      },
      "source": [
        "#### Neural Network"
      ]
    },
    {
      "cell_type": "code",
      "metadata": {
        "id": "3f_Pm_i5N7xH"
      },
      "source": [
        "def do_kfoldNN(x_data, y_data, features='all', folds=10):\n",
        "    start = time.time()\n",
        "    # Do KFold\n",
        "    kf = KFold(folds)\n",
        "    \n",
        "    # KF training\n",
        "    pred_accuracy = []\n",
        "    fit_times = []\n",
        "    for idx, (train_idx, test_idx) in tqdm(enumerate(kf.split(x_data))):    \n",
        "        \n",
        "        # Do PCA\n",
        "        features = x_data.shape[1] if(features == 'all') else features\n",
        "        pca = PCA(n_components=features)\n",
        "        scalar = StandardScaler().fit(x_data[train_idx])\n",
        "        standardized = scalar.transform(x_data[train_idx])\n",
        "        transformed = pca.fit_transform(standardized)\n",
        "        \n",
        "        # Fit and time model\n",
        "        \n",
        "        x = x_data[train_idx].astype('float32')\n",
        "        n_features = x_data[train_idx].shape[1]\n",
        "        k1 = transformed.shape[1]\n",
        "        print(k1)\n",
        "        model = Sequential()\n",
        "        model.add(Dense(k1, activation='relu', kernel_initializer='he_normal', input_shape=(k1,)))\n",
        "        model.add(Dense(384, activation='relu',  kernel_initializer='he_normal'))\n",
        "        model.add(Dense(6,activation='softmax'))\n",
        "        \n",
        "        optimizers.Adam(learning_rate=0.01, beta_1=0.9, beta_2=0.999, epsilon=1e-07, amsgrad=False,name='Adam')\n",
        "        \n",
        "        model.compile(optimizer='Adam',loss='sparse_categorical_crossentropy', metrics=['accuracy'])\n",
        "        print(transformed.shape, y_data[train_idx.shape])\n",
        "        #raise\n",
        "        print(np.unique(y_data[train_idx]))\n",
        "        model.fit(transformed, y_data[train_idx], batch_size = 30, epochs = 5)\n",
        "        # Transform test data and evaluate\n",
        "        test_transform = np.dot(scalar.transform(x_data[test_idx]), pca.components_.T)\n",
        "        preds = model.predict(test_transform)\n",
        "        #print(preds)\n",
        "        #print(y_data[test_idx])\n",
        "        loss, score = model.evaluate(test_transform, y_data[test_idx], verbose=0)\n",
        "        #score = accuracy_score(preds, y_data[test_idx])\n",
        "        pred_accuracy.append(score)\n",
        "        fit_times.append(time.time() - start)\n",
        "        \n",
        "    print(r\"{0} FEATURES PREDICTION ACCURACY: {1:.3f} $\\pm$ {2:.3f}\".format(features, np.mean(pred_accuracy), np.std(pred_accuracy)))\n",
        "    return pred_accuracy, fit_times"
      ],
      "execution_count": 89,
      "outputs": []
    },
    {
      "cell_type": "code",
      "metadata": {
        "colab": {
          "base_uri": "https://localhost:8080/"
        },
        "id": "XdAV5OPNN7xI",
        "outputId": "cbcd2d5b-c4d1-4730-ae27-c3fac944f21e"
      },
      "source": [
        "#for i in range (0,len(combined_y)):\n",
        "#    combined_y[i] = combined_y[i]-1\n",
        "\n",
        "combined_y_mod = combined_y - 1\n",
        "pred_accuracyNN, fit_timesNN = do_kfoldNN(combined_x, combined_y_mod, features=561)\n",
        "\n",
        "scores_nn = np.mean(pred_accuracyNN)\n",
        "scores_nn_std = np.std(pred_accuracyNN)\n",
        "time_nn = np.mean(fit_timesNN)\n",
        "\n",
        "print(f\"The accuracy is {np.mean(scores_nn)*100:1.3f}% with a standard deviation of {scores_nn_std:1.3f}\")\n",
        "print(f\"The time taken to complete the model is {time_nn:1.2f}s\")"
      ],
      "execution_count": 90,
      "outputs": [
        {
          "output_type": "stream",
          "name": "stderr",
          "text": [
            "\r0it [00:00, ?it/s]"
          ]
        },
        {
          "output_type": "stream",
          "name": "stdout",
          "text": [
            "561\n",
            "(9269, 561) 3.0\n",
            "[0. 1. 2. 3. 4. 5.]\n",
            "Epoch 1/5\n",
            "309/309 [==============================] - 3s 7ms/step - loss: 0.1539 - accuracy: 0.9441\n",
            "Epoch 2/5\n",
            "309/309 [==============================] - 2s 7ms/step - loss: 0.0525 - accuracy: 0.9839\n",
            "Epoch 3/5\n",
            "309/309 [==============================] - 2s 7ms/step - loss: 0.0180 - accuracy: 0.9936\n",
            "Epoch 4/5\n",
            "309/309 [==============================] - 2s 7ms/step - loss: 0.0144 - accuracy: 0.9955\n",
            "Epoch 5/5\n",
            "309/309 [==============================] - 2s 7ms/step - loss: 0.0164 - accuracy: 0.9959\n"
          ]
        },
        {
          "output_type": "stream",
          "name": "stderr",
          "text": [
            "\r1it [00:13, 13.54s/it]"
          ]
        },
        {
          "output_type": "stream",
          "name": "stdout",
          "text": [
            "561\n",
            "(9269, 561) 3.0\n",
            "[0. 1. 2. 3. 4. 5.]\n",
            "Epoch 1/5\n",
            "309/309 [==============================] - 3s 7ms/step - loss: 0.1543 - accuracy: 0.9416\n",
            "Epoch 2/5\n",
            "309/309 [==============================] - 2s 7ms/step - loss: 0.0496 - accuracy: 0.9858\n",
            "Epoch 3/5\n",
            "309/309 [==============================] - 2s 7ms/step - loss: 0.0236 - accuracy: 0.9916\n",
            "Epoch 4/5\n",
            "309/309 [==============================] - 2s 7ms/step - loss: 0.0094 - accuracy: 0.9976\n",
            "Epoch 5/5\n",
            "309/309 [==============================] - 2s 7ms/step - loss: 0.0030 - accuracy: 0.9992\n"
          ]
        },
        {
          "output_type": "stream",
          "name": "stderr",
          "text": [
            "\r2it [00:26, 13.43s/it]"
          ]
        },
        {
          "output_type": "stream",
          "name": "stdout",
          "text": [
            "561\n",
            "(9269, 561) 3.0\n",
            "[0. 1. 2. 3. 4. 5.]\n",
            "Epoch 1/5\n",
            "309/309 [==============================] - 3s 7ms/step - loss: 0.1434 - accuracy: 0.9451\n",
            "Epoch 2/5\n",
            "309/309 [==============================] - 2s 7ms/step - loss: 0.0364 - accuracy: 0.9878\n",
            "Epoch 3/5\n",
            "309/309 [==============================] - 2s 7ms/step - loss: 0.0235 - accuracy: 0.9918\n",
            "Epoch 4/5\n",
            "309/309 [==============================] - 2s 7ms/step - loss: 0.0225 - accuracy: 0.9946\n",
            "Epoch 5/5\n",
            "309/309 [==============================] - 2s 7ms/step - loss: 0.0038 - accuracy: 0.9989\n"
          ]
        },
        {
          "output_type": "stream",
          "name": "stderr",
          "text": [
            "\r3it [00:40, 13.35s/it]"
          ]
        },
        {
          "output_type": "stream",
          "name": "stdout",
          "text": [
            "561\n",
            "(9269, 561) 3.0\n",
            "[0. 1. 2. 3. 4. 5.]\n",
            "Epoch 1/5\n",
            "309/309 [==============================] - 3s 8ms/step - loss: 0.1434 - accuracy: 0.9449\n",
            "Epoch 2/5\n",
            "309/309 [==============================] - 2s 7ms/step - loss: 0.0350 - accuracy: 0.9889\n",
            "Epoch 3/5\n",
            "309/309 [==============================] - 2s 7ms/step - loss: 0.0160 - accuracy: 0.9940\n",
            "Epoch 4/5\n",
            "309/309 [==============================] - 2s 7ms/step - loss: 0.0092 - accuracy: 0.9960\n",
            "Epoch 5/5\n",
            "309/309 [==============================] - 2s 8ms/step - loss: 0.0058 - accuracy: 0.9978\n"
          ]
        },
        {
          "output_type": "stream",
          "name": "stderr",
          "text": [
            "\r4it [01:02, 17.09s/it]"
          ]
        },
        {
          "output_type": "stream",
          "name": "stdout",
          "text": [
            "561\n",
            "(9269, 561) 3.0\n",
            "[0. 1. 2. 3. 4. 5.]\n",
            "Epoch 1/5\n",
            "309/309 [==============================] - 3s 7ms/step - loss: 0.1550 - accuracy: 0.9433\n",
            "Epoch 2/5\n",
            "309/309 [==============================] - 2s 7ms/step - loss: 0.0517 - accuracy: 0.9822\n",
            "Epoch 3/5\n",
            "309/309 [==============================] - 2s 7ms/step - loss: 0.0165 - accuracy: 0.9945\n",
            "Epoch 4/5\n",
            "309/309 [==============================] - 2s 7ms/step - loss: 0.0073 - accuracy: 0.9977\n",
            "Epoch 5/5\n",
            "309/309 [==============================] - 2s 7ms/step - loss: 0.0013 - accuracy: 0.9999\n"
          ]
        },
        {
          "output_type": "stream",
          "name": "stderr",
          "text": [
            "\r5it [01:16, 15.74s/it]"
          ]
        },
        {
          "output_type": "stream",
          "name": "stdout",
          "text": [
            "561\n",
            "(9269, 561) 3.0\n",
            "[0. 1. 2. 3. 4. 5.]\n",
            "Epoch 1/5\n",
            "309/309 [==============================] - 3s 7ms/step - loss: 0.1664 - accuracy: 0.9389\n",
            "Epoch 2/5\n",
            "309/309 [==============================] - 2s 7ms/step - loss: 0.0492 - accuracy: 0.9832\n",
            "Epoch 3/5\n",
            "309/309 [==============================] - 2s 7ms/step - loss: 0.0237 - accuracy: 0.9908\n",
            "Epoch 4/5\n",
            "309/309 [==============================] - 2s 7ms/step - loss: 0.0169 - accuracy: 0.9959\n",
            "Epoch 5/5\n",
            "309/309 [==============================] - 2s 7ms/step - loss: 0.0081 - accuracy: 0.9974\n"
          ]
        },
        {
          "output_type": "stream",
          "name": "stderr",
          "text": [
            "\r6it [01:29, 14.89s/it]"
          ]
        },
        {
          "output_type": "stream",
          "name": "stdout",
          "text": [
            "561\n",
            "(9269, 561) 3.0\n",
            "[0. 1. 2. 3. 4. 5.]\n",
            "Epoch 1/5\n",
            "309/309 [==============================] - 3s 7ms/step - loss: 0.1572 - accuracy: 0.9424\n",
            "Epoch 2/5\n",
            "309/309 [==============================] - 2s 7ms/step - loss: 0.0439 - accuracy: 0.9851\n",
            "Epoch 3/5\n",
            "309/309 [==============================] - 2s 7ms/step - loss: 0.0163 - accuracy: 0.9945\n",
            "Epoch 4/5\n",
            "309/309 [==============================] - 2s 7ms/step - loss: 0.0094 - accuracy: 0.9970\n",
            "Epoch 5/5\n",
            "309/309 [==============================] - 2s 7ms/step - loss: 0.0032 - accuracy: 0.9987\n"
          ]
        },
        {
          "output_type": "stream",
          "name": "stderr",
          "text": [
            "\r7it [01:42, 14.41s/it]"
          ]
        },
        {
          "output_type": "stream",
          "name": "stdout",
          "text": [
            "561\n",
            "(9269, 561) 3.0\n",
            "[0. 1. 2. 3. 4. 5.]\n",
            "Epoch 1/5\n",
            "309/309 [==============================] - 3s 7ms/step - loss: 0.1654 - accuracy: 0.9412\n",
            "Epoch 2/5\n",
            "309/309 [==============================] - 2s 7ms/step - loss: 0.0381 - accuracy: 0.9867\n",
            "Epoch 3/5\n",
            "309/309 [==============================] - 2s 7ms/step - loss: 0.0233 - accuracy: 0.9914\n",
            "Epoch 4/5\n",
            "309/309 [==============================] - 2s 7ms/step - loss: 0.0109 - accuracy: 0.9962\n",
            "Epoch 5/5\n",
            "309/309 [==============================] - 2s 7ms/step - loss: 0.0076 - accuracy: 0.9973\n"
          ]
        },
        {
          "output_type": "stream",
          "name": "stderr",
          "text": [
            "\r8it [02:05, 17.06s/it]"
          ]
        },
        {
          "output_type": "stream",
          "name": "stdout",
          "text": [
            "561\n",
            "(9269, 561) 3.0\n",
            "[0. 1. 2. 3. 4. 5.]\n",
            "Epoch 1/5\n",
            "309/309 [==============================] - 3s 7ms/step - loss: 0.1546 - accuracy: 0.9441\n",
            "Epoch 2/5\n",
            "309/309 [==============================] - 2s 7ms/step - loss: 0.0323 - accuracy: 0.9883\n",
            "Epoch 3/5\n",
            "309/309 [==============================] - 2s 7ms/step - loss: 0.0169 - accuracy: 0.9937\n",
            "Epoch 4/5\n",
            "309/309 [==============================] - 2s 7ms/step - loss: 0.0079 - accuracy: 0.9969\n",
            "Epoch 5/5\n",
            "309/309 [==============================] - 2s 7ms/step - loss: 0.0089 - accuracy: 0.9973\n"
          ]
        },
        {
          "output_type": "stream",
          "name": "stderr",
          "text": [
            "\r9it [02:19, 16.09s/it]"
          ]
        },
        {
          "output_type": "stream",
          "name": "stdout",
          "text": [
            "561\n",
            "(9270, 561) 5.0\n",
            "[0. 1. 2. 3. 4. 5.]\n",
            "Epoch 1/5\n",
            "309/309 [==============================] - 3s 7ms/step - loss: 0.1620 - accuracy: 0.9414\n",
            "Epoch 2/5\n",
            "309/309 [==============================] - 2s 7ms/step - loss: 0.0463 - accuracy: 0.9837\n",
            "Epoch 3/5\n",
            "309/309 [==============================] - 2s 7ms/step - loss: 0.0195 - accuracy: 0.9928\n",
            "Epoch 4/5\n",
            "309/309 [==============================] - 2s 7ms/step - loss: 0.0100 - accuracy: 0.9961\n",
            "Epoch 5/5\n",
            "309/309 [==============================] - 2s 7ms/step - loss: 0.0072 - accuracy: 0.9971\n"
          ]
        },
        {
          "output_type": "stream",
          "name": "stderr",
          "text": [
            "10it [02:32, 15.30s/it]"
          ]
        },
        {
          "output_type": "stream",
          "name": "stdout",
          "text": [
            "561 FEATURES PREDICTION ACCURACY: 0.951 $\\pm$ 0.022\n",
            "The accuracy is 95.145% with a standard deviation of 0.022\n",
            "The time taken to complete the model is 83.08s\n"
          ]
        },
        {
          "output_type": "stream",
          "name": "stderr",
          "text": [
            "\n"
          ]
        }
      ]
    },
    {
      "cell_type": "markdown",
      "metadata": {
        "id": "soKvthFtN7xJ"
      },
      "source": [
        "#### Logistic Regression"
      ]
    },
    {
      "cell_type": "code",
      "metadata": {
        "colab": {
          "base_uri": "https://localhost:8080/"
        },
        "id": "gCGM2cjyN7xJ",
        "outputId": "a2458340-f0ff-461d-9f34-373afd77c877"
      },
      "source": [
        "# prepare the cross-validation procedure\n",
        "t0 = time.time()\n",
        "cv = KFold(n_splits=5)\n",
        "# create model\n",
        "model = LogisticRegression(multi_class='ovr', solver='liblinear')\n",
        "# evaluate model\n",
        "scaler = StandardScaler()\n",
        "pipeline = Pipeline([('transformer', scaler), ('estimator', model)])\n",
        "scores = cross_val_score(pipeline, combined_x, combined_y, scoring='accuracy', cv=cv)\n",
        "scores_lr = np.mean(scores)\n",
        "scores_lr_std = np.std(scores)\n",
        "print(f\"The accuracy is {np.mean(scores_lr)*100:1.3f}% with a standard deviation of {np.std(scores_lr):1.3f}\")\n",
        "t1 = time.time()\n",
        "t1 = time.time()\n",
        "time_lg = t1 - t0\n",
        "print(f\"The time taken to complete the model is {time_lg:1.2f}s\")"
      ],
      "execution_count": 82,
      "outputs": [
        {
          "output_type": "stream",
          "name": "stdout",
          "text": [
            "The accuracy is 96.029% with a standard deviation of 0.000\n",
            "The time taken to complete the model is 62.09s\n"
          ]
        }
      ]
    },
    {
      "cell_type": "markdown",
      "metadata": {
        "id": "MsgGd68NN7xJ"
      },
      "source": [
        "#### SVM Linear"
      ]
    },
    {
      "cell_type": "code",
      "metadata": {
        "colab": {
          "base_uri": "https://localhost:8080/"
        },
        "id": "_FvCz9OVN7xJ",
        "outputId": "e6a3e351-2e15-4b55-ff1f-9ef482591b87"
      },
      "source": [
        "tsvm_0 = time.time()\n",
        "cv = KFold(n_splits=5)\n",
        "# create model\n",
        "model = svm.SVC(kernel='linear', C=1)\n",
        "# evaluate model\n",
        "scaler = StandardScaler()\n",
        "pipeline = Pipeline([('transformer', scaler), ('estimator', model)])\n",
        "scores = cross_val_score(pipeline, combined_x, combined_y, scoring='accuracy', cv=cv)\n",
        "scores_svm_linear = np.mean(scores)\n",
        "scores_svm_linear_std = np.std(scores)\n",
        "\n",
        "print(f\"The accuracy is {np.mean(scores_svm_linear)*100:1.3f}% with a standard deviation of {scores_svm_linear_std:1.3f}\")\n",
        "tsvm_1 = time.time()\n",
        "time_svm_linear = tsvm_1 - tsvm_0\n",
        "print(f\"The time taken to complete the model is {time_svm_linear:1.2f}s\")"
      ],
      "execution_count": 84,
      "outputs": [
        {
          "output_type": "stream",
          "name": "stdout",
          "text": [
            "The accuracy is 95.631% with a standard deviation of 0.016\n",
            "The time taken to complete the model is 10.46s\n"
          ]
        }
      ]
    },
    {
      "cell_type": "markdown",
      "metadata": {
        "id": "KprHB0LDN7xJ"
      },
      "source": [
        "#### SVM Poly"
      ]
    },
    {
      "cell_type": "code",
      "metadata": {
        "colab": {
          "base_uri": "https://localhost:8080/"
        },
        "id": "DBjt_Ln2N7xK",
        "outputId": "4930ea94-35e8-4882-e573-e1cf38a33c8e"
      },
      "source": [
        "tsvm_poly_0 = time.time()\n",
        "cv = KFold(n_splits=10)\n",
        "# create model\n",
        "model = svm.SVC(kernel='poly', C=1)\n",
        "# evaluate model\n",
        "scaler = StandardScaler()\n",
        "pipeline = Pipeline([('transformer', scaler), ('estimator', model)])\n",
        "scores = cross_val_score(pipeline, combined_x, combined_y, scoring='accuracy', cv=cv)\n",
        "scores_svm_poly = np.mean(scores)\n",
        "scores_svm_poly_std = np.std(scores)\n",
        "\n",
        "print(f\"The accuracy is {scores_svm_poly*100:1.3f}% with a standard deviation of {scores_svm_poly_std:1.3f}\")\n",
        "tsvm_poly_1 = time.time()\n",
        "time_svm_poly = tsvm_poly_1 - tsvm_poly_0\n",
        "print(f\"The time taken to complete the model is {time_svm_poly:1.2f}s\")"
      ],
      "execution_count": 85,
      "outputs": [
        {
          "output_type": "stream",
          "name": "stdout",
          "text": [
            "The accuracy is 93.834% with a standard deviation of 0.022\n",
            "The time taken to complete the model is 60.95s\n"
          ]
        }
      ]
    },
    {
      "cell_type": "markdown",
      "metadata": {
        "id": "LCYaGcD-N7xK"
      },
      "source": [
        "#### Random Forest"
      ]
    },
    {
      "cell_type": "code",
      "metadata": {
        "colab": {
          "base_uri": "https://localhost:8080/"
        },
        "id": "aIT949a2N7xK",
        "outputId": "61f3d6eb-ba9d-49a8-cb22-4ebac2b51b21"
      },
      "source": [
        "trf_0 = time.time()\n",
        "cv = KFold(n_splits=5)\n",
        "# create model\n",
        "model = RandomForestClassifier()\n",
        "# evaluate model\n",
        "scaler = StandardScaler()\n",
        "pipeline = Pipeline([('transformer', scaler), ('estimator', model)])\n",
        "scores = cross_val_score(pipeline, combined_x, combined_y, scoring='accuracy', cv=cv)\n",
        "scores_svm_poly = np.mean(scores)\n",
        "scores_rf = np.mean(scores)\n",
        "scores_rf_std = np.std(scores)\n",
        "\n",
        "print(f\"The accuracy is {scores_rf*100:1.3f}% with a standard deviation of {scores_rf_std:1.3f}\")\n",
        "trf_1 = time.time()\n",
        "time_rf = trf_1 - trf_0\n",
        "print(f\"The time taken to complete the model is {time_rf:1.2f}s\")"
      ],
      "execution_count": 86,
      "outputs": [
        {
          "output_type": "stream",
          "name": "stdout",
          "text": [
            "The accuracy is 93.145% with a standard deviation of 0.011\n",
            "The time taken to complete the model is 78.11s\n"
          ]
        }
      ]
    },
    {
      "cell_type": "markdown",
      "metadata": {
        "id": "HnvmyaI7N7xK"
      },
      "source": [
        "#### Gradient Boost"
      ]
    },
    {
      "cell_type": "code",
      "metadata": {
        "id": "O_nR1Q3dN7xK",
        "outputId": "48e8fe09-45a8-4518-c4a6-e029db80d056"
      },
      "source": [
        "tgb_0 = time.time()\n",
        "cv = KFold(n_splits=5)\n",
        "# create model\n",
        "model = GradientBoostingClassifier()\n",
        "# evaluate model\n",
        "scaler = StandardScaler()\n",
        "pipeline = Pipeline([('transformer', scaler), ('estimator', model)])\n",
        "#scores = cross_val_score(pipeline, combined_x, combined_y, scoring='accuracy', cv=cv)\n",
        "#scores_svm_poly = np.mean(scores)\n",
        "#scores_gb = np.mean(scores)\n",
        "#scores_gb_std = np.std(scores)\n",
        "\n",
        "#print(f\"The accuracy is {scores_gb*100:1.3f}% with a standard deviation of {scores_gb_std:1.3f}\")\n",
        "#tgb_1 = time.time()\n",
        "\n",
        "#tgb_1 = time.time()\n",
        "#time_gb = tgb_1 - tgb_0\n",
        "#print(f\"The time taken to complete the model is {time_gb:1.2f}s\")"
      ],
      "execution_count": null,
      "outputs": [
        {
          "name": "stdout",
          "output_type": "stream",
          "text": [
            "The accuracy is 94.233% with a standard deviation of 0.014\n",
            "The time taken to complete the model is 3003.03s\n"
          ]
        }
      ]
    },
    {
      "cell_type": "markdown",
      "metadata": {
        "id": "9TsgZGlzN7xK"
      },
      "source": [
        "#### Plots comparing accuracy and time to run the alogrithms"
      ]
    },
    {
      "cell_type": "code",
      "metadata": {
        "colab": {
          "base_uri": "https://localhost:8080/",
          "height": 807
        },
        "id": "mR8v6f3DN7xK",
        "outputId": "27987c1d-e46a-480b-ee24-1ae9195a6661"
      },
      "source": [
        "#run_time = np.array([time_lg, time_svm_linear, time_svm_poly, time_rf, time_nn, time_gb])\n",
        "#accuracies =  np.array([scores_lr, scores_svm_linear, scores_svm_poly, scores_rf, scores_nn, scores_gb])\n",
        "#accuracy_std = np.array([scores_lr_std, scores_svm_linear_std, scores_svm_poly_std, scores_rf_std, scores_nn_std, scores_gb_std])\n",
        "#name_models = ['Log Reg', 'Linear SVM', 'Poly SVM','Rand For', 'Neural Nets', 'Gradient Boost']\n",
        "\n",
        "name_model_wgb = ['Log Reg', 'Linear SVM', 'Poly SVM','Rand For', 'Neural Nets']\n",
        "accuracies_wgb =  np.array([scores_lr, scores_svm_linear, scores_svm_poly, scores_rf, scores_nn])\n",
        "accuracy_std_wgb = np.array([scores_lr_std, scores_svm_linear_std, scores_svm_poly_std, scores_rf_std, scores_nn_std])\n",
        "run_time_wgb = np.array([time_lg, time_svm_linear, time_svm_poly, time_rf, time_nn])\n",
        "\n",
        "#plt.figure\n",
        "#plt.bar(name_models, run_time)\n",
        "#plt.title('Time taken to run alogrithm')\n",
        "#plt.ylabel('Time (sec)')\n",
        "#plt.show()\n",
        "\n",
        "plt.figure\n",
        "plt.bar(name_model_wgb, run_time_wgb)\n",
        "plt.title('Time taken to run alogrithms without Gradient Boost')\n",
        "plt.ylabel('Time (sec)')\n",
        "plt.show()\n",
        "\n",
        "#plt.figure\n",
        "#plt.bar(name_models, accuracies, yerr=accuracy_std)\n",
        "#plt.title('Baseline accuracies of each alogrithm')\n",
        "#plt.ylabel('Accuracy')\n",
        "#plt.show()\n",
        "\n",
        "plt.figure\n",
        "plt.bar(name_model_wgb, accuracies_wgb, yerr=accuracy_std_wgb)\n",
        "plt.title('Baseline accuracies without Gradient Boost')\n",
        "plt.ylabel('Accuracy')\n",
        "plt.show()\n",
        "\n",
        "plt.plot(time_lg,scores_lr, 'ro', label = 'Logistic Regression')\n",
        "plt.plot(time_svm_linear,scores_svm_linear, 'bo', label = 'Linear SVM')\n",
        "plt.plot(time_svm_poly,scores_svm_poly, 'go', label = 'Poly SVM')\n",
        "plt.plot(time_rf,scores_rf, 'yo', label = 'Random Forest')\n",
        "plt.plot(time_nn,scores_nn, 'ko', label = 'Neural Network')\n",
        "#plt.plot(time_gb,scores_gb, 'mo', label = 'Gradient Boost')\n",
        "plt.xlabel('Time ')\n",
        "plt.ylabel('Accuracy')\n",
        "plt.legend()\n",
        "plt.show()"
      ],
      "execution_count": 93,
      "outputs": [
        {
          "output_type": "display_data",
          "data": {
            "image/png": "[encoded data removed]",
            "text/plain": [
              "<Figure size 432x288 with 1 Axes>"
            ]
          },
          "metadata": {
            "needs_background": "light"
          }
        },
        {
          "output_type": "display_data",
          "data": {
            "image/png": "[encoded data removed]",
            "text/plain": [
              "<Figure size 432x288 with 1 Axes>"
            ]
          },
          "metadata": {
            "needs_background": "light"
          }
        },
        {
          "output_type": "display_data",
          "data": {
            "image/png": "[encoded data removed]",
            "text/plain": [
              "<Figure size 432x288 with 1 Axes>"
            ]
          },
          "metadata": {
            "needs_background": "light"
          }
        }
      ]
    },
    {
      "cell_type": "markdown",
      "metadata": {
        "id": "e0cGOTIXN7xL"
      },
      "source": [
        "## Part 2\n",
        "### Comparing feature selection and feature extraction"
      ]
    },
    {
      "cell_type": "markdown",
      "metadata": {
        "id": "9IRn_4DpN7xL"
      },
      "source": [
        "### Feature selection using probabilistic mutual information"
      ]
    },
    {
      "cell_type": "code",
      "metadata": {
        "id": "nP9HpPZRN7xL"
      },
      "source": [
        "def do_kfold_mutual_info(model, x_data, y_data, features='all', folds=10):\n",
        "     \n",
        "    # Do KFold\n",
        "    kf = KFold(folds)\n",
        "    \n",
        "    # KF training\n",
        "    pred_accuracy = []\n",
        "    fit_times = []\n",
        "    for idx, (train_idx, test_idx) in tqdm(enumerate(kf.split(x_data))):    \n",
        "        \n",
        "        # Do Mutual Information Feature Extraction\n",
        "        features = x_data.shape[1] if(features == 'all') else features\n",
        "        fs = SelectKBest(score_func=mutual_info_classif, k=features)\n",
        "        fs.fit(x_data[train_idx], y_data[train_idx])\n",
        "        x_train_fs = fs.transform(x_data[train_idx])\n",
        "        x_test_fs = fs.transform(x_data[test_idx])\n",
        "\n",
        "        # Standardize data\n",
        "        scaler = StandardScaler().fit(x_train_fs)\n",
        "        transformed = scaler.transform(x_train_fs)\n",
        "        \n",
        "        # Fit and time model\n",
        "        start = time.time()\n",
        "        model.fit(transformed, y_data[train_idx])\n",
        "        fit_times.append(time.time() - start)\n",
        "        \n",
        "        # Transform test data and evaluate\n",
        "\n",
        "        preds = model.predict(scaler.transform(x_test_fs))\n",
        "        score = accuracy_score(preds, y_data[test_idx])\n",
        "        pred_accuracy.append(score)\n",
        "        \n",
        "    print(r\"{0} FEATURES PREDICTION ACCURACY: {1:.3f} $\\pm$ {2:.3f}\".format(features, np.mean(pred_accuracy), np.std(pred_accuracy)))\n",
        "    return pred_accuracy, fit_times"
      ],
      "execution_count": 94,
      "outputs": []
    },
    {
      "cell_type": "markdown",
      "metadata": {
        "id": "iCDZ68DeN7xL"
      },
      "source": [
        "### Training for Different Number of Mutual information"
      ]
    },
    {
      "cell_type": "code",
      "metadata": {
        "colab": {
          "base_uri": "https://localhost:8080/"
        },
        "id": "uV6HnYzpN7xL",
        "outputId": "e8eea954-60d1-4f28-de30-589d3ac9143a"
      },
      "source": [
        "# Number of PCA Components\n",
        "num_features = np.arange(5, 500, 20)\n",
        "\n",
        "results = []\n",
        "times = []\n",
        "for features in num_features:\n",
        "    print(features)\n",
        "    pred_accuracy, fit_times = do_kfold_mutual_info(svm.SVC(kernel='linear', C=1), combined_x, combined_y, features=features)\n",
        "    results.append(pred_accuracy)\n",
        "    times.append(fit_times)\n",
        "\n",
        "# Get means\n",
        "ml_acc_mean = np.mean(results, axis=1)\n",
        "ml_acc_stds = np.std(results, axis=1)\n",
        "ml_time_mean = np.mean(times, axis=1)\n",
        "ml_time_stds = np.std(times, axis=1)\n",
        "\n",
        "np.save(\"./mi_results/svm_linear_results.npy\", results)\n",
        "np.save(\"./mi_results/svm_linear_time.npy\", times)"
      ],
      "execution_count": null,
      "outputs": [
        {
          "output_type": "stream",
          "name": "stdout",
          "text": [
            "5\n"
          ]
        },
        {
          "output_type": "stream",
          "name": "stderr",
          "text": [
            "10it [04:54, 29.42s/it]\n"
          ]
        },
        {
          "output_type": "stream",
          "name": "stdout",
          "text": [
            "5 FEATURES PREDICTION ACCURACY: 0.621 $\\pm$ 0.087\n",
            "25\n"
          ]
        },
        {
          "output_type": "stream",
          "name": "stderr",
          "text": [
            "10it [04:48, 28.82s/it]\n"
          ]
        },
        {
          "output_type": "stream",
          "name": "stdout",
          "text": [
            "25 FEATURES PREDICTION ACCURACY: 0.873 $\\pm$ 0.047\n",
            "45\n"
          ]
        },
        {
          "output_type": "stream",
          "name": "stderr",
          "text": [
            "10it [04:47, 28.71s/it]\n"
          ]
        },
        {
          "output_type": "stream",
          "name": "stdout",
          "text": [
            "45 FEATURES PREDICTION ACCURACY: 0.903 $\\pm$ 0.031\n",
            "65\n"
          ]
        },
        {
          "output_type": "stream",
          "name": "stderr",
          "text": [
            "10it [04:43, 28.39s/it]\n"
          ]
        },
        {
          "output_type": "stream",
          "name": "stdout",
          "text": [
            "65 FEATURES PREDICTION ACCURACY: 0.918 $\\pm$ 0.032\n",
            "85\n"
          ]
        },
        {
          "output_type": "stream",
          "name": "stderr",
          "text": [
            "10it [04:45, 28.51s/it]\n"
          ]
        },
        {
          "output_type": "stream",
          "name": "stdout",
          "text": [
            "85 FEATURES PREDICTION ACCURACY: 0.926 $\\pm$ 0.031\n",
            "105\n"
          ]
        },
        {
          "output_type": "stream",
          "name": "stderr",
          "text": [
            "10it [04:45, 28.58s/it]\n"
          ]
        },
        {
          "output_type": "stream",
          "name": "stdout",
          "text": [
            "105 FEATURES PREDICTION ACCURACY: 0.930 $\\pm$ 0.031\n",
            "125\n"
          ]
        },
        {
          "output_type": "stream",
          "name": "stderr",
          "text": [
            "10it [04:44, 28.48s/it]\n"
          ]
        },
        {
          "output_type": "stream",
          "name": "stdout",
          "text": [
            "125 FEATURES PREDICTION ACCURACY: 0.932 $\\pm$ 0.028\n",
            "145\n"
          ]
        },
        {
          "output_type": "stream",
          "name": "stderr",
          "text": [
            "10it [04:44, 28.43s/it]\n"
          ]
        },
        {
          "output_type": "stream",
          "name": "stdout",
          "text": [
            "145 FEATURES PREDICTION ACCURACY: 0.939 $\\pm$ 0.026\n",
            "165\n"
          ]
        },
        {
          "output_type": "stream",
          "name": "stderr",
          "text": [
            "10it [04:44, 28.48s/it]\n"
          ]
        },
        {
          "output_type": "stream",
          "name": "stdout",
          "text": [
            "165 FEATURES PREDICTION ACCURACY: 0.939 $\\pm$ 0.024\n",
            "185\n"
          ]
        },
        {
          "output_type": "stream",
          "name": "stderr",
          "text": [
            "10it [04:45, 28.55s/it]\n"
          ]
        },
        {
          "output_type": "stream",
          "name": "stdout",
          "text": [
            "185 FEATURES PREDICTION ACCURACY: 0.942 $\\pm$ 0.024\n",
            "205\n"
          ]
        },
        {
          "output_type": "stream",
          "name": "stderr",
          "text": [
            "10it [04:46, 28.61s/it]\n"
          ]
        },
        {
          "output_type": "stream",
          "name": "stdout",
          "text": [
            "205 FEATURES PREDICTION ACCURACY: 0.941 $\\pm$ 0.021\n",
            "225\n"
          ]
        },
        {
          "output_type": "stream",
          "name": "stderr",
          "text": [
            "10it [04:46, 28.61s/it]\n"
          ]
        },
        {
          "output_type": "stream",
          "name": "stdout",
          "text": [
            "225 FEATURES PREDICTION ACCURACY: 0.942 $\\pm$ 0.022\n",
            "245\n"
          ]
        },
        {
          "output_type": "stream",
          "name": "stderr",
          "text": [
            "10it [04:46, 28.63s/it]\n"
          ]
        },
        {
          "output_type": "stream",
          "name": "stdout",
          "text": [
            "245 FEATURES PREDICTION ACCURACY: 0.943 $\\pm$ 0.023\n",
            "265\n"
          ]
        },
        {
          "output_type": "stream",
          "name": "stderr",
          "text": [
            "10it [04:46, 28.68s/it]\n"
          ]
        },
        {
          "output_type": "stream",
          "name": "stdout",
          "text": [
            "265 FEATURES PREDICTION ACCURACY: 0.943 $\\pm$ 0.023\n",
            "285\n"
          ]
        },
        {
          "output_type": "stream",
          "name": "stderr",
          "text": [
            "10it [04:47, 28.74s/it]\n"
          ]
        },
        {
          "output_type": "stream",
          "name": "stdout",
          "text": [
            "285 FEATURES PREDICTION ACCURACY: 0.944 $\\pm$ 0.024\n",
            "305\n"
          ]
        },
        {
          "output_type": "stream",
          "name": "stderr",
          "text": [
            "3it [01:26, 28.67s/it]"
          ]
        }
      ]
    },
    {
      "cell_type": "code",
      "metadata": {
        "id": "PNGuCVlX8INR"
      },
      "source": [
        "!zip -r pca_results.zip pca_results/\n",
        "!zip -r subsampled_results.zip subsampled_results/\n",
        "!zip -r mi_results.zip mi_results/"
      ],
      "execution_count": null,
      "outputs": []
    },
    {
      "cell_type": "markdown",
      "metadata": {
        "id": "PX_YstKgN7xL"
      },
      "source": [
        "### Feature extraction using PCA"
      ]
    },
    {
      "cell_type": "code",
      "metadata": {
        "id": "bHi2-5o_N7xL"
      },
      "source": [
        "def do_kfold_pca(model, x_data, y_data, features='all', folds=10):\n",
        "     \n",
        "    # Do KFold\n",
        "    kf = KFold(folds)\n",
        "    \n",
        "    # KF training\n",
        "    pred_accuracy = []\n",
        "    fit_times = []\n",
        "    for idx, (train_idx, test_idx) in tqdm(enumerate(kf.split(x_data))):    \n",
        "        \n",
        "        # Do PCA\n",
        "        features = x_data.shape[1] if(features == 'all') else features\n",
        "        pca = PCA(n_components=features)\n",
        "        scalar = StandardScaler().fit(x_data[train_idx])\n",
        "        standardized = scalar.transform(x_data[train_idx])\n",
        "        transformed = pca.fit_transform(x_data[train_idx])\n",
        "        \n",
        "        # Fit and time model\n",
        "        start = time.time()\n",
        "        model.fit(transformed, y_data[train_idx])\n",
        "        fit_times.append(time.time() - start)\n",
        "        \n",
        "        # Transform test data and evaluate\n",
        "        test_transform = np.dot(scalar.transform(x_data[test_idx]), pca.components_.T)\n",
        "        #test_transform = np.dot(x_data[test_idx], pca.components_.T)\n",
        "        preds = model.predict(test_transform)\n",
        "        score = accuracy_score(preds, y_data[test_idx])\n",
        "        pred_accuracy.append(score)\n",
        "        \n",
        "    print(r\"{0} FEATURES PREDICTION ACCURACY: {1:.3f} $\\pm$ {2:.3f}\".format(features, np.mean(pred_accuracy), np.std(pred_accuracy)))\n",
        "    return pred_accuracy, fit_times"
      ],
      "execution_count": 76,
      "outputs": []
    },
    {
      "cell_type": "code",
      "metadata": {
        "colab": {
          "base_uri": "https://localhost:8080/"
        },
        "id": "-UwgmoyYN7xL",
        "outputId": "2c5306dd-6da1-4e75-bac4-b68d3db5b14f"
      },
      "source": [
        "num_features = np.arange(5, 500, 20)\n",
        "results = []\n",
        "times = []\n",
        "for features in num_features:\n",
        "    pred_accuracy, fit_times = do_kfold_pca(svm.SVC(kernel='linear', C=1), combined_x, combined_y, features=features)\n",
        "    results.append(pred_accuracy)\n",
        "    times.append(fit_times)\n",
        "\n",
        "# Get means\n",
        "pca_acc_mean = np.mean(results, axis=1)\n",
        "pca_acc_stds = np.std(results, axis=1)\n",
        "pca_time_mean = np.mean(times, axis=1)\n",
        "pca_time_stds = np.std(times, axis=1)\n",
        "\n",
        "np.save(\"./pca_results/svm_linear_results.npy\", results)\n",
        "np.save(\"./pca_results/svm_linear_times.npy\", times)"
      ],
      "execution_count": 77,
      "outputs": [
        {
          "output_type": "stream",
          "name": "stderr",
          "text": [
            "10it [00:16,  1.65s/it]\n"
          ]
        },
        {
          "output_type": "stream",
          "name": "stdout",
          "text": [
            "5 FEATURES PREDICTION ACCURACY: 0.759 $\\pm$ 0.026\n"
          ]
        },
        {
          "output_type": "stream",
          "name": "stderr",
          "text": [
            "10it [00:16,  1.62s/it]\n"
          ]
        },
        {
          "output_type": "stream",
          "name": "stdout",
          "text": [
            "25 FEATURES PREDICTION ACCURACY: 0.863 $\\pm$ 0.033\n"
          ]
        },
        {
          "output_type": "stream",
          "name": "stderr",
          "text": [
            "10it [00:18,  1.84s/it]\n"
          ]
        },
        {
          "output_type": "stream",
          "name": "stdout",
          "text": [
            "45 FEATURES PREDICTION ACCURACY: 0.782 $\\pm$ 0.032\n"
          ]
        },
        {
          "output_type": "stream",
          "name": "stderr",
          "text": [
            "10it [00:15,  1.52s/it]\n"
          ]
        },
        {
          "output_type": "stream",
          "name": "stdout",
          "text": [
            "65 FEATURES PREDICTION ACCURACY: 0.866 $\\pm$ 0.053\n"
          ]
        },
        {
          "output_type": "stream",
          "name": "stderr",
          "text": [
            "10it [00:17,  1.75s/it]\n"
          ]
        },
        {
          "output_type": "stream",
          "name": "stdout",
          "text": [
            "85 FEATURES PREDICTION ACCURACY: 0.894 $\\pm$ 0.038\n"
          ]
        },
        {
          "output_type": "stream",
          "name": "stderr",
          "text": [
            "10it [00:19,  1.99s/it]\n"
          ]
        },
        {
          "output_type": "stream",
          "name": "stdout",
          "text": [
            "105 FEATURES PREDICTION ACCURACY: 0.921 $\\pm$ 0.032\n"
          ]
        },
        {
          "output_type": "stream",
          "name": "stderr",
          "text": [
            "10it [00:22,  2.23s/it]\n"
          ]
        },
        {
          "output_type": "stream",
          "name": "stdout",
          "text": [
            "125 FEATURES PREDICTION ACCURACY: 0.933 $\\pm$ 0.026\n"
          ]
        },
        {
          "output_type": "stream",
          "name": "stderr",
          "text": [
            "10it [00:23,  2.38s/it]\n"
          ]
        },
        {
          "output_type": "stream",
          "name": "stdout",
          "text": [
            "145 FEATURES PREDICTION ACCURACY: 0.940 $\\pm$ 0.020\n"
          ]
        },
        {
          "output_type": "stream",
          "name": "stderr",
          "text": [
            "10it [00:25,  2.55s/it]\n"
          ]
        },
        {
          "output_type": "stream",
          "name": "stdout",
          "text": [
            "165 FEATURES PREDICTION ACCURACY: 0.934 $\\pm$ 0.020\n"
          ]
        },
        {
          "output_type": "stream",
          "name": "stderr",
          "text": [
            "10it [00:27,  2.75s/it]\n"
          ]
        },
        {
          "output_type": "stream",
          "name": "stdout",
          "text": [
            "185 FEATURES PREDICTION ACCURACY: 0.931 $\\pm$ 0.026\n"
          ]
        },
        {
          "output_type": "stream",
          "name": "stderr",
          "text": [
            "10it [00:29,  2.98s/it]\n"
          ]
        },
        {
          "output_type": "stream",
          "name": "stdout",
          "text": [
            "205 FEATURES PREDICTION ACCURACY: 0.931 $\\pm$ 0.027\n"
          ]
        },
        {
          "output_type": "stream",
          "name": "stderr",
          "text": [
            "10it [00:30,  3.08s/it]\n"
          ]
        },
        {
          "output_type": "stream",
          "name": "stdout",
          "text": [
            "225 FEATURES PREDICTION ACCURACY: 0.925 $\\pm$ 0.027\n"
          ]
        },
        {
          "output_type": "stream",
          "name": "stderr",
          "text": [
            "10it [00:33,  3.32s/it]\n"
          ]
        },
        {
          "output_type": "stream",
          "name": "stdout",
          "text": [
            "245 FEATURES PREDICTION ACCURACY: 0.928 $\\pm$ 0.024\n"
          ]
        },
        {
          "output_type": "stream",
          "name": "stderr",
          "text": [
            "10it [00:35,  3.51s/it]\n"
          ]
        },
        {
          "output_type": "stream",
          "name": "stdout",
          "text": [
            "265 FEATURES PREDICTION ACCURACY: 0.930 $\\pm$ 0.024\n"
          ]
        },
        {
          "output_type": "stream",
          "name": "stderr",
          "text": [
            "10it [00:37,  3.71s/it]\n"
          ]
        },
        {
          "output_type": "stream",
          "name": "stdout",
          "text": [
            "285 FEATURES PREDICTION ACCURACY: 0.930 $\\pm$ 0.023\n"
          ]
        },
        {
          "output_type": "stream",
          "name": "stderr",
          "text": [
            "10it [00:38,  3.89s/it]\n"
          ]
        },
        {
          "output_type": "stream",
          "name": "stdout",
          "text": [
            "305 FEATURES PREDICTION ACCURACY: 0.928 $\\pm$ 0.025\n"
          ]
        },
        {
          "output_type": "stream",
          "name": "stderr",
          "text": [
            "10it [00:40,  4.06s/it]\n"
          ]
        },
        {
          "output_type": "stream",
          "name": "stdout",
          "text": [
            "325 FEATURES PREDICTION ACCURACY: 0.930 $\\pm$ 0.023\n"
          ]
        },
        {
          "output_type": "stream",
          "name": "stderr",
          "text": [
            "10it [00:43,  4.31s/it]\n"
          ]
        },
        {
          "output_type": "stream",
          "name": "stdout",
          "text": [
            "345 FEATURES PREDICTION ACCURACY: 0.929 $\\pm$ 0.024\n"
          ]
        },
        {
          "output_type": "stream",
          "name": "stderr",
          "text": [
            "10it [00:45,  4.56s/it]\n"
          ]
        },
        {
          "output_type": "stream",
          "name": "stdout",
          "text": [
            "365 FEATURES PREDICTION ACCURACY: 0.928 $\\pm$ 0.024\n"
          ]
        },
        {
          "output_type": "stream",
          "name": "stderr",
          "text": [
            "10it [00:47,  4.71s/it]\n"
          ]
        },
        {
          "output_type": "stream",
          "name": "stdout",
          "text": [
            "385 FEATURES PREDICTION ACCURACY: 0.928 $\\pm$ 0.024\n"
          ]
        },
        {
          "output_type": "stream",
          "name": "stderr",
          "text": [
            "10it [00:49,  5.00s/it]\n"
          ]
        },
        {
          "output_type": "stream",
          "name": "stdout",
          "text": [
            "405 FEATURES PREDICTION ACCURACY: 0.928 $\\pm$ 0.024\n"
          ]
        },
        {
          "output_type": "stream",
          "name": "stderr",
          "text": [
            "10it [00:52,  5.21s/it]\n"
          ]
        },
        {
          "output_type": "stream",
          "name": "stdout",
          "text": [
            "425 FEATURES PREDICTION ACCURACY: 0.929 $\\pm$ 0.024\n"
          ]
        },
        {
          "output_type": "stream",
          "name": "stderr",
          "text": [
            "10it [00:54,  5.44s/it]\n"
          ]
        },
        {
          "output_type": "stream",
          "name": "stdout",
          "text": [
            "445 FEATURES PREDICTION ACCURACY: 0.929 $\\pm$ 0.024\n"
          ]
        },
        {
          "output_type": "stream",
          "name": "stderr",
          "text": [
            "10it [00:26,  2.64s/it]\n"
          ]
        },
        {
          "output_type": "stream",
          "name": "stdout",
          "text": [
            "465 FEATURES PREDICTION ACCURACY: 0.929 $\\pm$ 0.024\n"
          ]
        },
        {
          "output_type": "stream",
          "name": "stderr",
          "text": [
            "10it [00:27,  2.73s/it]"
          ]
        },
        {
          "output_type": "stream",
          "name": "stdout",
          "text": [
            "485 FEATURES PREDICTION ACCURACY: 0.929 $\\pm$ 0.024\n"
          ]
        },
        {
          "output_type": "stream",
          "name": "stderr",
          "text": [
            "\n"
          ]
        }
      ]
    },
    {
      "cell_type": "markdown",
      "metadata": {
        "id": "VV_U_RSCN7xM"
      },
      "source": [
        "### Psuedo Data"
      ]
    },
    {
      "cell_type": "code",
      "metadata": {
        "id": "vrS3zsujN7xM"
      },
      "source": [
        "def do_kfold_psudodata(model, x_data, y_data, num_points=500, folds=10, seed=1):\n",
        "         \n",
        "    # Do KFold\n",
        "    kf = KFold(folds)\n",
        "    \n",
        "    # KF training\n",
        "    pred_accuracy = []\n",
        "    fit_times = []\n",
        "    \n",
        "    np.random.seed(seed)\n",
        "    \n",
        "    for idx, (train_idx, test_idx) in tqdm(enumerate(kf.split(list(range(len(y_data)))))): \n",
        "        \n",
        "        # Get mean and std for each label\n",
        "        x_1 = combined_x[train_idx][np.argwhere(combined_y[train_idx] == 0)[:,0]]\n",
        "        x_2 = combined_x[train_idx][np.argwhere(combined_y[train_idx] == 1)[:,0]]\n",
        "        x_3 = combined_x[train_idx][np.argwhere(combined_y[train_idx] == 2)[:,0]]\n",
        "        x_4 = combined_x[train_idx][np.argwhere(combined_y[train_idx] == 3)[:,0]]\n",
        "        x_5 = combined_x[train_idx][np.argwhere(combined_y[train_idx] == 4)[:,0]]\n",
        "        x_6 = combined_x[train_idx][np.argwhere(combined_y[train_idx] == 5)[:,0]]\n",
        "\n",
        "        mean_1 = np.mean(x_1, axis=0)\n",
        "        std_1 = np.std(x_1, axis=0)\n",
        "        mean_2 = np.mean(x_2, axis=0)\n",
        "        std_2 = np.std(x_2, axis=0)\n",
        "        mean_3 = np.mean(x_3, axis=0)\n",
        "        std_3 = np.std(x_3, axis=0)\n",
        "        mean_4 = np.mean(x_4, axis=0)\n",
        "        std_4 = np.std(x_4, axis=0)\n",
        "        mean_5 = np.mean(x_5, axis=0)\n",
        "        std_5 = np.std(x_5, axis=0)\n",
        "        mean_6 = np.mean(x_6, axis=0)\n",
        "        std_6 = np.std(x_6, axis=0)\n",
        "    \n",
        "        # Sample Pseudodata\n",
        "        sampled_x1 = np.random.multivariate_normal(mean_1, std_1*np.eye(len(std_1)), num_points)\n",
        "        sampled_x2 = np.random.multivariate_normal(mean_2, std_2*np.eye(len(std_2)), num_points)\n",
        "        sampled_x3 = np.random.multivariate_normal(mean_3, std_3*np.eye(len(std_3)), num_points)\n",
        "        sampled_x4 = np.random.multivariate_normal(mean_4, std_4*np.eye(len(std_4)), num_points)\n",
        "        sampled_x5 = np.random.multivariate_normal(mean_5, std_5*np.eye(len(std_5)), num_points)\n",
        "        sampled_x6 = np.random.multivariate_normal(mean_6, std_6*np.eye(len(std_6)), num_points)\n",
        "\n",
        "        # Combine pseudodata\n",
        "        sampled_combined = np.concatenate([sampled_x1, sampled_x2, sampled_x3, sampled_x4, sampled_x5, sampled_x6])\n",
        "\n",
        "        # Get labels\n",
        "        labels = np.ones(len(sampled_combined))\n",
        "        for i in range(1,7):\n",
        "            labels[(i-1)*num_points:(i)*num_points] *= i\n",
        "\n",
        "        # Fit and time model\n",
        "        start = time.time()\n",
        "        model.fit(sampled_combined, labels)\n",
        "        fit_times.append(time.time() - start)\n",
        "        \n",
        "        # Score model\n",
        "        preds = model.predict(x_data[test_idx])\n",
        "        score = accuracy_score(preds, y_data[test_idx])\n",
        "        pred_accuracy.append(score)\n",
        "        \n",
        "    print(r\"{0} POINTS PREDICTION ACCURACY: {1:.3f} $\\pm$ {2:.3f}\".format(num_points, np.mean(pred_accuracy), np.std(pred_accuracy)))\n",
        "    return pred_accuracy, fit_times"
      ],
      "execution_count": null,
      "outputs": []
    },
    {
      "cell_type": "code",
      "metadata": {
        "id": "mCX8-e-zN7xM",
        "outputId": "98994796-db74-4133-ddea-ce1ba2aaee58"
      },
      "source": [
        "# Number of Psuedo data points\n",
        "num_points =np.arange(5, 500, 20)\n",
        "\n",
        "results = []\n",
        "times = []\n",
        "for num in num_points:\n",
        "    pred_accuracy, fit_times = do_kfold_psudodata(svm.SVC(kernel='linear', C=1), combined_x, combined_y, num_points=num)\n",
        "    results.append(pred_accuracy)\n",
        "    times.append(fit_times)\n",
        "    \n",
        "# Get means\n",
        "psd_acc_mean = np.mean(results, axis=1)\n",
        "psd_acc_stds = np.std(results, axis=1)\n",
        "psd_time_mean = np.mean(times, axis=1)\n",
        "psd_time_stds = np.std(times, axis=1)"
      ],
      "execution_count": null,
      "outputs": [
        {
          "name": "stderr",
          "output_type": "stream",
          "text": [
            "10it [00:04,  2.12it/s]\n",
            "0it [00:00, ?it/s]"
          ]
        },
        {
          "name": "stdout",
          "output_type": "stream",
          "text": [
            "5 POINTS PREDICTION ACCURACY: 0.095 $\\pm$ 0.056\n"
          ]
        },
        {
          "name": "stderr",
          "output_type": "stream",
          "text": [
            "10it [00:05,  1.80it/s]\n",
            "0it [00:00, ?it/s]"
          ]
        },
        {
          "name": "stdout",
          "output_type": "stream",
          "text": [
            "25 POINTS PREDICTION ACCURACY: 0.064 $\\pm$ 0.026\n"
          ]
        },
        {
          "name": "stderr",
          "output_type": "stream",
          "text": [
            "10it [00:06,  1.57it/s]\n",
            "0it [00:00, ?it/s]"
          ]
        },
        {
          "name": "stdout",
          "output_type": "stream",
          "text": [
            "45 POINTS PREDICTION ACCURACY: 0.065 $\\pm$ 0.032\n"
          ]
        },
        {
          "name": "stderr",
          "output_type": "stream",
          "text": [
            "10it [00:07,  1.38it/s]\n",
            "0it [00:00, ?it/s]"
          ]
        },
        {
          "name": "stdout",
          "output_type": "stream",
          "text": [
            "65 POINTS PREDICTION ACCURACY: 0.064 $\\pm$ 0.029\n"
          ]
        },
        {
          "name": "stderr",
          "output_type": "stream",
          "text": [
            "10it [00:08,  1.20it/s]\n",
            "0it [00:00, ?it/s]"
          ]
        },
        {
          "name": "stdout",
          "output_type": "stream",
          "text": [
            "85 POINTS PREDICTION ACCURACY: 0.060 $\\pm$ 0.028\n"
          ]
        },
        {
          "name": "stderr",
          "output_type": "stream",
          "text": [
            "10it [00:09,  1.08it/s]\n",
            "0it [00:00, ?it/s]"
          ]
        },
        {
          "name": "stdout",
          "output_type": "stream",
          "text": [
            "105 POINTS PREDICTION ACCURACY: 0.062 $\\pm$ 0.025\n"
          ]
        },
        {
          "name": "stderr",
          "output_type": "stream",
          "text": [
            "10it [00:09,  1.03it/s]\n",
            "0it [00:00, ?it/s]"
          ]
        },
        {
          "name": "stdout",
          "output_type": "stream",
          "text": [
            "125 POINTS PREDICTION ACCURACY: 0.066 $\\pm$ 0.028\n"
          ]
        },
        {
          "name": "stderr",
          "output_type": "stream",
          "text": [
            "10it [00:10,  1.07s/it]\n",
            "0it [00:00, ?it/s]"
          ]
        },
        {
          "name": "stdout",
          "output_type": "stream",
          "text": [
            "145 POINTS PREDICTION ACCURACY: 0.066 $\\pm$ 0.028\n"
          ]
        },
        {
          "name": "stderr",
          "output_type": "stream",
          "text": [
            "10it [00:11,  1.13s/it]\n",
            "0it [00:00, ?it/s]"
          ]
        },
        {
          "name": "stdout",
          "output_type": "stream",
          "text": [
            "165 POINTS PREDICTION ACCURACY: 0.061 $\\pm$ 0.023\n"
          ]
        },
        {
          "name": "stderr",
          "output_type": "stream",
          "text": [
            "10it [00:11,  1.20s/it]\n",
            "0it [00:00, ?it/s]"
          ]
        },
        {
          "name": "stdout",
          "output_type": "stream",
          "text": [
            "185 POINTS PREDICTION ACCURACY: 0.063 $\\pm$ 0.020\n"
          ]
        },
        {
          "name": "stderr",
          "output_type": "stream",
          "text": [
            "10it [00:12,  1.25s/it]\n",
            "0it [00:00, ?it/s]"
          ]
        },
        {
          "name": "stdout",
          "output_type": "stream",
          "text": [
            "205 POINTS PREDICTION ACCURACY: 0.066 $\\pm$ 0.023\n"
          ]
        },
        {
          "name": "stderr",
          "output_type": "stream",
          "text": [
            "10it [00:13,  1.35s/it]\n",
            "0it [00:00, ?it/s]"
          ]
        },
        {
          "name": "stdout",
          "output_type": "stream",
          "text": [
            "225 POINTS PREDICTION ACCURACY: 0.062 $\\pm$ 0.023\n"
          ]
        },
        {
          "name": "stderr",
          "output_type": "stream",
          "text": [
            "10it [00:14,  1.42s/it]\n",
            "0it [00:00, ?it/s]"
          ]
        },
        {
          "name": "stdout",
          "output_type": "stream",
          "text": [
            "245 POINTS PREDICTION ACCURACY: 0.062 $\\pm$ 0.023\n"
          ]
        },
        {
          "name": "stderr",
          "output_type": "stream",
          "text": [
            "10it [00:14,  1.49s/it]\n",
            "0it [00:00, ?it/s]"
          ]
        },
        {
          "name": "stdout",
          "output_type": "stream",
          "text": [
            "265 POINTS PREDICTION ACCURACY: 0.067 $\\pm$ 0.027\n"
          ]
        },
        {
          "name": "stderr",
          "output_type": "stream",
          "text": [
            "10it [00:15,  1.56s/it]\n",
            "0it [00:00, ?it/s]"
          ]
        },
        {
          "name": "stdout",
          "output_type": "stream",
          "text": [
            "285 POINTS PREDICTION ACCURACY: 0.065 $\\pm$ 0.023\n"
          ]
        },
        {
          "name": "stderr",
          "output_type": "stream",
          "text": [
            "10it [00:16,  1.65s/it]\n",
            "0it [00:00, ?it/s]"
          ]
        },
        {
          "name": "stdout",
          "output_type": "stream",
          "text": [
            "305 POINTS PREDICTION ACCURACY: 0.061 $\\pm$ 0.025\n"
          ]
        },
        {
          "name": "stderr",
          "output_type": "stream",
          "text": [
            "10it [00:17,  1.72s/it]\n",
            "0it [00:00, ?it/s]"
          ]
        },
        {
          "name": "stdout",
          "output_type": "stream",
          "text": [
            "325 POINTS PREDICTION ACCURACY: 0.062 $\\pm$ 0.028\n"
          ]
        },
        {
          "name": "stderr",
          "output_type": "stream",
          "text": [
            "10it [00:17,  1.79s/it]\n",
            "0it [00:00, ?it/s]"
          ]
        },
        {
          "name": "stdout",
          "output_type": "stream",
          "text": [
            "345 POINTS PREDICTION ACCURACY: 0.065 $\\pm$ 0.032\n"
          ]
        },
        {
          "name": "stderr",
          "output_type": "stream",
          "text": [
            "10it [00:18,  1.83s/it]\n",
            "0it [00:00, ?it/s]"
          ]
        },
        {
          "name": "stdout",
          "output_type": "stream",
          "text": [
            "365 POINTS PREDICTION ACCURACY: 0.063 $\\pm$ 0.024\n"
          ]
        },
        {
          "name": "stderr",
          "output_type": "stream",
          "text": [
            "10it [00:19,  1.93s/it]\n",
            "0it [00:00, ?it/s]"
          ]
        },
        {
          "name": "stdout",
          "output_type": "stream",
          "text": [
            "385 POINTS PREDICTION ACCURACY: 0.067 $\\pm$ 0.026\n"
          ]
        },
        {
          "name": "stderr",
          "output_type": "stream",
          "text": [
            "10it [00:20,  2.01s/it]\n",
            "0it [00:00, ?it/s]"
          ]
        },
        {
          "name": "stdout",
          "output_type": "stream",
          "text": [
            "405 POINTS PREDICTION ACCURACY: 0.065 $\\pm$ 0.023\n"
          ]
        },
        {
          "name": "stderr",
          "output_type": "stream",
          "text": [
            "10it [00:20,  2.06s/it]\n",
            "0it [00:00, ?it/s]"
          ]
        },
        {
          "name": "stdout",
          "output_type": "stream",
          "text": [
            "425 POINTS PREDICTION ACCURACY: 0.064 $\\pm$ 0.026\n"
          ]
        },
        {
          "name": "stderr",
          "output_type": "stream",
          "text": [
            "10it [00:21,  2.13s/it]\n",
            "0it [00:00, ?it/s]"
          ]
        },
        {
          "name": "stdout",
          "output_type": "stream",
          "text": [
            "445 POINTS PREDICTION ACCURACY: 0.066 $\\pm$ 0.024\n"
          ]
        },
        {
          "name": "stderr",
          "output_type": "stream",
          "text": [
            "10it [00:22,  2.23s/it]\n",
            "0it [00:00, ?it/s]"
          ]
        },
        {
          "name": "stdout",
          "output_type": "stream",
          "text": [
            "465 POINTS PREDICTION ACCURACY: 0.065 $\\pm$ 0.027\n"
          ]
        },
        {
          "name": "stderr",
          "output_type": "stream",
          "text": [
            "10it [00:23,  2.32s/it]"
          ]
        },
        {
          "name": "stdout",
          "output_type": "stream",
          "text": [
            "485 POINTS PREDICTION ACCURACY: 0.060 $\\pm$ 0.021\n"
          ]
        },
        {
          "name": "stderr",
          "output_type": "stream",
          "text": [
            "\n"
          ]
        }
      ]
    },
    {
      "cell_type": "code",
      "metadata": {
        "id": "GYaixrz9N7xM",
        "outputId": "249e5c9f-9bcf-45fe-a989-23abc6074c21"
      },
      "source": [
        "# Plot prediction accuracies\n",
        "fig, ax = plt.subplots()\n",
        "ax.plot(num_features, pca_acc_mean, label= 'PCA')\n",
        "ax.plot(num_features, ml_acc_mean, label = 'Mutual Information')\n",
        "# ax.plot(num_features, psd_acc_mean, label = 'Psuedo Data')\n",
        "ax.fill_between(num_features, ml_acc_mean+ml_acc_stds, ml_acc_mean-ml_acc_stds, alpha=0.3)\n",
        "ax.fill_between(num_features, pca_acc_mean+pca_acc_stds, pca_acc_mean-pca_acc_stds, alpha=0.3)\n",
        "# ax.fill_between(num_features, psd_acc_mean+psd_acc_stds, psd_acc_mean-psd_acc_stds, alpha=0.3)\n",
        "ax.set(title=\"Prediction Accuracies\", xlabel=\"Number of Features\", ylabel=\"Prediction Acciracy\")\n",
        "plt.legend()\n",
        "plt.show()\n",
        "\n",
        "# Plot timing\n",
        "fig, ax = plt.subplots()\n",
        "ax.plot(num_features, pca_time_mean, label= 'PCA')\n",
        "ax.fill_between(num_features, pca_time_mean+pca_time_stds, pca_time_mean-pca_time_stds, alpha=0.3)\n",
        "ax.plot(num_features, ml_time_mean, label = 'Mutual Information')\n",
        "ax.fill_between(num_features, ml_time_mean+ml_time_stds, ml_time_mean-ml_time_stds, alpha=0.3)\n",
        "ax.plot(num_features, psd_time_mean, label = 'Psuedo Data')\n",
        "ax.fill_between(num_features, psd_time_mean+psd_time_stds, psd_time_mean-psd_time_stds, alpha=0.3)\n",
        "ax.set(title=\"Training Time\", xlabel=\"Number of Features\", ylabel=\"Time (s)\")\n",
        "plt.legend()\n",
        "plt.show()"
      ],
      "execution_count": null,
      "outputs": [
        {
          "data": {
            "image/png": "[encoded data removed]",
            "text/plain": [
              "<Figure size 432x288 with 1 Axes>"
            ]
          },
          "metadata": {
            "needs_background": "light"
          },
          "output_type": "display_data"
        },
        {
          "data": {
            "image/png": "[encoded data removed]",
            "text/plain": [
              "<Figure size 432x288 with 1 Axes>"
            ]
          },
          "metadata": {
            "needs_background": "light"
          },
          "output_type": "display_data"
        }
      ]
    },
    {
      "cell_type": "markdown",
      "metadata": {
        "id": "NAlNyxrrO-Ob"
      },
      "source": [
        "### Subsampled Data"
      ]
    },
    {
      "cell_type": "code",
      "metadata": {
        "id": "_MmfuEPdN7xM"
      },
      "source": [
        "def do_kfold_subsampled(model, x_data, y_data, num_points=100, folds=10, seed=1):\n",
        "         \n",
        "    # Do KFold\n",
        "    kf = KFold(folds)\n",
        "    \n",
        "    np.random.seed(seed)\n",
        "    \n",
        "    # KF training\n",
        "    pred_accuracy = []\n",
        "    fit_times = []\n",
        "    for idx, (train_idx, test_idx) in tqdm(enumerate(kf.split(list(range(len(y_data)))))): \n",
        "        \n",
        "        # Get idxs of each label\n",
        "        idx_1 = np.argwhere(combined_y[train_idx] == 1)[:,0]\n",
        "        idx_2 = np.argwhere(combined_y[train_idx] == 2)[:,0]\n",
        "        idx_3 = np.argwhere(combined_y[train_idx] == 3)[:,0]\n",
        "        idx_4 = np.argwhere(combined_y[train_idx] == 4)[:,0]\n",
        "        idx_5 = np.argwhere(combined_y[train_idx] == 5)[:,0]\n",
        "        idx_6 = np.argwhere(combined_y[train_idx] == 6)[:,0]\n",
        "        \n",
        "        # Randomly sample num_points from each index\n",
        "        idx1 = np.random.choice(idx_1, num_points)\n",
        "        idx2 = np.random.choice(idx_2, num_points)\n",
        "        idx3 = np.random.choice(idx_3, num_points)\n",
        "        idx4 = np.random.choice(idx_4, num_points)\n",
        "        idx5 = np.random.choice(idx_5, num_points)\n",
        "        idx6 = np.random.choice(idx_6, num_points)\n",
        "    \n",
        "        # Sample data\n",
        "        sampled_x1 = x_data[train_idx][idx1]\n",
        "        sampled_x2 = x_data[train_idx][idx2]\n",
        "        sampled_x3 = x_data[train_idx][idx3]\n",
        "        sampled_x4 = x_data[train_idx][idx4]\n",
        "        sampled_x5 = x_data[train_idx][idx5]\n",
        "        sampled_x6 = x_data[train_idx][idx6]\n",
        "\n",
        "        # Combine subsampled data\n",
        "        sampled_combined = np.concatenate([sampled_x1, sampled_x2, sampled_x3, sampled_x4, sampled_x5, sampled_x6])\n",
        "\n",
        "        # Get labels\n",
        "        labels = np.ones(len(sampled_combined))\n",
        "        for i in range(1,7):\n",
        "            labels[(i-1)*num_points:(i)*num_points] *= i\n",
        "\n",
        "        # Fit and time model\n",
        "        start = time.time()\n",
        "        model.fit(sampled_combined, labels)\n",
        "        fit_times.append(time.time() - start)\n",
        "        \n",
        "        # Score model\n",
        "        preds = model.predict(x_data[test_idx])\n",
        "        score = accuracy_score(preds, y_data[test_idx])\n",
        "        pred_accuracy.append(score)\n",
        "        \n",
        "    print(r\"{0} POINTS PREDICTION ACCURACY: {1:.3f} $\\pm$ {2:.3f}\".format(num_points, np.mean(pred_accuracy), np.std(pred_accuracy)))\n",
        "    return pred_accuracy, fit_times"
      ],
      "execution_count": 7,
      "outputs": []
    },
    {
      "cell_type": "code",
      "metadata": {
        "scrolled": true,
        "colab": {
          "base_uri": "https://localhost:8080/",
          "height": 1000
        },
        "id": "GzduSll9N7xM",
        "outputId": "a996b061-df5a-4150-ac87-12b106e69973"
      },
      "source": [
        "# Number of Psuedo data points\n",
        "num_points =np.arange(5, 500, 20)\n",
        "\n",
        "results = []\n",
        "times = []\n",
        "for num in num_points:\n",
        "    pred_accuracy, fit_times = do_kfold_subsampled(svm.SVC(kernel='linear', C=1), combined_x, combined_y, num_points=num)\n",
        "    results.append(pred_accuracy)\n",
        "    times.append(fit_times)\n",
        "    \n",
        "# Get means\n",
        "sub_acc_mean = np.mean(results, axis=1)\n",
        "sub_acc_stds = np.std(results, axis=1)\n",
        "sub_time_mean = np.mean(times, axis=1)\n",
        "sub_time_stds = np.std(times, axis=1)\n",
        "\n",
        "np.save(\"./subsampled_results/svm_linear_accuracy.npy\", results)\n",
        "np.save(\"./subsampled_results/svm_linear_time.npy\", times)"
      ],
      "execution_count": 49,
      "outputs": [
        {
          "output_type": "stream",
          "name": "stdout",
          "text": [
            "(array([1., 2., 3., 4., 5., 6.]), array([1722, 1544, 1406, 1777, 1906, 1944]))\n"
          ]
        },
        {
          "output_type": "stream",
          "name": "stderr",
          "text": [
            "10it [00:01,  8.53it/s]\n"
          ]
        },
        {
          "output_type": "stream",
          "name": "stdout",
          "text": [
            "5 POINTS PREDICTION ACCURACY: 0.797 $\\pm$ 0.034\n",
            "(array([1., 2., 3., 4., 5., 6.]), array([1722, 1544, 1406, 1777, 1906, 1944]))\n"
          ]
        },
        {
          "output_type": "stream",
          "name": "stderr",
          "text": [
            "10it [00:00, 10.03it/s]\n"
          ]
        },
        {
          "output_type": "stream",
          "name": "stdout",
          "text": [
            "25 POINTS PREDICTION ACCURACY: 0.879 $\\pm$ 0.028\n",
            "(array([1., 2., 3., 4., 5., 6.]), array([1722, 1544, 1406, 1777, 1906, 1944]))\n"
          ]
        },
        {
          "output_type": "stream",
          "name": "stderr",
          "text": [
            "10it [00:01,  8.94it/s]\n"
          ]
        },
        {
          "output_type": "stream",
          "name": "stdout",
          "text": [
            "45 POINTS PREDICTION ACCURACY: 0.907 $\\pm$ 0.021\n",
            "(array([1., 2., 3., 4., 5., 6.]), array([1722, 1544, 1406, 1777, 1906, 1944]))\n"
          ]
        },
        {
          "output_type": "stream",
          "name": "stderr",
          "text": [
            "10it [00:01,  8.15it/s]\n"
          ]
        },
        {
          "output_type": "stream",
          "name": "stdout",
          "text": [
            "65 POINTS PREDICTION ACCURACY: 0.917 $\\pm$ 0.024\n",
            "(array([1., 2., 3., 4., 5., 6.]), array([1722, 1544, 1406, 1777, 1906, 1944]))\n"
          ]
        },
        {
          "output_type": "stream",
          "name": "stderr",
          "text": [
            "10it [00:01,  7.46it/s]\n"
          ]
        },
        {
          "output_type": "stream",
          "name": "stdout",
          "text": [
            "85 POINTS PREDICTION ACCURACY: 0.919 $\\pm$ 0.029\n",
            "(array([1., 2., 3., 4., 5., 6.]), array([1722, 1544, 1406, 1777, 1906, 1944]))\n"
          ]
        },
        {
          "output_type": "stream",
          "name": "stderr",
          "text": [
            "10it [00:01,  6.81it/s]\n"
          ]
        },
        {
          "output_type": "stream",
          "name": "stdout",
          "text": [
            "105 POINTS PREDICTION ACCURACY: 0.924 $\\pm$ 0.027\n",
            "(array([1., 2., 3., 4., 5., 6.]), array([1722, 1544, 1406, 1777, 1906, 1944]))\n"
          ]
        },
        {
          "output_type": "stream",
          "name": "stderr",
          "text": [
            "10it [00:01,  6.20it/s]\n"
          ]
        },
        {
          "output_type": "stream",
          "name": "stdout",
          "text": [
            "125 POINTS PREDICTION ACCURACY: 0.933 $\\pm$ 0.025\n",
            "(array([1., 2., 3., 4., 5., 6.]), array([1722, 1544, 1406, 1777, 1906, 1944]))\n"
          ]
        },
        {
          "output_type": "stream",
          "name": "stderr",
          "text": [
            "10it [00:01,  5.59it/s]\n"
          ]
        },
        {
          "output_type": "stream",
          "name": "stdout",
          "text": [
            "145 POINTS PREDICTION ACCURACY: 0.930 $\\pm$ 0.033\n",
            "(array([1., 2., 3., 4., 5., 6.]), array([1722, 1544, 1406, 1777, 1906, 1944]))\n"
          ]
        },
        {
          "output_type": "stream",
          "name": "stderr",
          "text": [
            "10it [00:01,  5.16it/s]\n"
          ]
        },
        {
          "output_type": "stream",
          "name": "stdout",
          "text": [
            "165 POINTS PREDICTION ACCURACY: 0.928 $\\pm$ 0.028\n",
            "(array([1., 2., 3., 4., 5., 6.]), array([1722, 1544, 1406, 1777, 1906, 1944]))\n"
          ]
        },
        {
          "output_type": "stream",
          "name": "stderr",
          "text": [
            "10it [00:02,  4.86it/s]\n"
          ]
        },
        {
          "output_type": "stream",
          "name": "stdout",
          "text": [
            "185 POINTS PREDICTION ACCURACY: 0.938 $\\pm$ 0.025\n",
            "(array([1., 2., 3., 4., 5., 6.]), array([1722, 1544, 1406, 1777, 1906, 1944]))\n"
          ]
        },
        {
          "output_type": "stream",
          "name": "stderr",
          "text": [
            "10it [00:02,  4.58it/s]\n"
          ]
        },
        {
          "output_type": "stream",
          "name": "stdout",
          "text": [
            "205 POINTS PREDICTION ACCURACY: 0.934 $\\pm$ 0.022\n",
            "(array([1., 2., 3., 4., 5., 6.]), array([1722, 1544, 1406, 1777, 1906, 1944]))\n"
          ]
        },
        {
          "output_type": "stream",
          "name": "stderr",
          "text": [
            "10it [00:02,  4.25it/s]\n"
          ]
        },
        {
          "output_type": "stream",
          "name": "stdout",
          "text": [
            "225 POINTS PREDICTION ACCURACY: 0.940 $\\pm$ 0.031\n",
            "(array([1., 2., 3., 4., 5., 6.]), array([1722, 1544, 1406, 1777, 1906, 1944]))\n"
          ]
        },
        {
          "output_type": "stream",
          "name": "stderr",
          "text": [
            "10it [00:02,  4.03it/s]\n"
          ]
        },
        {
          "output_type": "stream",
          "name": "stdout",
          "text": [
            "245 POINTS PREDICTION ACCURACY: 0.939 $\\pm$ 0.028\n",
            "(array([1., 2., 3., 4., 5., 6.]), array([1722, 1544, 1406, 1777, 1906, 1944]))\n"
          ]
        },
        {
          "output_type": "stream",
          "name": "stderr",
          "text": [
            "10it [00:02,  3.90it/s]\n"
          ]
        },
        {
          "output_type": "stream",
          "name": "stdout",
          "text": [
            "265 POINTS PREDICTION ACCURACY: 0.936 $\\pm$ 0.029\n",
            "(array([1., 2., 3., 4., 5., 6.]), array([1722, 1544, 1406, 1777, 1906, 1944]))\n"
          ]
        },
        {
          "output_type": "stream",
          "name": "stderr",
          "text": [
            "10it [00:02,  3.63it/s]\n"
          ]
        },
        {
          "output_type": "stream",
          "name": "stdout",
          "text": [
            "285 POINTS PREDICTION ACCURACY: 0.942 $\\pm$ 0.018\n",
            "(array([1., 2., 3., 4., 5., 6.]), array([1722, 1544, 1406, 1777, 1906, 1944]))\n"
          ]
        },
        {
          "output_type": "stream",
          "name": "stderr",
          "text": [
            "10it [00:02,  3.54it/s]\n"
          ]
        },
        {
          "output_type": "stream",
          "name": "stdout",
          "text": [
            "305 POINTS PREDICTION ACCURACY: 0.943 $\\pm$ 0.024\n",
            "(array([1., 2., 3., 4., 5., 6.]), array([1722, 1544, 1406, 1777, 1906, 1944]))\n"
          ]
        },
        {
          "output_type": "stream",
          "name": "stderr",
          "text": [
            "9it [00:02,  3.02it/s]\n"
          ]
        },
        {
          "output_type": "error",
          "ename": "KeyboardInterrupt",
          "evalue": "ignored",
          "traceback": [
            "\u001b[0;31m---------------------------------------------------------------------------\u001b[0m",
            "\u001b[0;31mKeyboardInterrupt\u001b[0m                         Traceback (most recent call last)",
            "\u001b[0;32m<ipython-input-49-1742796a3a1b>\u001b[0m in \u001b[0;36m<module>\u001b[0;34m()\u001b[0m\n\u001b[1;32m      5\u001b[0m \u001b[0mtimes\u001b[0m \u001b[0;34m=\u001b[0m \u001b[0;34m[\u001b[0m\u001b[0;34m]\u001b[0m\u001b[0;34m\u001b[0m\u001b[0;34m\u001b[0m\u001b[0m\n\u001b[1;32m      6\u001b[0m \u001b[0;32mfor\u001b[0m \u001b[0mnum\u001b[0m \u001b[0;32min\u001b[0m \u001b[0mnum_points\u001b[0m\u001b[0;34m:\u001b[0m\u001b[0;34m\u001b[0m\u001b[0;34m\u001b[0m\u001b[0m\n\u001b[0;32m----> 7\u001b[0;31m     \u001b[0mpred_accuracy\u001b[0m\u001b[0;34m,\u001b[0m \u001b[0mfit_times\u001b[0m \u001b[0;34m=\u001b[0m \u001b[0mdo_kfold_subsampled\u001b[0m\u001b[0;34m(\u001b[0m\u001b[0msvm\u001b[0m\u001b[0;34m.\u001b[0m\u001b[0mSVC\u001b[0m\u001b[0;34m(\u001b[0m\u001b[0mkernel\u001b[0m\u001b[0;34m=\u001b[0m\u001b[0;34m'linear'\u001b[0m\u001b[0;34m,\u001b[0m \u001b[0mC\u001b[0m\u001b[0;34m=\u001b[0m\u001b[0;36m1\u001b[0m\u001b[0;34m)\u001b[0m\u001b[0;34m,\u001b[0m \u001b[0mcombined_x\u001b[0m\u001b[0;34m,\u001b[0m \u001b[0mcombined_y\u001b[0m\u001b[0;34m,\u001b[0m \u001b[0mnum_points\u001b[0m\u001b[0;34m=\u001b[0m\u001b[0mnum\u001b[0m\u001b[0;34m)\u001b[0m\u001b[0;34m\u001b[0m\u001b[0;34m\u001b[0m\u001b[0m\n\u001b[0m\u001b[1;32m      8\u001b[0m     \u001b[0mresults\u001b[0m\u001b[0;34m.\u001b[0m\u001b[0mappend\u001b[0m\u001b[0;34m(\u001b[0m\u001b[0mpred_accuracy\u001b[0m\u001b[0;34m)\u001b[0m\u001b[0;34m\u001b[0m\u001b[0;34m\u001b[0m\u001b[0m\n\u001b[1;32m      9\u001b[0m     \u001b[0mtimes\u001b[0m\u001b[0;34m.\u001b[0m\u001b[0mappend\u001b[0m\u001b[0;34m(\u001b[0m\u001b[0mfit_times\u001b[0m\u001b[0;34m)\u001b[0m\u001b[0;34m\u001b[0m\u001b[0;34m\u001b[0m\u001b[0m\n",
            "\u001b[0;32m<ipython-input-7-6d0102358c35>\u001b[0m in \u001b[0;36mdo_kfold_subsampled\u001b[0;34m(model, x_data, y_data, num_points, folds, seed)\u001b[0m\n\u001b[1;32m     50\u001b[0m \u001b[0;34m\u001b[0m\u001b[0m\n\u001b[1;32m     51\u001b[0m         \u001b[0;31m# Score model\u001b[0m\u001b[0;34m\u001b[0m\u001b[0;34m\u001b[0m\u001b[0;34m\u001b[0m\u001b[0m\n\u001b[0;32m---> 52\u001b[0;31m         \u001b[0mpreds\u001b[0m \u001b[0;34m=\u001b[0m \u001b[0mmodel\u001b[0m\u001b[0;34m.\u001b[0m\u001b[0mpredict\u001b[0m\u001b[0;34m(\u001b[0m\u001b[0mx_data\u001b[0m\u001b[0;34m[\u001b[0m\u001b[0mtest_idx\u001b[0m\u001b[0;34m]\u001b[0m\u001b[0;34m)\u001b[0m\u001b[0;34m\u001b[0m\u001b[0;34m\u001b[0m\u001b[0m\n\u001b[0m\u001b[1;32m     53\u001b[0m         \u001b[0mscore\u001b[0m \u001b[0;34m=\u001b[0m \u001b[0maccuracy_score\u001b[0m\u001b[0;34m(\u001b[0m\u001b[0mpreds\u001b[0m\u001b[0;34m,\u001b[0m \u001b[0my_data\u001b[0m\u001b[0;34m[\u001b[0m\u001b[0mtest_idx\u001b[0m\u001b[0;34m]\u001b[0m\u001b[0;34m)\u001b[0m\u001b[0;34m\u001b[0m\u001b[0;34m\u001b[0m\u001b[0m\n\u001b[1;32m     54\u001b[0m         \u001b[0mpred_accuracy\u001b[0m\u001b[0;34m.\u001b[0m\u001b[0mappend\u001b[0m\u001b[0;34m(\u001b[0m\u001b[0mscore\u001b[0m\u001b[0;34m)\u001b[0m\u001b[0;34m\u001b[0m\u001b[0;34m\u001b[0m\u001b[0m\n",
            "\u001b[0;32m/usr/local/lib/python3.7/dist-packages/sklearn/svm/_base.py\u001b[0m in \u001b[0;36mpredict\u001b[0;34m(self, X)\u001b[0m\n\u001b[1;32m    789\u001b[0m             \u001b[0my\u001b[0m \u001b[0;34m=\u001b[0m \u001b[0mnp\u001b[0m\u001b[0;34m.\u001b[0m\u001b[0margmax\u001b[0m\u001b[0;34m(\u001b[0m\u001b[0mself\u001b[0m\u001b[0;34m.\u001b[0m\u001b[0mdecision_function\u001b[0m\u001b[0;34m(\u001b[0m\u001b[0mX\u001b[0m\u001b[0;34m)\u001b[0m\u001b[0;34m,\u001b[0m \u001b[0maxis\u001b[0m\u001b[0;34m=\u001b[0m\u001b[0;36m1\u001b[0m\u001b[0;34m)\u001b[0m\u001b[0;34m\u001b[0m\u001b[0;34m\u001b[0m\u001b[0m\n\u001b[1;32m    790\u001b[0m         \u001b[0;32melse\u001b[0m\u001b[0;34m:\u001b[0m\u001b[0;34m\u001b[0m\u001b[0;34m\u001b[0m\u001b[0m\n\u001b[0;32m--> 791\u001b[0;31m             \u001b[0my\u001b[0m \u001b[0;34m=\u001b[0m \u001b[0msuper\u001b[0m\u001b[0;34m(\u001b[0m\u001b[0;34m)\u001b[0m\u001b[0;34m.\u001b[0m\u001b[0mpredict\u001b[0m\u001b[0;34m(\u001b[0m\u001b[0mX\u001b[0m\u001b[0;34m)\u001b[0m\u001b[0;34m\u001b[0m\u001b[0;34m\u001b[0m\u001b[0m\n\u001b[0m\u001b[1;32m    792\u001b[0m         \u001b[0;32mreturn\u001b[0m \u001b[0mself\u001b[0m\u001b[0;34m.\u001b[0m\u001b[0mclasses_\u001b[0m\u001b[0;34m.\u001b[0m\u001b[0mtake\u001b[0m\u001b[0;34m(\u001b[0m\u001b[0mnp\u001b[0m\u001b[0;34m.\u001b[0m\u001b[0masarray\u001b[0m\u001b[0;34m(\u001b[0m\u001b[0my\u001b[0m\u001b[0;34m,\u001b[0m \u001b[0mdtype\u001b[0m\u001b[0;34m=\u001b[0m\u001b[0mnp\u001b[0m\u001b[0;34m.\u001b[0m\u001b[0mintp\u001b[0m\u001b[0;34m)\u001b[0m\u001b[0;34m)\u001b[0m\u001b[0;34m\u001b[0m\u001b[0;34m\u001b[0m\u001b[0m\n\u001b[1;32m    793\u001b[0m \u001b[0;34m\u001b[0m\u001b[0m\n",
            "\u001b[0;32m/usr/local/lib/python3.7/dist-packages/sklearn/svm/_base.py\u001b[0m in \u001b[0;36mpredict\u001b[0;34m(self, X)\u001b[0m\n\u001b[1;32m    414\u001b[0m         \u001b[0mX\u001b[0m \u001b[0;34m=\u001b[0m \u001b[0mself\u001b[0m\u001b[0;34m.\u001b[0m\u001b[0m_validate_for_predict\u001b[0m\u001b[0;34m(\u001b[0m\u001b[0mX\u001b[0m\u001b[0;34m)\u001b[0m\u001b[0;34m\u001b[0m\u001b[0;34m\u001b[0m\u001b[0m\n\u001b[1;32m    415\u001b[0m         \u001b[0mpredict\u001b[0m \u001b[0;34m=\u001b[0m \u001b[0mself\u001b[0m\u001b[0;34m.\u001b[0m\u001b[0m_sparse_predict\u001b[0m \u001b[0;32mif\u001b[0m \u001b[0mself\u001b[0m\u001b[0;34m.\u001b[0m\u001b[0m_sparse\u001b[0m \u001b[0;32melse\u001b[0m \u001b[0mself\u001b[0m\u001b[0;34m.\u001b[0m\u001b[0m_dense_predict\u001b[0m\u001b[0;34m\u001b[0m\u001b[0;34m\u001b[0m\u001b[0m\n\u001b[0;32m--> 416\u001b[0;31m         \u001b[0;32mreturn\u001b[0m \u001b[0mpredict\u001b[0m\u001b[0;34m(\u001b[0m\u001b[0mX\u001b[0m\u001b[0;34m)\u001b[0m\u001b[0;34m\u001b[0m\u001b[0;34m\u001b[0m\u001b[0m\n\u001b[0m\u001b[1;32m    417\u001b[0m \u001b[0;34m\u001b[0m\u001b[0m\n\u001b[1;32m    418\u001b[0m     \u001b[0;32mdef\u001b[0m \u001b[0m_dense_predict\u001b[0m\u001b[0;34m(\u001b[0m\u001b[0mself\u001b[0m\u001b[0;34m,\u001b[0m \u001b[0mX\u001b[0m\u001b[0;34m)\u001b[0m\u001b[0;34m:\u001b[0m\u001b[0;34m\u001b[0m\u001b[0;34m\u001b[0m\u001b[0m\n",
            "\u001b[0;32m/usr/local/lib/python3.7/dist-packages/sklearn/svm/_base.py\u001b[0m in \u001b[0;36m_dense_predict\u001b[0;34m(self, X)\u001b[0m\n\u001b[1;32m    447\u001b[0m             \u001b[0mcoef0\u001b[0m\u001b[0;34m=\u001b[0m\u001b[0mself\u001b[0m\u001b[0;34m.\u001b[0m\u001b[0mcoef0\u001b[0m\u001b[0;34m,\u001b[0m\u001b[0;34m\u001b[0m\u001b[0;34m\u001b[0m\u001b[0m\n\u001b[1;32m    448\u001b[0m             \u001b[0mgamma\u001b[0m\u001b[0;34m=\u001b[0m\u001b[0mself\u001b[0m\u001b[0;34m.\u001b[0m\u001b[0m_gamma\u001b[0m\u001b[0;34m,\u001b[0m\u001b[0;34m\u001b[0m\u001b[0;34m\u001b[0m\u001b[0m\n\u001b[0;32m--> 449\u001b[0;31m             \u001b[0mcache_size\u001b[0m\u001b[0;34m=\u001b[0m\u001b[0mself\u001b[0m\u001b[0;34m.\u001b[0m\u001b[0mcache_size\u001b[0m\u001b[0;34m,\u001b[0m\u001b[0;34m\u001b[0m\u001b[0;34m\u001b[0m\u001b[0m\n\u001b[0m\u001b[1;32m    450\u001b[0m         )\n\u001b[1;32m    451\u001b[0m \u001b[0;34m\u001b[0m\u001b[0m\n",
            "\u001b[0;31mKeyboardInterrupt\u001b[0m: "
          ]
        }
      ]
    },
    {
      "cell_type": "code",
      "metadata": {
        "id": "alSi9NCVN7xM"
      },
      "source": [
        "fig, ax = plt.subplots()\n",
        "ax.plot(num_points, sub_acc_mean)\n",
        "ax.fill_between(num_points, sub_acc_mean+sub_acc_stds, sub_acc_mean-sub_acc_stds, alpha=0.5)\n",
        "plt.show()\n",
        "\n",
        "fig, ax = plt.subplots()\n",
        "ax.plot(num_points, sub_time_mean)\n",
        "ax.fill_between(num_points, sub_time_mean+sub_time_stds, sub_time_mean-sub_time_stds, alpha=0.5)\n",
        "plt.show()"
      ],
      "execution_count": null,
      "outputs": []
    },
    {
      "cell_type": "code",
      "metadata": {
        "id": "ze0zhvhTN7xM",
        "outputId": "58b5839e-e542-40af-ca15-0019a035b52c"
      },
      "source": [
        "# Number of Psuedo data points\n",
        "num_points =np.arange(5, 500, 20)\n",
        "\n",
        "results = []\n",
        "times = []\n",
        "for num in num_points:\n",
        "    pred_accuracy, fit_times = do_kfold_subsampled(svm.SVC(kernel='poly', C=1), combined_x, combined_y, num_points=num)\n",
        "    results.append(pred_accuracy)\n",
        "    times.append(fit_times)\n",
        "    \n",
        "# Get means\n",
        "sub_acc_mean = np.mean(results, axis=1)\n",
        "sub_acc_stds = np.std(results, axis=1)\n",
        "sub_time_mean = np.mean(times, axis=1)\n",
        "sub_time_stds = np.std(times, axis=1)\n",
        "\n",
        "np.save(\"./subsampled_results/svm_poly_accuracy.npy\", results)\n",
        "np.save(\"./subsampled_results/svm_poly_time.npy\", times)"
      ],
      "execution_count": null,
      "outputs": [
        {
          "name": "stdout",
          "output_type": "stream",
          "text": [
            "(array([1., 2., 3., 4., 5., 6.]), array([1722, 1544, 1406, 1777, 1906, 1944]))\n"
          ]
        },
        {
          "name": "stderr",
          "output_type": "stream",
          "text": [
            "10it [00:00, 23.70it/s]\n"
          ]
        },
        {
          "name": "stdout",
          "output_type": "stream",
          "text": [
            "5 POINTS PREDICTION ACCURACY: 0.765 $\\pm$ 0.030\n",
            "(array([1., 2., 3., 4., 5., 6.]), array([1722, 1544, 1406, 1777, 1906, 1944]))\n"
          ]
        },
        {
          "name": "stderr",
          "output_type": "stream",
          "text": [
            "10it [00:00, 14.85it/s]\n"
          ]
        },
        {
          "name": "stdout",
          "output_type": "stream",
          "text": [
            "25 POINTS PREDICTION ACCURACY: 0.869 $\\pm$ 0.027\n",
            "(array([1., 2., 3., 4., 5., 6.]), array([1722, 1544, 1406, 1777, 1906, 1944]))\n"
          ]
        },
        {
          "name": "stderr",
          "output_type": "stream",
          "text": [
            "10it [00:00, 11.06it/s]\n"
          ]
        },
        {
          "name": "stdout",
          "output_type": "stream",
          "text": [
            "45 POINTS PREDICTION ACCURACY: 0.905 $\\pm$ 0.021\n",
            "(array([1., 2., 3., 4., 5., 6.]), array([1722, 1544, 1406, 1777, 1906, 1944]))\n"
          ]
        },
        {
          "name": "stderr",
          "output_type": "stream",
          "text": [
            "10it [00:01,  8.93it/s]\n"
          ]
        },
        {
          "name": "stdout",
          "output_type": "stream",
          "text": [
            "65 POINTS PREDICTION ACCURACY: 0.909 $\\pm$ 0.023\n",
            "(array([1., 2., 3., 4., 5., 6.]), array([1722, 1544, 1406, 1777, 1906, 1944]))\n"
          ]
        },
        {
          "name": "stderr",
          "output_type": "stream",
          "text": [
            "10it [00:01,  7.61it/s]\n"
          ]
        },
        {
          "name": "stdout",
          "output_type": "stream",
          "text": [
            "85 POINTS PREDICTION ACCURACY: 0.925 $\\pm$ 0.023\n",
            "(array([1., 2., 3., 4., 5., 6.]), array([1722, 1544, 1406, 1777, 1906, 1944]))\n"
          ]
        },
        {
          "name": "stderr",
          "output_type": "stream",
          "text": [
            "10it [00:01,  6.54it/s]\n"
          ]
        },
        {
          "name": "stdout",
          "output_type": "stream",
          "text": [
            "105 POINTS PREDICTION ACCURACY: 0.927 $\\pm$ 0.023\n",
            "(array([1., 2., 3., 4., 5., 6.]), array([1722, 1544, 1406, 1777, 1906, 1944]))\n"
          ]
        },
        {
          "name": "stderr",
          "output_type": "stream",
          "text": [
            "10it [00:01,  5.77it/s]\n"
          ]
        },
        {
          "name": "stdout",
          "output_type": "stream",
          "text": [
            "125 POINTS PREDICTION ACCURACY: 0.937 $\\pm$ 0.022\n",
            "(array([1., 2., 3., 4., 5., 6.]), array([1722, 1544, 1406, 1777, 1906, 1944]))\n"
          ]
        },
        {
          "name": "stderr",
          "output_type": "stream",
          "text": [
            "10it [00:01,  5.11it/s]\n"
          ]
        },
        {
          "name": "stdout",
          "output_type": "stream",
          "text": [
            "145 POINTS PREDICTION ACCURACY: 0.930 $\\pm$ 0.017\n",
            "(array([1., 2., 3., 4., 5., 6.]), array([1722, 1544, 1406, 1777, 1906, 1944]))\n"
          ]
        },
        {
          "name": "stderr",
          "output_type": "stream",
          "text": [
            "10it [00:02,  4.81it/s]\n"
          ]
        },
        {
          "name": "stdout",
          "output_type": "stream",
          "text": [
            "165 POINTS PREDICTION ACCURACY: 0.931 $\\pm$ 0.028\n",
            "(array([1., 2., 3., 4., 5., 6.]), array([1722, 1544, 1406, 1777, 1906, 1944]))\n"
          ]
        },
        {
          "name": "stderr",
          "output_type": "stream",
          "text": [
            "10it [00:02,  4.32it/s]\n"
          ]
        },
        {
          "name": "stdout",
          "output_type": "stream",
          "text": [
            "185 POINTS PREDICTION ACCURACY: 0.938 $\\pm$ 0.022\n",
            "(array([1., 2., 3., 4., 5., 6.]), array([1722, 1544, 1406, 1777, 1906, 1944]))\n"
          ]
        },
        {
          "name": "stderr",
          "output_type": "stream",
          "text": [
            "10it [00:02,  4.04it/s]\n"
          ]
        },
        {
          "name": "stdout",
          "output_type": "stream",
          "text": [
            "205 POINTS PREDICTION ACCURACY: 0.933 $\\pm$ 0.024\n",
            "(array([1., 2., 3., 4., 5., 6.]), array([1722, 1544, 1406, 1777, 1906, 1944]))\n"
          ]
        },
        {
          "name": "stderr",
          "output_type": "stream",
          "text": [
            "10it [00:02,  3.70it/s]\n"
          ]
        },
        {
          "name": "stdout",
          "output_type": "stream",
          "text": [
            "225 POINTS PREDICTION ACCURACY: 0.941 $\\pm$ 0.032\n",
            "(array([1., 2., 3., 4., 5., 6.]), array([1722, 1544, 1406, 1777, 1906, 1944]))\n"
          ]
        },
        {
          "name": "stderr",
          "output_type": "stream",
          "text": [
            "10it [00:03,  3.29it/s]\n"
          ]
        },
        {
          "name": "stdout",
          "output_type": "stream",
          "text": [
            "245 POINTS PREDICTION ACCURACY: 0.936 $\\pm$ 0.028\n",
            "(array([1., 2., 3., 4., 5., 6.]), array([1722, 1544, 1406, 1777, 1906, 1944]))\n"
          ]
        },
        {
          "name": "stderr",
          "output_type": "stream",
          "text": [
            "10it [00:03,  3.12it/s]\n"
          ]
        },
        {
          "name": "stdout",
          "output_type": "stream",
          "text": [
            "265 POINTS PREDICTION ACCURACY: 0.939 $\\pm$ 0.025\n",
            "(array([1., 2., 3., 4., 5., 6.]), array([1722, 1544, 1406, 1777, 1906, 1944]))\n"
          ]
        },
        {
          "name": "stderr",
          "output_type": "stream",
          "text": [
            "10it [00:03,  2.98it/s]\n"
          ]
        },
        {
          "name": "stdout",
          "output_type": "stream",
          "text": [
            "285 POINTS PREDICTION ACCURACY: 0.941 $\\pm$ 0.023\n",
            "(array([1., 2., 3., 4., 5., 6.]), array([1722, 1544, 1406, 1777, 1906, 1944]))\n"
          ]
        },
        {
          "name": "stderr",
          "output_type": "stream",
          "text": [
            "10it [00:03,  2.89it/s]\n"
          ]
        },
        {
          "name": "stdout",
          "output_type": "stream",
          "text": [
            "305 POINTS PREDICTION ACCURACY: 0.943 $\\pm$ 0.024\n",
            "(array([1., 2., 3., 4., 5., 6.]), array([1722, 1544, 1406, 1777, 1906, 1944]))\n"
          ]
        },
        {
          "name": "stderr",
          "output_type": "stream",
          "text": [
            "10it [00:03,  2.67it/s]\n"
          ]
        },
        {
          "name": "stdout",
          "output_type": "stream",
          "text": [
            "325 POINTS PREDICTION ACCURACY: 0.941 $\\pm$ 0.024\n",
            "(array([1., 2., 3., 4., 5., 6.]), array([1722, 1544, 1406, 1777, 1906, 1944]))\n"
          ]
        },
        {
          "name": "stderr",
          "output_type": "stream",
          "text": [
            "10it [00:03,  2.56it/s]\n"
          ]
        },
        {
          "name": "stdout",
          "output_type": "stream",
          "text": [
            "345 POINTS PREDICTION ACCURACY: 0.947 $\\pm$ 0.025\n",
            "(array([1., 2., 3., 4., 5., 6.]), array([1722, 1544, 1406, 1777, 1906, 1944]))\n"
          ]
        },
        {
          "name": "stderr",
          "output_type": "stream",
          "text": [
            "10it [00:04,  2.44it/s]\n"
          ]
        },
        {
          "name": "stdout",
          "output_type": "stream",
          "text": [
            "365 POINTS PREDICTION ACCURACY: 0.944 $\\pm$ 0.022\n",
            "(array([1., 2., 3., 4., 5., 6.]), array([1722, 1544, 1406, 1777, 1906, 1944]))\n"
          ]
        },
        {
          "name": "stderr",
          "output_type": "stream",
          "text": [
            "10it [00:04,  2.31it/s]\n"
          ]
        },
        {
          "name": "stdout",
          "output_type": "stream",
          "text": [
            "385 POINTS PREDICTION ACCURACY: 0.945 $\\pm$ 0.024\n",
            "(array([1., 2., 3., 4., 5., 6.]), array([1722, 1544, 1406, 1777, 1906, 1944]))\n"
          ]
        },
        {
          "name": "stderr",
          "output_type": "stream",
          "text": [
            "10it [00:04,  2.19it/s]\n"
          ]
        },
        {
          "name": "stdout",
          "output_type": "stream",
          "text": [
            "405 POINTS PREDICTION ACCURACY: 0.946 $\\pm$ 0.020\n",
            "(array([1., 2., 3., 4., 5., 6.]), array([1722, 1544, 1406, 1777, 1906, 1944]))\n"
          ]
        },
        {
          "name": "stderr",
          "output_type": "stream",
          "text": [
            "10it [00:04,  2.09it/s]\n"
          ]
        },
        {
          "name": "stdout",
          "output_type": "stream",
          "text": [
            "425 POINTS PREDICTION ACCURACY: 0.949 $\\pm$ 0.024\n",
            "(array([1., 2., 3., 4., 5., 6.]), array([1722, 1544, 1406, 1777, 1906, 1944]))\n"
          ]
        },
        {
          "name": "stderr",
          "output_type": "stream",
          "text": [
            "10it [00:05,  1.99it/s]\n"
          ]
        },
        {
          "name": "stdout",
          "output_type": "stream",
          "text": [
            "445 POINTS PREDICTION ACCURACY: 0.948 $\\pm$ 0.022\n",
            "(array([1., 2., 3., 4., 5., 6.]), array([1722, 1544, 1406, 1777, 1906, 1944]))\n"
          ]
        },
        {
          "name": "stderr",
          "output_type": "stream",
          "text": [
            "10it [00:05,  1.94it/s]\n"
          ]
        },
        {
          "name": "stdout",
          "output_type": "stream",
          "text": [
            "465 POINTS PREDICTION ACCURACY: 0.949 $\\pm$ 0.022\n",
            "(array([1., 2., 3., 4., 5., 6.]), array([1722, 1544, 1406, 1777, 1906, 1944]))\n"
          ]
        },
        {
          "name": "stderr",
          "output_type": "stream",
          "text": [
            "10it [00:05,  1.85it/s]"
          ]
        },
        {
          "name": "stdout",
          "output_type": "stream",
          "text": [
            "485 POINTS PREDICTION ACCURACY: 0.949 $\\pm$ 0.022\n"
          ]
        },
        {
          "name": "stderr",
          "output_type": "stream",
          "text": [
            "\n"
          ]
        }
      ]
    },
    {
      "cell_type": "code",
      "metadata": {
        "id": "fw1AuSqDN7xN",
        "outputId": "216f6efd-5a5c-4fb2-8081-aaa58a0ac198"
      },
      "source": [
        "fig, ax = plt.subplots()\n",
        "ax.plot(num_points, sub_acc_mean)\n",
        "ax.fill_between(num_points, sub_acc_mean+sub_acc_stds, sub_acc_mean-sub_acc_stds, alpha=0.5)\n",
        "plt.show()\n",
        "\n",
        "fig, ax = plt.subplots()\n",
        "ax.plot(num_points, sub_time_mean)\n",
        "ax.fill_between(num_points, sub_time_mean+sub_time_stds, sub_time_mean-sub_time_stds, alpha=0.5)\n",
        "plt.show()"
      ],
      "execution_count": null,
      "outputs": [
        {
          "data": {
            "image/png": "[encoded data removed]",
            "text/plain": [
              "<Figure size 432x288 with 1 Axes>"
            ]
          },
          "metadata": {
            "needs_background": "light"
          },
          "output_type": "display_data"
        },
        {
          "data": {
            "image/png": "[encoded data removed]",
            "text/plain": [
              "<Figure size 432x288 with 1 Axes>"
            ]
          },
          "metadata": {
            "needs_background": "light"
          },
          "output_type": "display_data"
        }
      ]
    },
    {
      "cell_type": "code",
      "metadata": {
        "scrolled": true,
        "id": "hea87FprN7xN",
        "outputId": "2c5f1d37-b2e0-4556-805b-d38dea8fe3ed"
      },
      "source": [
        "# Number of Psuedo data points\n",
        "num_points =np.arange(5, 500, 20)\n",
        "\n",
        "results = []\n",
        "times = []\n",
        "for num in num_points:\n",
        "    pred_accuracy, fit_times = do_kfold_subsampled(LogisticRegression(multi_class='ovr', solver='liblinear'), combined_x, combined_y, num_points=num)\n",
        "    results.append(pred_accuracy)\n",
        "    times.append(fit_times)\n",
        "    \n",
        "# Get means\n",
        "sub_acc_mean = np.mean(results, axis=1)\n",
        "sub_acc_stds = np.std(results, axis=1)\n",
        "sub_time_mean = np.mean(times, axis=1)\n",
        "sub_time_stds = np.std(times, axis=1)\n",
        "\n",
        "np.save(\"./subsampled_results/lr_accuracy.npy\", pred_accuracy)\n",
        "np.save(\"./subsampled_results/lr_time.npy\", fit_times)"
      ],
      "execution_count": null,
      "outputs": [
        {
          "name": "stdout",
          "output_type": "stream",
          "text": [
            "(array([1., 2., 3., 4., 5., 6.]), array([1722, 1544, 1406, 1777, 1906, 1944]))\n"
          ]
        },
        {
          "name": "stderr",
          "output_type": "stream",
          "text": [
            "10it [00:00, 24.08it/s]\n"
          ]
        },
        {
          "name": "stdout",
          "output_type": "stream",
          "text": [
            "5 POINTS PREDICTION ACCURACY: 0.805 $\\pm$ 0.033\n",
            "(array([1., 2., 3., 4., 5., 6.]), array([1722, 1544, 1406, 1777, 1906, 1944]))\n"
          ]
        },
        {
          "name": "stderr",
          "output_type": "stream",
          "text": [
            "10it [00:00, 16.00it/s]\n"
          ]
        },
        {
          "name": "stdout",
          "output_type": "stream",
          "text": [
            "25 POINTS PREDICTION ACCURACY: 0.884 $\\pm$ 0.033\n",
            "(array([1., 2., 3., 4., 5., 6.]), array([1722, 1544, 1406, 1777, 1906, 1944]))\n"
          ]
        },
        {
          "name": "stderr",
          "output_type": "stream",
          "text": [
            "10it [00:00, 10.82it/s]\n"
          ]
        },
        {
          "name": "stdout",
          "output_type": "stream",
          "text": [
            "45 POINTS PREDICTION ACCURACY: 0.910 $\\pm$ 0.024\n",
            "(array([1., 2., 3., 4., 5., 6.]), array([1722, 1544, 1406, 1777, 1906, 1944]))\n"
          ]
        },
        {
          "name": "stderr",
          "output_type": "stream",
          "text": [
            "10it [00:01,  8.06it/s]\n"
          ]
        },
        {
          "name": "stdout",
          "output_type": "stream",
          "text": [
            "65 POINTS PREDICTION ACCURACY: 0.917 $\\pm$ 0.027\n",
            "(array([1., 2., 3., 4., 5., 6.]), array([1722, 1544, 1406, 1777, 1906, 1944]))\n"
          ]
        },
        {
          "name": "stderr",
          "output_type": "stream",
          "text": [
            "10it [00:01,  6.48it/s]\n"
          ]
        },
        {
          "name": "stdout",
          "output_type": "stream",
          "text": [
            "85 POINTS PREDICTION ACCURACY: 0.927 $\\pm$ 0.027\n",
            "(array([1., 2., 3., 4., 5., 6.]), array([1722, 1544, 1406, 1777, 1906, 1944]))\n"
          ]
        },
        {
          "name": "stderr",
          "output_type": "stream",
          "text": [
            "10it [00:01,  5.12it/s]\n"
          ]
        },
        {
          "name": "stdout",
          "output_type": "stream",
          "text": [
            "105 POINTS PREDICTION ACCURACY: 0.933 $\\pm$ 0.026\n",
            "(array([1., 2., 3., 4., 5., 6.]), array([1722, 1544, 1406, 1777, 1906, 1944]))\n"
          ]
        },
        {
          "name": "stderr",
          "output_type": "stream",
          "text": [
            "10it [00:02,  4.52it/s]\n"
          ]
        },
        {
          "name": "stdout",
          "output_type": "stream",
          "text": [
            "125 POINTS PREDICTION ACCURACY: 0.934 $\\pm$ 0.026\n",
            "(array([1., 2., 3., 4., 5., 6.]), array([1722, 1544, 1406, 1777, 1906, 1944]))\n"
          ]
        },
        {
          "name": "stderr",
          "output_type": "stream",
          "text": [
            "10it [00:02,  3.97it/s]\n"
          ]
        },
        {
          "name": "stdout",
          "output_type": "stream",
          "text": [
            "145 POINTS PREDICTION ACCURACY: 0.934 $\\pm$ 0.025\n",
            "(array([1., 2., 3., 4., 5., 6.]), array([1722, 1544, 1406, 1777, 1906, 1944]))\n"
          ]
        },
        {
          "name": "stderr",
          "output_type": "stream",
          "text": [
            "10it [00:02,  3.48it/s]\n"
          ]
        },
        {
          "name": "stdout",
          "output_type": "stream",
          "text": [
            "165 POINTS PREDICTION ACCURACY: 0.932 $\\pm$ 0.030\n",
            "(array([1., 2., 3., 4., 5., 6.]), array([1722, 1544, 1406, 1777, 1906, 1944]))\n"
          ]
        },
        {
          "name": "stderr",
          "output_type": "stream",
          "text": [
            "10it [00:03,  2.98it/s]\n"
          ]
        },
        {
          "name": "stdout",
          "output_type": "stream",
          "text": [
            "185 POINTS PREDICTION ACCURACY: 0.938 $\\pm$ 0.029\n",
            "(array([1., 2., 3., 4., 5., 6.]), array([1722, 1544, 1406, 1777, 1906, 1944]))\n"
          ]
        },
        {
          "name": "stderr",
          "output_type": "stream",
          "text": [
            "10it [00:03,  2.66it/s]\n"
          ]
        },
        {
          "name": "stdout",
          "output_type": "stream",
          "text": [
            "205 POINTS PREDICTION ACCURACY: 0.939 $\\pm$ 0.025\n",
            "(array([1., 2., 3., 4., 5., 6.]), array([1722, 1544, 1406, 1777, 1906, 1944]))\n"
          ]
        },
        {
          "name": "stderr",
          "output_type": "stream",
          "text": [
            "10it [00:04,  2.31it/s]\n"
          ]
        },
        {
          "name": "stdout",
          "output_type": "stream",
          "text": [
            "225 POINTS PREDICTION ACCURACY: 0.944 $\\pm$ 0.034\n",
            "(array([1., 2., 3., 4., 5., 6.]), array([1722, 1544, 1406, 1777, 1906, 1944]))\n"
          ]
        },
        {
          "name": "stderr",
          "output_type": "stream",
          "text": [
            "10it [00:04,  2.27it/s]\n"
          ]
        },
        {
          "name": "stdout",
          "output_type": "stream",
          "text": [
            "245 POINTS PREDICTION ACCURACY: 0.940 $\\pm$ 0.030\n",
            "(array([1., 2., 3., 4., 5., 6.]), array([1722, 1544, 1406, 1777, 1906, 1944]))\n"
          ]
        },
        {
          "name": "stderr",
          "output_type": "stream",
          "text": [
            "10it [00:04,  2.06it/s]\n"
          ]
        },
        {
          "name": "stdout",
          "output_type": "stream",
          "text": [
            "265 POINTS PREDICTION ACCURACY: 0.941 $\\pm$ 0.032\n",
            "(array([1., 2., 3., 4., 5., 6.]), array([1722, 1544, 1406, 1777, 1906, 1944]))\n"
          ]
        },
        {
          "name": "stderr",
          "output_type": "stream",
          "text": [
            "10it [00:05,  1.91it/s]\n"
          ]
        },
        {
          "name": "stdout",
          "output_type": "stream",
          "text": [
            "285 POINTS PREDICTION ACCURACY: 0.946 $\\pm$ 0.026\n",
            "(array([1., 2., 3., 4., 5., 6.]), array([1722, 1544, 1406, 1777, 1906, 1944]))\n"
          ]
        },
        {
          "name": "stderr",
          "output_type": "stream",
          "text": [
            "10it [00:05,  1.76it/s]\n"
          ]
        },
        {
          "name": "stdout",
          "output_type": "stream",
          "text": [
            "305 POINTS PREDICTION ACCURACY: 0.949 $\\pm$ 0.026\n",
            "(array([1., 2., 3., 4., 5., 6.]), array([1722, 1544, 1406, 1777, 1906, 1944]))\n"
          ]
        },
        {
          "name": "stderr",
          "output_type": "stream",
          "text": [
            "10it [00:05,  1.69it/s]\n"
          ]
        },
        {
          "name": "stdout",
          "output_type": "stream",
          "text": [
            "325 POINTS PREDICTION ACCURACY: 0.945 $\\pm$ 0.031\n",
            "(array([1., 2., 3., 4., 5., 6.]), array([1722, 1544, 1406, 1777, 1906, 1944]))\n"
          ]
        },
        {
          "name": "stderr",
          "output_type": "stream",
          "text": [
            "10it [00:06,  1.61it/s]\n"
          ]
        },
        {
          "name": "stdout",
          "output_type": "stream",
          "text": [
            "345 POINTS PREDICTION ACCURACY: 0.950 $\\pm$ 0.029\n",
            "(array([1., 2., 3., 4., 5., 6.]), array([1722, 1544, 1406, 1777, 1906, 1944]))\n"
          ]
        },
        {
          "name": "stderr",
          "output_type": "stream",
          "text": [
            "10it [00:06,  1.53it/s]\n"
          ]
        },
        {
          "name": "stdout",
          "output_type": "stream",
          "text": [
            "365 POINTS PREDICTION ACCURACY: 0.951 $\\pm$ 0.026\n",
            "(array([1., 2., 3., 4., 5., 6.]), array([1722, 1544, 1406, 1777, 1906, 1944]))\n"
          ]
        },
        {
          "name": "stderr",
          "output_type": "stream",
          "text": [
            "10it [00:06,  1.47it/s]\n"
          ]
        },
        {
          "name": "stdout",
          "output_type": "stream",
          "text": [
            "385 POINTS PREDICTION ACCURACY: 0.946 $\\pm$ 0.028\n",
            "(array([1., 2., 3., 4., 5., 6.]), array([1722, 1544, 1406, 1777, 1906, 1944]))\n"
          ]
        },
        {
          "name": "stderr",
          "output_type": "stream",
          "text": [
            "10it [00:07,  1.36it/s]\n"
          ]
        },
        {
          "name": "stdout",
          "output_type": "stream",
          "text": [
            "405 POINTS PREDICTION ACCURACY: 0.950 $\\pm$ 0.026\n",
            "(array([1., 2., 3., 4., 5., 6.]), array([1722, 1544, 1406, 1777, 1906, 1944]))\n"
          ]
        },
        {
          "name": "stderr",
          "output_type": "stream",
          "text": [
            "10it [00:07,  1.32it/s]\n"
          ]
        },
        {
          "name": "stdout",
          "output_type": "stream",
          "text": [
            "425 POINTS PREDICTION ACCURACY: 0.951 $\\pm$ 0.026\n",
            "(array([1., 2., 3., 4., 5., 6.]), array([1722, 1544, 1406, 1777, 1906, 1944]))\n"
          ]
        },
        {
          "name": "stderr",
          "output_type": "stream",
          "text": [
            "10it [00:07,  1.25it/s]\n"
          ]
        },
        {
          "name": "stdout",
          "output_type": "stream",
          "text": [
            "445 POINTS PREDICTION ACCURACY: 0.952 $\\pm$ 0.023\n",
            "(array([1., 2., 3., 4., 5., 6.]), array([1722, 1544, 1406, 1777, 1906, 1944]))\n"
          ]
        },
        {
          "name": "stderr",
          "output_type": "stream",
          "text": [
            "10it [00:08,  1.17it/s]\n"
          ]
        },
        {
          "name": "stdout",
          "output_type": "stream",
          "text": [
            "465 POINTS PREDICTION ACCURACY: 0.952 $\\pm$ 0.023\n",
            "(array([1., 2., 3., 4., 5., 6.]), array([1722, 1544, 1406, 1777, 1906, 1944]))\n"
          ]
        },
        {
          "name": "stderr",
          "output_type": "stream",
          "text": [
            "10it [00:08,  1.13it/s]"
          ]
        },
        {
          "name": "stdout",
          "output_type": "stream",
          "text": [
            "485 POINTS PREDICTION ACCURACY: 0.952 $\\pm$ 0.025\n"
          ]
        },
        {
          "name": "stderr",
          "output_type": "stream",
          "text": [
            "\n"
          ]
        }
      ]
    },
    {
      "cell_type": "code",
      "metadata": {
        "id": "NrYTXhClN7xN",
        "outputId": "e985ced3-76a6-4da2-8c03-31ffe6f98183"
      },
      "source": [
        "fig, ax = plt.subplots()\n",
        "ax.plot(num_points, sub_acc_mean)\n",
        "ax.fill_between(num_points, sub_acc_mean+sub_acc_stds, sub_acc_mean-sub_acc_stds, alpha=0.5)\n",
        "plt.show()\n",
        "\n",
        "fig, ax = plt.subplots()\n",
        "ax.plot(num_points, sub_time_mean)\n",
        "ax.fill_between(num_points, sub_time_mean+sub_time_stds, sub_time_mean-sub_time_stds, alpha=0.5)\n",
        "plt.show()"
      ],
      "execution_count": null,
      "outputs": [
        {
          "data": {
            "image/png": "[encoded data removed]",
            "text/plain": [
              "<Figure size 432x288 with 1 Axes>"
            ]
          },
          "metadata": {
            "needs_background": "light"
          },
          "output_type": "display_data"
        },
        {
          "data": {
            "image/png": "[encoded data removed]",
            "text/plain": [
              "<Figure size 432x288 with 1 Axes>"
            ]
          },
          "metadata": {
            "needs_background": "light"
          },
          "output_type": "display_data"
        }
      ]
    },
    {
      "cell_type": "code",
      "metadata": {
        "scrolled": true,
        "id": "iXCxq842N7xN",
        "outputId": "ae2ece21-8f59-40c2-84ef-927919988c85"
      },
      "source": [
        "# Number of Psuedo data points\n",
        "num_points =np.arange(5, 500, 20)\n",
        "\n",
        "results = []\n",
        "times = []\n",
        "for num in num_points:\n",
        "    pred_accuracy, fit_times = do_kfold_subsampled(RandomForestClassifier(), combined_x, combined_y, num_points=num)\n",
        "    results.append(pred_accuracy)\n",
        "    times.append(fit_times)\n",
        "    \n",
        "# Get means\n",
        "sub_acc_mean = np.mean(results, axis=1)\n",
        "sub_acc_stds = np.std(results, axis=1)\n",
        "sub_time_mean = np.mean(times, axis=1)\n",
        "sub_time_stds = np.std(times, axis=1)\n",
        "\n",
        "np.save(\"./subsampled_results/rf_accuracy.npy\", pred_accuracy)\n",
        "np.save(\"./subsampled_results/rf_time.npy\", fit_times)"
      ],
      "execution_count": null,
      "outputs": [
        {
          "name": "stdout",
          "output_type": "stream",
          "text": [
            "(array([1., 2., 3., 4., 5., 6.]), array([1722, 1544, 1406, 1777, 1906, 1944]))\n"
          ]
        },
        {
          "name": "stderr",
          "output_type": "stream",
          "text": [
            "10it [00:00, 11.64it/s]\n"
          ]
        },
        {
          "name": "stdout",
          "output_type": "stream",
          "text": [
            "5 POINTS PREDICTION ACCURACY: 0.681 $\\pm$ 0.045\n",
            "(array([1., 2., 3., 4., 5., 6.]), array([1722, 1544, 1406, 1777, 1906, 1944]))\n"
          ]
        },
        {
          "name": "stderr",
          "output_type": "stream",
          "text": [
            "10it [00:01,  8.09it/s]\n"
          ]
        },
        {
          "name": "stdout",
          "output_type": "stream",
          "text": [
            "25 POINTS PREDICTION ACCURACY: 0.860 $\\pm$ 0.033\n",
            "(array([1., 2., 3., 4., 5., 6.]), array([1722, 1544, 1406, 1777, 1906, 1944]))\n"
          ]
        },
        {
          "name": "stderr",
          "output_type": "stream",
          "text": [
            "10it [00:01,  5.73it/s]\n"
          ]
        },
        {
          "name": "stdout",
          "output_type": "stream",
          "text": [
            "45 POINTS PREDICTION ACCURACY: 0.877 $\\pm$ 0.022\n",
            "(array([1., 2., 3., 4., 5., 6.]), array([1722, 1544, 1406, 1777, 1906, 1944]))\n"
          ]
        },
        {
          "name": "stderr",
          "output_type": "stream",
          "text": [
            "10it [00:02,  4.29it/s]\n"
          ]
        },
        {
          "name": "stdout",
          "output_type": "stream",
          "text": [
            "65 POINTS PREDICTION ACCURACY: 0.901 $\\pm$ 0.022\n",
            "(array([1., 2., 3., 4., 5., 6.]), array([1722, 1544, 1406, 1777, 1906, 1944]))\n"
          ]
        },
        {
          "name": "stderr",
          "output_type": "stream",
          "text": [
            "10it [00:03,  3.32it/s]\n"
          ]
        },
        {
          "name": "stdout",
          "output_type": "stream",
          "text": [
            "85 POINTS PREDICTION ACCURACY: 0.908 $\\pm$ 0.013\n",
            "(array([1., 2., 3., 4., 5., 6.]), array([1722, 1544, 1406, 1777, 1906, 1944]))\n"
          ]
        },
        {
          "name": "stderr",
          "output_type": "stream",
          "text": [
            "10it [00:03,  2.70it/s]\n"
          ]
        },
        {
          "name": "stdout",
          "output_type": "stream",
          "text": [
            "105 POINTS PREDICTION ACCURACY: 0.912 $\\pm$ 0.013\n",
            "(array([1., 2., 3., 4., 5., 6.]), array([1722, 1544, 1406, 1777, 1906, 1944]))\n"
          ]
        },
        {
          "name": "stderr",
          "output_type": "stream",
          "text": [
            "10it [00:04,  2.15it/s]\n"
          ]
        },
        {
          "name": "stdout",
          "output_type": "stream",
          "text": [
            "125 POINTS PREDICTION ACCURACY: 0.911 $\\pm$ 0.015\n",
            "(array([1., 2., 3., 4., 5., 6.]), array([1722, 1544, 1406, 1777, 1906, 1944]))\n"
          ]
        },
        {
          "name": "stderr",
          "output_type": "stream",
          "text": [
            "10it [00:05,  1.84it/s]\n"
          ]
        },
        {
          "name": "stdout",
          "output_type": "stream",
          "text": [
            "145 POINTS PREDICTION ACCURACY: 0.919 $\\pm$ 0.020\n",
            "(array([1., 2., 3., 4., 5., 6.]), array([1722, 1544, 1406, 1777, 1906, 1944]))\n"
          ]
        },
        {
          "name": "stderr",
          "output_type": "stream",
          "text": [
            "10it [00:06,  1.53it/s]\n"
          ]
        },
        {
          "name": "stdout",
          "output_type": "stream",
          "text": [
            "165 POINTS PREDICTION ACCURACY: 0.909 $\\pm$ 0.019\n",
            "(array([1., 2., 3., 4., 5., 6.]), array([1722, 1544, 1406, 1777, 1906, 1944]))\n"
          ]
        },
        {
          "name": "stderr",
          "output_type": "stream",
          "text": [
            "10it [00:07,  1.41it/s]\n"
          ]
        },
        {
          "name": "stdout",
          "output_type": "stream",
          "text": [
            "185 POINTS PREDICTION ACCURACY: 0.921 $\\pm$ 0.015\n",
            "(array([1., 2., 3., 4., 5., 6.]), array([1722, 1544, 1406, 1777, 1906, 1944]))\n"
          ]
        },
        {
          "name": "stderr",
          "output_type": "stream",
          "text": [
            "10it [00:07,  1.26it/s]\n"
          ]
        },
        {
          "name": "stdout",
          "output_type": "stream",
          "text": [
            "205 POINTS PREDICTION ACCURACY: 0.923 $\\pm$ 0.021\n",
            "(array([1., 2., 3., 4., 5., 6.]), array([1722, 1544, 1406, 1777, 1906, 1944]))\n"
          ]
        },
        {
          "name": "stderr",
          "output_type": "stream",
          "text": [
            "10it [00:08,  1.15it/s]\n"
          ]
        },
        {
          "name": "stdout",
          "output_type": "stream",
          "text": [
            "225 POINTS PREDICTION ACCURACY: 0.918 $\\pm$ 0.017\n",
            "(array([1., 2., 3., 4., 5., 6.]), array([1722, 1544, 1406, 1777, 1906, 1944]))\n"
          ]
        },
        {
          "name": "stderr",
          "output_type": "stream",
          "text": [
            "7it [00:06,  1.05it/s]"
          ]
        }
      ]
    },
    {
      "cell_type": "markdown",
      "metadata": {
        "id": "0nGaKyLaPY87"
      },
      "source": [
        "### Fractional Subsample"
      ]
    },
    {
      "cell_type": "code",
      "metadata": {
        "id": "8_1OO4ZLPcJm"
      },
      "source": [
        "def do_kfold_frac_subsampled(model, x_data, y_data, sample_frac=0.1, folds=10, seed=1):\n",
        "         \n",
        "    # Do KFold\n",
        "    kf = KFold(folds)\n",
        "    np.random.seed(seed)\n",
        "    \n",
        "    # KF training\n",
        "    pred_accuracy = []\n",
        "    fit_times = []\n",
        "    for idx, (train_idx, test_idx) in tqdm(enumerate(kf.split(list(range(len(y_data)))))): \n",
        "        \n",
        "        # Sample idx\n",
        "        sample_idx = np.random.choice(range(len(train_idx)), size=int(len(train_idx)*sample_frac))\n",
        "\n",
        "        sampled_combined = x_data[train_idx][sample_idx]\n",
        "        labels = y_data[train_idx][sample_idx]\n",
        "\n",
        "        scalar = StandardScaler().fit(sampled_combined)\n",
        "        standardized = scalar.transform(sampled_combined)\n",
        "\n",
        "        # Fit and time model\n",
        "        start = time.time()\n",
        "        model.fit(standardized, labels)\n",
        "        fit_times.append(time.time() - start)\n",
        "        \n",
        "        # Score model\n",
        "        preds = model.predict(scalar.transform(x_data[test_idx]))\n",
        "        score = accuracy_score(preds, y_data[test_idx])\n",
        "        pred_accuracy.append(score)\n",
        "        \n",
        "    print(r\"{0} FRAC  {1} POINTS PREDICTION ACCURACY: {2:.3f} $\\pm$ {3:.3f}\".format(sample_frac, len(sample_idx), np.mean(pred_accuracy), np.std(pred_accuracy)))\n",
        "    return pred_accuracy, fit_times"
      ],
      "execution_count": 56,
      "outputs": []
    },
    {
      "cell_type": "markdown",
      "metadata": {
        "id": "hLB69zafau3r"
      },
      "source": [
        "#### SVM Linear"
      ]
    },
    {
      "cell_type": "code",
      "metadata": {
        "colab": {
          "base_uri": "https://localhost:8080/"
        },
        "id": "_yFu-F7-QIje",
        "outputId": "66c88fbd-9c51-49df-9910-1079e8b69e67"
      },
      "source": [
        "# Number of Psuedo data points\n",
        "num_points = [0.001, 0.005, 0.01, 0.02, 0.03, 0.04, 0.05, 0.075, 0.1, 0.125, 0.15, 0.2, 0.25, 0.3, 0.4, 0.5]\n",
        "\n",
        "results = []\n",
        "times = []\n",
        "for num in num_points:\n",
        "    pred_accuracy, fit_times = do_kfold_frac_subsampled(svm.SVC(kernel='linear', C=1), combined_x, combined_y, sample_frac=num)\n",
        "    results.append(pred_accuracy)\n",
        "    times.append(fit_times)\n",
        "    \n",
        "# Get means\n",
        "sub_acc_mean = np.mean(results, axis=1)\n",
        "sub_acc_stds = np.std(results, axis=1)\n",
        "sub_time_mean = np.mean(times, axis=1)\n",
        "sub_time_stds = np.std(times, axis=1)\n",
        "\n",
        "np.save(\"./subsampled_results/svm_linear_accuracy.npy\", results)\n",
        "np.save(\"./subsampled_results/svm_linear_time.npy\", times)"
      ],
      "execution_count": 57,
      "outputs": [
        {
          "output_type": "stream",
          "name": "stderr",
          "text": [
            "10it [00:00, 45.33it/s]\n"
          ]
        },
        {
          "output_type": "stream",
          "name": "stdout",
          "text": [
            "0.001 FRAC  9 POINTS PREDICTION ACCURACY: 0.490 $\\pm$ 0.055\n"
          ]
        },
        {
          "output_type": "stream",
          "name": "stderr",
          "text": [
            "10it [00:00, 35.38it/s]\n"
          ]
        },
        {
          "output_type": "stream",
          "name": "stdout",
          "text": [
            "0.005 FRAC  46 POINTS PREDICTION ACCURACY: 0.732 $\\pm$ 0.046\n"
          ]
        },
        {
          "output_type": "stream",
          "name": "stderr",
          "text": [
            "10it [00:00, 27.42it/s]\n"
          ]
        },
        {
          "output_type": "stream",
          "name": "stdout",
          "text": [
            "0.01 FRAC  92 POINTS PREDICTION ACCURACY: 0.838 $\\pm$ 0.034\n"
          ]
        },
        {
          "output_type": "stream",
          "name": "stderr",
          "text": [
            "10it [00:00, 20.27it/s]\n"
          ]
        },
        {
          "output_type": "stream",
          "name": "stdout",
          "text": [
            "0.02 FRAC  185 POINTS PREDICTION ACCURACY: 0.872 $\\pm$ 0.025\n"
          ]
        },
        {
          "output_type": "stream",
          "name": "stderr",
          "text": [
            "10it [00:00, 15.97it/s]\n"
          ]
        },
        {
          "output_type": "stream",
          "name": "stdout",
          "text": [
            "0.03 FRAC  278 POINTS PREDICTION ACCURACY: 0.889 $\\pm$ 0.031\n"
          ]
        },
        {
          "output_type": "stream",
          "name": "stderr",
          "text": [
            "10it [00:00, 14.00it/s]\n"
          ]
        },
        {
          "output_type": "stream",
          "name": "stdout",
          "text": [
            "0.04 FRAC  370 POINTS PREDICTION ACCURACY: 0.894 $\\pm$ 0.028\n"
          ]
        },
        {
          "output_type": "stream",
          "name": "stderr",
          "text": [
            "10it [00:00, 11.44it/s]\n"
          ]
        },
        {
          "output_type": "stream",
          "name": "stdout",
          "text": [
            "0.05 FRAC  463 POINTS PREDICTION ACCURACY: 0.898 $\\pm$ 0.031\n"
          ]
        },
        {
          "output_type": "stream",
          "name": "stderr",
          "text": [
            "10it [00:01,  7.98it/s]\n"
          ]
        },
        {
          "output_type": "stream",
          "name": "stdout",
          "text": [
            "0.075 FRAC  695 POINTS PREDICTION ACCURACY: 0.911 $\\pm$ 0.020\n"
          ]
        },
        {
          "output_type": "stream",
          "name": "stderr",
          "text": [
            "10it [00:01,  6.27it/s]\n"
          ]
        },
        {
          "output_type": "stream",
          "name": "stdout",
          "text": [
            "0.1 FRAC  927 POINTS PREDICTION ACCURACY: 0.918 $\\pm$ 0.022\n"
          ]
        },
        {
          "output_type": "stream",
          "name": "stderr",
          "text": [
            "10it [00:01,  5.14it/s]\n"
          ]
        },
        {
          "output_type": "stream",
          "name": "stdout",
          "text": [
            "0.125 FRAC  1158 POINTS PREDICTION ACCURACY: 0.923 $\\pm$ 0.030\n"
          ]
        },
        {
          "output_type": "stream",
          "name": "stderr",
          "text": [
            "10it [00:02,  4.35it/s]\n"
          ]
        },
        {
          "output_type": "stream",
          "name": "stdout",
          "text": [
            "0.15 FRAC  1390 POINTS PREDICTION ACCURACY: 0.930 $\\pm$ 0.026\n"
          ]
        },
        {
          "output_type": "stream",
          "name": "stderr",
          "text": [
            "10it [00:02,  3.36it/s]\n"
          ]
        },
        {
          "output_type": "stream",
          "name": "stdout",
          "text": [
            "0.2 FRAC  1854 POINTS PREDICTION ACCURACY: 0.933 $\\pm$ 0.021\n"
          ]
        },
        {
          "output_type": "stream",
          "name": "stderr",
          "text": [
            "10it [00:03,  2.73it/s]\n"
          ]
        },
        {
          "output_type": "stream",
          "name": "stdout",
          "text": [
            "0.25 FRAC  2317 POINTS PREDICTION ACCURACY: 0.933 $\\pm$ 0.025\n"
          ]
        },
        {
          "output_type": "stream",
          "name": "stderr",
          "text": [
            "10it [00:04,  2.22it/s]\n"
          ]
        },
        {
          "output_type": "stream",
          "name": "stdout",
          "text": [
            "0.3 FRAC  2781 POINTS PREDICTION ACCURACY: 0.941 $\\pm$ 0.027\n"
          ]
        },
        {
          "output_type": "stream",
          "name": "stderr",
          "text": [
            "10it [00:06,  1.55it/s]\n"
          ]
        },
        {
          "output_type": "stream",
          "name": "stdout",
          "text": [
            "0.4 FRAC  3708 POINTS PREDICTION ACCURACY: 0.946 $\\pm$ 0.025\n"
          ]
        },
        {
          "output_type": "stream",
          "name": "stderr",
          "text": [
            "10it [00:08,  1.21it/s]"
          ]
        },
        {
          "output_type": "stream",
          "name": "stdout",
          "text": [
            "0.5 FRAC  4635 POINTS PREDICTION ACCURACY: 0.947 $\\pm$ 0.020\n"
          ]
        },
        {
          "output_type": "stream",
          "name": "stderr",
          "text": [
            "\n"
          ]
        }
      ]
    },
    {
      "cell_type": "code",
      "metadata": {
        "colab": {
          "base_uri": "https://localhost:8080/",
          "height": 513
        },
        "id": "cYDhz_ECTOkJ",
        "outputId": "75f33208-8f45-4892-ad67-bb8ee9eee5ed"
      },
      "source": [
        "fig, ax = plt.subplots()\n",
        "ax.plot(num_points, sub_acc_mean)\n",
        "ax.fill_between(num_points, sub_acc_mean+sub_acc_stds, sub_acc_mean-sub_acc_stds, alpha=0.5)\n",
        "plt.show()\n",
        "\n",
        "fig, ax = plt.subplots()\n",
        "ax.plot(num_points, sub_time_mean)\n",
        "ax.fill_between(num_points, sub_time_mean+sub_time_stds, sub_time_mean-sub_time_stds, alpha=0.5)\n",
        "plt.show()"
      ],
      "execution_count": 58,
      "outputs": [
        {
          "output_type": "display_data",
          "data": {
            "image/png": "[encoded data removed]",
            "text/plain": [
              "<Figure size 432x288 with 1 Axes>"
            ]
          },
          "metadata": {
            "needs_background": "light"
          }
        },
        {
          "output_type": "display_data",
          "data": {
            "image/png": "[encoded data removed]",
            "text/plain": [
              "<Figure size 432x288 with 1 Axes>"
            ]
          },
          "metadata": {
            "needs_background": "light"
          }
        }
      ]
    },
    {
      "cell_type": "markdown",
      "metadata": {
        "id": "jkMMKGJ_awu1"
      },
      "source": [
        "#### SVM Poly"
      ]
    },
    {
      "cell_type": "code",
      "metadata": {
        "colab": {
          "base_uri": "https://localhost:8080/"
        },
        "id": "xPudSOIzU9rw",
        "outputId": "6619addc-be3c-41a4-a468-20f1f576d56c"
      },
      "source": [
        "# Number of Psuedo data points\n",
        "num_points = [0.001, 0.005, 0.01, 0.02, 0.03, 0.04, 0.05, 0.075, 0.1, 0.125, 0.15, 0.2, 0.25, 0.3, 0.4, 0.5]\n",
        "\n",
        "results = []\n",
        "times = []\n",
        "for num in num_points:\n",
        "    pred_accuracy, fit_times = do_kfold_frac_subsampled(svm.SVC(kernel='poly', C=1), combined_x, combined_y, sample_frac=num)\n",
        "    results.append(pred_accuracy)\n",
        "    times.append(fit_times)\n",
        "    \n",
        "# Get means\n",
        "sub_acc_mean = np.mean(results, axis=1)\n",
        "sub_acc_stds = np.std(results, axis=1)\n",
        "sub_time_mean = np.mean(times, axis=1)\n",
        "sub_time_stds = np.std(times, axis=1)\n",
        "\n",
        "np.save(\"./subsampled_results/svm_poly_accuracy.npy\", results)\n",
        "np.save(\"./subsampled_results/svm_poly_time.npy\", times)"
      ],
      "execution_count": 59,
      "outputs": [
        {
          "output_type": "stream",
          "name": "stderr",
          "text": [
            "10it [00:00, 45.86it/s]\n"
          ]
        },
        {
          "output_type": "stream",
          "name": "stdout",
          "text": [
            "0.001 FRAC  9 POINTS PREDICTION ACCURACY: 0.338 $\\pm$ 0.035\n"
          ]
        },
        {
          "output_type": "stream",
          "name": "stderr",
          "text": [
            "10it [00:00, 32.94it/s]\n"
          ]
        },
        {
          "output_type": "stream",
          "name": "stdout",
          "text": [
            "0.005 FRAC  46 POINTS PREDICTION ACCURACY: 0.453 $\\pm$ 0.101\n"
          ]
        },
        {
          "output_type": "stream",
          "name": "stderr",
          "text": [
            "10it [00:00, 25.62it/s]\n"
          ]
        },
        {
          "output_type": "stream",
          "name": "stdout",
          "text": [
            "0.01 FRAC  92 POINTS PREDICTION ACCURACY: 0.585 $\\pm$ 0.048\n"
          ]
        },
        {
          "output_type": "stream",
          "name": "stderr",
          "text": [
            "10it [00:00, 17.19it/s]\n"
          ]
        },
        {
          "output_type": "stream",
          "name": "stdout",
          "text": [
            "0.02 FRAC  185 POINTS PREDICTION ACCURACY: 0.666 $\\pm$ 0.051\n"
          ]
        },
        {
          "output_type": "stream",
          "name": "stderr",
          "text": [
            "10it [00:00, 11.94it/s]\n"
          ]
        },
        {
          "output_type": "stream",
          "name": "stdout",
          "text": [
            "0.03 FRAC  278 POINTS PREDICTION ACCURACY: 0.727 $\\pm$ 0.035\n"
          ]
        },
        {
          "output_type": "stream",
          "name": "stderr",
          "text": [
            "10it [00:01,  8.85it/s]\n"
          ]
        },
        {
          "output_type": "stream",
          "name": "stdout",
          "text": [
            "0.04 FRAC  370 POINTS PREDICTION ACCURACY: 0.764 $\\pm$ 0.039\n"
          ]
        },
        {
          "output_type": "stream",
          "name": "stderr",
          "text": [
            "10it [00:01,  7.07it/s]\n"
          ]
        },
        {
          "output_type": "stream",
          "name": "stdout",
          "text": [
            "0.05 FRAC  463 POINTS PREDICTION ACCURACY: 0.807 $\\pm$ 0.041\n"
          ]
        },
        {
          "output_type": "stream",
          "name": "stderr",
          "text": [
            "10it [00:02,  4.82it/s]\n"
          ]
        },
        {
          "output_type": "stream",
          "name": "stdout",
          "text": [
            "0.075 FRAC  695 POINTS PREDICTION ACCURACY: 0.845 $\\pm$ 0.030\n"
          ]
        },
        {
          "output_type": "stream",
          "name": "stderr",
          "text": [
            "10it [00:02,  3.42it/s]\n"
          ]
        },
        {
          "output_type": "stream",
          "name": "stdout",
          "text": [
            "0.1 FRAC  927 POINTS PREDICTION ACCURACY: 0.872 $\\pm$ 0.023\n"
          ]
        },
        {
          "output_type": "stream",
          "name": "stderr",
          "text": [
            "10it [00:03,  2.59it/s]\n"
          ]
        },
        {
          "output_type": "stream",
          "name": "stdout",
          "text": [
            "0.125 FRAC  1158 POINTS PREDICTION ACCURACY: 0.880 $\\pm$ 0.028\n"
          ]
        },
        {
          "output_type": "stream",
          "name": "stderr",
          "text": [
            "10it [00:04,  2.14it/s]\n"
          ]
        },
        {
          "output_type": "stream",
          "name": "stdout",
          "text": [
            "0.15 FRAC  1390 POINTS PREDICTION ACCURACY: 0.890 $\\pm$ 0.024\n"
          ]
        },
        {
          "output_type": "stream",
          "name": "stderr",
          "text": [
            "10it [00:06,  1.55it/s]\n"
          ]
        },
        {
          "output_type": "stream",
          "name": "stdout",
          "text": [
            "0.2 FRAC  1854 POINTS PREDICTION ACCURACY: 0.900 $\\pm$ 0.022\n"
          ]
        },
        {
          "output_type": "stream",
          "name": "stderr",
          "text": [
            "10it [00:08,  1.18it/s]\n"
          ]
        },
        {
          "output_type": "stream",
          "name": "stdout",
          "text": [
            "0.25 FRAC  2317 POINTS PREDICTION ACCURACY: 0.906 $\\pm$ 0.024\n"
          ]
        },
        {
          "output_type": "stream",
          "name": "stderr",
          "text": [
            "10it [00:10,  1.07s/it]\n"
          ]
        },
        {
          "output_type": "stream",
          "name": "stdout",
          "text": [
            "0.3 FRAC  2781 POINTS PREDICTION ACCURACY: 0.915 $\\pm$ 0.024\n"
          ]
        },
        {
          "output_type": "stream",
          "name": "stderr",
          "text": [
            "10it [00:15,  1.55s/it]\n"
          ]
        },
        {
          "output_type": "stream",
          "name": "stdout",
          "text": [
            "0.4 FRAC  3708 POINTS PREDICTION ACCURACY: 0.921 $\\pm$ 0.023\n"
          ]
        },
        {
          "output_type": "stream",
          "name": "stderr",
          "text": [
            "10it [00:20,  2.06s/it]"
          ]
        },
        {
          "output_type": "stream",
          "name": "stdout",
          "text": [
            "0.5 FRAC  4635 POINTS PREDICTION ACCURACY: 0.926 $\\pm$ 0.022\n"
          ]
        },
        {
          "output_type": "stream",
          "name": "stderr",
          "text": [
            "\n"
          ]
        }
      ]
    },
    {
      "cell_type": "code",
      "metadata": {
        "colab": {
          "base_uri": "https://localhost:8080/",
          "height": 513
        },
        "id": "H_0F5UIdVDpv",
        "outputId": "53c47346-96f4-49c1-ebe7-94b5eae3def8"
      },
      "source": [
        "fig, ax = plt.subplots()\n",
        "ax.plot(num_points, sub_acc_mean)\n",
        "ax.fill_between(num_points, sub_acc_mean+sub_acc_stds, sub_acc_mean-sub_acc_stds, alpha=0.5)\n",
        "plt.show()\n",
        "\n",
        "fig, ax = plt.subplots()\n",
        "ax.plot(num_points, sub_time_mean)\n",
        "ax.fill_between(num_points, sub_time_mean+sub_time_stds, sub_time_mean-sub_time_stds, alpha=0.5)\n",
        "plt.show()"
      ],
      "execution_count": 60,
      "outputs": [
        {
          "output_type": "display_data",
          "data": {
            "image/png": "[encoded data removed]",
            "text/plain": [
              "<Figure size 432x288 with 1 Axes>"
            ]
          },
          "metadata": {
            "needs_background": "light"
          }
        },
        {
          "output_type": "display_data",
          "data": {
            "image/png": "[encoded data removed]",
            "text/plain": [
              "<Figure size 432x288 with 1 Axes>"
            ]
          },
          "metadata": {
            "needs_background": "light"
          }
        }
      ]
    },
    {
      "cell_type": "markdown",
      "metadata": {
        "id": "-Oyd3JXKaydZ"
      },
      "source": [
        "#### Logistic Regression"
      ]
    },
    {
      "cell_type": "code",
      "metadata": {
        "colab": {
          "base_uri": "https://localhost:8080/"
        },
        "id": "S7mInwzbWJf8",
        "outputId": "a8aca8cc-5e31-43ee-f08b-6eaf479864fb"
      },
      "source": [
        "# Number of Psuedo data points\n",
        "num_points = [0.001, 0.005, 0.01, 0.02, 0.03, 0.04, 0.05, 0.075, 0.1, 0.125, 0.15, 0.2, 0.25, 0.3, 0.4, 0.5]\n",
        "\n",
        "results = []\n",
        "times = []\n",
        "for num in num_points:\n",
        "    pred_accuracy, fit_times = do_kfold_frac_subsampled(LogisticRegression(multi_class='ovr', solver='liblinear'), combined_x, combined_y, sample_frac=num)\n",
        "    results.append(pred_accuracy)\n",
        "    times.append(fit_times)\n",
        "    \n",
        "# Get means\n",
        "sub_acc_mean = np.mean(results, axis=1)\n",
        "sub_acc_stds = np.std(results, axis=1)\n",
        "sub_time_mean = np.mean(times, axis=1)\n",
        "sub_time_stds = np.std(times, axis=1)\n",
        "\n",
        "np.save(\"./subsampled_results/lr_accuracy.npy\", results)\n",
        "np.save(\"./subsampled_results/lr_time.npy\", times)"
      ],
      "execution_count": 61,
      "outputs": [
        {
          "output_type": "stream",
          "name": "stderr",
          "text": [
            "10it [00:00, 34.33it/s]\n"
          ]
        },
        {
          "output_type": "stream",
          "name": "stdout",
          "text": [
            "0.001 FRAC  9 POINTS PREDICTION ACCURACY: 0.517 $\\pm$ 0.066\n"
          ]
        },
        {
          "output_type": "stream",
          "name": "stderr",
          "text": [
            "10it [00:00, 15.93it/s]\n"
          ]
        },
        {
          "output_type": "stream",
          "name": "stdout",
          "text": [
            "0.005 FRAC  46 POINTS PREDICTION ACCURACY: 0.734 $\\pm$ 0.056\n"
          ]
        },
        {
          "output_type": "stream",
          "name": "stderr",
          "text": [
            "10it [00:01,  9.92it/s]\n"
          ]
        },
        {
          "output_type": "stream",
          "name": "stdout",
          "text": [
            "0.01 FRAC  92 POINTS PREDICTION ACCURACY: 0.838 $\\pm$ 0.022\n"
          ]
        },
        {
          "output_type": "stream",
          "name": "stderr",
          "text": [
            "10it [00:01,  5.84it/s]\n"
          ]
        },
        {
          "output_type": "stream",
          "name": "stdout",
          "text": [
            "0.02 FRAC  185 POINTS PREDICTION ACCURACY: 0.875 $\\pm$ 0.022\n"
          ]
        },
        {
          "output_type": "stream",
          "name": "stderr",
          "text": [
            "10it [00:02,  4.10it/s]\n"
          ]
        },
        {
          "output_type": "stream",
          "name": "stdout",
          "text": [
            "0.03 FRAC  278 POINTS PREDICTION ACCURACY: 0.895 $\\pm$ 0.033\n"
          ]
        },
        {
          "output_type": "stream",
          "name": "stderr",
          "text": [
            "10it [00:03,  3.13it/s]\n"
          ]
        },
        {
          "output_type": "stream",
          "name": "stdout",
          "text": [
            "0.04 FRAC  370 POINTS PREDICTION ACCURACY: 0.901 $\\pm$ 0.033\n"
          ]
        },
        {
          "output_type": "stream",
          "name": "stderr",
          "text": [
            "10it [00:03,  2.59it/s]\n"
          ]
        },
        {
          "output_type": "stream",
          "name": "stdout",
          "text": [
            "0.05 FRAC  463 POINTS PREDICTION ACCURACY: 0.908 $\\pm$ 0.028\n"
          ]
        },
        {
          "output_type": "stream",
          "name": "stderr",
          "text": [
            "10it [00:05,  1.75it/s]\n"
          ]
        },
        {
          "output_type": "stream",
          "name": "stdout",
          "text": [
            "0.075 FRAC  695 POINTS PREDICTION ACCURACY: 0.923 $\\pm$ 0.019\n"
          ]
        },
        {
          "output_type": "stream",
          "name": "stderr",
          "text": [
            "10it [00:07,  1.29it/s]\n"
          ]
        },
        {
          "output_type": "stream",
          "name": "stdout",
          "text": [
            "0.1 FRAC  927 POINTS PREDICTION ACCURACY: 0.927 $\\pm$ 0.027\n"
          ]
        },
        {
          "output_type": "stream",
          "name": "stderr",
          "text": [
            "10it [00:10,  1.09s/it]\n"
          ]
        },
        {
          "output_type": "stream",
          "name": "stdout",
          "text": [
            "0.125 FRAC  1158 POINTS PREDICTION ACCURACY: 0.936 $\\pm$ 0.027\n"
          ]
        },
        {
          "output_type": "stream",
          "name": "stderr",
          "text": [
            "10it [00:14,  1.43s/it]\n"
          ]
        },
        {
          "output_type": "stream",
          "name": "stdout",
          "text": [
            "0.15 FRAC  1390 POINTS PREDICTION ACCURACY: 0.935 $\\pm$ 0.027\n"
          ]
        },
        {
          "output_type": "stream",
          "name": "stderr",
          "text": [
            "10it [00:22,  2.25s/it]\n"
          ]
        },
        {
          "output_type": "stream",
          "name": "stdout",
          "text": [
            "0.2 FRAC  1854 POINTS PREDICTION ACCURACY: 0.942 $\\pm$ 0.026\n"
          ]
        },
        {
          "output_type": "stream",
          "name": "stderr",
          "text": [
            "10it [00:31,  3.14s/it]\n"
          ]
        },
        {
          "output_type": "stream",
          "name": "stdout",
          "text": [
            "0.25 FRAC  2317 POINTS PREDICTION ACCURACY: 0.943 $\\pm$ 0.025\n"
          ]
        },
        {
          "output_type": "stream",
          "name": "stderr",
          "text": [
            "10it [00:39,  3.98s/it]\n"
          ]
        },
        {
          "output_type": "stream",
          "name": "stdout",
          "text": [
            "0.3 FRAC  2781 POINTS PREDICTION ACCURACY: 0.947 $\\pm$ 0.032\n"
          ]
        },
        {
          "output_type": "stream",
          "name": "stderr",
          "text": [
            "10it [00:55,  5.57s/it]\n"
          ]
        },
        {
          "output_type": "stream",
          "name": "stdout",
          "text": [
            "0.4 FRAC  3708 POINTS PREDICTION ACCURACY: 0.951 $\\pm$ 0.026\n"
          ]
        },
        {
          "output_type": "stream",
          "name": "stderr",
          "text": [
            "10it [01:14,  7.47s/it]"
          ]
        },
        {
          "output_type": "stream",
          "name": "stdout",
          "text": [
            "0.5 FRAC  4635 POINTS PREDICTION ACCURACY: 0.952 $\\pm$ 0.024\n"
          ]
        },
        {
          "output_type": "stream",
          "name": "stderr",
          "text": [
            "\n"
          ]
        }
      ]
    },
    {
      "cell_type": "code",
      "metadata": {
        "colab": {
          "base_uri": "https://localhost:8080/",
          "height": 518
        },
        "id": "zpYBGYZUWlEV",
        "outputId": "3d6ad370-fe3d-4427-e31f-92ac1e88afd5"
      },
      "source": [
        "fig, ax = plt.subplots()\n",
        "ax.plot(num_points, sub_acc_mean)\n",
        "ax.fill_between(num_points, sub_acc_mean+sub_acc_stds, sub_acc_mean-sub_acc_stds, alpha=0.5)\n",
        "plt.show()\n",
        "\n",
        "fig, ax = plt.subplots()\n",
        "ax.plot(num_points, sub_time_mean)\n",
        "ax.fill_between(num_points, sub_time_mean+sub_time_stds, sub_time_mean-sub_time_stds, alpha=0.5)\n",
        "plt.show()"
      ],
      "execution_count": 62,
      "outputs": [
        {
          "output_type": "display_data",
          "data": {
            "image/png": "[encoded data removed]",
            "text/plain": [
              "<Figure size 432x288 with 1 Axes>"
            ]
          },
          "metadata": {
            "needs_background": "light"
          }
        },
        {
          "output_type": "display_data",
          "data": {
            "image/png": "[encoded data removed]",
            "text/plain": [
              "<Figure size 432x288 with 1 Axes>"
            ]
          },
          "metadata": {
            "needs_background": "light"
          }
        }
      ]
    },
    {
      "cell_type": "markdown",
      "metadata": {
        "id": "LA08kXILa1Jk"
      },
      "source": [
        "#### Random Forest"
      ]
    },
    {
      "cell_type": "code",
      "metadata": {
        "colab": {
          "base_uri": "https://localhost:8080/"
        },
        "id": "UcvrrW_fWzTt",
        "outputId": "a096c82a-fdd8-4d3c-d9f4-d17f2a16948e"
      },
      "source": [
        "# Number of Psuedo data points\n",
        "num_points = [0.001, 0.005, 0.01, 0.02, 0.03, 0.04, 0.05, 0.075, 0.1, 0.125, 0.15, 0.2, 0.25, 0.3, 0.4, 0.5]\n",
        "\n",
        "results = []\n",
        "times = []\n",
        "for num in num_points:\n",
        "    pred_accuracy, fit_times = do_kfold_frac_subsampled(RandomForestClassifier(), combined_x, combined_y, sample_frac=num)\n",
        "    results.append(pred_accuracy)\n",
        "    times.append(fit_times)\n",
        "    \n",
        "# Get means\n",
        "sub_acc_mean = np.mean(results, axis=1)\n",
        "sub_acc_stds = np.std(results, axis=1)\n",
        "sub_time_mean = np.mean(times, axis=1)\n",
        "sub_time_stds = np.std(times, axis=1)\n",
        "\n",
        "np.save(\"./subsampled_results/rf_accuracy.npy\", results)\n",
        "np.save(\"./subsampled_results/rf_time.npy\", times)"
      ],
      "execution_count": 63,
      "outputs": [
        {
          "output_type": "stream",
          "name": "stderr",
          "text": [
            "10it [00:01,  5.28it/s]\n"
          ]
        },
        {
          "output_type": "stream",
          "name": "stdout",
          "text": [
            "0.001 FRAC  9 POINTS PREDICTION ACCURACY: 0.391 $\\pm$ 0.046\n"
          ]
        },
        {
          "output_type": "stream",
          "name": "stderr",
          "text": [
            "10it [00:02,  4.84it/s]\n"
          ]
        },
        {
          "output_type": "stream",
          "name": "stdout",
          "text": [
            "0.005 FRAC  46 POINTS PREDICTION ACCURACY: 0.733 $\\pm$ 0.072\n"
          ]
        },
        {
          "output_type": "stream",
          "name": "stderr",
          "text": [
            "10it [00:02,  4.25it/s]\n"
          ]
        },
        {
          "output_type": "stream",
          "name": "stdout",
          "text": [
            "0.01 FRAC  92 POINTS PREDICTION ACCURACY: 0.843 $\\pm$ 0.042\n"
          ]
        },
        {
          "output_type": "stream",
          "name": "stderr",
          "text": [
            "10it [00:03,  3.26it/s]\n"
          ]
        },
        {
          "output_type": "stream",
          "name": "stdout",
          "text": [
            "0.02 FRAC  185 POINTS PREDICTION ACCURACY: 0.880 $\\pm$ 0.023\n"
          ]
        },
        {
          "output_type": "stream",
          "name": "stderr",
          "text": [
            "10it [00:03,  2.50it/s]\n"
          ]
        },
        {
          "output_type": "stream",
          "name": "stdout",
          "text": [
            "0.03 FRAC  278 POINTS PREDICTION ACCURACY: 0.892 $\\pm$ 0.024\n"
          ]
        },
        {
          "output_type": "stream",
          "name": "stderr",
          "text": [
            "10it [00:04,  2.02it/s]\n"
          ]
        },
        {
          "output_type": "stream",
          "name": "stdout",
          "text": [
            "0.04 FRAC  370 POINTS PREDICTION ACCURACY: 0.886 $\\pm$ 0.020\n"
          ]
        },
        {
          "output_type": "stream",
          "name": "stderr",
          "text": [
            "10it [00:06,  1.67it/s]\n"
          ]
        },
        {
          "output_type": "stream",
          "name": "stdout",
          "text": [
            "0.05 FRAC  463 POINTS PREDICTION ACCURACY: 0.897 $\\pm$ 0.015\n"
          ]
        },
        {
          "output_type": "stream",
          "name": "stderr",
          "text": [
            "10it [00:08,  1.14it/s]\n"
          ]
        },
        {
          "output_type": "stream",
          "name": "stdout",
          "text": [
            "0.075 FRAC  695 POINTS PREDICTION ACCURACY: 0.909 $\\pm$ 0.014\n"
          ]
        },
        {
          "output_type": "stream",
          "name": "stderr",
          "text": [
            "10it [00:11,  1.18s/it]\n"
          ]
        },
        {
          "output_type": "stream",
          "name": "stdout",
          "text": [
            "0.1 FRAC  927 POINTS PREDICTION ACCURACY: 0.914 $\\pm$ 0.014\n"
          ]
        },
        {
          "output_type": "stream",
          "name": "stderr",
          "text": [
            "10it [00:15,  1.51s/it]\n"
          ]
        },
        {
          "output_type": "stream",
          "name": "stdout",
          "text": [
            "0.125 FRAC  1158 POINTS PREDICTION ACCURACY: 0.917 $\\pm$ 0.016\n"
          ]
        },
        {
          "output_type": "stream",
          "name": "stderr",
          "text": [
            "10it [00:18,  1.84s/it]\n"
          ]
        },
        {
          "output_type": "stream",
          "name": "stdout",
          "text": [
            "0.15 FRAC  1390 POINTS PREDICTION ACCURACY: 0.914 $\\pm$ 0.014\n"
          ]
        },
        {
          "output_type": "stream",
          "name": "stderr",
          "text": [
            "10it [00:25,  2.54s/it]\n"
          ]
        },
        {
          "output_type": "stream",
          "name": "stdout",
          "text": [
            "0.2 FRAC  1854 POINTS PREDICTION ACCURACY: 0.919 $\\pm$ 0.016\n"
          ]
        },
        {
          "output_type": "stream",
          "name": "stderr",
          "text": [
            "10it [00:32,  3.29s/it]\n"
          ]
        },
        {
          "output_type": "stream",
          "name": "stdout",
          "text": [
            "0.25 FRAC  2317 POINTS PREDICTION ACCURACY: 0.925 $\\pm$ 0.012\n"
          ]
        },
        {
          "output_type": "stream",
          "name": "stderr",
          "text": [
            "10it [00:40,  4.07s/it]\n"
          ]
        },
        {
          "output_type": "stream",
          "name": "stdout",
          "text": [
            "0.3 FRAC  2781 POINTS PREDICTION ACCURACY: 0.925 $\\pm$ 0.015\n"
          ]
        },
        {
          "output_type": "stream",
          "name": "stderr",
          "text": [
            "10it [00:56,  5.65s/it]\n"
          ]
        },
        {
          "output_type": "stream",
          "name": "stdout",
          "text": [
            "0.4 FRAC  3708 POINTS PREDICTION ACCURACY: 0.929 $\\pm$ 0.015\n"
          ]
        },
        {
          "output_type": "stream",
          "name": "stderr",
          "text": [
            "10it [01:12,  7.27s/it]"
          ]
        },
        {
          "output_type": "stream",
          "name": "stdout",
          "text": [
            "0.5 FRAC  4635 POINTS PREDICTION ACCURACY: 0.932 $\\pm$ 0.015\n"
          ]
        },
        {
          "output_type": "stream",
          "name": "stderr",
          "text": [
            "\n"
          ]
        }
      ]
    },
    {
      "cell_type": "markdown",
      "metadata": {
        "id": "JjJwBr7jarxC"
      },
      "source": [
        "#### NN"
      ]
    },
    {
      "cell_type": "code",
      "metadata": {
        "id": "c41vg2L7as5H"
      },
      "source": [
        "def do_kfold_nn_frac_subsampled(model, x_data, y_data, sample_frac=0.1, folds=10, seed=1):\n",
        "         \n",
        "    # Do KFold\n",
        "    kf = KFold(folds)\n",
        "    np.random.seed(seed)\n",
        "    \n",
        "    # KF training\n",
        "    pred_accuracy = []\n",
        "    fit_times = []\n",
        "    for idx, (train_idx, test_idx) in tqdm(enumerate(kf.split(list(range(len(y_data)))))): \n",
        "        \n",
        "        # Sample idx\n",
        "        sample_idx = np.random.choice(range(len(train_idx)), size=int(len(train_idx)*sample_frac))\n",
        "\n",
        "        sampled_combined = x_data[train_idx][sample_idx].astype('float32')\n",
        "        labels = y_data[train_idx][sample_idx]\n",
        "\n",
        "        # Fit and time model\n",
        "        start = time.time()\n",
        "        print(labels.shape)\n",
        "        model.fit(sampled_combined, labels, batch_size = 30, epochs = 5)\n",
        "\n",
        "        fit_times.append(time.time() - start)\n",
        "        \n",
        "        # Score model\n",
        "        #preds = model.predict(x_data[test_idx])\n",
        "        #score = accuracy_score(preds, y_data[test_idx])\n",
        "        loss, score = model.evaluate(x_data[test_idx], y_data[test_idx], verbose=0)\n",
        "        pred_accuracy.append(score)\n",
        "        \n",
        "    print(r\"{0} FRAC  {1} POINTS PREDICTION ACCURACY: {2:.3f} $\\pm$ {3:.3f}\".format(sample_frac, len(sample_idx), np.mean(pred_accuracy), np.std(pred_accuracy)))\n",
        "    return pred_accuracy, fit_times"
      ],
      "execution_count": 64,
      "outputs": []
    },
    {
      "cell_type": "code",
      "metadata": {
        "colab": {
          "base_uri": "https://localhost:8080/",
          "height": 1000
        },
        "id": "8T43sflPaJWy",
        "outputId": "73f741d0-bb6a-481c-b166-46cc44c67729"
      },
      "source": [
        "# Number of Psuedo data points\n",
        "num_points = [0.001, 0.005, 0.01, 0.02, 0.03, 0.04, 0.05, 0.075, 0.1, 0.125, 0.15, 0.2, 0.25, 0.3, 0.4, 0.5]\n",
        "\n",
        "results = []\n",
        "times = []\n",
        "for num in num_points:\n",
        "    model = Sequential()\n",
        "    model.add(Dense(561, activation='relu', kernel_initializer='he_normal', input_shape=(561,)))\n",
        "    model.add(Dense(384, activation='relu',  kernel_initializer='he_normal'))\n",
        "    model.add(Dense(6,activation='softmax'))\n",
        "        \n",
        "    optimizers.Adam(learning_rate=0.01, beta_1=0.9, beta_2=0.999, epsilon=1e-07, amsgrad=False,name='Adam')\n",
        "        \n",
        "    model.compile(optimizer='Adam',loss='sparse_categorical_crossentropy', metrics=['accuracy'])\n",
        "    #model.fit(transformed, y_data[train_idx], batch_size = 30, epochs = 5)\n",
        "\n",
        "    print(combined_x.shape)\n",
        "    pred_accuracy, fit_times = do_kfold_nn_frac_subsampled(model, combined_x, combined_y-1, sample_frac=num)\n",
        "    results.append(pred_accuracy)\n",
        "    times.append(fit_times)\n",
        "    \n",
        "# Get means\n",
        "sub_acc_mean = np.mean(results, axis=1)\n",
        "sub_acc_stds = np.std(results, axis=1)\n",
        "sub_time_mean = np.mean(times, axis=1)\n",
        "sub_time_stds = np.std(times, axis=1)\n",
        "\n",
        "np.save(\"./subsampled_results/nn_accuracy.npy\", results)\n",
        "np.save(\"./subsampled_results/nn_time.npy\", times)"
      ],
      "execution_count": 65,
      "outputs": [
        {
          "output_type": "stream",
          "name": "stdout",
          "text": [
            "(10299, 561)\n"
          ]
        },
        {
          "output_type": "stream",
          "name": "stderr",
          "text": [
            "\r0it [00:00, ?it/s]"
          ]
        },
        {
          "output_type": "stream",
          "name": "stdout",
          "text": [
            "(9,)\n",
            "Epoch 1/5\n",
            "1/1 [==============================] - 0s 427ms/step - loss: 2.2715 - accuracy: 0.0000e+00\n",
            "Epoch 2/5\n",
            "1/1 [==============================] - 0s 11ms/step - loss: 1.2882 - accuracy: 0.5556\n",
            "Epoch 3/5\n",
            "1/1 [==============================] - 0s 9ms/step - loss: 0.9715 - accuracy: 0.6667\n",
            "Epoch 4/5\n",
            "1/1 [==============================] - 0s 9ms/step - loss: 0.6142 - accuracy: 0.7778\n",
            "Epoch 5/5\n",
            "1/1 [==============================] - 0s 9ms/step - loss: 0.3705 - accuracy: 0.8889\n"
          ]
        },
        {
          "output_type": "stream",
          "name": "stderr",
          "text": [
            "\r1it [00:00,  1.18it/s]"
          ]
        },
        {
          "output_type": "stream",
          "name": "stdout",
          "text": [
            "(9,)\n",
            "Epoch 1/5\n",
            "1/1 [==============================] - 0s 14ms/step - loss: 1.4982 - accuracy: 0.4444\n",
            "Epoch 2/5\n",
            "1/1 [==============================] - 0s 12ms/step - loss: 0.7188 - accuracy: 0.6667\n",
            "Epoch 3/5\n",
            "1/1 [==============================] - 0s 10ms/step - loss: 0.5234 - accuracy: 0.6667\n",
            "Epoch 4/5\n",
            "1/1 [==============================] - 0s 12ms/step - loss: 0.5410 - accuracy: 0.7778\n",
            "Epoch 5/5\n",
            "1/1 [==============================] - 0s 21ms/step - loss: 0.4052 - accuracy: 0.8889\n"
          ]
        },
        {
          "output_type": "stream",
          "name": "stderr",
          "text": [
            "\r2it [00:01,  1.84it/s]"
          ]
        },
        {
          "output_type": "stream",
          "name": "stdout",
          "text": [
            "(9,)\n",
            "Epoch 1/5\n",
            "1/1 [==============================] - 0s 9ms/step - loss: 2.5028 - accuracy: 0.4444\n",
            "Epoch 2/5\n",
            "1/1 [==============================] - 0s 11ms/step - loss: 1.8732 - accuracy: 0.5556\n",
            "Epoch 3/5\n",
            "1/1 [==============================] - 0s 10ms/step - loss: 1.3403 - accuracy: 0.6667\n",
            "Epoch 4/5\n",
            "1/1 [==============================] - 0s 11ms/step - loss: 0.7932 - accuracy: 0.6667\n",
            "Epoch 5/5\n",
            "1/1 [==============================] - 0s 16ms/step - loss: 0.3391 - accuracy: 0.8889\n"
          ]
        },
        {
          "output_type": "stream",
          "name": "stderr",
          "text": [
            "\r3it [00:01,  2.07it/s]"
          ]
        },
        {
          "output_type": "stream",
          "name": "stdout",
          "text": [
            "(9,)\n",
            "Epoch 1/5\n",
            "1/1 [==============================] - 0s 11ms/step - loss: 1.2981 - accuracy: 0.4444\n",
            "Epoch 2/5\n",
            "1/1 [==============================] - 0s 8ms/step - loss: 0.8814 - accuracy: 0.7778\n",
            "Epoch 3/5\n",
            "1/1 [==============================] - 0s 9ms/step - loss: 0.7053 - accuracy: 0.5556\n",
            "Epoch 4/5\n",
            "1/1 [==============================] - 0s 9ms/step - loss: 0.8584 - accuracy: 0.5556\n",
            "Epoch 5/5\n",
            "1/1 [==============================] - 0s 13ms/step - loss: 0.7062 - accuracy: 0.5556\n"
          ]
        },
        {
          "output_type": "stream",
          "name": "stderr",
          "text": [
            "\r4it [00:02,  2.20it/s]"
          ]
        },
        {
          "output_type": "stream",
          "name": "stdout",
          "text": [
            "(9,)\n",
            "Epoch 1/5\n",
            "1/1 [==============================] - 0s 10ms/step - loss: 1.1269 - accuracy: 0.6667\n",
            "Epoch 2/5\n",
            "1/1 [==============================] - 0s 9ms/step - loss: 1.0731 - accuracy: 0.5556\n",
            "Epoch 3/5\n",
            "1/1 [==============================] - 0s 9ms/step - loss: 0.8268 - accuracy: 0.5556\n",
            "Epoch 4/5\n",
            "1/1 [==============================] - 0s 9ms/step - loss: 0.5528 - accuracy: 0.7778\n",
            "Epoch 5/5\n",
            "1/1 [==============================] - 0s 9ms/step - loss: 0.4798 - accuracy: 0.7778\n"
          ]
        },
        {
          "output_type": "stream",
          "name": "stderr",
          "text": [
            "\r5it [00:02,  2.37it/s]"
          ]
        },
        {
          "output_type": "stream",
          "name": "stdout",
          "text": [
            "(9,)\n",
            "Epoch 1/5\n",
            "1/1 [==============================] - 0s 10ms/step - loss: 0.7369 - accuracy: 0.6667\n",
            "Epoch 2/5\n",
            "1/1 [==============================] - 0s 9ms/step - loss: 0.5319 - accuracy: 0.7778\n",
            "Epoch 3/5\n",
            "1/1 [==============================] - 0s 12ms/step - loss: 0.3484 - accuracy: 0.8889\n",
            "Epoch 4/5\n",
            "1/1 [==============================] - 0s 16ms/step - loss: 0.3309 - accuracy: 0.7778\n",
            "Epoch 5/5\n",
            "1/1 [==============================] - 0s 11ms/step - loss: 0.3722 - accuracy: 0.8889\n"
          ]
        },
        {
          "output_type": "stream",
          "name": "stderr",
          "text": [
            "\r6it [00:02,  2.49it/s]"
          ]
        },
        {
          "output_type": "stream",
          "name": "stdout",
          "text": [
            "(9,)\n",
            "Epoch 1/5\n",
            "1/1 [==============================] - 0s 16ms/step - loss: 1.2635 - accuracy: 0.4444\n",
            "Epoch 2/5\n",
            "1/1 [==============================] - 0s 13ms/step - loss: 0.8447 - accuracy: 0.7778\n",
            "Epoch 3/5\n",
            "1/1 [==============================] - 0s 13ms/step - loss: 0.8483 - accuracy: 0.4444\n",
            "Epoch 4/5\n",
            "1/1 [==============================] - 0s 11ms/step - loss: 0.4017 - accuracy: 0.7778\n",
            "Epoch 5/5\n",
            "1/1 [==============================] - 0s 14ms/step - loss: 0.1458 - accuracy: 1.0000\n"
          ]
        },
        {
          "output_type": "stream",
          "name": "stderr",
          "text": [
            "\r7it [00:03,  2.54it/s]"
          ]
        },
        {
          "output_type": "stream",
          "name": "stdout",
          "text": [
            "(9,)\n",
            "Epoch 1/5\n",
            "1/1 [==============================] - 0s 9ms/step - loss: 1.8355 - accuracy: 0.5556\n",
            "Epoch 2/5\n",
            "1/1 [==============================] - 0s 11ms/step - loss: 1.7846 - accuracy: 0.5556\n",
            "Epoch 3/5\n",
            "1/1 [==============================] - 0s 14ms/step - loss: 1.3930 - accuracy: 0.5556\n",
            "Epoch 4/5\n",
            "1/1 [==============================] - 0s 11ms/step - loss: 0.8571 - accuracy: 0.5556\n",
            "Epoch 5/5\n",
            "1/1 [==============================] - 0s 9ms/step - loss: 0.4542 - accuracy: 0.7778\n"
          ]
        },
        {
          "output_type": "stream",
          "name": "stderr",
          "text": [
            "\r8it [00:03,  2.49it/s]"
          ]
        },
        {
          "output_type": "stream",
          "name": "stdout",
          "text": [
            "(9,)\n",
            "Epoch 1/5\n",
            "1/1 [==============================] - 0s 9ms/step - loss: 2.0936 - accuracy: 0.4444\n",
            "Epoch 2/5\n",
            "1/1 [==============================] - 0s 10ms/step - loss: 1.2945 - accuracy: 0.6667\n",
            "Epoch 3/5\n",
            "1/1 [==============================] - 0s 9ms/step - loss: 0.9981 - accuracy: 0.5556\n",
            "Epoch 4/5\n",
            "1/1 [==============================] - 0s 9ms/step - loss: 0.7037 - accuracy: 0.4444\n",
            "Epoch 5/5\n",
            "1/1 [==============================] - 0s 13ms/step - loss: 0.5135 - accuracy: 0.6667\n"
          ]
        },
        {
          "output_type": "stream",
          "name": "stderr",
          "text": [
            "\r9it [00:03,  2.56it/s]"
          ]
        },
        {
          "output_type": "stream",
          "name": "stdout",
          "text": [
            "(9,)\n",
            "Epoch 1/5\n",
            "1/1 [==============================] - 0s 12ms/step - loss: 1.8007 - accuracy: 0.3333\n",
            "Epoch 2/5\n",
            "1/1 [==============================] - 0s 9ms/step - loss: 1.4259 - accuracy: 0.3333\n",
            "Epoch 3/5\n",
            "1/1 [==============================] - 0s 11ms/step - loss: 0.7112 - accuracy: 0.8889\n",
            "Epoch 4/5\n",
            "1/1 [==============================] - 0s 10ms/step - loss: 0.5243 - accuracy: 0.8889\n",
            "Epoch 5/5\n",
            "1/1 [==============================] - 0s 11ms/step - loss: 0.5202 - accuracy: 0.8889\n"
          ]
        },
        {
          "output_type": "stream",
          "name": "stderr",
          "text": [
            "10it [00:04,  2.32it/s]\n"
          ]
        },
        {
          "output_type": "stream",
          "name": "stdout",
          "text": [
            "0.001 FRAC  9 POINTS PREDICTION ACCURACY: 0.510 $\\pm$ 0.050\n",
            "(10299, 561)\n"
          ]
        },
        {
          "output_type": "stream",
          "name": "stderr",
          "text": [
            "\r0it [00:00, ?it/s]"
          ]
        },
        {
          "output_type": "stream",
          "name": "stdout",
          "text": [
            "(46,)\n",
            "Epoch 1/5\n",
            "2/2 [==============================] - 0s 14ms/step - loss: 2.6399 - accuracy: 0.1304\n",
            "Epoch 2/5\n",
            "2/2 [==============================] - 0s 10ms/step - loss: 1.5777 - accuracy: 0.3913\n",
            "Epoch 3/5\n",
            "2/2 [==============================] - 0s 9ms/step - loss: 1.0718 - accuracy: 0.6304\n",
            "Epoch 4/5\n",
            "2/2 [==============================] - 0s 11ms/step - loss: 0.8355 - accuracy: 0.6304\n",
            "Epoch 5/5\n",
            "2/2 [==============================] - 0s 11ms/step - loss: 0.5522 - accuracy: 0.9130\n"
          ]
        },
        {
          "output_type": "stream",
          "name": "stderr",
          "text": [
            "\r1it [00:00,  1.10it/s]"
          ]
        },
        {
          "output_type": "stream",
          "name": "stdout",
          "text": [
            "(46,)\n",
            "Epoch 1/5\n",
            "2/2 [==============================] - 0s 11ms/step - loss: 0.7935 - accuracy: 0.5870\n",
            "Epoch 2/5\n",
            "2/2 [==============================] - 0s 10ms/step - loss: 0.5783 - accuracy: 0.7826\n",
            "Epoch 3/5\n",
            "2/2 [==============================] - 0s 13ms/step - loss: 0.6131 - accuracy: 0.8043\n",
            "Epoch 4/5\n",
            "2/2 [==============================] - 0s 10ms/step - loss: 0.4448 - accuracy: 0.8261\n",
            "Epoch 5/5\n",
            "2/2 [==============================] - 0s 12ms/step - loss: 0.4364 - accuracy: 0.8913\n"
          ]
        },
        {
          "output_type": "stream",
          "name": "stderr",
          "text": [
            "\r2it [00:01,  1.73it/s]"
          ]
        },
        {
          "output_type": "stream",
          "name": "stdout",
          "text": [
            "(46,)\n",
            "Epoch 1/5\n",
            "2/2 [==============================] - 0s 10ms/step - loss: 0.4133 - accuracy: 0.8478\n",
            "Epoch 2/5\n",
            "2/2 [==============================] - 0s 12ms/step - loss: 0.3386 - accuracy: 0.8696\n",
            "Epoch 3/5\n",
            "2/2 [==============================] - 0s 10ms/step - loss: 0.3225 - accuracy: 0.8696\n",
            "Epoch 4/5\n",
            "2/2 [==============================] - 0s 10ms/step - loss: 0.2721 - accuracy: 0.8261\n",
            "Epoch 5/5\n",
            "2/2 [==============================] - 0s 13ms/step - loss: 0.2216 - accuracy: 0.9130\n"
          ]
        },
        {
          "output_type": "stream",
          "name": "stderr",
          "text": [
            "\r3it [00:01,  2.07it/s]"
          ]
        },
        {
          "output_type": "stream",
          "name": "stdout",
          "text": [
            "(46,)\n",
            "Epoch 1/5\n",
            "2/2 [==============================] - 0s 12ms/step - loss: 0.5309 - accuracy: 0.7826\n",
            "Epoch 2/5\n",
            "2/2 [==============================] - 0s 10ms/step - loss: 0.4464 - accuracy: 0.8478\n",
            "Epoch 3/5\n",
            "2/2 [==============================] - 0s 14ms/step - loss: 0.3747 - accuracy: 0.8261\n",
            "Epoch 4/5\n",
            "2/2 [==============================] - 0s 10ms/step - loss: 0.3074 - accuracy: 0.9348\n",
            "Epoch 5/5\n",
            "2/2 [==============================] - 0s 12ms/step - loss: 0.2454 - accuracy: 0.9130\n"
          ]
        },
        {
          "output_type": "stream",
          "name": "stderr",
          "text": [
            "\r4it [00:01,  2.32it/s]"
          ]
        },
        {
          "output_type": "stream",
          "name": "stdout",
          "text": [
            "(46,)\n",
            "Epoch 1/5\n",
            "2/2 [==============================] - 0s 10ms/step - loss: 0.3946 - accuracy: 0.7826\n",
            "Epoch 2/5\n",
            "2/2 [==============================] - 0s 12ms/step - loss: 0.4703 - accuracy: 0.8043\n",
            "Epoch 3/5\n",
            "2/2 [==============================] - 0s 9ms/step - loss: 0.3805 - accuracy: 0.9130\n",
            "Epoch 4/5\n",
            "2/2 [==============================] - 0s 11ms/step - loss: 0.3380 - accuracy: 0.8261\n",
            "Epoch 5/5\n",
            "2/2 [==============================] - 0s 11ms/step - loss: 0.3471 - accuracy: 0.8043\n"
          ]
        },
        {
          "output_type": "stream",
          "name": "stderr",
          "text": [
            "\r5it [00:02,  2.40it/s]"
          ]
        },
        {
          "output_type": "stream",
          "name": "stdout",
          "text": [
            "(46,)\n",
            "Epoch 1/5\n",
            "2/2 [==============================] - 0s 11ms/step - loss: 0.3723 - accuracy: 0.8043\n",
            "Epoch 2/5\n",
            "2/2 [==============================] - 0s 11ms/step - loss: 0.3148 - accuracy: 0.8696\n",
            "Epoch 3/5\n",
            "2/2 [==============================] - 0s 16ms/step - loss: 0.3885 - accuracy: 0.8478\n",
            "Epoch 4/5\n",
            "2/2 [==============================] - 0s 12ms/step - loss: 0.2295 - accuracy: 0.9130\n",
            "Epoch 5/5\n",
            "2/2 [==============================] - 0s 10ms/step - loss: 0.2358 - accuracy: 0.9130\n"
          ]
        },
        {
          "output_type": "stream",
          "name": "stderr",
          "text": [
            "\r6it [00:02,  2.42it/s]"
          ]
        },
        {
          "output_type": "stream",
          "name": "stdout",
          "text": [
            "(46,)\n",
            "Epoch 1/5\n",
            "2/2 [==============================] - 0s 13ms/step - loss: 0.2383 - accuracy: 0.8913\n",
            "Epoch 2/5\n",
            "2/2 [==============================] - 0s 10ms/step - loss: 0.2308 - accuracy: 0.9130\n",
            "Epoch 3/5\n",
            "2/2 [==============================] - 0s 10ms/step - loss: 0.1876 - accuracy: 0.9565\n",
            "Epoch 4/5\n",
            "2/2 [==============================] - 0s 11ms/step - loss: 0.1598 - accuracy: 0.9783\n",
            "Epoch 5/5\n",
            "2/2 [==============================] - 0s 10ms/step - loss: 0.1310 - accuracy: 0.9565\n"
          ]
        },
        {
          "output_type": "stream",
          "name": "stderr",
          "text": [
            "\r7it [00:03,  2.47it/s]"
          ]
        },
        {
          "output_type": "stream",
          "name": "stdout",
          "text": [
            "(46,)\n",
            "Epoch 1/5\n",
            "2/2 [==============================] - 0s 10ms/step - loss: 0.5561 - accuracy: 0.7174\n",
            "Epoch 2/5\n",
            "2/2 [==============================] - 0s 11ms/step - loss: 0.2843 - accuracy: 0.9130\n",
            "Epoch 3/5\n",
            "2/2 [==============================] - 0s 13ms/step - loss: 0.3569 - accuracy: 0.8478\n",
            "Epoch 4/5\n",
            "2/2 [==============================] - 0s 11ms/step - loss: 0.3348 - accuracy: 0.8913\n",
            "Epoch 5/5\n",
            "2/2 [==============================] - 0s 11ms/step - loss: 0.2454 - accuracy: 0.8913\n"
          ]
        },
        {
          "output_type": "stream",
          "name": "stderr",
          "text": [
            "\r8it [00:03,  2.53it/s]"
          ]
        },
        {
          "output_type": "stream",
          "name": "stdout",
          "text": [
            "(46,)\n",
            "Epoch 1/5\n",
            "2/2 [==============================] - 0s 12ms/step - loss: 0.3930 - accuracy: 0.8043\n",
            "Epoch 2/5\n",
            "2/2 [==============================] - 0s 10ms/step - loss: 0.3799 - accuracy: 0.8913\n",
            "Epoch 3/5\n",
            "2/2 [==============================] - 0s 10ms/step - loss: 0.3852 - accuracy: 0.8043\n",
            "Epoch 4/5\n",
            "2/2 [==============================] - 0s 10ms/step - loss: 0.4494 - accuracy: 0.8043\n",
            "Epoch 5/5\n",
            "2/2 [==============================] - 0s 10ms/step - loss: 0.3394 - accuracy: 0.8696\n"
          ]
        },
        {
          "output_type": "stream",
          "name": "stderr",
          "text": [
            "\r9it [00:03,  2.53it/s]"
          ]
        },
        {
          "output_type": "stream",
          "name": "stdout",
          "text": [
            "(46,)\n",
            "Epoch 1/5\n",
            "2/2 [==============================] - 0s 11ms/step - loss: 0.4152 - accuracy: 0.8043\n",
            "Epoch 2/5\n",
            "2/2 [==============================] - 0s 11ms/step - loss: 0.2993 - accuracy: 0.8913\n",
            "Epoch 3/5\n",
            "2/2 [==============================] - 0s 12ms/step - loss: 0.4378 - accuracy: 0.7391\n",
            "Epoch 4/5\n",
            "2/2 [==============================] - 0s 14ms/step - loss: 0.2422 - accuracy: 0.9130\n",
            "Epoch 5/5\n",
            "2/2 [==============================] - 0s 14ms/step - loss: 0.3717 - accuracy: 0.8696\n"
          ]
        },
        {
          "output_type": "stream",
          "name": "stderr",
          "text": [
            "10it [00:04,  2.30it/s]\n"
          ]
        },
        {
          "output_type": "stream",
          "name": "stdout",
          "text": [
            "0.005 FRAC  46 POINTS PREDICTION ACCURACY: 0.824 $\\pm$ 0.087\n",
            "(10299, 561)\n"
          ]
        },
        {
          "output_type": "stream",
          "name": "stderr",
          "text": [
            "\r0it [00:00, ?it/s]"
          ]
        },
        {
          "output_type": "stream",
          "name": "stdout",
          "text": [
            "(92,)\n",
            "Epoch 1/5\n",
            "4/4 [==============================] - 0s 7ms/step - loss: 1.9671 - accuracy: 0.2826\n",
            "Epoch 2/5\n",
            "4/4 [==============================] - 0s 8ms/step - loss: 1.1952 - accuracy: 0.5543\n",
            "Epoch 3/5\n",
            "4/4 [==============================] - 0s 8ms/step - loss: 0.7080 - accuracy: 0.7174\n",
            "Epoch 4/5\n",
            "4/4 [==============================] - 0s 8ms/step - loss: 0.6293 - accuracy: 0.7174\n",
            "Epoch 5/5\n",
            "4/4 [==============================] - 0s 7ms/step - loss: 0.5445 - accuracy: 0.8370\n"
          ]
        },
        {
          "output_type": "stream",
          "name": "stderr",
          "text": [
            "\r1it [00:01,  1.03s/it]"
          ]
        },
        {
          "output_type": "stream",
          "name": "stdout",
          "text": [
            "(92,)\n",
            "Epoch 1/5\n",
            "4/4 [==============================] - 0s 8ms/step - loss: 0.5524 - accuracy: 0.7826\n",
            "Epoch 2/5\n",
            "4/4 [==============================] - 0s 8ms/step - loss: 0.6266 - accuracy: 0.7609\n",
            "Epoch 3/5\n",
            "4/4 [==============================] - 0s 8ms/step - loss: 0.6146 - accuracy: 0.8261\n",
            "Epoch 4/5\n",
            "4/4 [==============================] - 0s 8ms/step - loss: 0.3801 - accuracy: 0.8478\n",
            "Epoch 5/5\n",
            "4/4 [==============================] - 0s 7ms/step - loss: 0.4925 - accuracy: 0.8370\n"
          ]
        },
        {
          "output_type": "stream",
          "name": "stderr",
          "text": [
            "\r2it [00:01,  1.44it/s]"
          ]
        },
        {
          "output_type": "stream",
          "name": "stdout",
          "text": [
            "(92,)\n",
            "Epoch 1/5\n",
            "4/4 [==============================] - 0s 8ms/step - loss: 0.7390 - accuracy: 0.7174\n",
            "Epoch 2/5\n",
            "4/4 [==============================] - 0s 9ms/step - loss: 0.5316 - accuracy: 0.7391\n",
            "Epoch 3/5\n",
            "4/4 [==============================] - 0s 8ms/step - loss: 0.3520 - accuracy: 0.8370\n",
            "Epoch 4/5\n",
            "4/4 [==============================] - 0s 8ms/step - loss: 0.4589 - accuracy: 0.8043\n",
            "Epoch 5/5\n",
            "4/4 [==============================] - 0s 7ms/step - loss: 0.5612 - accuracy: 0.7500\n"
          ]
        },
        {
          "output_type": "stream",
          "name": "stderr",
          "text": [
            "\r3it [00:02,  1.58it/s]"
          ]
        },
        {
          "output_type": "stream",
          "name": "stdout",
          "text": [
            "(92,)\n",
            "Epoch 1/5\n",
            "4/4 [==============================] - 0s 10ms/step - loss: 0.4740 - accuracy: 0.7826\n",
            "Epoch 2/5\n",
            "4/4 [==============================] - 0s 9ms/step - loss: 0.4507 - accuracy: 0.8043\n",
            "Epoch 3/5\n",
            "4/4 [==============================] - 0s 8ms/step - loss: 0.3935 - accuracy: 0.8152\n",
            "Epoch 4/5\n",
            "4/4 [==============================] - 0s 9ms/step - loss: 0.2918 - accuracy: 0.8370\n",
            "Epoch 5/5\n",
            "4/4 [==============================] - 0s 8ms/step - loss: 0.2451 - accuracy: 0.9022\n"
          ]
        },
        {
          "output_type": "stream",
          "name": "stderr",
          "text": [
            "\r4it [00:02,  1.74it/s]"
          ]
        },
        {
          "output_type": "stream",
          "name": "stdout",
          "text": [
            "(92,)\n",
            "Epoch 1/5\n",
            "4/4 [==============================] - 0s 7ms/step - loss: 0.4480 - accuracy: 0.7283\n",
            "Epoch 2/5\n",
            "4/4 [==============================] - 0s 8ms/step - loss: 0.4138 - accuracy: 0.8043\n",
            "Epoch 3/5\n",
            "4/4 [==============================] - 0s 7ms/step - loss: 0.3501 - accuracy: 0.8261\n",
            "Epoch 4/5\n",
            "4/4 [==============================] - 0s 8ms/step - loss: 0.3444 - accuracy: 0.8152\n",
            "Epoch 5/5\n",
            "4/4 [==============================] - 0s 7ms/step - loss: 0.3457 - accuracy: 0.8370\n"
          ]
        },
        {
          "output_type": "stream",
          "name": "stderr",
          "text": [
            "\r5it [00:02,  1.91it/s]"
          ]
        },
        {
          "output_type": "stream",
          "name": "stdout",
          "text": [
            "(92,)\n",
            "Epoch 1/5\n",
            "4/4 [==============================] - 0s 8ms/step - loss: 0.2471 - accuracy: 0.9239\n",
            "Epoch 2/5\n",
            "4/4 [==============================] - 0s 9ms/step - loss: 0.1895 - accuracy: 0.9348\n",
            "Epoch 3/5\n",
            "4/4 [==============================] - 0s 8ms/step - loss: 0.2181 - accuracy: 0.9130\n",
            "Epoch 4/5\n",
            "4/4 [==============================] - 0s 11ms/step - loss: 0.3287 - accuracy: 0.9022\n",
            "Epoch 5/5\n",
            "4/4 [==============================] - 0s 7ms/step - loss: 0.1730 - accuracy: 0.9239\n"
          ]
        },
        {
          "output_type": "stream",
          "name": "stderr",
          "text": [
            "\r6it [00:03,  1.91it/s]"
          ]
        },
        {
          "output_type": "stream",
          "name": "stdout",
          "text": [
            "(92,)\n",
            "Epoch 1/5\n",
            "4/4 [==============================] - 0s 7ms/step - loss: 0.4988 - accuracy: 0.7500\n",
            "Epoch 2/5\n",
            "4/4 [==============================] - 0s 8ms/step - loss: 0.3202 - accuracy: 0.8696\n",
            "Epoch 3/5\n",
            "4/4 [==============================] - 0s 8ms/step - loss: 0.2554 - accuracy: 0.9022\n",
            "Epoch 4/5\n",
            "4/4 [==============================] - 0s 7ms/step - loss: 0.2690 - accuracy: 0.8696\n",
            "Epoch 5/5\n",
            "4/4 [==============================] - 0s 7ms/step - loss: 0.5395 - accuracy: 0.8587\n"
          ]
        },
        {
          "output_type": "stream",
          "name": "stderr",
          "text": [
            "\r7it [00:03,  2.02it/s]"
          ]
        },
        {
          "output_type": "stream",
          "name": "stdout",
          "text": [
            "(92,)\n",
            "Epoch 1/5\n",
            "4/4 [==============================] - 0s 8ms/step - loss: 1.1844 - accuracy: 0.7500\n",
            "Epoch 2/5\n",
            "4/4 [==============================] - 0s 8ms/step - loss: 0.3973 - accuracy: 0.8696\n",
            "Epoch 3/5\n",
            "4/4 [==============================] - 0s 8ms/step - loss: 0.3673 - accuracy: 0.8261\n",
            "Epoch 4/5\n",
            "4/4 [==============================] - 0s 7ms/step - loss: 0.2334 - accuracy: 0.9022\n",
            "Epoch 5/5\n",
            "4/4 [==============================] - 0s 9ms/step - loss: 0.2562 - accuracy: 0.9239\n"
          ]
        },
        {
          "output_type": "stream",
          "name": "stderr",
          "text": [
            "\r8it [00:04,  2.04it/s]"
          ]
        },
        {
          "output_type": "stream",
          "name": "stdout",
          "text": [
            "(92,)\n",
            "Epoch 1/5\n",
            "4/4 [==============================] - 0s 7ms/step - loss: 0.3630 - accuracy: 0.8043\n",
            "Epoch 2/5\n",
            "4/4 [==============================] - 0s 9ms/step - loss: 0.2765 - accuracy: 0.8696\n",
            "Epoch 3/5\n",
            "4/4 [==============================] - 0s 7ms/step - loss: 0.6130 - accuracy: 0.7826\n",
            "Epoch 4/5\n",
            "4/4 [==============================] - 0s 9ms/step - loss: 0.7439 - accuracy: 0.7174\n",
            "Epoch 5/5\n",
            "4/4 [==============================] - 0s 8ms/step - loss: 0.4757 - accuracy: 0.8261\n"
          ]
        },
        {
          "output_type": "stream",
          "name": "stderr",
          "text": [
            "\r9it [00:04,  2.10it/s]"
          ]
        },
        {
          "output_type": "stream",
          "name": "stdout",
          "text": [
            "(92,)\n",
            "Epoch 1/5\n",
            "4/4 [==============================] - 0s 8ms/step - loss: 0.6429 - accuracy: 0.7065\n",
            "Epoch 2/5\n",
            "4/4 [==============================] - 0s 9ms/step - loss: 0.2902 - accuracy: 0.8913\n",
            "Epoch 3/5\n",
            "4/4 [==============================] - 0s 7ms/step - loss: 0.3985 - accuracy: 0.8261\n",
            "Epoch 4/5\n",
            "4/4 [==============================] - 0s 7ms/step - loss: 0.4420 - accuracy: 0.8370\n",
            "Epoch 5/5\n",
            "4/4 [==============================] - 0s 8ms/step - loss: 0.3841 - accuracy: 0.8043\n"
          ]
        },
        {
          "output_type": "stream",
          "name": "stderr",
          "text": [
            "10it [00:05,  1.89it/s]"
          ]
        },
        {
          "output_type": "stream",
          "name": "stdout",
          "text": [
            "0.01 FRAC  92 POINTS PREDICTION ACCURACY: 0.796 $\\pm$ 0.058\n"
          ]
        },
        {
          "output_type": "stream",
          "name": "stderr",
          "text": [
            "\n"
          ]
        },
        {
          "output_type": "stream",
          "name": "stdout",
          "text": [
            "(10299, 561)\n"
          ]
        },
        {
          "output_type": "stream",
          "name": "stderr",
          "text": [
            "\r0it [00:00, ?it/s]"
          ]
        },
        {
          "output_type": "stream",
          "name": "stdout",
          "text": [
            "(185,)\n",
            "Epoch 1/5\n",
            "7/7 [==============================] - 0s 7ms/step - loss: 1.9910 - accuracy: 0.3459\n",
            "Epoch 2/5\n",
            "7/7 [==============================] - 0s 7ms/step - loss: 0.8575 - accuracy: 0.5838\n",
            "Epoch 3/5\n",
            "7/7 [==============================] - 0s 8ms/step - loss: 0.5955 - accuracy: 0.7622\n",
            "Epoch 4/5\n",
            "7/7 [==============================] - 0s 7ms/step - loss: 0.4723 - accuracy: 0.8378\n",
            "Epoch 5/5\n",
            "7/7 [==============================] - 0s 8ms/step - loss: 0.4828 - accuracy: 0.8216\n"
          ]
        },
        {
          "output_type": "stream",
          "name": "stderr",
          "text": [
            "\r1it [00:01,  1.07s/it]"
          ]
        },
        {
          "output_type": "stream",
          "name": "stdout",
          "text": [
            "(185,)\n",
            "Epoch 1/5\n",
            "7/7 [==============================] - 0s 7ms/step - loss: 0.5741 - accuracy: 0.6919\n",
            "Epoch 2/5\n",
            "7/7 [==============================] - 0s 7ms/step - loss: 0.5242 - accuracy: 0.7730\n",
            "Epoch 3/5\n",
            "7/7 [==============================] - 0s 7ms/step - loss: 0.3576 - accuracy: 0.8432\n",
            "Epoch 4/5\n",
            "7/7 [==============================] - 0s 7ms/step - loss: 0.2894 - accuracy: 0.8649\n",
            "Epoch 5/5\n",
            "7/7 [==============================] - 0s 7ms/step - loss: 0.2866 - accuracy: 0.8595\n"
          ]
        },
        {
          "output_type": "stream",
          "name": "stderr",
          "text": [
            "\r2it [00:01,  1.34it/s]"
          ]
        },
        {
          "output_type": "stream",
          "name": "stdout",
          "text": [
            "(185,)\n",
            "Epoch 1/5\n",
            "7/7 [==============================] - 0s 9ms/step - loss: 0.4496 - accuracy: 0.8054\n",
            "Epoch 2/5\n",
            "7/7 [==============================] - 0s 7ms/step - loss: 0.4134 - accuracy: 0.8108\n",
            "Epoch 3/5\n",
            "7/7 [==============================] - 0s 8ms/step - loss: 0.4496 - accuracy: 0.8162\n",
            "Epoch 4/5\n",
            "7/7 [==============================] - 0s 8ms/step - loss: 0.3278 - accuracy: 0.8486\n",
            "Epoch 5/5\n",
            "7/7 [==============================] - 0s 9ms/step - loss: 0.3693 - accuracy: 0.8324\n"
          ]
        },
        {
          "output_type": "stream",
          "name": "stderr",
          "text": [
            "\r3it [00:02,  1.22it/s]"
          ]
        },
        {
          "output_type": "stream",
          "name": "stdout",
          "text": [
            "(185,)\n",
            "Epoch 1/5\n",
            "7/7 [==============================] - 0s 7ms/step - loss: 0.3716 - accuracy: 0.8162\n",
            "Epoch 2/5\n",
            "7/7 [==============================] - 0s 6ms/step - loss: 0.2224 - accuracy: 0.9189\n",
            "Epoch 3/5\n",
            "7/7 [==============================] - 0s 7ms/step - loss: 0.1848 - accuracy: 0.9297\n",
            "Epoch 4/5\n",
            "7/7 [==============================] - 0s 7ms/step - loss: 0.1668 - accuracy: 0.9459\n",
            "Epoch 5/5\n",
            "7/7 [==============================] - 0s 7ms/step - loss: 0.2129 - accuracy: 0.9135\n"
          ]
        },
        {
          "output_type": "stream",
          "name": "stderr",
          "text": [
            "\r4it [00:02,  1.45it/s]"
          ]
        },
        {
          "output_type": "stream",
          "name": "stdout",
          "text": [
            "(185,)\n",
            "Epoch 1/5\n",
            "7/7 [==============================] - 0s 7ms/step - loss: 0.2940 - accuracy: 0.8649\n",
            "Epoch 2/5\n",
            "7/7 [==============================] - 0s 7ms/step - loss: 0.2541 - accuracy: 0.8919\n",
            "Epoch 3/5\n",
            "7/7 [==============================] - 0s 7ms/step - loss: 0.1938 - accuracy: 0.9081\n",
            "Epoch 4/5\n",
            "7/7 [==============================] - 0s 7ms/step - loss: 0.1731 - accuracy: 0.9243\n",
            "Epoch 5/5\n",
            "7/7 [==============================] - 0s 7ms/step - loss: 0.1538 - accuracy: 0.9405\n"
          ]
        },
        {
          "output_type": "stream",
          "name": "stderr",
          "text": [
            "\r5it [00:03,  1.57it/s]"
          ]
        },
        {
          "output_type": "stream",
          "name": "stdout",
          "text": [
            "(185,)\n",
            "Epoch 1/5\n",
            "7/7 [==============================] - 0s 7ms/step - loss: 0.1844 - accuracy: 0.9297\n",
            "Epoch 2/5\n",
            "7/7 [==============================] - 0s 7ms/step - loss: 0.1998 - accuracy: 0.9189\n",
            "Epoch 3/5\n",
            "7/7 [==============================] - 0s 9ms/step - loss: 0.2190 - accuracy: 0.8919\n",
            "Epoch 4/5\n",
            "7/7 [==============================] - 0s 7ms/step - loss: 0.1862 - accuracy: 0.9189\n",
            "Epoch 5/5\n",
            "7/7 [==============================] - 0s 7ms/step - loss: 0.1428 - accuracy: 0.9459\n"
          ]
        },
        {
          "output_type": "stream",
          "name": "stderr",
          "text": [
            "\r6it [00:04,  1.68it/s]"
          ]
        },
        {
          "output_type": "stream",
          "name": "stdout",
          "text": [
            "(185,)\n",
            "Epoch 1/5\n",
            "7/7 [==============================] - 0s 7ms/step - loss: 0.2343 - accuracy: 0.9081\n",
            "Epoch 2/5\n",
            "7/7 [==============================] - 0s 9ms/step - loss: 0.2491 - accuracy: 0.8973\n",
            "Epoch 3/5\n",
            "7/7 [==============================] - 0s 7ms/step - loss: 0.1437 - accuracy: 0.9568\n",
            "Epoch 4/5\n",
            "7/7 [==============================] - 0s 7ms/step - loss: 0.1515 - accuracy: 0.9297\n",
            "Epoch 5/5\n",
            "7/7 [==============================] - 0s 8ms/step - loss: 0.1074 - accuracy: 0.9676\n"
          ]
        },
        {
          "output_type": "stream",
          "name": "stderr",
          "text": [
            "\r7it [00:04,  1.75it/s]"
          ]
        },
        {
          "output_type": "stream",
          "name": "stdout",
          "text": [
            "(185,)\n",
            "Epoch 1/5\n",
            "7/7 [==============================] - 0s 7ms/step - loss: 0.1415 - accuracy: 0.9405\n",
            "Epoch 2/5\n",
            "7/7 [==============================] - 0s 7ms/step - loss: 0.2043 - accuracy: 0.9027\n",
            "Epoch 3/5\n",
            "7/7 [==============================] - 0s 7ms/step - loss: 0.1550 - accuracy: 0.9351\n",
            "Epoch 4/5\n",
            "7/7 [==============================] - 0s 7ms/step - loss: 0.0961 - accuracy: 0.9622\n",
            "Epoch 5/5\n",
            "7/7 [==============================] - 0s 7ms/step - loss: 0.0765 - accuracy: 0.9784\n"
          ]
        },
        {
          "output_type": "stream",
          "name": "stderr",
          "text": [
            "\r8it [00:05,  1.77it/s]"
          ]
        },
        {
          "output_type": "stream",
          "name": "stdout",
          "text": [
            "(185,)\n",
            "Epoch 1/5\n",
            "7/7 [==============================] - 0s 7ms/step - loss: 0.1965 - accuracy: 0.9027\n",
            "Epoch 2/5\n",
            "7/7 [==============================] - 0s 7ms/step - loss: 0.1958 - accuracy: 0.9243\n",
            "Epoch 3/5\n",
            "7/7 [==============================] - 0s 7ms/step - loss: 0.3425 - accuracy: 0.8649\n",
            "Epoch 4/5\n",
            "7/7 [==============================] - 0s 6ms/step - loss: 0.1293 - accuracy: 0.9459\n",
            "Epoch 5/5\n",
            "7/7 [==============================] - 0s 7ms/step - loss: 0.1608 - accuracy: 0.9351\n"
          ]
        },
        {
          "output_type": "stream",
          "name": "stderr",
          "text": [
            "\r9it [00:05,  1.82it/s]"
          ]
        },
        {
          "output_type": "stream",
          "name": "stdout",
          "text": [
            "(185,)\n",
            "Epoch 1/5\n",
            "7/7 [==============================] - 0s 7ms/step - loss: 0.1983 - accuracy: 0.9135\n",
            "Epoch 2/5\n",
            "7/7 [==============================] - 0s 7ms/step - loss: 0.1437 - accuracy: 0.9351\n",
            "Epoch 3/5\n",
            "7/7 [==============================] - 0s 7ms/step - loss: 0.1658 - accuracy: 0.9135\n",
            "Epoch 4/5\n",
            "7/7 [==============================] - 0s 7ms/step - loss: 0.2625 - accuracy: 0.8811\n",
            "Epoch 5/5\n",
            "7/7 [==============================] - 0s 8ms/step - loss: 0.1771 - accuracy: 0.9081\n"
          ]
        },
        {
          "output_type": "stream",
          "name": "stderr",
          "text": [
            "10it [00:06,  1.61it/s]\n"
          ]
        },
        {
          "output_type": "stream",
          "name": "stdout",
          "text": [
            "0.02 FRAC  185 POINTS PREDICTION ACCURACY: 0.880 $\\pm$ 0.085\n",
            "(10299, 561)\n"
          ]
        },
        {
          "output_type": "stream",
          "name": "stderr",
          "text": [
            "\r0it [00:00, ?it/s]"
          ]
        },
        {
          "output_type": "stream",
          "name": "stdout",
          "text": [
            "(278,)\n",
            "Epoch 1/5\n",
            "10/10 [==============================] - 0s 8ms/step - loss: 1.3447 - accuracy: 0.4892\n",
            "Epoch 2/5\n",
            "10/10 [==============================] - 0s 7ms/step - loss: 0.6088 - accuracy: 0.7374\n",
            "Epoch 3/5\n",
            "10/10 [==============================] - 0s 8ms/step - loss: 0.4259 - accuracy: 0.8165\n",
            "Epoch 4/5\n",
            "10/10 [==============================] - 0s 8ms/step - loss: 0.3136 - accuracy: 0.8741\n",
            "Epoch 5/5\n",
            "10/10 [==============================] - 0s 7ms/step - loss: 0.2418 - accuracy: 0.9137\n"
          ]
        },
        {
          "output_type": "stream",
          "name": "stderr",
          "text": [
            "\r1it [00:01,  1.37s/it]"
          ]
        },
        {
          "output_type": "stream",
          "name": "stdout",
          "text": [
            "(278,)\n",
            "Epoch 1/5\n",
            "10/10 [==============================] - 0s 8ms/step - loss: 0.3468 - accuracy: 0.8309\n",
            "Epoch 2/5\n",
            "10/10 [==============================] - 0s 8ms/step - loss: 0.2727 - accuracy: 0.8957\n",
            "Epoch 3/5\n",
            "10/10 [==============================] - 0s 9ms/step - loss: 0.2832 - accuracy: 0.8525\n",
            "Epoch 4/5\n",
            "10/10 [==============================] - 0s 8ms/step - loss: 0.2795 - accuracy: 0.8741\n",
            "Epoch 5/5\n",
            "10/10 [==============================] - 0s 7ms/step - loss: 0.1500 - accuracy: 0.9532\n"
          ]
        },
        {
          "output_type": "stream",
          "name": "stderr",
          "text": [
            "\r2it [00:02,  1.05it/s]"
          ]
        },
        {
          "output_type": "stream",
          "name": "stdout",
          "text": [
            "(278,)\n",
            "Epoch 1/5\n",
            "10/10 [==============================] - 0s 8ms/step - loss: 0.1628 - accuracy: 0.9388\n",
            "Epoch 2/5\n",
            "10/10 [==============================] - 0s 8ms/step - loss: 0.2255 - accuracy: 0.8957\n",
            "Epoch 3/5\n",
            "10/10 [==============================] - 0s 7ms/step - loss: 0.1773 - accuracy: 0.9281\n",
            "Epoch 4/5\n",
            "10/10 [==============================] - 0s 8ms/step - loss: 0.1764 - accuracy: 0.9173\n",
            "Epoch 5/5\n",
            "10/10 [==============================] - 0s 7ms/step - loss: 0.1137 - accuracy: 0.9496\n"
          ]
        },
        {
          "output_type": "stream",
          "name": "stderr",
          "text": [
            "\r3it [00:02,  1.11it/s]"
          ]
        },
        {
          "output_type": "stream",
          "name": "stdout",
          "text": [
            "(278,)\n",
            "Epoch 1/5\n",
            "10/10 [==============================] - 0s 8ms/step - loss: 0.1788 - accuracy: 0.9245\n",
            "Epoch 2/5\n",
            "10/10 [==============================] - 0s 7ms/step - loss: 0.2955 - accuracy: 0.8705\n",
            "Epoch 3/5\n",
            "10/10 [==============================] - 0s 7ms/step - loss: 0.2293 - accuracy: 0.8849\n",
            "Epoch 4/5\n",
            "10/10 [==============================] - 0s 7ms/step - loss: 0.1352 - accuracy: 0.9532\n",
            "Epoch 5/5\n",
            "10/10 [==============================] - 0s 7ms/step - loss: 0.0834 - accuracy: 0.9784\n"
          ]
        },
        {
          "output_type": "stream",
          "name": "stderr",
          "text": [
            "\r4it [00:03,  1.14it/s]"
          ]
        },
        {
          "output_type": "stream",
          "name": "stdout",
          "text": [
            "(278,)\n",
            "Epoch 1/5\n",
            "10/10 [==============================] - 0s 8ms/step - loss: 0.1816 - accuracy: 0.9245\n",
            "Epoch 2/5\n",
            "10/10 [==============================] - 0s 7ms/step - loss: 0.2178 - accuracy: 0.9137\n",
            "Epoch 3/5\n",
            "10/10 [==============================] - 0s 9ms/step - loss: 0.2722 - accuracy: 0.9065\n",
            "Epoch 4/5\n",
            "10/10 [==============================] - 0s 7ms/step - loss: 0.1418 - accuracy: 0.9460\n",
            "Epoch 5/5\n",
            "10/10 [==============================] - 0s 8ms/step - loss: 0.1153 - accuracy: 0.9496\n"
          ]
        },
        {
          "output_type": "stream",
          "name": "stderr",
          "text": [
            "\r5it [00:04,  1.24it/s]"
          ]
        },
        {
          "output_type": "stream",
          "name": "stdout",
          "text": [
            "(278,)\n",
            "Epoch 1/5\n",
            "10/10 [==============================] - 0s 8ms/step - loss: 0.2082 - accuracy: 0.9065\n",
            "Epoch 2/5\n",
            "10/10 [==============================] - 0s 9ms/step - loss: 0.1527 - accuracy: 0.9281\n",
            "Epoch 3/5\n",
            "10/10 [==============================] - 0s 7ms/step - loss: 0.2049 - accuracy: 0.8957\n",
            "Epoch 4/5\n",
            "10/10 [==============================] - 0s 9ms/step - loss: 0.1824 - accuracy: 0.9173\n",
            "Epoch 5/5\n",
            "10/10 [==============================] - 0s 8ms/step - loss: 0.1161 - accuracy: 0.9604\n"
          ]
        },
        {
          "output_type": "stream",
          "name": "stderr",
          "text": [
            "\r6it [00:05,  1.22it/s]"
          ]
        },
        {
          "output_type": "stream",
          "name": "stdout",
          "text": [
            "(278,)\n",
            "Epoch 1/5\n",
            "10/10 [==============================] - 0s 9ms/step - loss: 0.2343 - accuracy: 0.9245\n",
            "Epoch 2/5\n",
            "10/10 [==============================] - 0s 8ms/step - loss: 0.2701 - accuracy: 0.8849\n",
            "Epoch 3/5\n",
            "10/10 [==============================] - 0s 8ms/step - loss: 0.1350 - accuracy: 0.9532\n",
            "Epoch 4/5\n",
            "10/10 [==============================] - 0s 8ms/step - loss: 0.0646 - accuracy: 0.9820\n",
            "Epoch 5/5\n",
            "10/10 [==============================] - 0s 8ms/step - loss: 0.0762 - accuracy: 0.9748\n"
          ]
        },
        {
          "output_type": "stream",
          "name": "stderr",
          "text": [
            "\r7it [00:05,  1.27it/s]"
          ]
        },
        {
          "output_type": "stream",
          "name": "stdout",
          "text": [
            "(278,)\n",
            "Epoch 1/5\n",
            "10/10 [==============================] - 0s 7ms/step - loss: 0.1456 - accuracy: 0.9317\n",
            "Epoch 2/5\n",
            "10/10 [==============================] - 0s 8ms/step - loss: 0.2252 - accuracy: 0.9029\n",
            "Epoch 3/5\n",
            "10/10 [==============================] - 0s 8ms/step - loss: 0.0936 - accuracy: 0.9676\n",
            "Epoch 4/5\n",
            "10/10 [==============================] - 0s 7ms/step - loss: 0.0785 - accuracy: 0.9712\n",
            "Epoch 5/5\n",
            "10/10 [==============================] - 0s 8ms/step - loss: 0.0728 - accuracy: 0.9748\n"
          ]
        },
        {
          "output_type": "stream",
          "name": "stderr",
          "text": [
            "\r8it [00:06,  1.25it/s]"
          ]
        },
        {
          "output_type": "stream",
          "name": "stdout",
          "text": [
            "(278,)\n",
            "Epoch 1/5\n",
            "10/10 [==============================] - 0s 8ms/step - loss: 0.1370 - accuracy: 0.9388\n",
            "Epoch 2/5\n",
            "10/10 [==============================] - 0s 7ms/step - loss: 0.0759 - accuracy: 0.9784\n",
            "Epoch 3/5\n",
            "10/10 [==============================] - 0s 7ms/step - loss: 0.0887 - accuracy: 0.9640\n",
            "Epoch 4/5\n",
            "10/10 [==============================] - 0s 8ms/step - loss: 0.0483 - accuracy: 0.9856\n",
            "Epoch 5/5\n",
            "10/10 [==============================] - 0s 7ms/step - loss: 0.1180 - accuracy: 0.9460\n"
          ]
        },
        {
          "output_type": "stream",
          "name": "stderr",
          "text": [
            "\r9it [00:07,  1.35it/s]"
          ]
        },
        {
          "output_type": "stream",
          "name": "stdout",
          "text": [
            "(278,)\n",
            "Epoch 1/5\n",
            "10/10 [==============================] - 0s 8ms/step - loss: 0.2460 - accuracy: 0.9101\n",
            "Epoch 2/5\n",
            "10/10 [==============================] - 0s 7ms/step - loss: 0.1557 - accuracy: 0.9317\n",
            "Epoch 3/5\n",
            "10/10 [==============================] - 0s 8ms/step - loss: 0.1610 - accuracy: 0.9317\n",
            "Epoch 4/5\n",
            "10/10 [==============================] - 0s 7ms/step - loss: 0.0802 - accuracy: 0.9676\n",
            "Epoch 5/5\n",
            "10/10 [==============================] - 0s 8ms/step - loss: 0.0960 - accuracy: 0.9532\n"
          ]
        },
        {
          "output_type": "stream",
          "name": "stderr",
          "text": [
            "10it [00:08,  1.23it/s]\n"
          ]
        },
        {
          "output_type": "stream",
          "name": "stdout",
          "text": [
            "0.03 FRAC  278 POINTS PREDICTION ACCURACY: 0.922 $\\pm$ 0.038\n",
            "(10299, 561)\n"
          ]
        },
        {
          "output_type": "stream",
          "name": "stderr",
          "text": [
            "\r0it [00:00, ?it/s]"
          ]
        },
        {
          "output_type": "stream",
          "name": "stdout",
          "text": [
            "(370,)\n",
            "Epoch 1/5\n",
            "13/13 [==============================] - 0s 7ms/step - loss: 1.2261 - accuracy: 0.5027\n",
            "Epoch 2/5\n",
            "13/13 [==============================] - 0s 7ms/step - loss: 0.6393 - accuracy: 0.7378\n",
            "Epoch 3/5\n",
            "13/13 [==============================] - 0s 8ms/step - loss: 0.3857 - accuracy: 0.8297\n",
            "Epoch 4/5\n",
            "13/13 [==============================] - 0s 7ms/step - loss: 0.3052 - accuracy: 0.8757\n",
            "Epoch 5/5\n",
            "13/13 [==============================] - 0s 7ms/step - loss: 0.2562 - accuracy: 0.9054\n"
          ]
        },
        {
          "output_type": "stream",
          "name": "stderr",
          "text": [
            "\r1it [00:01,  1.36s/it]"
          ]
        },
        {
          "output_type": "stream",
          "name": "stdout",
          "text": [
            "(370,)\n",
            "Epoch 1/5\n",
            "13/13 [==============================] - 0s 8ms/step - loss: 0.3792 - accuracy: 0.8189\n",
            "Epoch 2/5\n",
            "13/13 [==============================] - 0s 7ms/step - loss: 0.2268 - accuracy: 0.8946\n",
            "Epoch 3/5\n",
            "13/13 [==============================] - 0s 8ms/step - loss: 0.1842 - accuracy: 0.9243\n",
            "Epoch 4/5\n",
            "13/13 [==============================] - 0s 7ms/step - loss: 0.1371 - accuracy: 0.9378\n",
            "Epoch 5/5\n",
            "13/13 [==============================] - 0s 7ms/step - loss: 0.1068 - accuracy: 0.9676\n"
          ]
        },
        {
          "output_type": "stream",
          "name": "stderr",
          "text": [
            "\r2it [00:02,  1.02s/it]"
          ]
        },
        {
          "output_type": "stream",
          "name": "stdout",
          "text": [
            "(370,)\n",
            "Epoch 1/5\n",
            "13/13 [==============================] - 0s 8ms/step - loss: 0.1462 - accuracy: 0.9324\n",
            "Epoch 2/5\n",
            "13/13 [==============================] - 0s 8ms/step - loss: 0.1241 - accuracy: 0.9541\n",
            "Epoch 3/5\n",
            "13/13 [==============================] - 0s 8ms/step - loss: 0.1234 - accuracy: 0.9486\n",
            "Epoch 4/5\n",
            "13/13 [==============================] - 0s 8ms/step - loss: 0.1494 - accuracy: 0.9378\n",
            "Epoch 5/5\n",
            "13/13 [==============================] - 0s 7ms/step - loss: 0.3154 - accuracy: 0.8973\n"
          ]
        },
        {
          "output_type": "stream",
          "name": "stderr",
          "text": [
            "\r3it [00:02,  1.11it/s]"
          ]
        },
        {
          "output_type": "stream",
          "name": "stdout",
          "text": [
            "(370,)\n",
            "Epoch 1/5\n",
            "13/13 [==============================] - 0s 7ms/step - loss: 0.2518 - accuracy: 0.9189\n",
            "Epoch 2/5\n",
            "13/13 [==============================] - 0s 7ms/step - loss: 0.1933 - accuracy: 0.9189\n",
            "Epoch 3/5\n",
            "13/13 [==============================] - 0s 8ms/step - loss: 0.1967 - accuracy: 0.9270\n",
            "Epoch 4/5\n",
            "13/13 [==============================] - 0s 8ms/step - loss: 0.1338 - accuracy: 0.9432\n",
            "Epoch 5/5\n",
            "13/13 [==============================] - 0s 7ms/step - loss: 0.1028 - accuracy: 0.9595\n"
          ]
        },
        {
          "output_type": "stream",
          "name": "stderr",
          "text": [
            "\r4it [00:03,  1.14it/s]"
          ]
        },
        {
          "output_type": "stream",
          "name": "stdout",
          "text": [
            "(370,)\n",
            "Epoch 1/5\n",
            "13/13 [==============================] - 0s 7ms/step - loss: 0.1996 - accuracy: 0.9108\n",
            "Epoch 2/5\n",
            "13/13 [==============================] - 0s 7ms/step - loss: 0.1805 - accuracy: 0.9189\n",
            "Epoch 3/5\n",
            "13/13 [==============================] - 0s 7ms/step - loss: 0.1578 - accuracy: 0.9216\n",
            "Epoch 4/5\n",
            "13/13 [==============================] - 0s 7ms/step - loss: 0.1647 - accuracy: 0.9270\n",
            "Epoch 5/5\n",
            "13/13 [==============================] - 0s 7ms/step - loss: 0.1865 - accuracy: 0.9243\n"
          ]
        },
        {
          "output_type": "stream",
          "name": "stderr",
          "text": [
            "\r5it [00:04,  1.13it/s]"
          ]
        },
        {
          "output_type": "stream",
          "name": "stdout",
          "text": [
            "(370,)\n",
            "Epoch 1/5\n",
            "13/13 [==============================] - 0s 8ms/step - loss: 0.2422 - accuracy: 0.9081\n",
            "Epoch 2/5\n",
            "13/13 [==============================] - 0s 7ms/step - loss: 0.2010 - accuracy: 0.9162\n",
            "Epoch 3/5\n",
            "13/13 [==============================] - 0s 7ms/step - loss: 0.1067 - accuracy: 0.9595\n",
            "Epoch 4/5\n",
            "13/13 [==============================] - 0s 7ms/step - loss: 0.1154 - accuracy: 0.9622\n",
            "Epoch 5/5\n",
            "13/13 [==============================] - 0s 7ms/step - loss: 0.0719 - accuracy: 0.9730\n"
          ]
        },
        {
          "output_type": "stream",
          "name": "stderr",
          "text": [
            "\r6it [00:05,  1.21it/s]"
          ]
        },
        {
          "output_type": "stream",
          "name": "stdout",
          "text": [
            "(370,)\n",
            "Epoch 1/5\n",
            "13/13 [==============================] - 0s 7ms/step - loss: 0.1105 - accuracy: 0.9568\n",
            "Epoch 2/5\n",
            "13/13 [==============================] - 0s 7ms/step - loss: 0.0871 - accuracy: 0.9676\n",
            "Epoch 3/5\n",
            "13/13 [==============================] - 0s 7ms/step - loss: 0.1076 - accuracy: 0.9514\n",
            "Epoch 4/5\n",
            "13/13 [==============================] - 0s 7ms/step - loss: 0.1042 - accuracy: 0.9595\n",
            "Epoch 5/5\n",
            "13/13 [==============================] - 0s 7ms/step - loss: 0.3060 - accuracy: 0.8811\n"
          ]
        },
        {
          "output_type": "stream",
          "name": "stderr",
          "text": [
            "\r7it [00:06,  1.17it/s]"
          ]
        },
        {
          "output_type": "stream",
          "name": "stdout",
          "text": [
            "(370,)\n",
            "Epoch 1/5\n",
            "13/13 [==============================] - 0s 8ms/step - loss: 0.1628 - accuracy: 0.9162\n",
            "Epoch 2/5\n",
            "13/13 [==============================] - 0s 8ms/step - loss: 0.1606 - accuracy: 0.9270\n",
            "Epoch 3/5\n",
            "13/13 [==============================] - 0s 8ms/step - loss: 0.1065 - accuracy: 0.9541\n",
            "Epoch 4/5\n",
            "13/13 [==============================] - 0s 7ms/step - loss: 0.1033 - accuracy: 0.9486\n",
            "Epoch 5/5\n",
            "13/13 [==============================] - 0s 8ms/step - loss: 0.1140 - accuracy: 0.9541\n"
          ]
        },
        {
          "output_type": "stream",
          "name": "stderr",
          "text": [
            "\r8it [00:07,  1.20it/s]"
          ]
        },
        {
          "output_type": "stream",
          "name": "stdout",
          "text": [
            "(370,)\n",
            "Epoch 1/5\n",
            "13/13 [==============================] - 0s 8ms/step - loss: 0.1050 - accuracy: 0.9514\n",
            "Epoch 2/5\n",
            "13/13 [==============================] - 0s 7ms/step - loss: 0.0880 - accuracy: 0.9568\n",
            "Epoch 3/5\n",
            "13/13 [==============================] - 0s 8ms/step - loss: 0.1092 - accuracy: 0.9486\n",
            "Epoch 4/5\n",
            "13/13 [==============================] - 0s 8ms/step - loss: 0.0632 - accuracy: 0.9703\n",
            "Epoch 5/5\n",
            "13/13 [==============================] - 0s 7ms/step - loss: 0.0648 - accuracy: 0.9757\n"
          ]
        },
        {
          "output_type": "stream",
          "name": "stderr",
          "text": [
            "\r9it [00:07,  1.22it/s]"
          ]
        },
        {
          "output_type": "stream",
          "name": "stdout",
          "text": [
            "(370,)\n",
            "Epoch 1/5\n",
            "13/13 [==============================] - 0s 8ms/step - loss: 0.1434 - accuracy: 0.9378\n",
            "Epoch 2/5\n",
            "13/13 [==============================] - 0s 8ms/step - loss: 0.1161 - accuracy: 0.9568\n",
            "Epoch 3/5\n",
            "13/13 [==============================] - 0s 7ms/step - loss: 0.0913 - accuracy: 0.9757\n",
            "Epoch 4/5\n",
            "13/13 [==============================] - 0s 7ms/step - loss: 0.0676 - accuracy: 0.9676\n",
            "Epoch 5/5\n",
            "13/13 [==============================] - 0s 7ms/step - loss: 0.0583 - accuracy: 0.9811\n"
          ]
        },
        {
          "output_type": "stream",
          "name": "stderr",
          "text": [
            "10it [00:08,  1.16it/s]\n"
          ]
        },
        {
          "output_type": "stream",
          "name": "stdout",
          "text": [
            "0.04 FRAC  370 POINTS PREDICTION ACCURACY: 0.906 $\\pm$ 0.050\n",
            "(10299, 561)\n"
          ]
        },
        {
          "output_type": "stream",
          "name": "stderr",
          "text": [
            "\r0it [00:00, ?it/s]"
          ]
        },
        {
          "output_type": "stream",
          "name": "stdout",
          "text": [
            "(463,)\n",
            "Epoch 1/5\n",
            "16/16 [==============================] - 0s 7ms/step - loss: 1.1895 - accuracy: 0.5140\n",
            "Epoch 2/5\n",
            "16/16 [==============================] - 0s 7ms/step - loss: 0.4950 - accuracy: 0.8143\n",
            "Epoch 3/5\n",
            "16/16 [==============================] - 0s 7ms/step - loss: 0.3408 - accuracy: 0.8596\n",
            "Epoch 4/5\n",
            "16/16 [==============================] - 0s 8ms/step - loss: 0.2936 - accuracy: 0.8704\n",
            "Epoch 5/5\n",
            "16/16 [==============================] - 0s 7ms/step - loss: 0.2041 - accuracy: 0.9330\n"
          ]
        },
        {
          "output_type": "stream",
          "name": "stderr",
          "text": [
            "\r1it [00:01,  1.33s/it]"
          ]
        },
        {
          "output_type": "stream",
          "name": "stdout",
          "text": [
            "(463,)\n",
            "Epoch 1/5\n",
            "16/16 [==============================] - 0s 8ms/step - loss: 0.2422 - accuracy: 0.9050\n",
            "Epoch 2/5\n",
            "16/16 [==============================] - 0s 7ms/step - loss: 0.2715 - accuracy: 0.8683\n",
            "Epoch 3/5\n",
            "16/16 [==============================] - 0s 8ms/step - loss: 0.1839 - accuracy: 0.9244\n",
            "Epoch 4/5\n",
            "16/16 [==============================] - 0s 7ms/step - loss: 0.1749 - accuracy: 0.9244\n",
            "Epoch 5/5\n",
            "16/16 [==============================] - 0s 8ms/step - loss: 0.0965 - accuracy: 0.9719\n"
          ]
        },
        {
          "output_type": "stream",
          "name": "stderr",
          "text": [
            "\r2it [00:02,  1.08s/it]"
          ]
        },
        {
          "output_type": "stream",
          "name": "stdout",
          "text": [
            "(463,)\n",
            "Epoch 1/5\n",
            "16/16 [==============================] - 0s 8ms/step - loss: 0.1720 - accuracy: 0.9352\n",
            "Epoch 2/5\n",
            "16/16 [==============================] - 0s 7ms/step - loss: 0.2147 - accuracy: 0.9158\n",
            "Epoch 3/5\n",
            "16/16 [==============================] - 0s 9ms/step - loss: 0.2072 - accuracy: 0.8985\n",
            "Epoch 4/5\n",
            "16/16 [==============================] - 0s 8ms/step - loss: 0.2727 - accuracy: 0.9071\n",
            "Epoch 5/5\n",
            "16/16 [==============================] - 0s 9ms/step - loss: 0.1478 - accuracy: 0.9460\n"
          ]
        },
        {
          "output_type": "stream",
          "name": "stderr",
          "text": [
            "\r3it [00:03,  1.01it/s]"
          ]
        },
        {
          "output_type": "stream",
          "name": "stdout",
          "text": [
            "(463,)\n",
            "Epoch 1/5\n",
            "16/16 [==============================] - 0s 7ms/step - loss: 0.2519 - accuracy: 0.8855\n",
            "Epoch 2/5\n",
            "16/16 [==============================] - 0s 7ms/step - loss: 0.1777 - accuracy: 0.9330\n",
            "Epoch 3/5\n",
            "16/16 [==============================] - 0s 8ms/step - loss: 0.1263 - accuracy: 0.9525\n",
            "Epoch 4/5\n",
            "16/16 [==============================] - 0s 8ms/step - loss: 0.1351 - accuracy: 0.9438\n",
            "Epoch 5/5\n",
            "16/16 [==============================] - 0s 8ms/step - loss: 0.1064 - accuracy: 0.9568\n"
          ]
        },
        {
          "output_type": "stream",
          "name": "stderr",
          "text": [
            "\r4it [00:03,  1.08it/s]"
          ]
        },
        {
          "output_type": "stream",
          "name": "stdout",
          "text": [
            "(463,)\n",
            "Epoch 1/5\n",
            "16/16 [==============================] - 0s 8ms/step - loss: 0.1289 - accuracy: 0.9590\n",
            "Epoch 2/5\n",
            "16/16 [==============================] - 0s 8ms/step - loss: 0.1327 - accuracy: 0.9546\n",
            "Epoch 3/5\n",
            "16/16 [==============================] - 0s 7ms/step - loss: 0.1434 - accuracy: 0.9330\n",
            "Epoch 4/5\n",
            "16/16 [==============================] - 0s 8ms/step - loss: 0.0818 - accuracy: 0.9654\n",
            "Epoch 5/5\n",
            "16/16 [==============================] - 0s 8ms/step - loss: 0.0691 - accuracy: 0.9719\n"
          ]
        },
        {
          "output_type": "stream",
          "name": "stderr",
          "text": [
            "\r5it [00:04,  1.09it/s]"
          ]
        },
        {
          "output_type": "stream",
          "name": "stdout",
          "text": [
            "(463,)\n",
            "Epoch 1/5\n",
            "16/16 [==============================] - 0s 7ms/step - loss: 0.1270 - accuracy: 0.9330\n",
            "Epoch 2/5\n",
            "16/16 [==============================] - 0s 7ms/step - loss: 0.1033 - accuracy: 0.9568\n",
            "Epoch 3/5\n",
            "16/16 [==============================] - 0s 8ms/step - loss: 0.1088 - accuracy: 0.9546\n",
            "Epoch 4/5\n",
            "16/16 [==============================] - 0s 8ms/step - loss: 0.1264 - accuracy: 0.9417\n",
            "Epoch 5/5\n",
            "16/16 [==============================] - 0s 7ms/step - loss: 0.1653 - accuracy: 0.9330\n"
          ]
        },
        {
          "output_type": "stream",
          "name": "stderr",
          "text": [
            "\r6it [00:06,  1.13s/it]"
          ]
        },
        {
          "output_type": "stream",
          "name": "stdout",
          "text": [
            "(463,)\n",
            "Epoch 1/5\n",
            "16/16 [==============================] - 0s 7ms/step - loss: 0.1464 - accuracy: 0.9417\n",
            "Epoch 2/5\n",
            "16/16 [==============================] - 0s 8ms/step - loss: 0.0941 - accuracy: 0.9633\n",
            "Epoch 3/5\n",
            "16/16 [==============================] - 0s 7ms/step - loss: 0.0979 - accuracy: 0.9568\n",
            "Epoch 4/5\n",
            "16/16 [==============================] - 0s 7ms/step - loss: 0.0613 - accuracy: 0.9741\n",
            "Epoch 5/5\n",
            "16/16 [==============================] - 0s 7ms/step - loss: 0.0515 - accuracy: 0.9806\n"
          ]
        },
        {
          "output_type": "stream",
          "name": "stderr",
          "text": [
            "\r7it [00:07,  1.03s/it]"
          ]
        },
        {
          "output_type": "stream",
          "name": "stdout",
          "text": [
            "(463,)\n",
            "Epoch 1/5\n",
            "16/16 [==============================] - 0s 8ms/step - loss: 0.1492 - accuracy: 0.9374\n",
            "Epoch 2/5\n",
            "16/16 [==============================] - 0s 8ms/step - loss: 0.1618 - accuracy: 0.9352\n",
            "Epoch 3/5\n",
            "16/16 [==============================] - 0s 8ms/step - loss: 0.1659 - accuracy: 0.9374\n",
            "Epoch 4/5\n",
            "16/16 [==============================] - 0s 8ms/step - loss: 0.1324 - accuracy: 0.9460\n",
            "Epoch 5/5\n",
            "16/16 [==============================] - 0s 8ms/step - loss: 0.0999 - accuracy: 0.9611\n"
          ]
        },
        {
          "output_type": "stream",
          "name": "stderr",
          "text": [
            "\r8it [00:08,  1.01s/it]"
          ]
        },
        {
          "output_type": "stream",
          "name": "stdout",
          "text": [
            "(463,)\n",
            "Epoch 1/5\n",
            "16/16 [==============================] - 0s 9ms/step - loss: 0.1578 - accuracy: 0.9438\n",
            "Epoch 2/5\n",
            "16/16 [==============================] - 0s 8ms/step - loss: 0.0912 - accuracy: 0.9654\n",
            "Epoch 3/5\n",
            "16/16 [==============================] - 0s 8ms/step - loss: 0.1241 - accuracy: 0.9568\n",
            "Epoch 4/5\n",
            "16/16 [==============================] - 0s 8ms/step - loss: 0.1026 - accuracy: 0.9568\n",
            "Epoch 5/5\n",
            "16/16 [==============================] - 0s 8ms/step - loss: 0.0427 - accuracy: 0.9849\n"
          ]
        },
        {
          "output_type": "stream",
          "name": "stderr",
          "text": [
            "\r9it [00:09,  1.00s/it]"
          ]
        },
        {
          "output_type": "stream",
          "name": "stdout",
          "text": [
            "(463,)\n",
            "Epoch 1/5\n",
            "16/16 [==============================] - 0s 7ms/step - loss: 0.1090 - accuracy: 0.9698\n",
            "Epoch 2/5\n",
            "16/16 [==============================] - 0s 8ms/step - loss: 0.1314 - accuracy: 0.9503\n",
            "Epoch 3/5\n",
            "16/16 [==============================] - 0s 8ms/step - loss: 0.1059 - accuracy: 0.9525\n",
            "Epoch 4/5\n",
            "16/16 [==============================] - 0s 8ms/step - loss: 0.0797 - accuracy: 0.9654\n",
            "Epoch 5/5\n",
            "16/16 [==============================] - 0s 8ms/step - loss: 0.0424 - accuracy: 0.9827\n"
          ]
        },
        {
          "output_type": "stream",
          "name": "stderr",
          "text": [
            "10it [00:10,  1.01s/it]\n"
          ]
        },
        {
          "output_type": "stream",
          "name": "stdout",
          "text": [
            "0.05 FRAC  463 POINTS PREDICTION ACCURACY: 0.933 $\\pm$ 0.032\n",
            "(10299, 561)\n"
          ]
        },
        {
          "output_type": "stream",
          "name": "stderr",
          "text": [
            "\r0it [00:00, ?it/s]"
          ]
        },
        {
          "output_type": "stream",
          "name": "stdout",
          "text": [
            "(695,)\n",
            "Epoch 1/5\n",
            "24/24 [==============================] - 1s 8ms/step - loss: 1.0292 - accuracy: 0.6043\n",
            "Epoch 2/5\n",
            "24/24 [==============================] - 0s 8ms/step - loss: 0.3558 - accuracy: 0.8691\n",
            "Epoch 3/5\n",
            "24/24 [==============================] - 0s 7ms/step - loss: 0.2684 - accuracy: 0.8906\n",
            "Epoch 4/5\n",
            "24/24 [==============================] - 0s 8ms/step - loss: 0.1845 - accuracy: 0.9324\n",
            "Epoch 5/5\n",
            "24/24 [==============================] - 0s 8ms/step - loss: 0.2451 - accuracy: 0.8978\n"
          ]
        },
        {
          "output_type": "stream",
          "name": "stderr",
          "text": [
            "\r1it [00:01,  1.67s/it]"
          ]
        },
        {
          "output_type": "stream",
          "name": "stdout",
          "text": [
            "(695,)\n",
            "Epoch 1/5\n",
            "24/24 [==============================] - 0s 7ms/step - loss: 0.2483 - accuracy: 0.9151\n",
            "Epoch 2/5\n",
            "24/24 [==============================] - 0s 8ms/step - loss: 0.1944 - accuracy: 0.9223\n",
            "Epoch 3/5\n",
            "24/24 [==============================] - 0s 8ms/step - loss: 0.1486 - accuracy: 0.9381\n",
            "Epoch 4/5\n",
            "24/24 [==============================] - 0s 8ms/step - loss: 0.1418 - accuracy: 0.9410\n",
            "Epoch 5/5\n",
            "24/24 [==============================] - 0s 8ms/step - loss: 0.1077 - accuracy: 0.9612\n"
          ]
        },
        {
          "output_type": "stream",
          "name": "stderr",
          "text": [
            "\r2it [00:02,  1.40s/it]"
          ]
        },
        {
          "output_type": "stream",
          "name": "stdout",
          "text": [
            "(695,)\n",
            "Epoch 1/5\n",
            "24/24 [==============================] - 0s 8ms/step - loss: 0.2055 - accuracy: 0.9165\n",
            "Epoch 2/5\n",
            "24/24 [==============================] - 0s 7ms/step - loss: 0.1441 - accuracy: 0.9367\n",
            "Epoch 3/5\n",
            "24/24 [==============================] - 0s 7ms/step - loss: 0.1255 - accuracy: 0.9482\n",
            "Epoch 4/5\n",
            "24/24 [==============================] - 0s 7ms/step - loss: 0.1088 - accuracy: 0.9612\n",
            "Epoch 5/5\n",
            "24/24 [==============================] - 0s 7ms/step - loss: 0.0796 - accuracy: 0.9741\n"
          ]
        },
        {
          "output_type": "stream",
          "name": "stderr",
          "text": [
            "\r3it [00:04,  1.46s/it]"
          ]
        },
        {
          "output_type": "stream",
          "name": "stdout",
          "text": [
            "(695,)\n",
            "Epoch 1/5\n",
            "24/24 [==============================] - 0s 8ms/step - loss: 0.1550 - accuracy: 0.9367\n",
            "Epoch 2/5\n",
            "24/24 [==============================] - 0s 7ms/step - loss: 0.0938 - accuracy: 0.9597\n",
            "Epoch 3/5\n",
            "24/24 [==============================] - 0s 7ms/step - loss: 0.1025 - accuracy: 0.9568\n",
            "Epoch 4/5\n",
            "24/24 [==============================] - 0s 8ms/step - loss: 0.1082 - accuracy: 0.9540\n",
            "Epoch 5/5\n",
            "24/24 [==============================] - 0s 8ms/step - loss: 0.0879 - accuracy: 0.9640\n"
          ]
        },
        {
          "output_type": "stream",
          "name": "stderr",
          "text": [
            "\r4it [00:05,  1.34s/it]"
          ]
        },
        {
          "output_type": "stream",
          "name": "stdout",
          "text": [
            "(695,)\n",
            "Epoch 1/5\n",
            "24/24 [==============================] - 0s 7ms/step - loss: 0.1623 - accuracy: 0.9353\n",
            "Epoch 2/5\n",
            "24/24 [==============================] - 0s 7ms/step - loss: 0.1522 - accuracy: 0.9396\n",
            "Epoch 3/5\n",
            "24/24 [==============================] - 0s 7ms/step - loss: 0.1126 - accuracy: 0.9554\n",
            "Epoch 4/5\n",
            "24/24 [==============================] - 0s 8ms/step - loss: 0.0765 - accuracy: 0.9727\n",
            "Epoch 5/5\n",
            "24/24 [==============================] - 0s 7ms/step - loss: 0.0922 - accuracy: 0.9640\n"
          ]
        },
        {
          "output_type": "stream",
          "name": "stderr",
          "text": [
            "\r5it [00:06,  1.29s/it]"
          ]
        },
        {
          "output_type": "stream",
          "name": "stdout",
          "text": [
            "(695,)\n",
            "Epoch 1/5\n",
            "24/24 [==============================] - 0s 7ms/step - loss: 0.1842 - accuracy: 0.9223\n",
            "Epoch 2/5\n",
            "24/24 [==============================] - 0s 7ms/step - loss: 0.1591 - accuracy: 0.9223\n",
            "Epoch 3/5\n",
            "24/24 [==============================] - 0s 7ms/step - loss: 0.0924 - accuracy: 0.9612\n",
            "Epoch 4/5\n",
            "24/24 [==============================] - 0s 8ms/step - loss: 0.1235 - accuracy: 0.9525\n",
            "Epoch 5/5\n",
            "24/24 [==============================] - 0s 8ms/step - loss: 0.0879 - accuracy: 0.9640\n"
          ]
        },
        {
          "output_type": "stream",
          "name": "stderr",
          "text": [
            "\r6it [00:07,  1.25s/it]"
          ]
        },
        {
          "output_type": "stream",
          "name": "stdout",
          "text": [
            "(695,)\n",
            "Epoch 1/5\n",
            "24/24 [==============================] - 0s 7ms/step - loss: 0.0971 - accuracy: 0.9626\n",
            "Epoch 2/5\n",
            "24/24 [==============================] - 0s 8ms/step - loss: 0.0776 - accuracy: 0.9669\n",
            "Epoch 3/5\n",
            "24/24 [==============================] - 0s 8ms/step - loss: 0.1341 - accuracy: 0.9468\n",
            "Epoch 4/5\n",
            "24/24 [==============================] - 0s 8ms/step - loss: 0.0548 - accuracy: 0.9842\n",
            "Epoch 5/5\n",
            "24/24 [==============================] - 0s 7ms/step - loss: 0.0625 - accuracy: 0.9813\n"
          ]
        },
        {
          "output_type": "stream",
          "name": "stderr",
          "text": [
            "\r7it [00:09,  1.23s/it]"
          ]
        },
        {
          "output_type": "stream",
          "name": "stdout",
          "text": [
            "(695,)\n",
            "Epoch 1/5\n",
            "24/24 [==============================] - 0s 8ms/step - loss: 0.1570 - accuracy: 0.9396\n",
            "Epoch 2/5\n",
            "24/24 [==============================] - 0s 7ms/step - loss: 0.0991 - accuracy: 0.9612\n",
            "Epoch 3/5\n",
            "24/24 [==============================] - 0s 8ms/step - loss: 0.0807 - accuracy: 0.9727\n",
            "Epoch 4/5\n",
            "24/24 [==============================] - 0s 7ms/step - loss: 0.0690 - accuracy: 0.9727\n",
            "Epoch 5/5\n",
            "24/24 [==============================] - 0s 8ms/step - loss: 0.0536 - accuracy: 0.9827\n"
          ]
        },
        {
          "output_type": "stream",
          "name": "stderr",
          "text": [
            "\r8it [00:11,  1.44s/it]"
          ]
        },
        {
          "output_type": "stream",
          "name": "stdout",
          "text": [
            "(695,)\n",
            "Epoch 1/5\n",
            "24/24 [==============================] - 0s 7ms/step - loss: 0.1363 - accuracy: 0.9439\n",
            "Epoch 2/5\n",
            "24/24 [==============================] - 0s 8ms/step - loss: 0.1571 - accuracy: 0.9338\n",
            "Epoch 3/5\n",
            "24/24 [==============================] - 0s 7ms/step - loss: 0.1280 - accuracy: 0.9583\n",
            "Epoch 4/5\n",
            "24/24 [==============================] - 0s 8ms/step - loss: 0.1085 - accuracy: 0.9482\n",
            "Epoch 5/5\n",
            "24/24 [==============================] - 0s 7ms/step - loss: 0.0812 - accuracy: 0.9698\n"
          ]
        },
        {
          "output_type": "stream",
          "name": "stderr",
          "text": [
            "\r9it [00:12,  1.46s/it]"
          ]
        },
        {
          "output_type": "stream",
          "name": "stdout",
          "text": [
            "(695,)\n",
            "Epoch 1/5\n",
            "24/24 [==============================] - 0s 8ms/step - loss: 0.1292 - accuracy: 0.9410\n",
            "Epoch 2/5\n",
            "24/24 [==============================] - 0s 7ms/step - loss: 0.1909 - accuracy: 0.9295\n",
            "Epoch 3/5\n",
            "24/24 [==============================] - 0s 7ms/step - loss: 0.1526 - accuracy: 0.9453\n",
            "Epoch 4/5\n",
            "24/24 [==============================] - 0s 7ms/step - loss: 0.1233 - accuracy: 0.9540\n",
            "Epoch 5/5\n",
            "24/24 [==============================] - 0s 8ms/step - loss: 0.1038 - accuracy: 0.9669\n"
          ]
        },
        {
          "output_type": "stream",
          "name": "stderr",
          "text": [
            "10it [00:13,  1.37s/it]"
          ]
        },
        {
          "output_type": "stream",
          "name": "stdout",
          "text": [
            "0.075 FRAC  695 POINTS PREDICTION ACCURACY: 0.939 $\\pm$ 0.037\n"
          ]
        },
        {
          "output_type": "stream",
          "name": "stderr",
          "text": [
            "\n"
          ]
        },
        {
          "output_type": "stream",
          "name": "stdout",
          "text": [
            "(10299, 561)\n"
          ]
        },
        {
          "output_type": "stream",
          "name": "stderr",
          "text": [
            "\r0it [00:00, ?it/s]"
          ]
        },
        {
          "output_type": "stream",
          "name": "stdout",
          "text": [
            "(926,)\n",
            "Epoch 1/5\n",
            "31/31 [==============================] - 1s 7ms/step - loss: 0.8035 - accuracy: 0.6749\n",
            "Epoch 2/5\n",
            "31/31 [==============================] - 0s 8ms/step - loss: 0.2841 - accuracy: 0.8931\n",
            "Epoch 3/5\n",
            "31/31 [==============================] - 0s 8ms/step - loss: 0.2836 - accuracy: 0.8877\n",
            "Epoch 4/5\n",
            "31/31 [==============================] - 0s 7ms/step - loss: 0.1858 - accuracy: 0.9244\n",
            "Epoch 5/5\n",
            "31/31 [==============================] - 0s 7ms/step - loss: 0.1763 - accuracy: 0.9309\n"
          ]
        },
        {
          "output_type": "stream",
          "name": "stderr",
          "text": [
            "\r1it [00:01,  1.96s/it]"
          ]
        },
        {
          "output_type": "stream",
          "name": "stdout",
          "text": [
            "(926,)\n",
            "Epoch 1/5\n",
            "31/31 [==============================] - 0s 7ms/step - loss: 0.2085 - accuracy: 0.9233\n",
            "Epoch 2/5\n",
            "31/31 [==============================] - 0s 7ms/step - loss: 0.2237 - accuracy: 0.9006\n",
            "Epoch 3/5\n",
            "31/31 [==============================] - 0s 7ms/step - loss: 0.1073 - accuracy: 0.9568\n",
            "Epoch 4/5\n",
            "31/31 [==============================] - 0s 8ms/step - loss: 0.1437 - accuracy: 0.9428\n",
            "Epoch 5/5\n",
            "31/31 [==============================] - 0s 8ms/step - loss: 0.0812 - accuracy: 0.9665\n"
          ]
        },
        {
          "output_type": "stream",
          "name": "stderr",
          "text": [
            "\r2it [00:03,  1.67s/it]"
          ]
        },
        {
          "output_type": "stream",
          "name": "stdout",
          "text": [
            "(926,)\n",
            "Epoch 1/5\n",
            "31/31 [==============================] - 0s 7ms/step - loss: 0.1440 - accuracy: 0.9406\n",
            "Epoch 2/5\n",
            "31/31 [==============================] - 0s 8ms/step - loss: 0.1328 - accuracy: 0.9460\n",
            "Epoch 3/5\n",
            "31/31 [==============================] - 0s 8ms/step - loss: 0.1150 - accuracy: 0.9579\n",
            "Epoch 4/5\n",
            "31/31 [==============================] - 0s 7ms/step - loss: 0.1018 - accuracy: 0.9644\n",
            "Epoch 5/5\n",
            "31/31 [==============================] - 0s 8ms/step - loss: 0.0946 - accuracy: 0.9633\n"
          ]
        },
        {
          "output_type": "stream",
          "name": "stderr",
          "text": [
            "\r3it [00:04,  1.56s/it]"
          ]
        },
        {
          "output_type": "stream",
          "name": "stdout",
          "text": [
            "(926,)\n",
            "Epoch 1/5\n",
            "31/31 [==============================] - 0s 8ms/step - loss: 0.1311 - accuracy: 0.9417\n",
            "Epoch 2/5\n",
            "31/31 [==============================] - 0s 8ms/step - loss: 0.1198 - accuracy: 0.9590\n",
            "Epoch 3/5\n",
            "31/31 [==============================] - 0s 7ms/step - loss: 0.0882 - accuracy: 0.9687\n",
            "Epoch 4/5\n",
            "31/31 [==============================] - 0s 8ms/step - loss: 0.0695 - accuracy: 0.9773\n",
            "Epoch 5/5\n",
            "31/31 [==============================] - 0s 7ms/step - loss: 0.0586 - accuracy: 0.9795\n"
          ]
        },
        {
          "output_type": "stream",
          "name": "stderr",
          "text": [
            "\r4it [00:06,  1.53s/it]"
          ]
        },
        {
          "output_type": "stream",
          "name": "stdout",
          "text": [
            "(926,)\n",
            "Epoch 1/5\n",
            "31/31 [==============================] - 0s 8ms/step - loss: 0.1211 - accuracy: 0.9482\n",
            "Epoch 2/5\n",
            "31/31 [==============================] - 0s 8ms/step - loss: 0.1093 - accuracy: 0.9644\n",
            "Epoch 3/5\n",
            "31/31 [==============================] - 0s 8ms/step - loss: 0.0913 - accuracy: 0.9665\n",
            "Epoch 4/5\n",
            "31/31 [==============================] - 0s 8ms/step - loss: 0.1243 - accuracy: 0.9471\n",
            "Epoch 5/5\n",
            "31/31 [==============================] - 0s 8ms/step - loss: 0.0907 - accuracy: 0.9633\n"
          ]
        },
        {
          "output_type": "stream",
          "name": "stderr",
          "text": [
            "\r5it [00:07,  1.53s/it]"
          ]
        },
        {
          "output_type": "stream",
          "name": "stdout",
          "text": [
            "(926,)\n",
            "Epoch 1/5\n",
            "31/31 [==============================] - 0s 7ms/step - loss: 0.1373 - accuracy: 0.9374\n",
            "Epoch 2/5\n",
            "31/31 [==============================] - 0s 7ms/step - loss: 0.1055 - accuracy: 0.9568\n",
            "Epoch 3/5\n",
            "31/31 [==============================] - 0s 7ms/step - loss: 0.0540 - accuracy: 0.9806\n",
            "Epoch 4/5\n",
            "31/31 [==============================] - 0s 8ms/step - loss: 0.0485 - accuracy: 0.9827\n",
            "Epoch 5/5\n",
            "31/31 [==============================] - 0s 7ms/step - loss: 0.0503 - accuracy: 0.9795\n"
          ]
        },
        {
          "output_type": "stream",
          "name": "stderr",
          "text": [
            "\r6it [00:09,  1.52s/it]"
          ]
        },
        {
          "output_type": "stream",
          "name": "stdout",
          "text": [
            "(926,)\n",
            "Epoch 1/5\n",
            "31/31 [==============================] - 0s 8ms/step - loss: 0.1262 - accuracy: 0.9546\n",
            "Epoch 2/5\n",
            "31/31 [==============================] - 0s 8ms/step - loss: 0.0773 - accuracy: 0.9741\n",
            "Epoch 3/5\n",
            "31/31 [==============================] - 0s 8ms/step - loss: 0.1028 - accuracy: 0.9503\n",
            "Epoch 4/5\n",
            "31/31 [==============================] - 0s 7ms/step - loss: 0.0709 - accuracy: 0.9719\n",
            "Epoch 5/5\n",
            "31/31 [==============================] - 0s 7ms/step - loss: 0.0680 - accuracy: 0.9730\n"
          ]
        },
        {
          "output_type": "stream",
          "name": "stderr",
          "text": [
            "\r7it [00:10,  1.51s/it]"
          ]
        },
        {
          "output_type": "stream",
          "name": "stdout",
          "text": [
            "(926,)\n",
            "Epoch 1/5\n",
            "31/31 [==============================] - 0s 7ms/step - loss: 0.1166 - accuracy: 0.9557\n",
            "Epoch 2/5\n",
            "31/31 [==============================] - 0s 7ms/step - loss: 0.0648 - accuracy: 0.9730\n",
            "Epoch 3/5\n",
            "31/31 [==============================] - 0s 7ms/step - loss: 0.0512 - accuracy: 0.9838\n",
            "Epoch 4/5\n",
            "31/31 [==============================] - 0s 8ms/step - loss: 0.0373 - accuracy: 0.9881\n",
            "Epoch 5/5\n",
            "31/31 [==============================] - 0s 8ms/step - loss: 0.0516 - accuracy: 0.9816\n"
          ]
        },
        {
          "output_type": "stream",
          "name": "stderr",
          "text": [
            "\r8it [00:12,  1.52s/it]"
          ]
        },
        {
          "output_type": "stream",
          "name": "stdout",
          "text": [
            "(926,)\n",
            "Epoch 1/5\n",
            "31/31 [==============================] - 0s 7ms/step - loss: 0.0786 - accuracy: 0.9676\n",
            "Epoch 2/5\n",
            "31/31 [==============================] - 0s 7ms/step - loss: 0.0979 - accuracy: 0.9590\n",
            "Epoch 3/5\n",
            "31/31 [==============================] - 0s 7ms/step - loss: 0.0803 - accuracy: 0.9730\n",
            "Epoch 4/5\n",
            "31/31 [==============================] - 0s 7ms/step - loss: 0.0724 - accuracy: 0.9687\n",
            "Epoch 5/5\n",
            "31/31 [==============================] - 0s 8ms/step - loss: 0.0567 - accuracy: 0.9762\n"
          ]
        },
        {
          "output_type": "stream",
          "name": "stderr",
          "text": [
            "\r9it [00:13,  1.49s/it]"
          ]
        },
        {
          "output_type": "stream",
          "name": "stdout",
          "text": [
            "(927,)\n",
            "Epoch 1/5\n",
            "31/31 [==============================] - 0s 8ms/step - loss: 0.1688 - accuracy: 0.9353\n",
            "Epoch 2/5\n",
            "31/31 [==============================] - 0s 8ms/step - loss: 0.0853 - accuracy: 0.9655\n",
            "Epoch 3/5\n",
            "31/31 [==============================] - 0s 8ms/step - loss: 0.0415 - accuracy: 0.9838\n",
            "Epoch 4/5\n",
            "31/31 [==============================] - 0s 7ms/step - loss: 0.0413 - accuracy: 0.9838\n",
            "Epoch 5/5\n",
            "31/31 [==============================] - 0s 8ms/step - loss: 0.0485 - accuracy: 0.9773\n"
          ]
        },
        {
          "output_type": "stream",
          "name": "stderr",
          "text": [
            "10it [00:15,  1.53s/it]"
          ]
        },
        {
          "output_type": "stream",
          "name": "stdout",
          "text": [
            "0.1 FRAC  927 POINTS PREDICTION ACCURACY: 0.938 $\\pm$ 0.037\n"
          ]
        },
        {
          "output_type": "stream",
          "name": "stderr",
          "text": [
            "\n"
          ]
        },
        {
          "output_type": "stream",
          "name": "stdout",
          "text": [
            "(10299, 561)\n"
          ]
        },
        {
          "output_type": "stream",
          "name": "stderr",
          "text": [
            "\r0it [00:00, ?it/s]"
          ]
        },
        {
          "output_type": "stream",
          "name": "stdout",
          "text": [
            "(1158,)\n",
            "Epoch 1/5\n",
            "39/39 [==============================] - 1s 8ms/step - loss: 0.7778 - accuracy: 0.6710\n",
            "Epoch 2/5\n",
            "39/39 [==============================] - 0s 7ms/step - loss: 0.2942 - accuracy: 0.8834\n",
            "Epoch 3/5\n",
            "39/39 [==============================] - 0s 8ms/step - loss: 0.2166 - accuracy: 0.9128\n",
            "Epoch 4/5\n",
            "39/39 [==============================] - 0s 8ms/step - loss: 0.2326 - accuracy: 0.9016\n",
            "Epoch 5/5\n",
            "39/39 [==============================] - 0s 7ms/step - loss: 0.1324 - accuracy: 0.9473\n"
          ]
        },
        {
          "output_type": "stream",
          "name": "stderr",
          "text": [
            "\r1it [00:02,  2.28s/it]"
          ]
        },
        {
          "output_type": "stream",
          "name": "stdout",
          "text": [
            "(1158,)\n",
            "Epoch 1/5\n",
            "39/39 [==============================] - 0s 8ms/step - loss: 0.1908 - accuracy: 0.9197\n",
            "Epoch 2/5\n",
            "39/39 [==============================] - 0s 7ms/step - loss: 0.1120 - accuracy: 0.9516\n",
            "Epoch 3/5\n",
            "39/39 [==============================] - 0s 8ms/step - loss: 0.1107 - accuracy: 0.9594\n",
            "Epoch 4/5\n",
            "39/39 [==============================] - 0s 8ms/step - loss: 0.0724 - accuracy: 0.9767\n",
            "Epoch 5/5\n",
            "39/39 [==============================] - 0s 8ms/step - loss: 0.0744 - accuracy: 0.9698\n"
          ]
        },
        {
          "output_type": "stream",
          "name": "stderr",
          "text": [
            "\r2it [00:04,  2.01s/it]"
          ]
        },
        {
          "output_type": "stream",
          "name": "stdout",
          "text": [
            "(1158,)\n",
            "Epoch 1/5\n",
            "39/39 [==============================] - 0s 8ms/step - loss: 0.1926 - accuracy: 0.9249\n",
            "Epoch 2/5\n",
            "39/39 [==============================] - 0s 8ms/step - loss: 0.1219 - accuracy: 0.9465\n",
            "Epoch 3/5\n",
            "39/39 [==============================] - 0s 7ms/step - loss: 0.1258 - accuracy: 0.9465\n",
            "Epoch 4/5\n",
            "39/39 [==============================] - 0s 7ms/step - loss: 0.1191 - accuracy: 0.9534\n",
            "Epoch 5/5\n",
            "39/39 [==============================] - 0s 8ms/step - loss: 0.0870 - accuracy: 0.9637\n"
          ]
        },
        {
          "output_type": "stream",
          "name": "stderr",
          "text": [
            "\r3it [00:06,  2.38s/it]"
          ]
        },
        {
          "output_type": "stream",
          "name": "stdout",
          "text": [
            "(1158,)\n",
            "Epoch 1/5\n",
            "39/39 [==============================] - 0s 8ms/step - loss: 0.1186 - accuracy: 0.9542\n",
            "Epoch 2/5\n",
            "39/39 [==============================] - 0s 7ms/step - loss: 0.1046 - accuracy: 0.9646\n",
            "Epoch 3/5\n",
            "39/39 [==============================] - 0s 7ms/step - loss: 0.0801 - accuracy: 0.9680\n",
            "Epoch 4/5\n",
            "39/39 [==============================] - 0s 7ms/step - loss: 0.0672 - accuracy: 0.9724\n",
            "Epoch 5/5\n",
            "39/39 [==============================] - 0s 8ms/step - loss: 0.0738 - accuracy: 0.9689\n"
          ]
        },
        {
          "output_type": "stream",
          "name": "stderr",
          "text": [
            "\r4it [00:08,  2.15s/it]"
          ]
        },
        {
          "output_type": "stream",
          "name": "stdout",
          "text": [
            "(1158,)\n",
            "Epoch 1/5\n",
            "39/39 [==============================] - 0s 7ms/step - loss: 0.1297 - accuracy: 0.9413\n",
            "Epoch 2/5\n",
            "39/39 [==============================] - 0s 7ms/step - loss: 0.0885 - accuracy: 0.9680\n",
            "Epoch 3/5\n",
            "39/39 [==============================] - 0s 7ms/step - loss: 0.1235 - accuracy: 0.9499\n",
            "Epoch 4/5\n",
            "39/39 [==============================] - 0s 7ms/step - loss: 0.1045 - accuracy: 0.9655\n",
            "Epoch 5/5\n",
            "39/39 [==============================] - 0s 8ms/step - loss: 0.0798 - accuracy: 0.9594\n"
          ]
        },
        {
          "output_type": "stream",
          "name": "stderr",
          "text": [
            "\r5it [00:10,  2.00s/it]"
          ]
        },
        {
          "output_type": "stream",
          "name": "stdout",
          "text": [
            "(1158,)\n",
            "Epoch 1/5\n",
            "39/39 [==============================] - 0s 8ms/step - loss: 0.1130 - accuracy: 0.9568\n",
            "Epoch 2/5\n",
            "39/39 [==============================] - 0s 7ms/step - loss: 0.0896 - accuracy: 0.9672\n",
            "Epoch 3/5\n",
            "39/39 [==============================] - 0s 7ms/step - loss: 0.1369 - accuracy: 0.9387\n",
            "Epoch 4/5\n",
            "39/39 [==============================] - 0s 7ms/step - loss: 0.1055 - accuracy: 0.9629\n",
            "Epoch 5/5\n",
            "39/39 [==============================] - 0s 7ms/step - loss: 0.0780 - accuracy: 0.9698\n"
          ]
        },
        {
          "output_type": "stream",
          "name": "stderr",
          "text": [
            "\r6it [00:12,  1.89s/it]"
          ]
        },
        {
          "output_type": "stream",
          "name": "stdout",
          "text": [
            "(1158,)\n",
            "Epoch 1/5\n",
            "39/39 [==============================] - 0s 7ms/step - loss: 0.1152 - accuracy: 0.9560\n",
            "Epoch 2/5\n",
            "39/39 [==============================] - 0s 8ms/step - loss: 0.0639 - accuracy: 0.9741\n",
            "Epoch 3/5\n",
            "39/39 [==============================] - 0s 8ms/step - loss: 0.0612 - accuracy: 0.9750\n",
            "Epoch 4/5\n",
            "39/39 [==============================] - 0s 8ms/step - loss: 0.0539 - accuracy: 0.9801\n",
            "Epoch 5/5\n",
            "39/39 [==============================] - 0s 8ms/step - loss: 0.0745 - accuracy: 0.9732\n"
          ]
        },
        {
          "output_type": "stream",
          "name": "stderr",
          "text": [
            "\r7it [00:13,  1.84s/it]"
          ]
        },
        {
          "output_type": "stream",
          "name": "stdout",
          "text": [
            "(1158,)\n",
            "Epoch 1/5\n",
            "39/39 [==============================] - 0s 8ms/step - loss: 0.1688 - accuracy: 0.9430\n",
            "Epoch 2/5\n",
            "39/39 [==============================] - 0s 7ms/step - loss: 0.1164 - accuracy: 0.9499\n",
            "Epoch 3/5\n",
            "39/39 [==============================] - 0s 8ms/step - loss: 0.0917 - accuracy: 0.9603\n",
            "Epoch 4/5\n",
            "39/39 [==============================] - 0s 7ms/step - loss: 0.0573 - accuracy: 0.9801\n",
            "Epoch 5/5\n",
            "39/39 [==============================] - 0s 8ms/step - loss: 0.0494 - accuracy: 0.9819\n"
          ]
        },
        {
          "output_type": "stream",
          "name": "stderr",
          "text": [
            "\r8it [00:15,  1.82s/it]"
          ]
        },
        {
          "output_type": "stream",
          "name": "stdout",
          "text": [
            "(1158,)\n",
            "Epoch 1/5\n",
            "39/39 [==============================] - 0s 8ms/step - loss: 0.0831 - accuracy: 0.9629\n",
            "Epoch 2/5\n",
            "39/39 [==============================] - 0s 7ms/step - loss: 0.0682 - accuracy: 0.9767\n",
            "Epoch 3/5\n",
            "39/39 [==============================] - 0s 7ms/step - loss: 0.0685 - accuracy: 0.9698\n",
            "Epoch 4/5\n",
            "39/39 [==============================] - 0s 8ms/step - loss: 0.1303 - accuracy: 0.9465\n",
            "Epoch 5/5\n",
            "39/39 [==============================] - 0s 8ms/step - loss: 0.0532 - accuracy: 0.9845\n"
          ]
        },
        {
          "output_type": "stream",
          "name": "stderr",
          "text": [
            "\r9it [00:17,  1.81s/it]"
          ]
        },
        {
          "output_type": "stream",
          "name": "stdout",
          "text": [
            "(1158,)\n",
            "Epoch 1/5\n",
            "39/39 [==============================] - 0s 8ms/step - loss: 0.0942 - accuracy: 0.9646\n",
            "Epoch 2/5\n",
            "39/39 [==============================] - 0s 7ms/step - loss: 0.1438 - accuracy: 0.9491\n",
            "Epoch 3/5\n",
            "39/39 [==============================] - 0s 8ms/step - loss: 0.0660 - accuracy: 0.9784\n",
            "Epoch 4/5\n",
            "39/39 [==============================] - 0s 8ms/step - loss: 0.0496 - accuracy: 0.9810\n",
            "Epoch 5/5\n",
            "39/39 [==============================] - 0s 8ms/step - loss: 0.0520 - accuracy: 0.9767\n"
          ]
        },
        {
          "output_type": "stream",
          "name": "stderr",
          "text": [
            "10it [00:19,  1.93s/it]\n"
          ]
        },
        {
          "output_type": "stream",
          "name": "stdout",
          "text": [
            "0.125 FRAC  1158 POINTS PREDICTION ACCURACY: 0.942 $\\pm$ 0.032\n",
            "(10299, 561)\n"
          ]
        },
        {
          "output_type": "stream",
          "name": "stderr",
          "text": [
            "\r0it [00:00, ?it/s]"
          ]
        },
        {
          "output_type": "stream",
          "name": "stdout",
          "text": [
            "(1390,)\n",
            "Epoch 1/5\n",
            "47/47 [==============================] - 1s 8ms/step - loss: 0.7434 - accuracy: 0.7122\n",
            "Epoch 2/5\n",
            "47/47 [==============================] - 0s 8ms/step - loss: 0.2700 - accuracy: 0.8914\n",
            "Epoch 3/5\n",
            "47/47 [==============================] - 0s 8ms/step - loss: 0.2189 - accuracy: 0.9043\n",
            "Epoch 4/5\n",
            "36/47 [=====================>........] - ETA: 0s - loss: 0.1394 - accuracy: 0.9398"
          ]
        },
        {
          "output_type": "stream",
          "name": "stderr",
          "text": [
            "\r0it [00:01, ?it/s]\n"
          ]
        },
        {
          "output_type": "error",
          "ename": "KeyboardInterrupt",
          "evalue": "ignored",
          "traceback": [
            "\u001b[0;31m---------------------------------------------------------------------------\u001b[0m",
            "\u001b[0;31mKeyboardInterrupt\u001b[0m                         Traceback (most recent call last)",
            "\u001b[0;32m<ipython-input-65-d1082a345d40>\u001b[0m in \u001b[0;36m<module>\u001b[0;34m()\u001b[0m\n\u001b[1;32m     16\u001b[0m \u001b[0;34m\u001b[0m\u001b[0m\n\u001b[1;32m     17\u001b[0m     \u001b[0mprint\u001b[0m\u001b[0;34m(\u001b[0m\u001b[0mcombined_x\u001b[0m\u001b[0;34m.\u001b[0m\u001b[0mshape\u001b[0m\u001b[0;34m)\u001b[0m\u001b[0;34m\u001b[0m\u001b[0;34m\u001b[0m\u001b[0m\n\u001b[0;32m---> 18\u001b[0;31m     \u001b[0mpred_accuracy\u001b[0m\u001b[0;34m,\u001b[0m \u001b[0mfit_times\u001b[0m \u001b[0;34m=\u001b[0m \u001b[0mdo_kfold_nn_frac_subsampled\u001b[0m\u001b[0;34m(\u001b[0m\u001b[0mmodel\u001b[0m\u001b[0;34m,\u001b[0m \u001b[0mcombined_x\u001b[0m\u001b[0;34m,\u001b[0m \u001b[0mcombined_y\u001b[0m\u001b[0;34m-\u001b[0m\u001b[0;36m1\u001b[0m\u001b[0;34m,\u001b[0m \u001b[0msample_frac\u001b[0m\u001b[0;34m=\u001b[0m\u001b[0mnum\u001b[0m\u001b[0;34m)\u001b[0m\u001b[0;34m\u001b[0m\u001b[0;34m\u001b[0m\u001b[0m\n\u001b[0m\u001b[1;32m     19\u001b[0m     \u001b[0mresults\u001b[0m\u001b[0;34m.\u001b[0m\u001b[0mappend\u001b[0m\u001b[0;34m(\u001b[0m\u001b[0mpred_accuracy\u001b[0m\u001b[0;34m)\u001b[0m\u001b[0;34m\u001b[0m\u001b[0;34m\u001b[0m\u001b[0m\n\u001b[1;32m     20\u001b[0m     \u001b[0mtimes\u001b[0m\u001b[0;34m.\u001b[0m\u001b[0mappend\u001b[0m\u001b[0;34m(\u001b[0m\u001b[0mfit_times\u001b[0m\u001b[0;34m)\u001b[0m\u001b[0;34m\u001b[0m\u001b[0;34m\u001b[0m\u001b[0m\n",
            "\u001b[0;32m<ipython-input-64-1f675bb652e1>\u001b[0m in \u001b[0;36mdo_kfold_nn_frac_subsampled\u001b[0;34m(model, x_data, y_data, sample_frac, folds, seed)\u001b[0m\n\u001b[1;32m     19\u001b[0m         \u001b[0mstart\u001b[0m \u001b[0;34m=\u001b[0m \u001b[0mtime\u001b[0m\u001b[0;34m.\u001b[0m\u001b[0mtime\u001b[0m\u001b[0;34m(\u001b[0m\u001b[0;34m)\u001b[0m\u001b[0;34m\u001b[0m\u001b[0;34m\u001b[0m\u001b[0m\n\u001b[1;32m     20\u001b[0m         \u001b[0mprint\u001b[0m\u001b[0;34m(\u001b[0m\u001b[0mlabels\u001b[0m\u001b[0;34m.\u001b[0m\u001b[0mshape\u001b[0m\u001b[0;34m)\u001b[0m\u001b[0;34m\u001b[0m\u001b[0;34m\u001b[0m\u001b[0m\n\u001b[0;32m---> 21\u001b[0;31m         \u001b[0mmodel\u001b[0m\u001b[0;34m.\u001b[0m\u001b[0mfit\u001b[0m\u001b[0;34m(\u001b[0m\u001b[0msampled_combined\u001b[0m\u001b[0;34m,\u001b[0m \u001b[0mlabels\u001b[0m\u001b[0;34m,\u001b[0m \u001b[0mbatch_size\u001b[0m \u001b[0;34m=\u001b[0m \u001b[0;36m30\u001b[0m\u001b[0;34m,\u001b[0m \u001b[0mepochs\u001b[0m \u001b[0;34m=\u001b[0m \u001b[0;36m5\u001b[0m\u001b[0;34m)\u001b[0m\u001b[0;34m\u001b[0m\u001b[0;34m\u001b[0m\u001b[0m\n\u001b[0m\u001b[1;32m     22\u001b[0m \u001b[0;34m\u001b[0m\u001b[0m\n\u001b[1;32m     23\u001b[0m         \u001b[0mfit_times\u001b[0m\u001b[0;34m.\u001b[0m\u001b[0mappend\u001b[0m\u001b[0;34m(\u001b[0m\u001b[0mtime\u001b[0m\u001b[0;34m.\u001b[0m\u001b[0mtime\u001b[0m\u001b[0;34m(\u001b[0m\u001b[0;34m)\u001b[0m \u001b[0;34m-\u001b[0m \u001b[0mstart\u001b[0m\u001b[0;34m)\u001b[0m\u001b[0;34m\u001b[0m\u001b[0;34m\u001b[0m\u001b[0m\n",
            "\u001b[0;32m/usr/local/lib/python3.7/dist-packages/keras/utils/traceback_utils.py\u001b[0m in \u001b[0;36merror_handler\u001b[0;34m(*args, **kwargs)\u001b[0m\n\u001b[1;32m     62\u001b[0m     \u001b[0mfiltered_tb\u001b[0m \u001b[0;34m=\u001b[0m \u001b[0;32mNone\u001b[0m\u001b[0;34m\u001b[0m\u001b[0;34m\u001b[0m\u001b[0m\n\u001b[1;32m     63\u001b[0m     \u001b[0;32mtry\u001b[0m\u001b[0;34m:\u001b[0m\u001b[0;34m\u001b[0m\u001b[0;34m\u001b[0m\u001b[0m\n\u001b[0;32m---> 64\u001b[0;31m       \u001b[0;32mreturn\u001b[0m \u001b[0mfn\u001b[0m\u001b[0;34m(\u001b[0m\u001b[0;34m*\u001b[0m\u001b[0margs\u001b[0m\u001b[0;34m,\u001b[0m \u001b[0;34m**\u001b[0m\u001b[0mkwargs\u001b[0m\u001b[0;34m)\u001b[0m\u001b[0;34m\u001b[0m\u001b[0;34m\u001b[0m\u001b[0m\n\u001b[0m\u001b[1;32m     65\u001b[0m     \u001b[0;32mexcept\u001b[0m \u001b[0mException\u001b[0m \u001b[0;32mas\u001b[0m \u001b[0me\u001b[0m\u001b[0;34m:\u001b[0m  \u001b[0;31m# pylint: disable=broad-except\u001b[0m\u001b[0;34m\u001b[0m\u001b[0;34m\u001b[0m\u001b[0m\n\u001b[1;32m     66\u001b[0m       \u001b[0mfiltered_tb\u001b[0m \u001b[0;34m=\u001b[0m \u001b[0m_process_traceback_frames\u001b[0m\u001b[0;34m(\u001b[0m\u001b[0me\u001b[0m\u001b[0;34m.\u001b[0m\u001b[0m__traceback__\u001b[0m\u001b[0;34m)\u001b[0m\u001b[0;34m\u001b[0m\u001b[0;34m\u001b[0m\u001b[0m\n",
            "\u001b[0;32m/usr/local/lib/python3.7/dist-packages/keras/engine/training.py\u001b[0m in \u001b[0;36mfit\u001b[0;34m(self, x, y, batch_size, epochs, verbose, callbacks, validation_split, validation_data, shuffle, class_weight, sample_weight, initial_epoch, steps_per_epoch, validation_steps, validation_batch_size, validation_freq, max_queue_size, workers, use_multiprocessing)\u001b[0m\n\u001b[1;32m   1214\u001b[0m                 _r=1):\n\u001b[1;32m   1215\u001b[0m               \u001b[0mcallbacks\u001b[0m\u001b[0;34m.\u001b[0m\u001b[0mon_train_batch_begin\u001b[0m\u001b[0;34m(\u001b[0m\u001b[0mstep\u001b[0m\u001b[0;34m)\u001b[0m\u001b[0;34m\u001b[0m\u001b[0;34m\u001b[0m\u001b[0m\n\u001b[0;32m-> 1216\u001b[0;31m               \u001b[0mtmp_logs\u001b[0m \u001b[0;34m=\u001b[0m \u001b[0mself\u001b[0m\u001b[0;34m.\u001b[0m\u001b[0mtrain_function\u001b[0m\u001b[0;34m(\u001b[0m\u001b[0miterator\u001b[0m\u001b[0;34m)\u001b[0m\u001b[0;34m\u001b[0m\u001b[0;34m\u001b[0m\u001b[0m\n\u001b[0m\u001b[1;32m   1217\u001b[0m               \u001b[0;32mif\u001b[0m \u001b[0mdata_handler\u001b[0m\u001b[0;34m.\u001b[0m\u001b[0mshould_sync\u001b[0m\u001b[0;34m:\u001b[0m\u001b[0;34m\u001b[0m\u001b[0;34m\u001b[0m\u001b[0m\n\u001b[1;32m   1218\u001b[0m                 \u001b[0mcontext\u001b[0m\u001b[0;34m.\u001b[0m\u001b[0masync_wait\u001b[0m\u001b[0;34m(\u001b[0m\u001b[0;34m)\u001b[0m\u001b[0;34m\u001b[0m\u001b[0;34m\u001b[0m\u001b[0m\n",
            "\u001b[0;32m/usr/local/lib/python3.7/dist-packages/tensorflow/python/util/traceback_utils.py\u001b[0m in \u001b[0;36merror_handler\u001b[0;34m(*args, **kwargs)\u001b[0m\n\u001b[1;32m    148\u001b[0m     \u001b[0mfiltered_tb\u001b[0m \u001b[0;34m=\u001b[0m \u001b[0;32mNone\u001b[0m\u001b[0;34m\u001b[0m\u001b[0;34m\u001b[0m\u001b[0m\n\u001b[1;32m    149\u001b[0m     \u001b[0;32mtry\u001b[0m\u001b[0;34m:\u001b[0m\u001b[0;34m\u001b[0m\u001b[0;34m\u001b[0m\u001b[0m\n\u001b[0;32m--> 150\u001b[0;31m       \u001b[0;32mreturn\u001b[0m \u001b[0mfn\u001b[0m\u001b[0;34m(\u001b[0m\u001b[0;34m*\u001b[0m\u001b[0margs\u001b[0m\u001b[0;34m,\u001b[0m \u001b[0;34m**\u001b[0m\u001b[0mkwargs\u001b[0m\u001b[0;34m)\u001b[0m\u001b[0;34m\u001b[0m\u001b[0;34m\u001b[0m\u001b[0m\n\u001b[0m\u001b[1;32m    151\u001b[0m     \u001b[0;32mexcept\u001b[0m \u001b[0mException\u001b[0m \u001b[0;32mas\u001b[0m \u001b[0me\u001b[0m\u001b[0;34m:\u001b[0m\u001b[0;34m\u001b[0m\u001b[0;34m\u001b[0m\u001b[0m\n\u001b[1;32m    152\u001b[0m       \u001b[0mfiltered_tb\u001b[0m \u001b[0;34m=\u001b[0m \u001b[0m_process_traceback_frames\u001b[0m\u001b[0;34m(\u001b[0m\u001b[0me\u001b[0m\u001b[0;34m.\u001b[0m\u001b[0m__traceback__\u001b[0m\u001b[0;34m)\u001b[0m\u001b[0;34m\u001b[0m\u001b[0;34m\u001b[0m\u001b[0m\n",
            "\u001b[0;32m/usr/local/lib/python3.7/dist-packages/tensorflow/python/eager/def_function.py\u001b[0m in \u001b[0;36m__call__\u001b[0;34m(self, *args, **kwds)\u001b[0m\n\u001b[1;32m    908\u001b[0m \u001b[0;34m\u001b[0m\u001b[0m\n\u001b[1;32m    909\u001b[0m       \u001b[0;32mwith\u001b[0m \u001b[0mOptionalXlaContext\u001b[0m\u001b[0;34m(\u001b[0m\u001b[0mself\u001b[0m\u001b[0;34m.\u001b[0m\u001b[0m_jit_compile\u001b[0m\u001b[0;34m)\u001b[0m\u001b[0;34m:\u001b[0m\u001b[0;34m\u001b[0m\u001b[0;34m\u001b[0m\u001b[0m\n\u001b[0;32m--> 910\u001b[0;31m         \u001b[0mresult\u001b[0m \u001b[0;34m=\u001b[0m \u001b[0mself\u001b[0m\u001b[0;34m.\u001b[0m\u001b[0m_call\u001b[0m\u001b[0;34m(\u001b[0m\u001b[0;34m*\u001b[0m\u001b[0margs\u001b[0m\u001b[0;34m,\u001b[0m \u001b[0;34m**\u001b[0m\u001b[0mkwds\u001b[0m\u001b[0;34m)\u001b[0m\u001b[0;34m\u001b[0m\u001b[0;34m\u001b[0m\u001b[0m\n\u001b[0m\u001b[1;32m    911\u001b[0m \u001b[0;34m\u001b[0m\u001b[0m\n\u001b[1;32m    912\u001b[0m       \u001b[0mnew_tracing_count\u001b[0m \u001b[0;34m=\u001b[0m \u001b[0mself\u001b[0m\u001b[0;34m.\u001b[0m\u001b[0mexperimental_get_tracing_count\u001b[0m\u001b[0;34m(\u001b[0m\u001b[0;34m)\u001b[0m\u001b[0;34m\u001b[0m\u001b[0;34m\u001b[0m\u001b[0m\n",
            "\u001b[0;32m/usr/local/lib/python3.7/dist-packages/tensorflow/python/eager/def_function.py\u001b[0m in \u001b[0;36m_call\u001b[0;34m(self, *args, **kwds)\u001b[0m\n\u001b[1;32m    940\u001b[0m       \u001b[0;31m# In this case we have created variables on the first call, so we run the\u001b[0m\u001b[0;34m\u001b[0m\u001b[0;34m\u001b[0m\u001b[0;34m\u001b[0m\u001b[0m\n\u001b[1;32m    941\u001b[0m       \u001b[0;31m# defunned version which is guaranteed to never create variables.\u001b[0m\u001b[0;34m\u001b[0m\u001b[0;34m\u001b[0m\u001b[0;34m\u001b[0m\u001b[0m\n\u001b[0;32m--> 942\u001b[0;31m       \u001b[0;32mreturn\u001b[0m \u001b[0mself\u001b[0m\u001b[0;34m.\u001b[0m\u001b[0m_stateless_fn\u001b[0m\u001b[0;34m(\u001b[0m\u001b[0;34m*\u001b[0m\u001b[0margs\u001b[0m\u001b[0;34m,\u001b[0m \u001b[0;34m**\u001b[0m\u001b[0mkwds\u001b[0m\u001b[0;34m)\u001b[0m  \u001b[0;31m# pylint: disable=not-callable\u001b[0m\u001b[0;34m\u001b[0m\u001b[0;34m\u001b[0m\u001b[0m\n\u001b[0m\u001b[1;32m    943\u001b[0m     \u001b[0;32melif\u001b[0m \u001b[0mself\u001b[0m\u001b[0;34m.\u001b[0m\u001b[0m_stateful_fn\u001b[0m \u001b[0;32mis\u001b[0m \u001b[0;32mnot\u001b[0m \u001b[0;32mNone\u001b[0m\u001b[0;34m:\u001b[0m\u001b[0;34m\u001b[0m\u001b[0;34m\u001b[0m\u001b[0m\n\u001b[1;32m    944\u001b[0m       \u001b[0;31m# Release the lock early so that multiple threads can perform the call\u001b[0m\u001b[0;34m\u001b[0m\u001b[0;34m\u001b[0m\u001b[0;34m\u001b[0m\u001b[0m\n",
            "\u001b[0;32m/usr/local/lib/python3.7/dist-packages/tensorflow/python/eager/function.py\u001b[0m in \u001b[0;36m__call__\u001b[0;34m(self, *args, **kwargs)\u001b[0m\n\u001b[1;32m   3129\u001b[0m        filtered_flat_args) = self._maybe_define_function(args, kwargs)\n\u001b[1;32m   3130\u001b[0m     return graph_function._call_flat(\n\u001b[0;32m-> 3131\u001b[0;31m         filtered_flat_args, captured_inputs=graph_function.captured_inputs)  # pylint: disable=protected-access\n\u001b[0m\u001b[1;32m   3132\u001b[0m \u001b[0;34m\u001b[0m\u001b[0m\n\u001b[1;32m   3133\u001b[0m   \u001b[0;34m@\u001b[0m\u001b[0mproperty\u001b[0m\u001b[0;34m\u001b[0m\u001b[0;34m\u001b[0m\u001b[0m\n",
            "\u001b[0;32m/usr/local/lib/python3.7/dist-packages/tensorflow/python/eager/function.py\u001b[0m in \u001b[0;36m_call_flat\u001b[0;34m(self, args, captured_inputs, cancellation_manager)\u001b[0m\n\u001b[1;32m   1958\u001b[0m       \u001b[0;31m# No tape is watching; skip to running the function.\u001b[0m\u001b[0;34m\u001b[0m\u001b[0;34m\u001b[0m\u001b[0;34m\u001b[0m\u001b[0m\n\u001b[1;32m   1959\u001b[0m       return self._build_call_outputs(self._inference_function.call(\n\u001b[0;32m-> 1960\u001b[0;31m           ctx, args, cancellation_manager=cancellation_manager))\n\u001b[0m\u001b[1;32m   1961\u001b[0m     forward_backward = self._select_forward_and_backward_functions(\n\u001b[1;32m   1962\u001b[0m         \u001b[0margs\u001b[0m\u001b[0;34m,\u001b[0m\u001b[0;34m\u001b[0m\u001b[0;34m\u001b[0m\u001b[0m\n",
            "\u001b[0;32m/usr/local/lib/python3.7/dist-packages/tensorflow/python/eager/function.py\u001b[0m in \u001b[0;36mcall\u001b[0;34m(self, ctx, args, cancellation_manager)\u001b[0m\n\u001b[1;32m    601\u001b[0m               \u001b[0minputs\u001b[0m\u001b[0;34m=\u001b[0m\u001b[0margs\u001b[0m\u001b[0;34m,\u001b[0m\u001b[0;34m\u001b[0m\u001b[0;34m\u001b[0m\u001b[0m\n\u001b[1;32m    602\u001b[0m               \u001b[0mattrs\u001b[0m\u001b[0;34m=\u001b[0m\u001b[0mattrs\u001b[0m\u001b[0;34m,\u001b[0m\u001b[0;34m\u001b[0m\u001b[0;34m\u001b[0m\u001b[0m\n\u001b[0;32m--> 603\u001b[0;31m               ctx=ctx)\n\u001b[0m\u001b[1;32m    604\u001b[0m         \u001b[0;32melse\u001b[0m\u001b[0;34m:\u001b[0m\u001b[0;34m\u001b[0m\u001b[0;34m\u001b[0m\u001b[0m\n\u001b[1;32m    605\u001b[0m           outputs = execute.execute_with_cancellation(\n",
            "\u001b[0;32m/usr/local/lib/python3.7/dist-packages/tensorflow/python/eager/execute.py\u001b[0m in \u001b[0;36mquick_execute\u001b[0;34m(op_name, num_outputs, inputs, attrs, ctx, name)\u001b[0m\n\u001b[1;32m     57\u001b[0m     \u001b[0mctx\u001b[0m\u001b[0;34m.\u001b[0m\u001b[0mensure_initialized\u001b[0m\u001b[0;34m(\u001b[0m\u001b[0;34m)\u001b[0m\u001b[0;34m\u001b[0m\u001b[0;34m\u001b[0m\u001b[0m\n\u001b[1;32m     58\u001b[0m     tensors = pywrap_tfe.TFE_Py_Execute(ctx._handle, device_name, op_name,\n\u001b[0;32m---> 59\u001b[0;31m                                         inputs, attrs, num_outputs)\n\u001b[0m\u001b[1;32m     60\u001b[0m   \u001b[0;32mexcept\u001b[0m \u001b[0mcore\u001b[0m\u001b[0;34m.\u001b[0m\u001b[0m_NotOkStatusException\u001b[0m \u001b[0;32mas\u001b[0m \u001b[0me\u001b[0m\u001b[0;34m:\u001b[0m\u001b[0;34m\u001b[0m\u001b[0;34m\u001b[0m\u001b[0m\n\u001b[1;32m     61\u001b[0m     \u001b[0;32mif\u001b[0m \u001b[0mname\u001b[0m \u001b[0;32mis\u001b[0m \u001b[0;32mnot\u001b[0m \u001b[0;32mNone\u001b[0m\u001b[0;34m:\u001b[0m\u001b[0;34m\u001b[0m\u001b[0;34m\u001b[0m\u001b[0m\n",
            "\u001b[0;31mKeyboardInterrupt\u001b[0m: "
          ]
        }
      ]
    },
    {
      "cell_type": "code",
      "metadata": {
        "colab": {
          "base_uri": "https://localhost:8080/",
          "height": 283
        },
        "id": "aYQnkLsCYA1v",
        "outputId": "00dabab3-899d-4f77-8d16-25e9f3ca60db"
      },
      "source": [
        "svm_lin = np.load(\"./subsampled_results/svm_linear_accuracy.npy\")\n",
        "lin_mean = np.mean(svm_lin, axis=1)\n",
        "lin_std = np.std(svm_lin, axis=1)\n",
        "\n",
        "svm_poly = np.load(\"./subsampled_results/svm_poly_accuracy.npy\")\n",
        "poly_mean = np.mean(svm_poly, axis=1)\n",
        "poly_std = np.std(svm_poly, axis=1)\n",
        "\n",
        "lr = np.load(\"./subsampled_results/lr_accuracy.npy\")\n",
        "lr_mean = np.mean(lr, axis=1)\n",
        "lr_std = np.std(lr, axis=1)\n",
        "\n",
        "rf = np.load(\"./subsampled_results/rf_accuracy.npy\")\n",
        "rf_mean = np.mean(rf, axis=1)\n",
        "rf_std = np.std(rf, axis=1)\n",
        "\n",
        "nn = np.load(\"./subsampled_results/nn_accuracy.npy\")\n",
        "nn_mean = np.mean(nn, axis=1)\n",
        "nn_std = np.std(nn, axis=1)\n",
        "\n",
        "\n",
        "fig, ax = plt.subplots()\n",
        "ax.plot(num_points, lin_mean, label=\"SVM Linear\")\n",
        "ax.fill_between(num_points, lin_mean+lin_std, lin_mean-lin_std, alpha=0.3)\n",
        "\n",
        "ax.plot(num_points, poly_mean, label=\"SVM Poly\")\n",
        "ax.fill_between(num_points, poly_mean+poly_std, poly_mean-poly_std, alpha=0.3)\n",
        "\n",
        "ax.plot(num_points, np.mean(lr, axis=1), label=\"Logistic Regression\")\n",
        "ax.fill_between(num_points, lr_mean+lr_std, lr_mean-lr_std, alpha=0.3)\n",
        "\n",
        "ax.plot(num_points, np.mean(rf, axis=1), label=\"Random Forest\")\n",
        "ax.fill_between(num_points, rf_mean+rf_std, rf_mean-rf_std, alpha=0.3)\n",
        "\n",
        "ax.plot(num_points, np.mean(nn, axis=1), label=\"Neural Network\")\n",
        "ax.fill_between(num_points, nn_mean+nn_std, nn_mean-nn_std, alpha=0.3)\n",
        "\n",
        "ax.set(ylim=(0.9, 0.97))\n",
        "ax.legend(loc='best')\n",
        "ax.set(xlabel=\"Fraction of Data Used in Training\", ylabel=\"Prediction Accuracy\")\n",
        "plt.show()"
      ],
      "execution_count": 66,
      "outputs": [
        {
          "output_type": "display_data",
          "data": {
            "image/png": "[encoded data removed]",
            "text/plain": [
              "<Figure size 432x288 with 1 Axes>"
            ]
          },
          "metadata": {
            "needs_background": "light"
          }
        }
      ]
    },
    {
      "cell_type": "code",
      "metadata": {
        "colab": {
          "base_uri": "https://localhost:8080/",
          "height": 280
        },
        "id": "3ZGjq_HMjyF8",
        "outputId": "e5ab4da7-6780-4f44-bfc6-0ca67329dd20"
      },
      "source": [
        "svm_lin = np.load(\"./subsampled_results/svm_linear_time.npy\")\n",
        "lin_mean = np.mean(svm_lin, axis=1)\n",
        "lin_std = np.std(svm_lin, axis=1)\n",
        "\n",
        "svm_poly = np.load(\"./subsampled_results/svm_poly_time.npy\")\n",
        "poly_mean = np.mean(svm_poly, axis=1)\n",
        "poly_std = np.std(svm_poly, axis=1)\n",
        "\n",
        "lr = np.load(\"./subsampled_results/lr_time.npy\")\n",
        "lr_mean = np.mean(lr, axis=1)\n",
        "lr_std = np.std(lr, axis=1)\n",
        "\n",
        "rf = np.load(\"./subsampled_results/rf_time.npy\")\n",
        "rf_mean = np.mean(rf, axis=1)\n",
        "rf_std = np.std(rf, axis=1)\n",
        "\n",
        "nn = np.load(\"./subsampled_results/nn_time.npy\")\n",
        "nn_mean = np.mean(nn, axis=1)\n",
        "nn_std = np.std(nn, axis=1)\n",
        "\n",
        "\n",
        "fig, ax = plt.subplots()\n",
        "ax.plot(num_points, lin_mean, label=\"SVM Linear\")\n",
        "ax.fill_between(num_points, lin_mean+lin_std, lin_mean-lin_std, alpha=0.3)\n",
        "\n",
        "ax.plot(num_points, poly_mean, label=\"SVM Poly\")\n",
        "ax.fill_between(num_points, poly_mean+poly_std, poly_mean-poly_std, alpha=0.3)\n",
        "\n",
        "ax.plot(num_points, np.mean(lr, axis=1), label=\"Logistic Regression\")\n",
        "ax.fill_between(num_points, lr_mean+lr_std, lr_mean-lr_std, alpha=0.3)\n",
        "\n",
        "ax.plot(num_points, np.mean(rf, axis=1), label=\"Random Forest\")\n",
        "ax.fill_between(num_points, rf_mean+rf_std, rf_mean-rf_std, alpha=0.3)\n",
        "\n",
        "ax.plot(num_points, np.mean(nn, axis=1), label=\"Neural Network\")\n",
        "ax.fill_between(num_points, nn_mean+nn_std, nn_mean-nn_std, alpha=0.3)\n",
        "\n",
        "ax.legend(loc='best')\n",
        "ax.set(xlabel=\"Fraction of Data Used in Training\", ylabel=\"Training Time\")\n",
        "plt.show()"
      ],
      "execution_count": 67,
      "outputs": [
        {
          "output_type": "display_data",
          "data": {
            "image/png": "[encoded data removed]",
            "text/plain": [
              "<Figure size 432x288 with 1 Axes>"
            ]
          },
          "metadata": {
            "needs_background": "light"
          }
        }
      ]
    },
    {
      "cell_type": "markdown",
      "metadata": {
        "id": "Prltds0ylKmI"
      },
      "source": [
        "#### Plot for 'Ideal' Parameters"
      ]
    },
    {
      "cell_type": "code",
      "metadata": {
        "colab": {
          "base_uri": "https://localhost:8080/",
          "height": 282
        },
        "id": "olxnZiiflQLd",
        "outputId": "d53c3fdb-48c9-41ee-c77c-2a5f499c8a85"
      },
      "source": [
        "svm_lin = np.load(\"./subsampled_results/svm_linear_accuracy.npy\")\n",
        "lin_mean = np.mean(svm_lin, axis=1)\n",
        "lin_std = np.std(svm_lin, axis=1)\n",
        "\n",
        "svm_poly = np.load(\"./subsampled_results/svm_poly_accuracy.npy\")\n",
        "poly_mean = np.mean(svm_poly, axis=1)\n",
        "poly_std = np.std(svm_poly, axis=1)\n",
        "\n",
        "lr = np.load(\"./subsampled_results/lr_accuracy.npy\")\n",
        "lr_mean = np.mean(lr, axis=1)\n",
        "lr_std = np.std(lr, axis=1)\n",
        "\n",
        "rf = np.load(\"./subsampled_results/rf_accuracy.npy\")\n",
        "rf_mean = np.mean(rf, axis=1)\n",
        "rf_std = np.std(rf, axis=1)\n",
        "\n",
        "nn = np.load(\"./subsampled_results/nn_accuracy.npy\")\n",
        "nn_mean = np.mean(nn, axis=1)\n",
        "nn_std = np.std(nn, axis=1)\n",
        "\n",
        "svm_lintime = np.load(\"./subsampled_results/svm_linear_time.npy\")\n",
        "lin_meantime = np.mean(svm_lintime, axis=1)\n",
        "lin_stdtime = np.std(svm_lintime, axis=1)\n",
        "\n",
        "svm_polytime = np.load(\"./subsampled_results/svm_poly_time.npy\")\n",
        "poly_meantime = np.mean(svm_polytime, axis=1)\n",
        "poly_stdtime = np.std(svm_polytime, axis=1)\n",
        "\n",
        "lrtime = np.load(\"./subsampled_results/lr_time.npy\")\n",
        "lr_meantime = np.mean(lrtime, axis=1)\n",
        "lr_stdtime = np.std(lrtime, axis=1)\n",
        "\n",
        "rftime = np.load(\"./subsampled_results/rf_time.npy\")\n",
        "rf_meantime = np.mean(rftime, axis=1)\n",
        "rf_stdtime = np.std(rftime, axis=1)\n",
        "\n",
        "nntime = np.load(\"./subsampled_results/nn_time.npy\")\n",
        "nn_meantime = np.mean(nntime, axis=1)\n",
        "nn_stdtime = np.std(nntime, axis=1)\n",
        "\n",
        "best_idx = np.where(np.array(num_points)==0.25)\n",
        "fig, ax = plt.subplots()\n",
        "ax.scatter(lin_meantime[best_idx], lin_mean[best_idx])\n",
        "ax.errorbar(lin_meantime[best_idx], lin_mean[best_idx], xerr=lin_stdtime[best_idx], yerr=lin_std[best_idx], capsize=3, fmt=\"none\")\n",
        "\n",
        "ax.scatter(poly_meantime[best_idx], poly_mean[best_idx])\n",
        "ax.errorbar(poly_meantime[best_idx], poly_mean[best_idx], xerr=poly_stdtime[best_idx], yerr=poly_std[best_idx], capsize=3, fmt=\"none\")\n",
        "\n",
        "ax.scatter(lr_meantime[best_idx], lr_mean[best_idx])\n",
        "ax.errorbar(lr_meantime[best_idx], lr_mean[best_idx], xerr=lr_stdtime[best_idx], yerr=lr_std[best_idx], capsize=3, fmt=\"none\")\n",
        "\n",
        "ax.scatter(rf_meantime[best_idx], rf_mean[best_idx])\n",
        "ax.errorbar(rf_meantime[best_idx], rf_mean[best_idx], xerr=rf_stdtime[best_idx], yerr=rf_std[best_idx], capsize=3, fmt=\"none\")\n",
        "\n",
        "ax.scatter(nn_meantime[best_idx], nn_mean[best_idx])\n",
        "ax.errorbar(nn_meantime[best_idx], nn_mean[best_idx], xerr=nn_stdtime[best_idx], yerr=nn_std[best_idx], capsize=3, fmt=\"none\")"
      ],
      "execution_count": 68,
      "outputs": [
        {
          "output_type": "execute_result",
          "data": {
            "text/plain": [
              "<ErrorbarContainer object of 3 artists>"
            ]
          },
          "metadata": {},
          "execution_count": 68
        },
        {
          "output_type": "display_data",
          "data": {
            "image/png": "[encoded data removed]",
            "text/plain": [
              "<Figure size 432x288 with 1 Axes>"
            ]
          },
          "metadata": {
            "needs_background": "light"
          }
        }
      ]
    },
    {
      "cell_type": "markdown",
      "metadata": {
        "id": "b4JZh-MhrwZm"
      },
      "source": [
        "### Subsampled with PCA"
      ]
    },
    {
      "cell_type": "code",
      "metadata": {
        "id": "X2Mr32MKr0EN"
      },
      "source": [
        "def do_kfold_nn_frac_subsampled(model, x_data, y_data, sample_frac=0.1, folds=10, seed=1):\n",
        "         \n",
        "    # Do KFold\n",
        "    kf = KFold(folds)\n",
        "    np.random.seed(seed)\n",
        "    \n",
        "    # KF training\n",
        "    pred_accuracy = []\n",
        "    fit_times = []\n",
        "    for idx, (train_idx, test_idx) in tqdm(enumerate(kf.split(list(range(len(y_data)))))): \n",
        "        \n",
        "        # Sample idx\n",
        "        sample_idx = np.random.choice(range(len(train_idx)), size=int(len(train_idx)*sample_frac))\n",
        "\n",
        "        sampled_combined = x_data[train_idx][sample_idx].astype('float32')\n",
        "        labels = y_data[train_idx][sample_idx]\n",
        "\n",
        "        # Do PCA\n",
        "        features = x_data.shape[1] if(features == 'all') else features\n",
        "        pca = PCA(n_components=features)\n",
        "        scalar = StandardScaler().fit(sampled_combined)\n",
        "        standardized = scalar.transform(sampled_combined)\n",
        "        transformed = pca.fit_transform(standardized)\n",
        "        \n",
        "        # Fit and time model\n",
        "        start = time.time()\n",
        "        model.fit(transformed, y_data[train_idx])\n",
        "        fit_times.append(time.time() - start)\n",
        "\n",
        "        # Fit and time model\n",
        "        start = time.time()\n",
        "        print(labels.shape)\n",
        "        model.fit(sampled_combined, labels, batch_size = 30, epochs = 5)\n",
        "\n",
        "        fit_times.append(time.time() - start)\n",
        "        \n",
        "        # Score model\n",
        "        #preds = model.predict(x_data[test_idx])\n",
        "        #score = accuracy_score(preds, y_data[test_idx])\n",
        "        loss, score = model.evaluate(x_data[test_idx], y_data[test_idx], verbose=0)\n",
        "        pred_accuracy.append(score)\n",
        "        \n",
        "    print(r\"{0} FRAC  {1} POINTS PREDICTION ACCURACY: {2:.3f} $\\pm$ {3:.3f}\".format(sample_frac, len(sample_idx), np.mean(pred_accuracy), np.std(pred_accuracy)))\n",
        "    return pred_accuracy, fit_times"
      ],
      "execution_count": null,
      "outputs": []
    },
    {
      "cell_type": "markdown",
      "metadata": {
        "id": "a4X6Ah8rrx_w"
      },
      "source": [
        "### Subsampled with MI"
      ]
    },
    {
      "cell_type": "code",
      "metadata": {
        "id": "se77aB6ur4pa"
      },
      "source": [
        "def do_kfold_nn_frac_subsampled(model, x_data, y_data, sample_frac=0.1, folds=10, seed=1):\n",
        "         \n",
        "    # Do KFold\n",
        "    kf = KFold(folds)\n",
        "    np.random.seed(seed)\n",
        "    \n",
        "    # KF training\n",
        "    pred_accuracy = []\n",
        "    fit_times = []\n",
        "    for idx, (train_idx, test_idx) in tqdm(enumerate(kf.split(list(range(len(y_data)))))): \n",
        "        \n",
        "        # Sample idx\n",
        "        sample_idx = np.random.choice(range(len(train_idx)), size=int(len(train_idx)*sample_frac))\n",
        "\n",
        "        sampled_combined = x_data[train_idx][sample_idx].astype('float32')\n",
        "        labels = y_data[train_idx][sample_idx]\n",
        "\n",
        "        # Fit and time model\n",
        "        start = time.time()\n",
        "        print(labels.shape)\n",
        "        model.fit(sampled_combined, labels, batch_size = 30, epochs = 5)\n",
        "\n",
        "        fit_times.append(time.time() - start)\n",
        "        \n",
        "        # Score model\n",
        "        #preds = model.predict(x_data[test_idx])\n",
        "        #score = accuracy_score(preds, y_data[test_idx])\n",
        "        loss, score = model.evaluate(x_data[test_idx], y_data[test_idx], verbose=0)\n",
        "        pred_accuracy.append(score)\n",
        "        \n",
        "    print(r\"{0} FRAC  {1} POINTS PREDICTION ACCURACY: {2:.3f} $\\pm$ {3:.3f}\".format(sample_frac, len(sample_idx), np.mean(pred_accuracy), np.std(pred_accuracy)))\n",
        "    return pred_accuracy, fit_times"
      ],
      "execution_count": null,
      "outputs": []
    },
    {
      "cell_type": "markdown",
      "metadata": {
        "id": "ujwdt4_pN7xN"
      },
      "source": [
        "## Part 3\n",
        "- Identify the optimal number of features using feature engineering technique based on time and accuracy. "
      ]
    },
    {
      "cell_type": "code",
      "metadata": {
        "id": "MskzytY0N7xN",
        "outputId": "4753cf3d-def4-4970-9720-d9f4f795d3ce"
      },
      "source": [
        "err = 0.003\n",
        "#For PCA\n",
        "for i in range (0,len(num_features)):\n",
        "    if pca_acc_mean[i+1] - pca_acc_mean[i] <= err:\n",
        "        PCA_f = i\n",
        "        print(f'For {num_features[i]}, the accuracy is {pca_acc_mean[i]}')\n",
        "        break\n",
        "        \n",
        "# For MI\n",
        "for j in range (0,len(num_features)):\n",
        "    if ml_acc_mean[j+1] - ml_acc_mean[j] <= err:\n",
        "        MI_f = j\n",
        "        print(f'For {num_features[j]}, the accuracy is {ml_acc_mean[j]}')\n",
        "        break"
      ],
      "execution_count": null,
      "outputs": [
        {
          "name": "stdout",
          "output_type": "stream",
          "text": [
            "For 105, the accuracy is 0.934946550048591\n",
            "For 105, the accuracy is 0.9268894298357347\n"
          ]
        }
      ]
    },
    {
      "cell_type": "markdown",
      "metadata": {
        "id": "E1wBDXx1N7xN"
      },
      "source": [
        "### From our results above, PCA generates the best accuracy for the same number of features. However, based on the time plot, MI takes less time to run than PCA.  "
      ]
    },
    {
      "cell_type": "code",
      "metadata": {
        "id": "2U_EEusxN7xN",
        "outputId": "4efa4754-068d-4862-ec97-b106d61b555e"
      },
      "source": [
        "pred_accuracy, fit_times = do_kfold_pca(svm.SVC(kernel='linear', C=1), combined_x, combined_y, features= num_features[PCA_f])\n",
        "pred_accuracy\n",
        "fit_times"
      ],
      "execution_count": null,
      "outputs": [
        {
          "name": "stderr",
          "output_type": "stream",
          "text": [
            "10it [00:17,  1.74s/it]"
          ]
        },
        {
          "name": "stdout",
          "output_type": "stream",
          "text": [
            "105 FEATURES PREDICTION ACCURACY: 0.934 $\\pm$ 0.022\n"
          ]
        },
        {
          "name": "stderr",
          "output_type": "stream",
          "text": [
            "\n"
          ]
        },
        {
          "data": {
            "text/plain": [
              "[1.1279826164245605,\n",
              " 1.0940730571746826,\n",
              " 1.1459345817565918,\n",
              " 1.3065049648284912,\n",
              " 1.216745138168335,\n",
              " 1.5069680213928223,\n",
              " 1.2835659980773926,\n",
              " 1.1728627681732178,\n",
              " 1.1190056800842285,\n",
              " 1.1449368000030518]"
            ]
          },
          "execution_count": 85,
          "metadata": {},
          "output_type": "execute_result"
        }
      ]
    }
  ]
}