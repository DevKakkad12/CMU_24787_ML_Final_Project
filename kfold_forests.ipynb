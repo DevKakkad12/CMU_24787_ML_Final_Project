{
 "cells": [
  {
   "cell_type": "markdown",
   "id": "add4cda8",
   "metadata": {},
   "source": [
    "### Imports"
   ]
  },
  {
   "cell_type": "code",
   "execution_count": 1,
   "id": "8bdd9f84",
   "metadata": {},
   "outputs": [],
   "source": [
    "import numpy as np\n",
    "\n",
    "# Add models here\n",
    "from sklearn.ensemble import GradientBoostingClassifier, RandomForestClassifier\n",
    "from sklearn.svm import SVC\n",
    "\n",
    "# Sklearn imports for processing and evaluation\n",
    "from sklearn.decomposition import PCA\n",
    "from sklearn.metrics import median_absolute_error, accuracy_score\n",
    "from sklearn.preprocessing import StandardScaler\n",
    "from sklearn.model_selection import KFold\n",
    "\n",
    "# Plotting\n",
    "from matplotlib import pyplot as plt\n",
    "\n",
    "# Misc\n",
    "import time\n",
    "from tqdm import tqdm"
   ]
  },
  {
   "cell_type": "markdown",
   "id": "3a09e0dc",
   "metadata": {},
   "source": [
    "### Load Data"
   ]
  },
  {
   "cell_type": "code",
   "execution_count": 2,
   "id": "92d8942e",
   "metadata": {},
   "outputs": [],
   "source": [
    "x_train = np.loadtxt(\"./uci_har_dataset/train/X_train.txt\")\n",
    "y_train = np.loadtxt(\"./uci_har_dataset/train/y_train.txt\")\n",
    "\n",
    "x_test = np.loadtxt(\"./uci_har_dataset/test/X_test.txt\")\n",
    "y_test = np.loadtxt(\"./uci_har_dataset/test/y_test.txt\")"
   ]
  },
  {
   "cell_type": "markdown",
   "id": "41bf0a8c",
   "metadata": {},
   "source": [
    "### Combine Data"
   ]
  },
  {
   "cell_type": "code",
   "execution_count": 3,
   "id": "e69c0376",
   "metadata": {},
   "outputs": [],
   "source": [
    "combined_x = np.concatenate((x_train, x_test))\n",
    "combined_y = np.concatenate((y_train, y_test))\n",
    "\n",
    "assert combined_x.shape[0] == x_train.shape[0] + x_test.shape[0]\n",
    "assert combined_y.shape[0] == y_train.shape[0] + y_test.shape[0]"
   ]
  },
  {
   "cell_type": "markdown",
   "id": "5211cb01",
   "metadata": {},
   "source": [
    "### KFold"
   ]
  },
  {
   "cell_type": "code",
   "execution_count": 4,
   "id": "b9587a56",
   "metadata": {},
   "outputs": [],
   "source": [
    "def do_kfold_pca(model, x_data, y_data, features='all', folds=10):\n",
    "     \n",
    "    # Do KFold\n",
    "    kf = KFold(folds)\n",
    "    \n",
    "    # KF training\n",
    "    pred_accuracy = []\n",
    "    fit_times = []\n",
    "    for idx, (train_idx, test_idx) in tqdm(enumerate(kf.split(x_data))):    \n",
    "        \n",
    "        # Do PCA\n",
    "        features = x_data.shape[1] if(features == 'all') else features\n",
    "        pca = PCA(n_components=features)\n",
    "        scalar = StandardScaler().fit(x_data[train_idx])\n",
    "        standardized = scalar.transform(x_data[train_idx])\n",
    "        transformed = pca.fit_transform(standardized)\n",
    "        \n",
    "        # Fit and time model\n",
    "        start = time.time()\n",
    "        model.fit(transformed, y_data[train_idx])\n",
    "        fit_times.append(time.time() - start)\n",
    "        \n",
    "        # Transform test data and evaluate\n",
    "        test_transform = np.dot(scalar.transform(x_data[test_idx]), pca.components_.T)\n",
    "        preds = model.predict(test_transform)\n",
    "        score = accuracy_score(preds, y_data[test_idx])\n",
    "        pred_accuracy.append(score)\n",
    "        \n",
    "    print(r\"{0} FEATURES PREDICTION ACCURACY: {1:.3f} $\\pm$ {2:.3f}\".format(features, np.mean(pred_accuracy), np.std(pred_accuracy)))\n",
    "    return pred_accuracy, fit_times"
   ]
  },
  {
   "cell_type": "markdown",
   "id": "252fb357",
   "metadata": {},
   "source": [
    "### Plot Results and Timing"
   ]
  },
  {
   "cell_type": "code",
   "execution_count": 5,
   "id": "ebfff3f9",
   "metadata": {},
   "outputs": [],
   "source": [
    "def plot_results(results, times):\n",
    "    # Get means\n",
    "    acc_mean = np.mean(results, axis=1)\n",
    "    acc_stds = np.std(results, axis=1)\n",
    "    time_mean = np.mean(times, axis=1)\n",
    "    time_stds = np.std(times, axis=1)\n",
    "\n",
    "    # Plot prediction accuracies\n",
    "    fig, ax = plt.subplots()\n",
    "    ax.plot(num_features, acc_mean)\n",
    "    ax.fill_between(num_features, acc_mean+acc_stds, acc_mean-acc_stds, alpha=0.3)\n",
    "    ax.set(title=\"Prediction Accuracies\", xlabel=\"Number of PCA Components\", ylabel=\"Prediction Acciracy\")\n",
    "    plt.show()\n",
    "\n",
    "    # Plot timing\n",
    "    fig, ax = plt.subplots()\n",
    "    ax.plot(num_features, time_mean)\n",
    "    ax.fill_between(num_features, time_mean+time_stds, time_mean-time_stds, alpha=0.3)\n",
    "    ax.set(title=\"Training Time\", xlabel=\"Number of PCA Components\", ylabel=\"Time (s)\")\n",
    "    plt.show()"
   ]
  },
  {
   "cell_type": "markdown",
   "id": "23494d06",
   "metadata": {},
   "source": [
    "### Training for Different Number of PCA Components GradientBoostingClassifier"
   ]
  },
  {
   "cell_type": "code",
   "execution_count": 6,
   "id": "5d1ed237",
   "metadata": {},
   "outputs": [
    {
     "name": "stderr",
     "output_type": "stream",
     "text": [
      "10it [00:03,  2.73it/s]\n"
     ]
    },
    {
     "name": "stdout",
     "output_type": "stream",
     "text": [
      "1 FEATURES PREDICTION ACCURACY: 0.452 $\\pm$ 0.039\n"
     ]
    },
    {
     "name": "stderr",
     "output_type": "stream",
     "text": [
      "10it [00:04,  2.11it/s]\n"
     ]
    },
    {
     "name": "stdout",
     "output_type": "stream",
     "text": [
      "2 FEATURES PREDICTION ACCURACY: 0.542 $\\pm$ 0.055\n"
     ]
    },
    {
     "name": "stderr",
     "output_type": "stream",
     "text": [
      "10it [00:05,  1.67it/s]\n"
     ]
    },
    {
     "name": "stdout",
     "output_type": "stream",
     "text": [
      "3 FEATURES PREDICTION ACCURACY: 0.626 $\\pm$ 0.054\n"
     ]
    },
    {
     "name": "stderr",
     "output_type": "stream",
     "text": [
      "10it [00:07,  1.42it/s]\n"
     ]
    },
    {
     "name": "stdout",
     "output_type": "stream",
     "text": [
      "4 FEATURES PREDICTION ACCURACY: 0.734 $\\pm$ 0.030\n"
     ]
    },
    {
     "name": "stderr",
     "output_type": "stream",
     "text": [
      "10it [00:08,  1.22it/s]\n"
     ]
    },
    {
     "name": "stdout",
     "output_type": "stream",
     "text": [
      "5 FEATURES PREDICTION ACCURACY: 0.770 $\\pm$ 0.028\n"
     ]
    },
    {
     "name": "stderr",
     "output_type": "stream",
     "text": [
      "10it [00:14,  1.46s/it]\n"
     ]
    },
    {
     "name": "stdout",
     "output_type": "stream",
     "text": [
      "10 FEATURES PREDICTION ACCURACY: 0.780 $\\pm$ 0.035\n"
     ]
    },
    {
     "name": "stderr",
     "output_type": "stream",
     "text": [
      "10it [00:26,  2.67s/it]\n"
     ]
    },
    {
     "name": "stdout",
     "output_type": "stream",
     "text": [
      "20 FEATURES PREDICTION ACCURACY: 0.787 $\\pm$ 0.028\n"
     ]
    },
    {
     "name": "stderr",
     "output_type": "stream",
     "text": [
      "10it [01:03,  6.36s/it]"
     ]
    },
    {
     "name": "stdout",
     "output_type": "stream",
     "text": [
      "50 FEATURES PREDICTION ACCURACY: 0.795 $\\pm$ 0.028\n"
     ]
    },
    {
     "name": "stderr",
     "output_type": "stream",
     "text": [
      "\n"
     ]
    }
   ],
   "source": [
    "# Number of PCA Components\n",
    "num_features = [1,2,3,4,5,10,20,50]\n",
    "\n",
    "results = []\n",
    "times = []\n",
    "for features in num_features:\n",
    "    pred_accuracy, fit_times = do_kfold_pca(GradientBoostingClassifier(n_estimators=10), combined_x, combined_y, features=features)\n",
    "    results.append(pred_accuracy)\n",
    "    times.append(fit_times)"
   ]
  },
  {
   "cell_type": "code",
   "execution_count": 7,
   "id": "15f1e718",
   "metadata": {},
   "outputs": [
    {
     "data": {
      "image/png": "[encoded data removed]",
      "text/plain": [
       "<Figure size 432x288 with 1 Axes>"
      ]
     },
     "metadata": {
      "needs_background": "light"
     },
     "output_type": "display_data"
    },
    {
     "data": {
      "image/png": "[encoded data removed]",
      "text/plain": [
       "<Figure size 432x288 with 1 Axes>"
      ]
     },
     "metadata": {
      "needs_background": "light"
     },
     "output_type": "display_data"
    }
   ],
   "source": [
    "plot_results(results, times)"
   ]
  },
  {
   "cell_type": "code",
   "execution_count": 8,
   "id": "5fcfef0d",
   "metadata": {},
   "outputs": [
    {
     "name": "stdout",
     "output_type": "stream",
     "text": [
      "BASELINE GRADIENTBOOSTINGCLASSIFIER ACCURACY: 0.8917543264336614\n"
     ]
    }
   ],
   "source": [
    "model = GradientBoostingClassifier(n_estimators=10)\n",
    "model.fit(x_train, y_train)\n",
    "print(\"BASELINE GRADIENTBOOSTINGCLASSIFIER ACCURACY: {}\".format(model.score(x_test, y_test)))"
   ]
  },
  {
   "cell_type": "markdown",
   "id": "5fa807f2",
   "metadata": {},
   "source": [
    "### Training for Different Number of PCA Components RandomForestClassifier"
   ]
  },
  {
   "cell_type": "code",
   "execution_count": 9,
   "id": "8df9f3cf",
   "metadata": {},
   "outputs": [
    {
     "name": "stderr",
     "output_type": "stream",
     "text": [
      "10it [00:02,  4.00it/s]\n"
     ]
    },
    {
     "name": "stdout",
     "output_type": "stream",
     "text": [
      "1 FEATURES PREDICTION ACCURACY: 0.382 $\\pm$ 0.017\n"
     ]
    },
    {
     "name": "stderr",
     "output_type": "stream",
     "text": [
      "10it [00:02,  4.00it/s]\n"
     ]
    },
    {
     "name": "stdout",
     "output_type": "stream",
     "text": [
      "2 FEATURES PREDICTION ACCURACY: 0.518 $\\pm$ 0.033\n"
     ]
    },
    {
     "name": "stderr",
     "output_type": "stream",
     "text": [
      "10it [00:02,  4.12it/s]\n"
     ]
    },
    {
     "name": "stdout",
     "output_type": "stream",
     "text": [
      "3 FEATURES PREDICTION ACCURACY: 0.634 $\\pm$ 0.053\n"
     ]
    },
    {
     "name": "stderr",
     "output_type": "stream",
     "text": [
      "10it [00:02,  3.42it/s]\n"
     ]
    },
    {
     "name": "stdout",
     "output_type": "stream",
     "text": [
      "4 FEATURES PREDICTION ACCURACY: 0.741 $\\pm$ 0.024\n"
     ]
    },
    {
     "name": "stderr",
     "output_type": "stream",
     "text": [
      "10it [00:02,  3.70it/s]\n"
     ]
    },
    {
     "name": "stdout",
     "output_type": "stream",
     "text": [
      "5 FEATURES PREDICTION ACCURACY: 0.763 $\\pm$ 0.034\n"
     ]
    },
    {
     "name": "stderr",
     "output_type": "stream",
     "text": [
      "10it [00:03,  2.68it/s]\n"
     ]
    },
    {
     "name": "stdout",
     "output_type": "stream",
     "text": [
      "10 FEATURES PREDICTION ACCURACY: 0.806 $\\pm$ 0.032\n"
     ]
    },
    {
     "name": "stderr",
     "output_type": "stream",
     "text": [
      "10it [00:04,  2.28it/s]\n"
     ]
    },
    {
     "name": "stdout",
     "output_type": "stream",
     "text": [
      "20 FEATURES PREDICTION ACCURACY: 0.826 $\\pm$ 0.025\n"
     ]
    },
    {
     "name": "stderr",
     "output_type": "stream",
     "text": [
      "10it [00:06,  1.47it/s]"
     ]
    },
    {
     "name": "stdout",
     "output_type": "stream",
     "text": [
      "50 FEATURES PREDICTION ACCURACY: 0.843 $\\pm$ 0.020\n"
     ]
    },
    {
     "name": "stderr",
     "output_type": "stream",
     "text": [
      "\n"
     ]
    }
   ],
   "source": [
    "# Num### Training for Different Number of PCA Components RandomForestClassifierber of PCA Components\n",
    "num_features = [1,2,3,4,5,10,20,50]\n",
    "\n",
    "results = []\n",
    "times = []\n",
    "for features in num_features:\n",
    "    pred_accuracy, fit_times = do_kfold_pca(RandomForestClassifier(n_estimators=10), combined_x, combined_y, features=features)\n",
    "    results.append(pred_accuracy)\n",
    "    times.append(fit_times)"
   ]
  },
  {
   "cell_type": "code",
   "execution_count": 10,
   "id": "23d21355",
   "metadata": {},
   "outputs": [
    {
     "data": {
      "image/png": "[encoded data removed]",
      "text/plain": [
       "<Figure size 432x288 with 1 Axes>"
      ]
     },
     "metadata": {
      "needs_background": "light"
     },
     "output_type": "display_data"
    },
    {
     "data": {
      "image/png": "[encoded data removed]",
      "text/plain": [
       "<Figure size 432x288 with 1 Axes>"
      ]
     },
     "metadata": {
      "needs_background": "light"
     },
     "output_type": "display_data"
    }
   ],
   "source": [
    "plot_results(results, times)"
   ]
  },
  {
   "cell_type": "code",
   "execution_count": 11,
   "id": "b489520e",
   "metadata": {},
   "outputs": [
    {
     "name": "stdout",
     "output_type": "stream",
     "text": [
      "BASELINE RANDOMFORESTLASSIFIER ACCURACY: 0.9107567017305734\n"
     ]
    }
   ],
   "source": [
    "model = RandomForestClassifier(n_estimators=10)\n",
    "model.fit(x_train, y_train)\n",
    "print(\"BASELINE RANDOMFORESTLASSIFIER ACCURACY: {}\".format(model.score(x_test, y_test)))"
   ]
  },
  {
   "cell_type": "code",
   "execution_count": null,
   "id": "0b8b3e2d",
   "metadata": {},
   "outputs": [],
   "source": []
  }
 ],
 "metadata": {
  "kernelspec": {
   "display_name": "Python 3 (ipykernel)",
   "language": "python",
   "name": "python3"
  },
  "language_info": {
   "codemirror_mode": {
    "name": "ipython",
    "version": 3
   },
   "file_extension": ".py",
   "mimetype": "text/x-python",
   "name": "python",
   "nbconvert_exporter": "python",
   "pygments_lexer": "ipython3",
   "version": "3.8.10"
  }
 },
 "nbformat": 4,
 "nbformat_minor": 5
}
