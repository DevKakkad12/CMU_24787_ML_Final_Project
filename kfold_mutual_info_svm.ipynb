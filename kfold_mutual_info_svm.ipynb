{
 "cells": [
  {
   "cell_type": "markdown",
   "metadata": {},
   "source": [
    "### Imports"
   ]
  },
  {
   "cell_type": "code",
   "execution_count": 1,
   "metadata": {},
   "outputs": [],
   "source": [
    "import numpy as np\n",
    "\n",
    "# Add models here\n",
    "from sklearn.ensemble import GradientBoostingClassifier\n",
    "from sklearn.svm import SVC\n",
    "from sklearn.feature_selection import mutual_info_classif\n",
    "from sklearn.feature_selection import SelectKBest\n",
    "from sklearn import svm\n",
    "\n",
    "# Sklearn imports for processing and evaluation\n",
    "from sklearn.decomposition import PCA\n",
    "from sklearn.metrics import median_absolute_error, accuracy_score\n",
    "from sklearn.preprocessing import StandardScaler\n",
    "from sklearn.model_selection import KFold\n",
    "\n",
    "# Plotting\n",
    "from matplotlib import pyplot as plt\n",
    "\n",
    "# Misc\n",
    "import time\n",
    "from tqdm import tqdm"
   ]
  },
  {
   "cell_type": "markdown",
   "metadata": {},
   "source": [
    "### Load Data"
   ]
  },
  {
   "cell_type": "code",
   "execution_count": 2,
   "metadata": {},
   "outputs": [],
   "source": [
    "x_train = np.loadtxt(\"./uci_har_dataset/train/X_train.txt\")\n",
    "y_train = np.loadtxt(\"./uci_har_dataset/train/y_train.txt\")\n",
    "\n",
    "x_test = np.loadtxt(\"./uci_har_dataset/test/X_test.txt\")\n",
    "y_test = np.loadtxt(\"./uci_har_dataset/test/y_test.txt\")"
   ]
  },
  {
   "cell_type": "markdown",
   "metadata": {},
   "source": [
    "### Combine Data"
   ]
  },
  {
   "cell_type": "code",
   "execution_count": 3,
   "metadata": {},
   "outputs": [],
   "source": [
    "combined_x = np.concatenate((x_train, x_test))\n",
    "combined_y = np.concatenate((y_train, y_test))\n",
    "\n",
    "assert combined_x.shape[0] == x_train.shape[0] + x_test.shape[0]\n",
    "assert combined_y.shape[0] == y_train.shape[0] + y_test.shape[0]"
   ]
  },
  {
   "cell_type": "markdown",
   "metadata": {},
   "source": [
    "### KFold"
   ]
  },
  {
   "cell_type": "code",
   "execution_count": 4,
   "metadata": {},
   "outputs": [],
   "source": [
    "def do_kfold_mutual_info(model, x_data, y_data, features='all', folds=10):\n",
    "     \n",
    "    # Do KFold\n",
    "    kf = KFold(folds)\n",
    "    \n",
    "    # KF training\n",
    "    pred_accuracy = []\n",
    "    fit_times = []\n",
    "    for idx, (train_idx, test_idx) in tqdm(enumerate(kf.split(x_data))):    \n",
    "        \n",
    "        # Do Mutual Information Feature Extraction\n",
    "        features = x_data.shape[1] if(features == 'all') else features\n",
    "        fs = SelectKBest(score_func=mutual_info_classif, k=features)\n",
    "        fs.fit(x_data[train_idx], y_data[train_idx])\n",
    "        x_train_fs = fs.transform(x_data[train_idx])\n",
    "        x_test_fs = fs.transform(x_data[test_idx])\n",
    "        \n",
    "        # Fit and time model\n",
    "        start = time.time()\n",
    "        model.fit(x_train_fs, y_data[train_idx])\n",
    "        fit_times.append(time.time() - start)\n",
    "        \n",
    "        # Transform test data and evaluate\n",
    "\n",
    "        preds = model.predict(x_test_fs)\n",
    "        score = accuracy_score(preds, y_data[test_idx])\n",
    "        pred_accuracy.append(score)\n",
    "        \n",
    "    print(r\"{0} FEATURES PREDICTION ACCURACY: {1:.3f} $\\pm$ {2:.3f}\".format(features, np.mean(pred_accuracy), np.std(pred_accuracy)))\n",
    "    return pred_accuracy, fit_times"
   ]
  },
  {
   "cell_type": "markdown",
   "metadata": {},
   "source": [
    "### Training for Different Number of Mutual information"
   ]
  },
  {
   "cell_type": "code",
   "execution_count": 6,
   "metadata": {
    "scrolled": true
   },
   "outputs": [
    {
     "name": "stderr",
     "output_type": "stream",
     "text": [
      "\r",
      "0it [00:00, ?it/s]"
     ]
    },
    {
     "name": "stdout",
     "output_type": "stream",
     "text": [
      "5\n"
     ]
    },
    {
     "name": "stderr",
     "output_type": "stream",
     "text": [
      "10it [21:26, 128.68s/it]\n",
      "0it [00:00, ?it/s]"
     ]
    },
    {
     "name": "stdout",
     "output_type": "stream",
     "text": [
      "5 FEATURES PREDICTION ACCURACY: 0.717 $\\pm$ 0.083\n",
      "25\n"
     ]
    },
    {
     "name": "stderr",
     "output_type": "stream",
     "text": [
      "10it [20:33, 123.37s/it]\n",
      "0it [00:00, ?it/s]"
     ]
    },
    {
     "name": "stdout",
     "output_type": "stream",
     "text": [
      "25 FEATURES PREDICTION ACCURACY: 0.846 $\\pm$ 0.043\n",
      "45\n"
     ]
    },
    {
     "name": "stderr",
     "output_type": "stream",
     "text": [
      "10it [20:40, 124.01s/it]\n",
      "0it [00:00, ?it/s]"
     ]
    },
    {
     "name": "stdout",
     "output_type": "stream",
     "text": [
      "45 FEATURES PREDICTION ACCURACY: 0.890 $\\pm$ 0.023\n",
      "65\n"
     ]
    },
    {
     "name": "stderr",
     "output_type": "stream",
     "text": [
      "10it [19:25, 116.54s/it]\n",
      "0it [00:00, ?it/s]"
     ]
    },
    {
     "name": "stdout",
     "output_type": "stream",
     "text": [
      "65 FEATURES PREDICTION ACCURACY: 0.903 $\\pm$ 0.030\n",
      "85\n"
     ]
    },
    {
     "name": "stderr",
     "output_type": "stream",
     "text": [
      "10it [13:09, 78.92s/it]\n",
      "0it [00:00, ?it/s]"
     ]
    },
    {
     "name": "stdout",
     "output_type": "stream",
     "text": [
      "85 FEATURES PREDICTION ACCURACY: 0.909 $\\pm$ 0.030\n",
      "105\n"
     ]
    },
    {
     "name": "stderr",
     "output_type": "stream",
     "text": [
      "10it [08:36, 51.69s/it]\n",
      "0it [00:00, ?it/s]"
     ]
    },
    {
     "name": "stdout",
     "output_type": "stream",
     "text": [
      "105 FEATURES PREDICTION ACCURACY: 0.915 $\\pm$ 0.028\n",
      "125\n"
     ]
    },
    {
     "name": "stderr",
     "output_type": "stream",
     "text": [
      "10it [08:33, 51.35s/it]\n",
      "0it [00:00, ?it/s]"
     ]
    },
    {
     "name": "stdout",
     "output_type": "stream",
     "text": [
      "125 FEATURES PREDICTION ACCURACY: 0.925 $\\pm$ 0.024\n",
      "145\n"
     ]
    },
    {
     "name": "stderr",
     "output_type": "stream",
     "text": [
      "10it [09:25, 56.51s/it]\n",
      "0it [00:00, ?it/s]"
     ]
    },
    {
     "name": "stdout",
     "output_type": "stream",
     "text": [
      "145 FEATURES PREDICTION ACCURACY: 0.929 $\\pm$ 0.022\n",
      "165\n"
     ]
    },
    {
     "name": "stderr",
     "output_type": "stream",
     "text": [
      "10it [08:39, 51.99s/it]\n",
      "0it [00:00, ?it/s]"
     ]
    },
    {
     "name": "stdout",
     "output_type": "stream",
     "text": [
      "165 FEATURES PREDICTION ACCURACY: 0.934 $\\pm$ 0.019\n",
      "185\n"
     ]
    },
    {
     "name": "stderr",
     "output_type": "stream",
     "text": [
      "10it [08:34, 51.45s/it]"
     ]
    },
    {
     "name": "stdout",
     "output_type": "stream",
     "text": [
      "185 FEATURES PREDICTION ACCURACY: 0.938 $\\pm$ 0.020\n"
     ]
    },
    {
     "name": "stderr",
     "output_type": "stream",
     "text": [
      "\n"
     ]
    }
   ],
   "source": [
    "# Number of PCA Components\n",
    "num_features = np.arange(5, 200, 20)\n",
    "\n",
    "results = []\n",
    "times = []\n",
    "for features in num_features:\n",
    "    print(features)\n",
    "    pred_accuracy, fit_times = do_kfold_mutual_info(svm.SVC(kernel='poly', C=1), combined_x, combined_y, features=features)\n",
    "    results.append(pred_accuracy)\n",
    "    times.append(fit_times)"
   ]
  },
  {
   "cell_type": "markdown",
   "metadata": {},
   "source": [
    "### Plot Results and Timing"
   ]
  },
  {
   "cell_type": "code",
   "execution_count": 7,
   "metadata": {},
   "outputs": [
    {
     "data": {
      "image/png": "[encoded data removed]",
      "text/plain": [
       "<Figure size 432x288 with 1 Axes>"
      ]
     },
     "metadata": {
      "needs_background": "light"
     },
     "output_type": "display_data"
    },
    {
     "data": {
      "image/png": "[encoded data removed]",
      "text/plain": [
       "<Figure size 432x288 with 1 Axes>"
      ]
     },
     "metadata": {
      "needs_background": "light"
     },
     "output_type": "display_data"
    }
   ],
   "source": [
    "# Get means\n",
    "acc_mean = np.mean(results, axis=1)\n",
    "acc_stds = np.std(results, axis=1)\n",
    "time_mean = np.mean(times, axis=1)\n",
    "time_stds = np.std(times, axis=1)\n",
    "\n",
    "# Plot prediction accuracies\n",
    "fig, ax = plt.subplots()\n",
    "ax.plot(num_features, acc_mean)\n",
    "ax.fill_between(num_features, acc_mean+acc_stds, acc_mean-acc_stds, alpha=0.3)\n",
    "ax.set(title=\"Mutual Inforamtion Prediction Accuracies\", xlabel=\"Number of K Features\", ylabel=\"Prediction Acciracy\")\n",
    "plt.show()\n",
    "\n",
    "# Plot timing\n",
    "fig, ax = plt.subplots()\n",
    "ax.plot(num_features, time_mean)\n",
    "ax.fill_between(num_features, time_mean+time_stds, time_mean-time_stds, alpha=0.3)\n",
    "ax.set(title=\"Mutual Inforamtion Training Time\", xlabel=\"Number of K Features\", ylabel=\"Time (s)\")\n",
    "plt.show()"
   ]
  },
  {
   "cell_type": "code",
   "execution_count": null,
   "metadata": {},
   "outputs": [],
   "source": []
  }
 ],
 "metadata": {
  "kernelspec": {
   "display_name": "Python 3",
   "language": "python",
   "name": "python3"
  },
  "language_info": {
   "codemirror_mode": {
    "name": "ipython",
    "version": 3
   },
   "file_extension": ".py",
   "mimetype": "text/x-python",
   "name": "python",
   "nbconvert_exporter": "python",
   "pygments_lexer": "ipython3",
   "version": "3.8.3"
  }
 },
 "nbformat": 4,
 "nbformat_minor": 5
}
